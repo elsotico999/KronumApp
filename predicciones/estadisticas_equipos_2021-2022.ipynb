{
 "cells": [
  {
   "cell_type": "code",
   "execution_count": 1,
   "id": "86717159",
   "metadata": {},
   "outputs": [
    {
     "data": {
      "text/html": [
       "        <script type=\"text/javascript\">\n",
       "        window.PlotlyConfig = {MathJaxConfig: 'local'};\n",
       "        if (window.MathJax && window.MathJax.Hub && window.MathJax.Hub.Config) {window.MathJax.Hub.Config({SVG: {font: \"STIX-Web\"}});}\n",
       "        if (typeof require !== 'undefined') {\n",
       "        require.undef(\"plotly\");\n",
       "        requirejs.config({\n",
       "            paths: {\n",
       "                'plotly': ['https://cdn.plot.ly/plotly-2.18.2.min']\n",
       "            }\n",
       "        });\n",
       "        require(['plotly'], function(Plotly) {\n",
       "            window._Plotly = Plotly;\n",
       "        });\n",
       "        }\n",
       "        </script>\n",
       "        "
      ]
     },
     "metadata": {},
     "output_type": "display_data"
    },
    {
     "data": {
      "text/html": [
       "<div>\n",
       "<style scoped>\n",
       "    .dataframe tbody tr th:only-of-type {\n",
       "        vertical-align: middle;\n",
       "    }\n",
       "\n",
       "    .dataframe tbody tr th {\n",
       "        vertical-align: top;\n",
       "    }\n",
       "\n",
       "    .dataframe thead th {\n",
       "        text-align: right;\n",
       "    }\n",
       "</style>\n",
       "<table border=\"1\" class=\"dataframe\">\n",
       "  <thead>\n",
       "    <tr style=\"text-align: right;\">\n",
       "      <th></th>\n",
       "      <th>Rk</th>\n",
       "      <th>Squad</th>\n",
       "      <th>Country</th>\n",
       "      <th>LgRk</th>\n",
       "      <th>MP</th>\n",
       "      <th>W</th>\n",
       "      <th>D</th>\n",
       "      <th>L</th>\n",
       "      <th>GF</th>\n",
       "      <th>GA</th>\n",
       "      <th>GD</th>\n",
       "      <th>Pts</th>\n",
       "      <th>Pts/G</th>\n",
       "      <th>xG</th>\n",
       "      <th>xGA</th>\n",
       "      <th>xGD</th>\n",
       "      <th>xGD/90</th>\n",
       "      <th>Attendance</th>\n",
       "      <th>Top Team Scorer</th>\n",
       "      <th>Goalkeeper</th>\n",
       "    </tr>\n",
       "  </thead>\n",
       "  <tbody>\n",
       "    <tr>\n",
       "      <th>0</th>\n",
       "      <td>1</td>\n",
       "      <td>Manchester City</td>\n",
       "      <td>ENG</td>\n",
       "      <td>1</td>\n",
       "      <td>38</td>\n",
       "      <td>29</td>\n",
       "      <td>6</td>\n",
       "      <td>3</td>\n",
       "      <td>99</td>\n",
       "      <td>26</td>\n",
       "      <td>73</td>\n",
       "      <td>93</td>\n",
       "      <td>2.45</td>\n",
       "      <td>89.0</td>\n",
       "      <td>27.2</td>\n",
       "      <td>61.9</td>\n",
       "      <td>1.63</td>\n",
       "      <td>52774</td>\n",
       "      <td>Kevin De Bruyne - 15</td>\n",
       "      <td>Ederson</td>\n",
       "    </tr>\n",
       "    <tr>\n",
       "      <th>1</th>\n",
       "      <td>2</td>\n",
       "      <td>Liverpool</td>\n",
       "      <td>ENG</td>\n",
       "      <td>2</td>\n",
       "      <td>38</td>\n",
       "      <td>28</td>\n",
       "      <td>8</td>\n",
       "      <td>2</td>\n",
       "      <td>94</td>\n",
       "      <td>26</td>\n",
       "      <td>68</td>\n",
       "      <td>92</td>\n",
       "      <td>2.42</td>\n",
       "      <td>89.2</td>\n",
       "      <td>34.2</td>\n",
       "      <td>55.0</td>\n",
       "      <td>1.45</td>\n",
       "      <td>53367</td>\n",
       "      <td>Mohamed Salah - 23</td>\n",
       "      <td>Alisson</td>\n",
       "    </tr>\n",
       "    <tr>\n",
       "      <th>2</th>\n",
       "      <td>3</td>\n",
       "      <td>Bayern Munich</td>\n",
       "      <td>GER</td>\n",
       "      <td>1</td>\n",
       "      <td>34</td>\n",
       "      <td>24</td>\n",
       "      <td>5</td>\n",
       "      <td>5</td>\n",
       "      <td>97</td>\n",
       "      <td>37</td>\n",
       "      <td>60</td>\n",
       "      <td>77</td>\n",
       "      <td>2.26</td>\n",
       "      <td>88.1</td>\n",
       "      <td>37.1</td>\n",
       "      <td>51.0</td>\n",
       "      <td>1.50</td>\n",
       "      <td>33176</td>\n",
       "      <td>Robert Lewandowski - 35</td>\n",
       "      <td>Manuel Neuer</td>\n",
       "    </tr>\n",
       "    <tr>\n",
       "      <th>3</th>\n",
       "      <td>4</td>\n",
       "      <td>Paris S-G</td>\n",
       "      <td>FRA</td>\n",
       "      <td>1</td>\n",
       "      <td>38</td>\n",
       "      <td>26</td>\n",
       "      <td>8</td>\n",
       "      <td>4</td>\n",
       "      <td>90</td>\n",
       "      <td>36</td>\n",
       "      <td>54</td>\n",
       "      <td>86</td>\n",
       "      <td>2.26</td>\n",
       "      <td>76.5</td>\n",
       "      <td>38.6</td>\n",
       "      <td>37.9</td>\n",
       "      <td>1.00</td>\n",
       "      <td>41188</td>\n",
       "      <td>Kylian Mbappé - 28</td>\n",
       "      <td>Keylor Navas</td>\n",
       "    </tr>\n",
       "    <tr>\n",
       "      <th>4</th>\n",
       "      <td>5</td>\n",
       "      <td>Real Madrid</td>\n",
       "      <td>ESP</td>\n",
       "      <td>1</td>\n",
       "      <td>38</td>\n",
       "      <td>26</td>\n",
       "      <td>8</td>\n",
       "      <td>4</td>\n",
       "      <td>80</td>\n",
       "      <td>31</td>\n",
       "      <td>49</td>\n",
       "      <td>86</td>\n",
       "      <td>2.26</td>\n",
       "      <td>74.3</td>\n",
       "      <td>47.0</td>\n",
       "      <td>27.3</td>\n",
       "      <td>0.72</td>\n",
       "      <td>41235</td>\n",
       "      <td>Karim Benzema - 27</td>\n",
       "      <td>Thibaut Courtois</td>\n",
       "    </tr>\n",
       "  </tbody>\n",
       "</table>\n",
       "</div>"
      ],
      "text/plain": [
       "   Rk            Squad Country  LgRk  MP   W  D  L  GF  GA  GD  Pts  Pts/G  \\\n",
       "0   1  Manchester City     ENG     1  38  29  6  3  99  26  73   93   2.45   \n",
       "1   2        Liverpool     ENG     2  38  28  8  2  94  26  68   92   2.42   \n",
       "2   3    Bayern Munich     GER     1  34  24  5  5  97  37  60   77   2.26   \n",
       "3   4        Paris S-G     FRA     1  38  26  8  4  90  36  54   86   2.26   \n",
       "4   5      Real Madrid     ESP     1  38  26  8  4  80  31  49   86   2.26   \n",
       "\n",
       "     xG   xGA   xGD  xGD/90  Attendance          Top Team Scorer  \\\n",
       "0  89.0  27.2  61.9    1.63       52774     Kevin De Bruyne - 15   \n",
       "1  89.2  34.2  55.0    1.45       53367       Mohamed Salah - 23   \n",
       "2  88.1  37.1  51.0    1.50       33176  Robert Lewandowski - 35   \n",
       "3  76.5  38.6  37.9    1.00       41188       Kylian Mbappé - 28   \n",
       "4  74.3  47.0  27.3    0.72       41235       Karim Benzema - 27   \n",
       "\n",
       "         Goalkeeper  \n",
       "0           Ederson  \n",
       "1           Alisson  \n",
       "2      Manuel Neuer  \n",
       "3      Keylor Navas  \n",
       "4  Thibaut Courtois  "
      ]
     },
     "execution_count": 1,
     "metadata": {},
     "output_type": "execute_result"
    }
   ],
   "source": [
    "import pandas as pd \n",
    "import numpy as np \n",
    "import math  \n",
    "import matplotlib.pyplot as plt \n",
    "from matplotlib import cm \n",
    "%matplotlib inline\n",
    "import seaborn as sns  \n",
    "import plotly.express as px \n",
    "from plotly.subplots import make_subplots\n",
    "import plotly.graph_objects as go \n",
    "from plotly.offline import init_notebook_mode, iplot\n",
    "init_notebook_mode(connected = True)\n",
    "import re \n",
    "import itertools\n",
    "from IPython.display import Image\n",
    "\n",
    "\n",
    "data = pd.read_csv(\"2021-2022 Football Team Stats.csv\", encoding='latin-1', delimiter=';')\n",
    "data.head()"
   ]
  },
  {
   "cell_type": "code",
   "execution_count": 2,
   "id": "69836ba4",
   "metadata": {},
   "outputs": [
    {
     "name": "stdout",
     "output_type": "stream",
     "text": [
      "<class 'pandas.core.frame.DataFrame'>\n",
      "RangeIndex: 98 entries, 0 to 97\n",
      "Data columns (total 20 columns):\n",
      " #   Column           Non-Null Count  Dtype  \n",
      "---  ------           --------------  -----  \n",
      " 0   Rk               98 non-null     int64  \n",
      " 1   Squad            98 non-null     object \n",
      " 2   Country          98 non-null     object \n",
      " 3   LgRk             98 non-null     int64  \n",
      " 4   MP               98 non-null     int64  \n",
      " 5   W                98 non-null     int64  \n",
      " 6   D                98 non-null     int64  \n",
      " 7   L                98 non-null     int64  \n",
      " 8   GF               98 non-null     int64  \n",
      " 9   GA               98 non-null     int64  \n",
      " 10  GD               98 non-null     int64  \n",
      " 11  Pts              98 non-null     int64  \n",
      " 12  Pts/G            98 non-null     float64\n",
      " 13  xG               98 non-null     float64\n",
      " 14  xGA              98 non-null     float64\n",
      " 15  xGD              98 non-null     float64\n",
      " 16  xGD/90           98 non-null     float64\n",
      " 17  Attendance       98 non-null     int64  \n",
      " 18  Top Team Scorer  98 non-null     object \n",
      " 19  Goalkeeper       98 non-null     object \n",
      "dtypes: float64(5), int64(11), object(4)\n",
      "memory usage: 15.4+ KB\n"
     ]
    }
   ],
   "source": [
    "data.info()"
   ]
  },
  {
   "cell_type": "code",
   "execution_count": 3,
   "id": "3b676cdc",
   "metadata": {},
   "outputs": [
    {
     "data": {
      "text/plain": [
       "Index(['Rk', 'Squad', 'Country', 'LgRk', 'MP', 'W', 'D', 'L', 'GF', 'GA', 'GD',\n",
       "       'Pts', 'Pts/G', 'xG', 'xGA', 'xGD', 'xGD/90', 'Attendance',\n",
       "       'Top Team Scorer', 'Goalkeeper'],\n",
       "      dtype='object')"
      ]
     },
     "execution_count": 3,
     "metadata": {},
     "output_type": "execute_result"
    }
   ],
   "source": [
    "data.columns "
   ]
  },
  {
   "cell_type": "markdown",
   "id": "26b76652",
   "metadata": {},
   "source": [
    "Se explica cada variable en el marco de datos. Rk : Clasificación del club, Squad : Nombre de la plantilla, Country : País de la plantilla, LgRk : Clasificación del club en la liga local, MP : Partidos jugados, W : Partidos ganados, L : Partidos perdidos, D : Partidos empatados (D = W - L), GF : Goles a favor, GA : Goles en contra, GD : Diferencia de goles (GD = GF - GA), Pts : Número de puntos, Pts/G : Puntos por partido jugado, xG : la probabilidad de que un tiro resulte en gol, xGA : la probabilidad de que un intento en contra resulte en gol, xGD : xGA - xGA, xGD/90 : diferencia de goles esperada por minuto 90, Attendance : número máximo de asistencia,  Top team scorer : nombre del máximo goleador del equipo y número de goles, Goalkeeper : nombre del portero."
   ]
  },
  {
   "cell_type": "code",
   "execution_count": 4,
   "id": "f14da356",
   "metadata": {},
   "outputs": [],
   "source": [
    "#Crear función de paleta de colores \n",
    "def get_color(color_name, number_of_colors): \n",
    "    pal = list(sns.color_palette(palette=color_name, n_colors=number_of_colors).as_hex())\n",
    "    return pal"
   ]
  },
  {
   "cell_type": "code",
   "execution_count": 5,
   "id": "53b4a64f",
   "metadata": {},
   "outputs": [],
   "source": [
    "#Extracto del número de goles\n",
    "\n",
    "top_team_scorer = list(data[\"Top Team Scorer\"])\n",
    "p = re.compile(r\"\\d+\") \n",
    "goals_number = []\n",
    "for i in top_team_scorer:\n",
    "    goals_number.append(p.findall(i))"
   ]
  },
  {
   "cell_type": "code",
   "execution_count": 6,
   "id": "c426f71b",
   "metadata": {},
   "outputs": [],
   "source": [
    "goals_number = list(itertools.chain(*goals_number))"
   ]
  },
  {
   "cell_type": "code",
   "execution_count": 7,
   "id": "e563de31",
   "metadata": {},
   "outputs": [],
   "source": [
    "for i in range(len(goals_number)):\n",
    "    goals_number[i] = int(goals_number[i])"
   ]
  },
  {
   "cell_type": "code",
   "execution_count": 8,
   "id": "abad96f9",
   "metadata": {},
   "outputs": [],
   "source": [
    "data['TTS Goals'] = goals_number"
   ]
  },
  {
   "cell_type": "code",
   "execution_count": 9,
   "id": "d35eed83",
   "metadata": {},
   "outputs": [],
   "source": [
    "#Extraer el nombre del Máximo Goleador de la columna Máximo Goleador del Equipo\n",
    "\n",
    "q = re.compile(r\"[a-zÀ-ÿ]+\", re.IGNORECASE) \n",
    "TTS_names = []    #Máximo goleador del equipo Nombre\n",
    "for i in top_team_scorer:\n",
    "    TTS_names.append(q.findall(i))"
   ]
  },
  {
   "cell_type": "code",
   "execution_count": 10,
   "id": "efa7753c",
   "metadata": {},
   "outputs": [],
   "source": [
    "names = []\n",
    "for i in range(len(TTS_names)):\n",
    "    names.append(\" \".join(TTS_names[i]))"
   ]
  },
  {
   "cell_type": "code",
   "execution_count": 11,
   "id": "9be2680f",
   "metadata": {},
   "outputs": [],
   "source": [
    "data[\"TTS name\"] = names #Add new column named \"TTS name\""
   ]
  },
  {
   "cell_type": "code",
   "execution_count": 12,
   "id": "22ef7413",
   "metadata": {},
   "outputs": [],
   "source": [
    "data.drop('Top Team Scorer', axis=1, inplace=True)"
   ]
  },
  {
   "cell_type": "code",
   "execution_count": 13,
   "id": "84509090",
   "metadata": {},
   "outputs": [
    {
     "data": {
      "text/html": [
       "<div>\n",
       "<style scoped>\n",
       "    .dataframe tbody tr th:only-of-type {\n",
       "        vertical-align: middle;\n",
       "    }\n",
       "\n",
       "    .dataframe tbody tr th {\n",
       "        vertical-align: top;\n",
       "    }\n",
       "\n",
       "    .dataframe thead th {\n",
       "        text-align: right;\n",
       "    }\n",
       "</style>\n",
       "<table border=\"1\" class=\"dataframe\">\n",
       "  <thead>\n",
       "    <tr style=\"text-align: right;\">\n",
       "      <th></th>\n",
       "      <th>Rk</th>\n",
       "      <th>Squad</th>\n",
       "      <th>Country</th>\n",
       "      <th>LgRk</th>\n",
       "      <th>MP</th>\n",
       "      <th>W</th>\n",
       "      <th>D</th>\n",
       "      <th>L</th>\n",
       "      <th>GF</th>\n",
       "      <th>GA</th>\n",
       "      <th>...</th>\n",
       "      <th>Pts</th>\n",
       "      <th>Pts/G</th>\n",
       "      <th>xG</th>\n",
       "      <th>xGA</th>\n",
       "      <th>xGD</th>\n",
       "      <th>xGD/90</th>\n",
       "      <th>Attendance</th>\n",
       "      <th>Goalkeeper</th>\n",
       "      <th>TTS Goals</th>\n",
       "      <th>Top Team Scorer</th>\n",
       "    </tr>\n",
       "  </thead>\n",
       "  <tbody>\n",
       "    <tr>\n",
       "      <th>0</th>\n",
       "      <td>1</td>\n",
       "      <td>Manchester City</td>\n",
       "      <td>ENG</td>\n",
       "      <td>1</td>\n",
       "      <td>38</td>\n",
       "      <td>29</td>\n",
       "      <td>6</td>\n",
       "      <td>3</td>\n",
       "      <td>99</td>\n",
       "      <td>26</td>\n",
       "      <td>...</td>\n",
       "      <td>93</td>\n",
       "      <td>2.45</td>\n",
       "      <td>89.0</td>\n",
       "      <td>27.2</td>\n",
       "      <td>61.9</td>\n",
       "      <td>1.63</td>\n",
       "      <td>52774</td>\n",
       "      <td>Ederson</td>\n",
       "      <td>15</td>\n",
       "      <td>Kevin De Bruyne</td>\n",
       "    </tr>\n",
       "    <tr>\n",
       "      <th>1</th>\n",
       "      <td>2</td>\n",
       "      <td>Liverpool</td>\n",
       "      <td>ENG</td>\n",
       "      <td>2</td>\n",
       "      <td>38</td>\n",
       "      <td>28</td>\n",
       "      <td>8</td>\n",
       "      <td>2</td>\n",
       "      <td>94</td>\n",
       "      <td>26</td>\n",
       "      <td>...</td>\n",
       "      <td>92</td>\n",
       "      <td>2.42</td>\n",
       "      <td>89.2</td>\n",
       "      <td>34.2</td>\n",
       "      <td>55.0</td>\n",
       "      <td>1.45</td>\n",
       "      <td>53367</td>\n",
       "      <td>Alisson</td>\n",
       "      <td>23</td>\n",
       "      <td>Mohamed Salah</td>\n",
       "    </tr>\n",
       "    <tr>\n",
       "      <th>2</th>\n",
       "      <td>3</td>\n",
       "      <td>Bayern Munich</td>\n",
       "      <td>GER</td>\n",
       "      <td>1</td>\n",
       "      <td>34</td>\n",
       "      <td>24</td>\n",
       "      <td>5</td>\n",
       "      <td>5</td>\n",
       "      <td>97</td>\n",
       "      <td>37</td>\n",
       "      <td>...</td>\n",
       "      <td>77</td>\n",
       "      <td>2.26</td>\n",
       "      <td>88.1</td>\n",
       "      <td>37.1</td>\n",
       "      <td>51.0</td>\n",
       "      <td>1.50</td>\n",
       "      <td>33176</td>\n",
       "      <td>Manuel Neuer</td>\n",
       "      <td>35</td>\n",
       "      <td>Robert Lewandowski</td>\n",
       "    </tr>\n",
       "    <tr>\n",
       "      <th>3</th>\n",
       "      <td>4</td>\n",
       "      <td>Paris S-G</td>\n",
       "      <td>FRA</td>\n",
       "      <td>1</td>\n",
       "      <td>38</td>\n",
       "      <td>26</td>\n",
       "      <td>8</td>\n",
       "      <td>4</td>\n",
       "      <td>90</td>\n",
       "      <td>36</td>\n",
       "      <td>...</td>\n",
       "      <td>86</td>\n",
       "      <td>2.26</td>\n",
       "      <td>76.5</td>\n",
       "      <td>38.6</td>\n",
       "      <td>37.9</td>\n",
       "      <td>1.00</td>\n",
       "      <td>41188</td>\n",
       "      <td>Keylor Navas</td>\n",
       "      <td>28</td>\n",
       "      <td>Kylian Mbappé</td>\n",
       "    </tr>\n",
       "    <tr>\n",
       "      <th>4</th>\n",
       "      <td>5</td>\n",
       "      <td>Real Madrid</td>\n",
       "      <td>ESP</td>\n",
       "      <td>1</td>\n",
       "      <td>38</td>\n",
       "      <td>26</td>\n",
       "      <td>8</td>\n",
       "      <td>4</td>\n",
       "      <td>80</td>\n",
       "      <td>31</td>\n",
       "      <td>...</td>\n",
       "      <td>86</td>\n",
       "      <td>2.26</td>\n",
       "      <td>74.3</td>\n",
       "      <td>47.0</td>\n",
       "      <td>27.3</td>\n",
       "      <td>0.72</td>\n",
       "      <td>41235</td>\n",
       "      <td>Thibaut Courtois</td>\n",
       "      <td>27</td>\n",
       "      <td>Karim Benzema</td>\n",
       "    </tr>\n",
       "  </tbody>\n",
       "</table>\n",
       "<p>5 rows × 21 columns</p>\n",
       "</div>"
      ],
      "text/plain": [
       "   Rk            Squad Country  LgRk  MP   W  D  L  GF  GA  ...  Pts  Pts/G  \\\n",
       "0   1  Manchester City     ENG     1  38  29  6  3  99  26  ...   93   2.45   \n",
       "1   2        Liverpool     ENG     2  38  28  8  2  94  26  ...   92   2.42   \n",
       "2   3    Bayern Munich     GER     1  34  24  5  5  97  37  ...   77   2.26   \n",
       "3   4        Paris S-G     FRA     1  38  26  8  4  90  36  ...   86   2.26   \n",
       "4   5      Real Madrid     ESP     1  38  26  8  4  80  31  ...   86   2.26   \n",
       "\n",
       "     xG   xGA   xGD  xGD/90  Attendance        Goalkeeper TTS Goals  \\\n",
       "0  89.0  27.2  61.9    1.63       52774           Ederson        15   \n",
       "1  89.2  34.2  55.0    1.45       53367           Alisson        23   \n",
       "2  88.1  37.1  51.0    1.50       33176      Manuel Neuer        35   \n",
       "3  76.5  38.6  37.9    1.00       41188      Keylor Navas        28   \n",
       "4  74.3  47.0  27.3    0.72       41235  Thibaut Courtois        27   \n",
       "\n",
       "      Top Team Scorer  \n",
       "0     Kevin De Bruyne  \n",
       "1       Mohamed Salah  \n",
       "2  Robert Lewandowski  \n",
       "3       Kylian Mbappé  \n",
       "4       Karim Benzema  \n",
       "\n",
       "[5 rows x 21 columns]"
      ]
     },
     "execution_count": 13,
     "metadata": {},
     "output_type": "execute_result"
    }
   ],
   "source": [
    "data.rename(columns={'TTS name': 'Top Team Scorer'}, inplace=True) \n",
    "data.head()"
   ]
  },
  {
   "cell_type": "code",
   "execution_count": 14,
   "id": "f35633e0",
   "metadata": {},
   "outputs": [],
   "source": [
    "data = data[['Rk',\n",
    " 'Squad',\n",
    " 'Country',\n",
    " 'LgRk',\n",
    " 'MP',\n",
    " 'W',\n",
    " 'D',\n",
    " 'L',\n",
    " 'GF',\n",
    " 'GA',\n",
    " 'GD',\n",
    " 'Pts',\n",
    " 'Pts/G',\n",
    " 'xG',\n",
    " 'xGA',\n",
    " 'xGD',\n",
    " 'xGD/90',\n",
    " 'Attendance',\n",
    " 'Goalkeeper',\n",
    "'Top Team Scorer',\n",
    " 'TTS Goals'\n",
    " ]]"
   ]
  },
  {
   "cell_type": "markdown",
   "id": "31f63f43",
   "metadata": {},
   "source": [
    "Mejor equipo en función del número de puntos"
   ]
  },
  {
   "cell_type": "code",
   "execution_count": 15,
   "id": "19bf57a6",
   "metadata": {},
   "outputs": [],
   "source": [
    "df_best_squad = data[[\"Squad\", \"Country\", \"Pts\"]].groupby([\"Country\", \"Squad\"]).agg(lambda x: x).reset_index()"
   ]
  },
  {
   "cell_type": "markdown",
   "id": "f286b49b",
   "metadata": {},
   "source": [
    "Se obtienen los 3 mejores equipos en funcion del número de puntos de cada liga"
   ]
  },
  {
   "cell_type": "code",
   "execution_count": 16,
   "id": "6b68a3e1",
   "metadata": {},
   "outputs": [
    {
     "name": "stderr",
     "output_type": "stream",
     "text": [
      "C:\\Users\\angel\\AppData\\Local\\Temp\\ipykernel_3020\\2711829386.py:7: FutureWarning:\n",
      "\n",
      "The frame.append method is deprecated and will be removed from pandas in a future version. Use pandas.concat instead.\n",
      "\n",
      "C:\\Users\\angel\\AppData\\Local\\Temp\\ipykernel_3020\\2711829386.py:7: FutureWarning:\n",
      "\n",
      "The frame.append method is deprecated and will be removed from pandas in a future version. Use pandas.concat instead.\n",
      "\n",
      "C:\\Users\\angel\\AppData\\Local\\Temp\\ipykernel_3020\\2711829386.py:7: FutureWarning:\n",
      "\n",
      "The frame.append method is deprecated and will be removed from pandas in a future version. Use pandas.concat instead.\n",
      "\n",
      "C:\\Users\\angel\\AppData\\Local\\Temp\\ipykernel_3020\\2711829386.py:7: FutureWarning:\n",
      "\n",
      "The frame.append method is deprecated and will be removed from pandas in a future version. Use pandas.concat instead.\n",
      "\n"
     ]
    }
   ],
   "source": [
    "france = df_best_squad[df_best_squad[\"Country\"]=='FRA'].sort_values(\"Pts\", ascending=False)[:3]\n",
    "italia = df_best_squad[df_best_squad['Country']=='ITA'].sort_values(\"Pts\", ascending=False)[:3]\n",
    "englend = df_best_squad[df_best_squad['Country']=='ENG'].sort_values(\"Pts\", ascending=False)[:3]\n",
    "germany = df_best_squad[df_best_squad['Country']=='GER'].sort_values(\"Pts\", ascending=False)[:3]\n",
    "spane = df_best_squad[df_best_squad['Country']=='ESP'].sort_values(\"Pts\", ascending=False)[:3]\n",
    "\n",
    "squad_pts = france.append(italia).append(englend).append(germany).append(spane)"
   ]
  },
  {
   "cell_type": "markdown",
   "id": "7dcefcb6",
   "metadata": {},
   "source": [
    "Se crea una etiqueta que contenga el club y el país"
   ]
  },
  {
   "cell_type": "code",
   "execution_count": 17,
   "id": "2728edbb",
   "metadata": {},
   "outputs": [],
   "source": [
    "squad_pts[\"Squad_country\"] = squad_pts[[\"Squad\", \"Country\"]].agg(\" - \".join, axis=1)"
   ]
  },
  {
   "cell_type": "code",
   "execution_count": 19,
   "id": "45738b1b",
   "metadata": {},
   "outputs": [
    {
     "data": {
      "application/vnd.plotly.v1+json": {
       "config": {
        "plotlyServerURL": "https://plot.ly"
       },
       "data": [
        {
         "alignmentgroup": "True",
         "hovertemplate": "Squad=Leverkusen<br>Pts=%{x}<br>Squad_country=%{y}<extra></extra>",
         "legendgroup": "Leverkusen",
         "marker": {
          "color": "#ebd1cb",
          "pattern": {
           "shape": ""
          }
         },
         "name": "Leverkusen",
         "offsetgroup": "Leverkusen",
         "orientation": "h",
         "showlegend": true,
         "textposition": "outside",
         "texttemplate": "%{x}",
         "type": "bar",
         "x": [
          64
         ],
         "xaxis": "x",
         "y": [
          "Leverkusen - GER"
         ],
         "yaxis": "y"
        },
        {
         "alignmentgroup": "True",
         "hovertemplate": "Squad=Monaco<br>Pts=%{x}<br>Squad_country=%{y}<extra></extra>",
         "legendgroup": "Monaco",
         "marker": {
          "color": "#d9b59d",
          "pattern": {
           "shape": ""
          }
         },
         "name": "Monaco",
         "offsetgroup": "Monaco",
         "orientation": "h",
         "showlegend": true,
         "textposition": "outside",
         "texttemplate": "%{x}",
         "type": "bar",
         "x": [
          69
         ],
         "xaxis": "x",
         "y": [
          "Monaco - FRA"
         ],
         "yaxis": "y"
        },
        {
         "alignmentgroup": "True",
         "hovertemplate": "Squad=Dortmund<br>Pts=%{x}<br>Squad_country=%{y}<extra></extra>",
         "legendgroup": "Dortmund",
         "marker": {
          "color": "#c7a676",
          "pattern": {
           "shape": ""
          }
         },
         "name": "Dortmund",
         "offsetgroup": "Dortmund",
         "orientation": "h",
         "showlegend": true,
         "textposition": "outside",
         "texttemplate": "%{x}",
         "type": "bar",
         "x": [
          69
         ],
         "xaxis": "x",
         "y": [
          "Dortmund - GER"
         ],
         "yaxis": "y"
        },
        {
         "alignmentgroup": "True",
         "hovertemplate": "Squad=Marseille<br>Pts=%{x}<br>Squad_country=%{y}<extra></extra>",
         "legendgroup": "Marseille",
         "marker": {
          "color": "#bcac62",
          "pattern": {
           "shape": ""
          }
         },
         "name": "Marseille",
         "offsetgroup": "Marseille",
         "orientation": "h",
         "showlegend": true,
         "textposition": "outside",
         "texttemplate": "%{x}",
         "type": "bar",
         "x": [
          71
         ],
         "xaxis": "x",
         "y": [
          "Marseille - FRA"
         ],
         "yaxis": "y"
        },
        {
         "alignmentgroup": "True",
         "hovertemplate": "Squad=Atlético Madrid<br>Pts=%{x}<br>Squad_country=%{y}<extra></extra>",
         "legendgroup": "Atlético Madrid",
         "marker": {
          "color": "#b2b65d",
          "pattern": {
           "shape": ""
          }
         },
         "name": "Atlético Madrid",
         "offsetgroup": "Atlético Madrid",
         "orientation": "h",
         "showlegend": true,
         "textposition": "outside",
         "texttemplate": "%{x}",
         "type": "bar",
         "x": [
          71
         ],
         "xaxis": "x",
         "y": [
          "Atlético Madrid - ESP"
         ],
         "yaxis": "y"
        },
        {
         "alignmentgroup": "True",
         "hovertemplate": "Squad=Barcelona<br>Pts=%{x}<br>Squad_country=%{y}<extra></extra>",
         "legendgroup": "Barcelona",
         "marker": {
          "color": "#98af58",
          "pattern": {
           "shape": ""
          }
         },
         "name": "Barcelona",
         "offsetgroup": "Barcelona",
         "orientation": "h",
         "showlegend": true,
         "textposition": "outside",
         "texttemplate": "%{x}",
         "type": "bar",
         "x": [
          73
         ],
         "xaxis": "x",
         "y": [
          "Barcelona - ESP"
         ],
         "yaxis": "y"
        },
        {
         "alignmentgroup": "True",
         "hovertemplate": "Squad=Chelsea<br>Pts=%{x}<br>Squad_country=%{y}<extra></extra>",
         "legendgroup": "Chelsea",
         "marker": {
          "color": "#7da853",
          "pattern": {
           "shape": ""
          }
         },
         "name": "Chelsea",
         "offsetgroup": "Chelsea",
         "orientation": "h",
         "showlegend": true,
         "textposition": "outside",
         "texttemplate": "%{x}",
         "type": "bar",
         "x": [
          74
         ],
         "xaxis": "x",
         "y": [
          "Chelsea - ENG"
         ],
         "yaxis": "y"
        },
        {
         "alignmentgroup": "True",
         "hovertemplate": "Squad=Bayern Munich<br>Pts=%{x}<br>Squad_country=%{y}<extra></extra>",
         "legendgroup": "Bayern Munich",
         "marker": {
          "color": "#5ba04b",
          "pattern": {
           "shape": ""
          }
         },
         "name": "Bayern Munich",
         "offsetgroup": "Bayern Munich",
         "orientation": "h",
         "showlegend": true,
         "textposition": "outside",
         "texttemplate": "%{x}",
         "type": "bar",
         "x": [
          77
         ],
         "xaxis": "x",
         "y": [
          "Bayern Munich - GER"
         ],
         "yaxis": "y"
        },
        {
         "alignmentgroup": "True",
         "hovertemplate": "Squad=Napoli<br>Pts=%{x}<br>Squad_country=%{y}<extra></extra>",
         "legendgroup": "Napoli",
         "marker": {
          "color": "#429650",
          "pattern": {
           "shape": ""
          }
         },
         "name": "Napoli",
         "offsetgroup": "Napoli",
         "orientation": "h",
         "showlegend": true,
         "textposition": "outside",
         "texttemplate": "%{x}",
         "type": "bar",
         "x": [
          79
         ],
         "xaxis": "x",
         "y": [
          "Napoli - ITA"
         ],
         "yaxis": "y"
        },
        {
         "alignmentgroup": "True",
         "hovertemplate": "Squad=Inter<br>Pts=%{x}<br>Squad_country=%{y}<extra></extra>",
         "legendgroup": "Inter",
         "marker": {
          "color": "#3b8d63",
          "pattern": {
           "shape": ""
          }
         },
         "name": "Inter",
         "offsetgroup": "Inter",
         "orientation": "h",
         "showlegend": true,
         "textposition": "outside",
         "texttemplate": "%{x}",
         "type": "bar",
         "x": [
          84
         ],
         "xaxis": "x",
         "y": [
          "Inter - ITA"
         ],
         "yaxis": "y"
        },
        {
         "alignmentgroup": "True",
         "hovertemplate": "Squad=Paris S-G<br>Pts=%{x}<br>Squad_country=%{y}<extra></extra>",
         "legendgroup": "Paris S-G",
         "marker": {
          "color": "#338477",
          "pattern": {
           "shape": ""
          }
         },
         "name": "Paris S-G",
         "offsetgroup": "Paris S-G",
         "orientation": "h",
         "showlegend": true,
         "textposition": "outside",
         "texttemplate": "%{x}",
         "type": "bar",
         "x": [
          86
         ],
         "xaxis": "x",
         "y": [
          "Paris S-G - FRA"
         ],
         "yaxis": "y"
        },
        {
         "alignmentgroup": "True",
         "hovertemplate": "Squad=Milan<br>Pts=%{x}<br>Squad_country=%{y}<extra></extra>",
         "legendgroup": "Milan",
         "marker": {
          "color": "#2a727e",
          "pattern": {
           "shape": ""
          }
         },
         "name": "Milan",
         "offsetgroup": "Milan",
         "orientation": "h",
         "showlegend": true,
         "textposition": "outside",
         "texttemplate": "%{x}",
         "type": "bar",
         "x": [
          86
         ],
         "xaxis": "x",
         "y": [
          "Milan - ITA"
         ],
         "yaxis": "y"
        },
        {
         "alignmentgroup": "True",
         "hovertemplate": "Squad=Real Madrid<br>Pts=%{x}<br>Squad_country=%{y}<extra></extra>",
         "legendgroup": "Real Madrid",
         "marker": {
          "color": "#1f577b",
          "pattern": {
           "shape": ""
          }
         },
         "name": "Real Madrid",
         "offsetgroup": "Real Madrid",
         "orientation": "h",
         "showlegend": true,
         "textposition": "outside",
         "texttemplate": "%{x}",
         "type": "bar",
         "x": [
          86
         ],
         "xaxis": "x",
         "y": [
          "Real Madrid - ESP"
         ],
         "yaxis": "y"
        },
        {
         "alignmentgroup": "True",
         "hovertemplate": "Squad=Liverpool<br>Pts=%{x}<br>Squad_country=%{y}<extra></extra>",
         "legendgroup": "Liverpool",
         "marker": {
          "color": "#153778",
          "pattern": {
           "shape": ""
          }
         },
         "name": "Liverpool",
         "offsetgroup": "Liverpool",
         "orientation": "h",
         "showlegend": true,
         "textposition": "outside",
         "texttemplate": "%{x}",
         "type": "bar",
         "x": [
          92
         ],
         "xaxis": "x",
         "y": [
          "Liverpool - ENG"
         ],
         "yaxis": "y"
        },
        {
         "alignmentgroup": "True",
         "hovertemplate": "Squad=Manchester City<br>Pts=%{x}<br>Squad_country=%{y}<extra></extra>",
         "legendgroup": "Manchester City",
         "marker": {
          "color": "#0a1275",
          "pattern": {
           "shape": ""
          }
         },
         "name": "Manchester City",
         "offsetgroup": "Manchester City",
         "orientation": "h",
         "showlegend": true,
         "textposition": "outside",
         "texttemplate": "%{x}",
         "type": "bar",
         "x": [
          93
         ],
         "xaxis": "x",
         "y": [
          "Manchester City - ENG"
         ],
         "yaxis": "y"
        }
       ],
       "layout": {
        "barmode": "relative",
        "height": 400,
        "legend": {
         "title": {
          "text": "Squad"
         },
         "tracegroupgap": 0
        },
        "margin": {
         "l": 10
        },
        "showlegend": false,
        "template": {
         "data": {
          "bar": [
           {
            "error_x": {
             "color": "rgb(36,36,36)"
            },
            "error_y": {
             "color": "rgb(36,36,36)"
            },
            "marker": {
             "line": {
              "color": "white",
              "width": 0.5
             },
             "pattern": {
              "fillmode": "overlay",
              "size": 10,
              "solidity": 0.2
             }
            },
            "type": "bar"
           }
          ],
          "barpolar": [
           {
            "marker": {
             "line": {
              "color": "white",
              "width": 0.5
             },
             "pattern": {
              "fillmode": "overlay",
              "size": 10,
              "solidity": 0.2
             }
            },
            "type": "barpolar"
           }
          ],
          "carpet": [
           {
            "aaxis": {
             "endlinecolor": "rgb(36,36,36)",
             "gridcolor": "white",
             "linecolor": "white",
             "minorgridcolor": "white",
             "startlinecolor": "rgb(36,36,36)"
            },
            "baxis": {
             "endlinecolor": "rgb(36,36,36)",
             "gridcolor": "white",
             "linecolor": "white",
             "minorgridcolor": "white",
             "startlinecolor": "rgb(36,36,36)"
            },
            "type": "carpet"
           }
          ],
          "choropleth": [
           {
            "colorbar": {
             "outlinewidth": 1,
             "tickcolor": "rgb(36,36,36)",
             "ticks": "outside"
            },
            "type": "choropleth"
           }
          ],
          "contour": [
           {
            "colorbar": {
             "outlinewidth": 1,
             "tickcolor": "rgb(36,36,36)",
             "ticks": "outside"
            },
            "colorscale": [
             [
              0,
              "#440154"
             ],
             [
              0.1111111111111111,
              "#482878"
             ],
             [
              0.2222222222222222,
              "#3e4989"
             ],
             [
              0.3333333333333333,
              "#31688e"
             ],
             [
              0.4444444444444444,
              "#26828e"
             ],
             [
              0.5555555555555556,
              "#1f9e89"
             ],
             [
              0.6666666666666666,
              "#35b779"
             ],
             [
              0.7777777777777778,
              "#6ece58"
             ],
             [
              0.8888888888888888,
              "#b5de2b"
             ],
             [
              1,
              "#fde725"
             ]
            ],
            "type": "contour"
           }
          ],
          "contourcarpet": [
           {
            "colorbar": {
             "outlinewidth": 1,
             "tickcolor": "rgb(36,36,36)",
             "ticks": "outside"
            },
            "type": "contourcarpet"
           }
          ],
          "heatmap": [
           {
            "colorbar": {
             "outlinewidth": 1,
             "tickcolor": "rgb(36,36,36)",
             "ticks": "outside"
            },
            "colorscale": [
             [
              0,
              "#440154"
             ],
             [
              0.1111111111111111,
              "#482878"
             ],
             [
              0.2222222222222222,
              "#3e4989"
             ],
             [
              0.3333333333333333,
              "#31688e"
             ],
             [
              0.4444444444444444,
              "#26828e"
             ],
             [
              0.5555555555555556,
              "#1f9e89"
             ],
             [
              0.6666666666666666,
              "#35b779"
             ],
             [
              0.7777777777777778,
              "#6ece58"
             ],
             [
              0.8888888888888888,
              "#b5de2b"
             ],
             [
              1,
              "#fde725"
             ]
            ],
            "type": "heatmap"
           }
          ],
          "heatmapgl": [
           {
            "colorbar": {
             "outlinewidth": 1,
             "tickcolor": "rgb(36,36,36)",
             "ticks": "outside"
            },
            "colorscale": [
             [
              0,
              "#440154"
             ],
             [
              0.1111111111111111,
              "#482878"
             ],
             [
              0.2222222222222222,
              "#3e4989"
             ],
             [
              0.3333333333333333,
              "#31688e"
             ],
             [
              0.4444444444444444,
              "#26828e"
             ],
             [
              0.5555555555555556,
              "#1f9e89"
             ],
             [
              0.6666666666666666,
              "#35b779"
             ],
             [
              0.7777777777777778,
              "#6ece58"
             ],
             [
              0.8888888888888888,
              "#b5de2b"
             ],
             [
              1,
              "#fde725"
             ]
            ],
            "type": "heatmapgl"
           }
          ],
          "histogram": [
           {
            "marker": {
             "line": {
              "color": "white",
              "width": 0.6
             }
            },
            "type": "histogram"
           }
          ],
          "histogram2d": [
           {
            "colorbar": {
             "outlinewidth": 1,
             "tickcolor": "rgb(36,36,36)",
             "ticks": "outside"
            },
            "colorscale": [
             [
              0,
              "#440154"
             ],
             [
              0.1111111111111111,
              "#482878"
             ],
             [
              0.2222222222222222,
              "#3e4989"
             ],
             [
              0.3333333333333333,
              "#31688e"
             ],
             [
              0.4444444444444444,
              "#26828e"
             ],
             [
              0.5555555555555556,
              "#1f9e89"
             ],
             [
              0.6666666666666666,
              "#35b779"
             ],
             [
              0.7777777777777778,
              "#6ece58"
             ],
             [
              0.8888888888888888,
              "#b5de2b"
             ],
             [
              1,
              "#fde725"
             ]
            ],
            "type": "histogram2d"
           }
          ],
          "histogram2dcontour": [
           {
            "colorbar": {
             "outlinewidth": 1,
             "tickcolor": "rgb(36,36,36)",
             "ticks": "outside"
            },
            "colorscale": [
             [
              0,
              "#440154"
             ],
             [
              0.1111111111111111,
              "#482878"
             ],
             [
              0.2222222222222222,
              "#3e4989"
             ],
             [
              0.3333333333333333,
              "#31688e"
             ],
             [
              0.4444444444444444,
              "#26828e"
             ],
             [
              0.5555555555555556,
              "#1f9e89"
             ],
             [
              0.6666666666666666,
              "#35b779"
             ],
             [
              0.7777777777777778,
              "#6ece58"
             ],
             [
              0.8888888888888888,
              "#b5de2b"
             ],
             [
              1,
              "#fde725"
             ]
            ],
            "type": "histogram2dcontour"
           }
          ],
          "mesh3d": [
           {
            "colorbar": {
             "outlinewidth": 1,
             "tickcolor": "rgb(36,36,36)",
             "ticks": "outside"
            },
            "type": "mesh3d"
           }
          ],
          "parcoords": [
           {
            "line": {
             "colorbar": {
              "outlinewidth": 1,
              "tickcolor": "rgb(36,36,36)",
              "ticks": "outside"
             }
            },
            "type": "parcoords"
           }
          ],
          "pie": [
           {
            "automargin": true,
            "type": "pie"
           }
          ],
          "scatter": [
           {
            "fillpattern": {
             "fillmode": "overlay",
             "size": 10,
             "solidity": 0.2
            },
            "type": "scatter"
           }
          ],
          "scatter3d": [
           {
            "line": {
             "colorbar": {
              "outlinewidth": 1,
              "tickcolor": "rgb(36,36,36)",
              "ticks": "outside"
             }
            },
            "marker": {
             "colorbar": {
              "outlinewidth": 1,
              "tickcolor": "rgb(36,36,36)",
              "ticks": "outside"
             }
            },
            "type": "scatter3d"
           }
          ],
          "scattercarpet": [
           {
            "marker": {
             "colorbar": {
              "outlinewidth": 1,
              "tickcolor": "rgb(36,36,36)",
              "ticks": "outside"
             }
            },
            "type": "scattercarpet"
           }
          ],
          "scattergeo": [
           {
            "marker": {
             "colorbar": {
              "outlinewidth": 1,
              "tickcolor": "rgb(36,36,36)",
              "ticks": "outside"
             }
            },
            "type": "scattergeo"
           }
          ],
          "scattergl": [
           {
            "marker": {
             "colorbar": {
              "outlinewidth": 1,
              "tickcolor": "rgb(36,36,36)",
              "ticks": "outside"
             }
            },
            "type": "scattergl"
           }
          ],
          "scattermapbox": [
           {
            "marker": {
             "colorbar": {
              "outlinewidth": 1,
              "tickcolor": "rgb(36,36,36)",
              "ticks": "outside"
             }
            },
            "type": "scattermapbox"
           }
          ],
          "scatterpolar": [
           {
            "marker": {
             "colorbar": {
              "outlinewidth": 1,
              "tickcolor": "rgb(36,36,36)",
              "ticks": "outside"
             }
            },
            "type": "scatterpolar"
           }
          ],
          "scatterpolargl": [
           {
            "marker": {
             "colorbar": {
              "outlinewidth": 1,
              "tickcolor": "rgb(36,36,36)",
              "ticks": "outside"
             }
            },
            "type": "scatterpolargl"
           }
          ],
          "scatterternary": [
           {
            "marker": {
             "colorbar": {
              "outlinewidth": 1,
              "tickcolor": "rgb(36,36,36)",
              "ticks": "outside"
             }
            },
            "type": "scatterternary"
           }
          ],
          "surface": [
           {
            "colorbar": {
             "outlinewidth": 1,
             "tickcolor": "rgb(36,36,36)",
             "ticks": "outside"
            },
            "colorscale": [
             [
              0,
              "#440154"
             ],
             [
              0.1111111111111111,
              "#482878"
             ],
             [
              0.2222222222222222,
              "#3e4989"
             ],
             [
              0.3333333333333333,
              "#31688e"
             ],
             [
              0.4444444444444444,
              "#26828e"
             ],
             [
              0.5555555555555556,
              "#1f9e89"
             ],
             [
              0.6666666666666666,
              "#35b779"
             ],
             [
              0.7777777777777778,
              "#6ece58"
             ],
             [
              0.8888888888888888,
              "#b5de2b"
             ],
             [
              1,
              "#fde725"
             ]
            ],
            "type": "surface"
           }
          ],
          "table": [
           {
            "cells": {
             "fill": {
              "color": "rgb(237,237,237)"
             },
             "line": {
              "color": "white"
             }
            },
            "header": {
             "fill": {
              "color": "rgb(217,217,217)"
             },
             "line": {
              "color": "white"
             }
            },
            "type": "table"
           }
          ]
         },
         "layout": {
          "annotationdefaults": {
           "arrowhead": 0,
           "arrowwidth": 1
          },
          "autotypenumbers": "strict",
          "coloraxis": {
           "colorbar": {
            "outlinewidth": 1,
            "tickcolor": "rgb(36,36,36)",
            "ticks": "outside"
           }
          },
          "colorscale": {
           "diverging": [
            [
             0,
             "rgb(103,0,31)"
            ],
            [
             0.1,
             "rgb(178,24,43)"
            ],
            [
             0.2,
             "rgb(214,96,77)"
            ],
            [
             0.3,
             "rgb(244,165,130)"
            ],
            [
             0.4,
             "rgb(253,219,199)"
            ],
            [
             0.5,
             "rgb(247,247,247)"
            ],
            [
             0.6,
             "rgb(209,229,240)"
            ],
            [
             0.7,
             "rgb(146,197,222)"
            ],
            [
             0.8,
             "rgb(67,147,195)"
            ],
            [
             0.9,
             "rgb(33,102,172)"
            ],
            [
             1,
             "rgb(5,48,97)"
            ]
           ],
           "sequential": [
            [
             0,
             "#440154"
            ],
            [
             0.1111111111111111,
             "#482878"
            ],
            [
             0.2222222222222222,
             "#3e4989"
            ],
            [
             0.3333333333333333,
             "#31688e"
            ],
            [
             0.4444444444444444,
             "#26828e"
            ],
            [
             0.5555555555555556,
             "#1f9e89"
            ],
            [
             0.6666666666666666,
             "#35b779"
            ],
            [
             0.7777777777777778,
             "#6ece58"
            ],
            [
             0.8888888888888888,
             "#b5de2b"
            ],
            [
             1,
             "#fde725"
            ]
           ],
           "sequentialminus": [
            [
             0,
             "#440154"
            ],
            [
             0.1111111111111111,
             "#482878"
            ],
            [
             0.2222222222222222,
             "#3e4989"
            ],
            [
             0.3333333333333333,
             "#31688e"
            ],
            [
             0.4444444444444444,
             "#26828e"
            ],
            [
             0.5555555555555556,
             "#1f9e89"
            ],
            [
             0.6666666666666666,
             "#35b779"
            ],
            [
             0.7777777777777778,
             "#6ece58"
            ],
            [
             0.8888888888888888,
             "#b5de2b"
            ],
            [
             1,
             "#fde725"
            ]
           ]
          },
          "colorway": [
           "#1F77B4",
           "#FF7F0E",
           "#2CA02C",
           "#D62728",
           "#9467BD",
           "#8C564B",
           "#E377C2",
           "#7F7F7F",
           "#BCBD22",
           "#17BECF"
          ],
          "font": {
           "color": "rgb(36,36,36)"
          },
          "geo": {
           "bgcolor": "white",
           "lakecolor": "white",
           "landcolor": "white",
           "showlakes": true,
           "showland": true,
           "subunitcolor": "white"
          },
          "hoverlabel": {
           "align": "left"
          },
          "hovermode": "closest",
          "mapbox": {
           "style": "light"
          },
          "paper_bgcolor": "white",
          "plot_bgcolor": "white",
          "polar": {
           "angularaxis": {
            "gridcolor": "rgb(232,232,232)",
            "linecolor": "rgb(36,36,36)",
            "showgrid": false,
            "showline": true,
            "ticks": "outside"
           },
           "bgcolor": "white",
           "radialaxis": {
            "gridcolor": "rgb(232,232,232)",
            "linecolor": "rgb(36,36,36)",
            "showgrid": false,
            "showline": true,
            "ticks": "outside"
           }
          },
          "scene": {
           "xaxis": {
            "backgroundcolor": "white",
            "gridcolor": "rgb(232,232,232)",
            "gridwidth": 2,
            "linecolor": "rgb(36,36,36)",
            "showbackground": true,
            "showgrid": false,
            "showline": true,
            "ticks": "outside",
            "zeroline": false,
            "zerolinecolor": "rgb(36,36,36)"
           },
           "yaxis": {
            "backgroundcolor": "white",
            "gridcolor": "rgb(232,232,232)",
            "gridwidth": 2,
            "linecolor": "rgb(36,36,36)",
            "showbackground": true,
            "showgrid": false,
            "showline": true,
            "ticks": "outside",
            "zeroline": false,
            "zerolinecolor": "rgb(36,36,36)"
           },
           "zaxis": {
            "backgroundcolor": "white",
            "gridcolor": "rgb(232,232,232)",
            "gridwidth": 2,
            "linecolor": "rgb(36,36,36)",
            "showbackground": true,
            "showgrid": false,
            "showline": true,
            "ticks": "outside",
            "zeroline": false,
            "zerolinecolor": "rgb(36,36,36)"
           }
          },
          "shapedefaults": {
           "fillcolor": "black",
           "line": {
            "width": 0
           },
           "opacity": 0.3
          },
          "ternary": {
           "aaxis": {
            "gridcolor": "rgb(232,232,232)",
            "linecolor": "rgb(36,36,36)",
            "showgrid": false,
            "showline": true,
            "ticks": "outside"
           },
           "baxis": {
            "gridcolor": "rgb(232,232,232)",
            "linecolor": "rgb(36,36,36)",
            "showgrid": false,
            "showline": true,
            "ticks": "outside"
           },
           "bgcolor": "white",
           "caxis": {
            "gridcolor": "rgb(232,232,232)",
            "linecolor": "rgb(36,36,36)",
            "showgrid": false,
            "showline": true,
            "ticks": "outside"
           }
          },
          "title": {
           "x": 0.05
          },
          "xaxis": {
           "automargin": true,
           "gridcolor": "rgb(232,232,232)",
           "linecolor": "rgb(36,36,36)",
           "showgrid": false,
           "showline": true,
           "ticks": "outside",
           "title": {
            "standoff": 15
           },
           "zeroline": false,
           "zerolinecolor": "rgb(36,36,36)"
          },
          "yaxis": {
           "automargin": true,
           "gridcolor": "rgb(232,232,232)",
           "linecolor": "rgb(36,36,36)",
           "showgrid": false,
           "showline": true,
           "ticks": "outside",
           "title": {
            "standoff": 15
           },
           "zeroline": false,
           "zerolinecolor": "rgb(36,36,36)"
          }
         }
        },
        "title": {
         "font": {
          "color": "black",
          "family": "Impact",
          "size": 30
         },
         "text": "Best squad in termes of number of points",
         "y": 0.9
        },
        "xaxis": {
         "anchor": "y",
         "color": "black",
         "domain": [
          0,
          1
         ],
         "tickfont": {
          "family": "Microsoft Tai Le"
         },
         "title": {
          "font": {
           "family": "Microsoft Tai Le"
          },
          "text": "Number of points"
         }
        },
        "yaxis": {
         "anchor": "x",
         "color": "black",
         "domain": [
          0,
          1
         ],
         "tickfont": {
          "family": "Microsoft Tai Le"
         },
         "title": {
          "font": {
           "family": "Microsoft Tai Le"
          },
          "text": ""
         }
        }
       }
      },
      "text/html": [
       "<div>                            <div id=\"6161f4e7-a585-497a-8332-465b967dd223\" class=\"plotly-graph-div\" style=\"height:400px; width:100%;\"></div>            <script type=\"text/javascript\">                require([\"plotly\"], function(Plotly) {                    window.PLOTLYENV=window.PLOTLYENV || {};                                    if (document.getElementById(\"6161f4e7-a585-497a-8332-465b967dd223\")) {                    Plotly.newPlot(                        \"6161f4e7-a585-497a-8332-465b967dd223\",                        [{\"alignmentgroup\":\"True\",\"hovertemplate\":\"Squad=Leverkusen<br>Pts=%{x}<br>Squad_country=%{y}<extra></extra>\",\"legendgroup\":\"Leverkusen\",\"marker\":{\"color\":\"#ebd1cb\",\"pattern\":{\"shape\":\"\"}},\"name\":\"Leverkusen\",\"offsetgroup\":\"Leverkusen\",\"orientation\":\"h\",\"showlegend\":true,\"textposition\":\"outside\",\"texttemplate\":\"%{x}\",\"x\":[64],\"xaxis\":\"x\",\"y\":[\"Leverkusen - GER\"],\"yaxis\":\"y\",\"type\":\"bar\"},{\"alignmentgroup\":\"True\",\"hovertemplate\":\"Squad=Monaco<br>Pts=%{x}<br>Squad_country=%{y}<extra></extra>\",\"legendgroup\":\"Monaco\",\"marker\":{\"color\":\"#d9b59d\",\"pattern\":{\"shape\":\"\"}},\"name\":\"Monaco\",\"offsetgroup\":\"Monaco\",\"orientation\":\"h\",\"showlegend\":true,\"textposition\":\"outside\",\"texttemplate\":\"%{x}\",\"x\":[69],\"xaxis\":\"x\",\"y\":[\"Monaco - FRA\"],\"yaxis\":\"y\",\"type\":\"bar\"},{\"alignmentgroup\":\"True\",\"hovertemplate\":\"Squad=Dortmund<br>Pts=%{x}<br>Squad_country=%{y}<extra></extra>\",\"legendgroup\":\"Dortmund\",\"marker\":{\"color\":\"#c7a676\",\"pattern\":{\"shape\":\"\"}},\"name\":\"Dortmund\",\"offsetgroup\":\"Dortmund\",\"orientation\":\"h\",\"showlegend\":true,\"textposition\":\"outside\",\"texttemplate\":\"%{x}\",\"x\":[69],\"xaxis\":\"x\",\"y\":[\"Dortmund - GER\"],\"yaxis\":\"y\",\"type\":\"bar\"},{\"alignmentgroup\":\"True\",\"hovertemplate\":\"Squad=Marseille<br>Pts=%{x}<br>Squad_country=%{y}<extra></extra>\",\"legendgroup\":\"Marseille\",\"marker\":{\"color\":\"#bcac62\",\"pattern\":{\"shape\":\"\"}},\"name\":\"Marseille\",\"offsetgroup\":\"Marseille\",\"orientation\":\"h\",\"showlegend\":true,\"textposition\":\"outside\",\"texttemplate\":\"%{x}\",\"x\":[71],\"xaxis\":\"x\",\"y\":[\"Marseille - FRA\"],\"yaxis\":\"y\",\"type\":\"bar\"},{\"alignmentgroup\":\"True\",\"hovertemplate\":\"Squad=Atl\\u00e9tico Madrid<br>Pts=%{x}<br>Squad_country=%{y}<extra></extra>\",\"legendgroup\":\"Atl\\u00e9tico Madrid\",\"marker\":{\"color\":\"#b2b65d\",\"pattern\":{\"shape\":\"\"}},\"name\":\"Atl\\u00e9tico Madrid\",\"offsetgroup\":\"Atl\\u00e9tico Madrid\",\"orientation\":\"h\",\"showlegend\":true,\"textposition\":\"outside\",\"texttemplate\":\"%{x}\",\"x\":[71],\"xaxis\":\"x\",\"y\":[\"Atl\\u00e9tico Madrid - ESP\"],\"yaxis\":\"y\",\"type\":\"bar\"},{\"alignmentgroup\":\"True\",\"hovertemplate\":\"Squad=Barcelona<br>Pts=%{x}<br>Squad_country=%{y}<extra></extra>\",\"legendgroup\":\"Barcelona\",\"marker\":{\"color\":\"#98af58\",\"pattern\":{\"shape\":\"\"}},\"name\":\"Barcelona\",\"offsetgroup\":\"Barcelona\",\"orientation\":\"h\",\"showlegend\":true,\"textposition\":\"outside\",\"texttemplate\":\"%{x}\",\"x\":[73],\"xaxis\":\"x\",\"y\":[\"Barcelona - ESP\"],\"yaxis\":\"y\",\"type\":\"bar\"},{\"alignmentgroup\":\"True\",\"hovertemplate\":\"Squad=Chelsea<br>Pts=%{x}<br>Squad_country=%{y}<extra></extra>\",\"legendgroup\":\"Chelsea\",\"marker\":{\"color\":\"#7da853\",\"pattern\":{\"shape\":\"\"}},\"name\":\"Chelsea\",\"offsetgroup\":\"Chelsea\",\"orientation\":\"h\",\"showlegend\":true,\"textposition\":\"outside\",\"texttemplate\":\"%{x}\",\"x\":[74],\"xaxis\":\"x\",\"y\":[\"Chelsea - ENG\"],\"yaxis\":\"y\",\"type\":\"bar\"},{\"alignmentgroup\":\"True\",\"hovertemplate\":\"Squad=Bayern Munich<br>Pts=%{x}<br>Squad_country=%{y}<extra></extra>\",\"legendgroup\":\"Bayern Munich\",\"marker\":{\"color\":\"#5ba04b\",\"pattern\":{\"shape\":\"\"}},\"name\":\"Bayern Munich\",\"offsetgroup\":\"Bayern Munich\",\"orientation\":\"h\",\"showlegend\":true,\"textposition\":\"outside\",\"texttemplate\":\"%{x}\",\"x\":[77],\"xaxis\":\"x\",\"y\":[\"Bayern Munich - GER\"],\"yaxis\":\"y\",\"type\":\"bar\"},{\"alignmentgroup\":\"True\",\"hovertemplate\":\"Squad=Napoli<br>Pts=%{x}<br>Squad_country=%{y}<extra></extra>\",\"legendgroup\":\"Napoli\",\"marker\":{\"color\":\"#429650\",\"pattern\":{\"shape\":\"\"}},\"name\":\"Napoli\",\"offsetgroup\":\"Napoli\",\"orientation\":\"h\",\"showlegend\":true,\"textposition\":\"outside\",\"texttemplate\":\"%{x}\",\"x\":[79],\"xaxis\":\"x\",\"y\":[\"Napoli - ITA\"],\"yaxis\":\"y\",\"type\":\"bar\"},{\"alignmentgroup\":\"True\",\"hovertemplate\":\"Squad=Inter<br>Pts=%{x}<br>Squad_country=%{y}<extra></extra>\",\"legendgroup\":\"Inter\",\"marker\":{\"color\":\"#3b8d63\",\"pattern\":{\"shape\":\"\"}},\"name\":\"Inter\",\"offsetgroup\":\"Inter\",\"orientation\":\"h\",\"showlegend\":true,\"textposition\":\"outside\",\"texttemplate\":\"%{x}\",\"x\":[84],\"xaxis\":\"x\",\"y\":[\"Inter - ITA\"],\"yaxis\":\"y\",\"type\":\"bar\"},{\"alignmentgroup\":\"True\",\"hovertemplate\":\"Squad=Paris S-G<br>Pts=%{x}<br>Squad_country=%{y}<extra></extra>\",\"legendgroup\":\"Paris S-G\",\"marker\":{\"color\":\"#338477\",\"pattern\":{\"shape\":\"\"}},\"name\":\"Paris S-G\",\"offsetgroup\":\"Paris S-G\",\"orientation\":\"h\",\"showlegend\":true,\"textposition\":\"outside\",\"texttemplate\":\"%{x}\",\"x\":[86],\"xaxis\":\"x\",\"y\":[\"Paris S-G - FRA\"],\"yaxis\":\"y\",\"type\":\"bar\"},{\"alignmentgroup\":\"True\",\"hovertemplate\":\"Squad=Milan<br>Pts=%{x}<br>Squad_country=%{y}<extra></extra>\",\"legendgroup\":\"Milan\",\"marker\":{\"color\":\"#2a727e\",\"pattern\":{\"shape\":\"\"}},\"name\":\"Milan\",\"offsetgroup\":\"Milan\",\"orientation\":\"h\",\"showlegend\":true,\"textposition\":\"outside\",\"texttemplate\":\"%{x}\",\"x\":[86],\"xaxis\":\"x\",\"y\":[\"Milan - ITA\"],\"yaxis\":\"y\",\"type\":\"bar\"},{\"alignmentgroup\":\"True\",\"hovertemplate\":\"Squad=Real Madrid<br>Pts=%{x}<br>Squad_country=%{y}<extra></extra>\",\"legendgroup\":\"Real Madrid\",\"marker\":{\"color\":\"#1f577b\",\"pattern\":{\"shape\":\"\"}},\"name\":\"Real Madrid\",\"offsetgroup\":\"Real Madrid\",\"orientation\":\"h\",\"showlegend\":true,\"textposition\":\"outside\",\"texttemplate\":\"%{x}\",\"x\":[86],\"xaxis\":\"x\",\"y\":[\"Real Madrid - ESP\"],\"yaxis\":\"y\",\"type\":\"bar\"},{\"alignmentgroup\":\"True\",\"hovertemplate\":\"Squad=Liverpool<br>Pts=%{x}<br>Squad_country=%{y}<extra></extra>\",\"legendgroup\":\"Liverpool\",\"marker\":{\"color\":\"#153778\",\"pattern\":{\"shape\":\"\"}},\"name\":\"Liverpool\",\"offsetgroup\":\"Liverpool\",\"orientation\":\"h\",\"showlegend\":true,\"textposition\":\"outside\",\"texttemplate\":\"%{x}\",\"x\":[92],\"xaxis\":\"x\",\"y\":[\"Liverpool - ENG\"],\"yaxis\":\"y\",\"type\":\"bar\"},{\"alignmentgroup\":\"True\",\"hovertemplate\":\"Squad=Manchester City<br>Pts=%{x}<br>Squad_country=%{y}<extra></extra>\",\"legendgroup\":\"Manchester City\",\"marker\":{\"color\":\"#0a1275\",\"pattern\":{\"shape\":\"\"}},\"name\":\"Manchester City\",\"offsetgroup\":\"Manchester City\",\"orientation\":\"h\",\"showlegend\":true,\"textposition\":\"outside\",\"texttemplate\":\"%{x}\",\"x\":[93],\"xaxis\":\"x\",\"y\":[\"Manchester City - ENG\"],\"yaxis\":\"y\",\"type\":\"bar\"}],                        {\"template\":{\"data\":{\"barpolar\":[{\"marker\":{\"line\":{\"color\":\"white\",\"width\":0.5},\"pattern\":{\"fillmode\":\"overlay\",\"size\":10,\"solidity\":0.2}},\"type\":\"barpolar\"}],\"bar\":[{\"error_x\":{\"color\":\"rgb(36,36,36)\"},\"error_y\":{\"color\":\"rgb(36,36,36)\"},\"marker\":{\"line\":{\"color\":\"white\",\"width\":0.5},\"pattern\":{\"fillmode\":\"overlay\",\"size\":10,\"solidity\":0.2}},\"type\":\"bar\"}],\"carpet\":[{\"aaxis\":{\"endlinecolor\":\"rgb(36,36,36)\",\"gridcolor\":\"white\",\"linecolor\":\"white\",\"minorgridcolor\":\"white\",\"startlinecolor\":\"rgb(36,36,36)\"},\"baxis\":{\"endlinecolor\":\"rgb(36,36,36)\",\"gridcolor\":\"white\",\"linecolor\":\"white\",\"minorgridcolor\":\"white\",\"startlinecolor\":\"rgb(36,36,36)\"},\"type\":\"carpet\"}],\"choropleth\":[{\"colorbar\":{\"outlinewidth\":1,\"tickcolor\":\"rgb(36,36,36)\",\"ticks\":\"outside\"},\"type\":\"choropleth\"}],\"contourcarpet\":[{\"colorbar\":{\"outlinewidth\":1,\"tickcolor\":\"rgb(36,36,36)\",\"ticks\":\"outside\"},\"type\":\"contourcarpet\"}],\"contour\":[{\"colorbar\":{\"outlinewidth\":1,\"tickcolor\":\"rgb(36,36,36)\",\"ticks\":\"outside\"},\"colorscale\":[[0.0,\"#440154\"],[0.1111111111111111,\"#482878\"],[0.2222222222222222,\"#3e4989\"],[0.3333333333333333,\"#31688e\"],[0.4444444444444444,\"#26828e\"],[0.5555555555555556,\"#1f9e89\"],[0.6666666666666666,\"#35b779\"],[0.7777777777777778,\"#6ece58\"],[0.8888888888888888,\"#b5de2b\"],[1.0,\"#fde725\"]],\"type\":\"contour\"}],\"heatmapgl\":[{\"colorbar\":{\"outlinewidth\":1,\"tickcolor\":\"rgb(36,36,36)\",\"ticks\":\"outside\"},\"colorscale\":[[0.0,\"#440154\"],[0.1111111111111111,\"#482878\"],[0.2222222222222222,\"#3e4989\"],[0.3333333333333333,\"#31688e\"],[0.4444444444444444,\"#26828e\"],[0.5555555555555556,\"#1f9e89\"],[0.6666666666666666,\"#35b779\"],[0.7777777777777778,\"#6ece58\"],[0.8888888888888888,\"#b5de2b\"],[1.0,\"#fde725\"]],\"type\":\"heatmapgl\"}],\"heatmap\":[{\"colorbar\":{\"outlinewidth\":1,\"tickcolor\":\"rgb(36,36,36)\",\"ticks\":\"outside\"},\"colorscale\":[[0.0,\"#440154\"],[0.1111111111111111,\"#482878\"],[0.2222222222222222,\"#3e4989\"],[0.3333333333333333,\"#31688e\"],[0.4444444444444444,\"#26828e\"],[0.5555555555555556,\"#1f9e89\"],[0.6666666666666666,\"#35b779\"],[0.7777777777777778,\"#6ece58\"],[0.8888888888888888,\"#b5de2b\"],[1.0,\"#fde725\"]],\"type\":\"heatmap\"}],\"histogram2dcontour\":[{\"colorbar\":{\"outlinewidth\":1,\"tickcolor\":\"rgb(36,36,36)\",\"ticks\":\"outside\"},\"colorscale\":[[0.0,\"#440154\"],[0.1111111111111111,\"#482878\"],[0.2222222222222222,\"#3e4989\"],[0.3333333333333333,\"#31688e\"],[0.4444444444444444,\"#26828e\"],[0.5555555555555556,\"#1f9e89\"],[0.6666666666666666,\"#35b779\"],[0.7777777777777778,\"#6ece58\"],[0.8888888888888888,\"#b5de2b\"],[1.0,\"#fde725\"]],\"type\":\"histogram2dcontour\"}],\"histogram2d\":[{\"colorbar\":{\"outlinewidth\":1,\"tickcolor\":\"rgb(36,36,36)\",\"ticks\":\"outside\"},\"colorscale\":[[0.0,\"#440154\"],[0.1111111111111111,\"#482878\"],[0.2222222222222222,\"#3e4989\"],[0.3333333333333333,\"#31688e\"],[0.4444444444444444,\"#26828e\"],[0.5555555555555556,\"#1f9e89\"],[0.6666666666666666,\"#35b779\"],[0.7777777777777778,\"#6ece58\"],[0.8888888888888888,\"#b5de2b\"],[1.0,\"#fde725\"]],\"type\":\"histogram2d\"}],\"histogram\":[{\"marker\":{\"line\":{\"color\":\"white\",\"width\":0.6}},\"type\":\"histogram\"}],\"mesh3d\":[{\"colorbar\":{\"outlinewidth\":1,\"tickcolor\":\"rgb(36,36,36)\",\"ticks\":\"outside\"},\"type\":\"mesh3d\"}],\"parcoords\":[{\"line\":{\"colorbar\":{\"outlinewidth\":1,\"tickcolor\":\"rgb(36,36,36)\",\"ticks\":\"outside\"}},\"type\":\"parcoords\"}],\"pie\":[{\"automargin\":true,\"type\":\"pie\"}],\"scatter3d\":[{\"line\":{\"colorbar\":{\"outlinewidth\":1,\"tickcolor\":\"rgb(36,36,36)\",\"ticks\":\"outside\"}},\"marker\":{\"colorbar\":{\"outlinewidth\":1,\"tickcolor\":\"rgb(36,36,36)\",\"ticks\":\"outside\"}},\"type\":\"scatter3d\"}],\"scattercarpet\":[{\"marker\":{\"colorbar\":{\"outlinewidth\":1,\"tickcolor\":\"rgb(36,36,36)\",\"ticks\":\"outside\"}},\"type\":\"scattercarpet\"}],\"scattergeo\":[{\"marker\":{\"colorbar\":{\"outlinewidth\":1,\"tickcolor\":\"rgb(36,36,36)\",\"ticks\":\"outside\"}},\"type\":\"scattergeo\"}],\"scattergl\":[{\"marker\":{\"colorbar\":{\"outlinewidth\":1,\"tickcolor\":\"rgb(36,36,36)\",\"ticks\":\"outside\"}},\"type\":\"scattergl\"}],\"scattermapbox\":[{\"marker\":{\"colorbar\":{\"outlinewidth\":1,\"tickcolor\":\"rgb(36,36,36)\",\"ticks\":\"outside\"}},\"type\":\"scattermapbox\"}],\"scatterpolargl\":[{\"marker\":{\"colorbar\":{\"outlinewidth\":1,\"tickcolor\":\"rgb(36,36,36)\",\"ticks\":\"outside\"}},\"type\":\"scatterpolargl\"}],\"scatterpolar\":[{\"marker\":{\"colorbar\":{\"outlinewidth\":1,\"tickcolor\":\"rgb(36,36,36)\",\"ticks\":\"outside\"}},\"type\":\"scatterpolar\"}],\"scatter\":[{\"fillpattern\":{\"fillmode\":\"overlay\",\"size\":10,\"solidity\":0.2},\"type\":\"scatter\"}],\"scatterternary\":[{\"marker\":{\"colorbar\":{\"outlinewidth\":1,\"tickcolor\":\"rgb(36,36,36)\",\"ticks\":\"outside\"}},\"type\":\"scatterternary\"}],\"surface\":[{\"colorbar\":{\"outlinewidth\":1,\"tickcolor\":\"rgb(36,36,36)\",\"ticks\":\"outside\"},\"colorscale\":[[0.0,\"#440154\"],[0.1111111111111111,\"#482878\"],[0.2222222222222222,\"#3e4989\"],[0.3333333333333333,\"#31688e\"],[0.4444444444444444,\"#26828e\"],[0.5555555555555556,\"#1f9e89\"],[0.6666666666666666,\"#35b779\"],[0.7777777777777778,\"#6ece58\"],[0.8888888888888888,\"#b5de2b\"],[1.0,\"#fde725\"]],\"type\":\"surface\"}],\"table\":[{\"cells\":{\"fill\":{\"color\":\"rgb(237,237,237)\"},\"line\":{\"color\":\"white\"}},\"header\":{\"fill\":{\"color\":\"rgb(217,217,217)\"},\"line\":{\"color\":\"white\"}},\"type\":\"table\"}]},\"layout\":{\"annotationdefaults\":{\"arrowhead\":0,\"arrowwidth\":1},\"autotypenumbers\":\"strict\",\"coloraxis\":{\"colorbar\":{\"outlinewidth\":1,\"tickcolor\":\"rgb(36,36,36)\",\"ticks\":\"outside\"}},\"colorscale\":{\"diverging\":[[0.0,\"rgb(103,0,31)\"],[0.1,\"rgb(178,24,43)\"],[0.2,\"rgb(214,96,77)\"],[0.3,\"rgb(244,165,130)\"],[0.4,\"rgb(253,219,199)\"],[0.5,\"rgb(247,247,247)\"],[0.6,\"rgb(209,229,240)\"],[0.7,\"rgb(146,197,222)\"],[0.8,\"rgb(67,147,195)\"],[0.9,\"rgb(33,102,172)\"],[1.0,\"rgb(5,48,97)\"]],\"sequential\":[[0.0,\"#440154\"],[0.1111111111111111,\"#482878\"],[0.2222222222222222,\"#3e4989\"],[0.3333333333333333,\"#31688e\"],[0.4444444444444444,\"#26828e\"],[0.5555555555555556,\"#1f9e89\"],[0.6666666666666666,\"#35b779\"],[0.7777777777777778,\"#6ece58\"],[0.8888888888888888,\"#b5de2b\"],[1.0,\"#fde725\"]],\"sequentialminus\":[[0.0,\"#440154\"],[0.1111111111111111,\"#482878\"],[0.2222222222222222,\"#3e4989\"],[0.3333333333333333,\"#31688e\"],[0.4444444444444444,\"#26828e\"],[0.5555555555555556,\"#1f9e89\"],[0.6666666666666666,\"#35b779\"],[0.7777777777777778,\"#6ece58\"],[0.8888888888888888,\"#b5de2b\"],[1.0,\"#fde725\"]]},\"colorway\":[\"#1F77B4\",\"#FF7F0E\",\"#2CA02C\",\"#D62728\",\"#9467BD\",\"#8C564B\",\"#E377C2\",\"#7F7F7F\",\"#BCBD22\",\"#17BECF\"],\"font\":{\"color\":\"rgb(36,36,36)\"},\"geo\":{\"bgcolor\":\"white\",\"lakecolor\":\"white\",\"landcolor\":\"white\",\"showlakes\":true,\"showland\":true,\"subunitcolor\":\"white\"},\"hoverlabel\":{\"align\":\"left\"},\"hovermode\":\"closest\",\"mapbox\":{\"style\":\"light\"},\"paper_bgcolor\":\"white\",\"plot_bgcolor\":\"white\",\"polar\":{\"angularaxis\":{\"gridcolor\":\"rgb(232,232,232)\",\"linecolor\":\"rgb(36,36,36)\",\"showgrid\":false,\"showline\":true,\"ticks\":\"outside\"},\"bgcolor\":\"white\",\"radialaxis\":{\"gridcolor\":\"rgb(232,232,232)\",\"linecolor\":\"rgb(36,36,36)\",\"showgrid\":false,\"showline\":true,\"ticks\":\"outside\"}},\"scene\":{\"xaxis\":{\"backgroundcolor\":\"white\",\"gridcolor\":\"rgb(232,232,232)\",\"gridwidth\":2,\"linecolor\":\"rgb(36,36,36)\",\"showbackground\":true,\"showgrid\":false,\"showline\":true,\"ticks\":\"outside\",\"zeroline\":false,\"zerolinecolor\":\"rgb(36,36,36)\"},\"yaxis\":{\"backgroundcolor\":\"white\",\"gridcolor\":\"rgb(232,232,232)\",\"gridwidth\":2,\"linecolor\":\"rgb(36,36,36)\",\"showbackground\":true,\"showgrid\":false,\"showline\":true,\"ticks\":\"outside\",\"zeroline\":false,\"zerolinecolor\":\"rgb(36,36,36)\"},\"zaxis\":{\"backgroundcolor\":\"white\",\"gridcolor\":\"rgb(232,232,232)\",\"gridwidth\":2,\"linecolor\":\"rgb(36,36,36)\",\"showbackground\":true,\"showgrid\":false,\"showline\":true,\"ticks\":\"outside\",\"zeroline\":false,\"zerolinecolor\":\"rgb(36,36,36)\"}},\"shapedefaults\":{\"fillcolor\":\"black\",\"line\":{\"width\":0},\"opacity\":0.3},\"ternary\":{\"aaxis\":{\"gridcolor\":\"rgb(232,232,232)\",\"linecolor\":\"rgb(36,36,36)\",\"showgrid\":false,\"showline\":true,\"ticks\":\"outside\"},\"baxis\":{\"gridcolor\":\"rgb(232,232,232)\",\"linecolor\":\"rgb(36,36,36)\",\"showgrid\":false,\"showline\":true,\"ticks\":\"outside\"},\"bgcolor\":\"white\",\"caxis\":{\"gridcolor\":\"rgb(232,232,232)\",\"linecolor\":\"rgb(36,36,36)\",\"showgrid\":false,\"showline\":true,\"ticks\":\"outside\"}},\"title\":{\"x\":0.05},\"xaxis\":{\"automargin\":true,\"gridcolor\":\"rgb(232,232,232)\",\"linecolor\":\"rgb(36,36,36)\",\"showgrid\":false,\"showline\":true,\"ticks\":\"outside\",\"title\":{\"standoff\":15},\"zeroline\":false,\"zerolinecolor\":\"rgb(36,36,36)\"},\"yaxis\":{\"automargin\":true,\"gridcolor\":\"rgb(232,232,232)\",\"linecolor\":\"rgb(36,36,36)\",\"showgrid\":false,\"showline\":true,\"ticks\":\"outside\",\"title\":{\"standoff\":15},\"zeroline\":false,\"zerolinecolor\":\"rgb(36,36,36)\"}}},\"xaxis\":{\"anchor\":\"y\",\"domain\":[0.0,1.0],\"title\":{\"text\":\"Number of points\",\"font\":{\"family\":\"Microsoft Tai Le\"}},\"tickfont\":{\"family\":\"Microsoft Tai Le\"},\"color\":\"black\"},\"yaxis\":{\"anchor\":\"x\",\"domain\":[0.0,1.0],\"title\":{\"text\":\"\",\"font\":{\"family\":\"Microsoft Tai Le\"}},\"tickfont\":{\"family\":\"Microsoft Tai Le\"},\"color\":\"black\"},\"legend\":{\"title\":{\"text\":\"Squad\"},\"tracegroupgap\":0},\"title\":{\"text\":\"Best squad in termes of number of points\",\"font\":{\"size\":30,\"family\":\"Impact\",\"color\":\"black\"},\"y\":0.9},\"barmode\":\"relative\",\"margin\":{\"l\":10},\"height\":400,\"showlegend\":false},                        {\"responsive\": true}                    ).then(function(){\n",
       "                            \n",
       "var gd = document.getElementById('6161f4e7-a585-497a-8332-465b967dd223');\n",
       "var x = new MutationObserver(function (mutations, observer) {{\n",
       "        var display = window.getComputedStyle(gd).display;\n",
       "        if (!display || display === 'none') {{\n",
       "            console.log([gd, 'removed!']);\n",
       "            Plotly.purge(gd);\n",
       "            observer.disconnect();\n",
       "        }}\n",
       "}});\n",
       "\n",
       "// Listen for the removal of the full notebook cells\n",
       "var notebookContainer = gd.closest('#notebook-container');\n",
       "if (notebookContainer) {{\n",
       "    x.observe(notebookContainer, {childList: true});\n",
       "}}\n",
       "\n",
       "// Listen for the clearing of the current output cell\n",
       "var outputEl = gd.closest('.output');\n",
       "if (outputEl) {{\n",
       "    x.observe(outputEl, {childList: true});\n",
       "}}\n",
       "\n",
       "                        })                };                });            </script>        </div>"
      ]
     },
     "metadata": {},
     "output_type": "display_data"
    }
   ],
   "source": [
    "#Gráfico de barras horizontales para visualizar los mejores equipos en términos de puntos \n",
    "\n",
    "gist_pal = get_color(\"gist_earth_r\", len(squad_pts))\n",
    "fig = px.bar(squad_pts.sort_values(by=\"Pts\"), x='Pts', y=\"Squad_country\", orientation='h', \n",
    "             color=\"Squad\", color_discrete_sequence=gist_pal,\n",
    "             template=\"simple_white\", \n",
    "             text_auto=True,\n",
    "             title='Best squad in termes of number of points'\n",
    "            )\n",
    "fig.update_layout(title={'y':0.9},\n",
    "                  title_font_size=30, \n",
    "                  title_font_family=\"Impact\",\n",
    "                  title_font_color='black',\n",
    "                  height=400,\n",
    "                  showlegend=False,\n",
    "                  margin=dict(l=10)\n",
    "                 )\n",
    "fig.update_xaxes(title='Number of points',\n",
    "                color='black', \n",
    "                tickfont_family='Microsoft Tai Le', \n",
    "                titlefont_family='Microsoft Tai Le')\n",
    "fig.update_yaxes(title='',\n",
    "                color='black', \n",
    "                tickfont_family='Microsoft Tai Le', \n",
    "                titlefont_family='Microsoft Tai Le')\n",
    "fig.update_traces(textposition='outside')\n"
   ]
  },
  {
   "cell_type": "markdown",
   "id": "f058e89c",
   "metadata": {},
   "source": [
    "Ahora se visualizaran los mejores equipos goleadores de europa"
   ]
  },
  {
   "cell_type": "code",
   "execution_count": 20,
   "id": "ce329ecd",
   "metadata": {},
   "outputs": [],
   "source": [
    "#Dataframe del mejor goleador del equipo\n",
    "\n",
    "best_scorer = data[[\"Squad\", \"Country\", \"Top Team Scorer\", \"TTS Goals\"]]\\\n",
    "                            .groupby([\"Top Team Scorer\", \"Squad\", \"Country\"])\\\n",
    "                                .agg(lambda x: x)\\\n",
    ".reset_index().sort_values(by=\"TTS Goals\", ascending=False)\n",
    "\n",
    "#Crear una etiqueta para agrupar el equipo del mejor goleador y el pais \n",
    "\n",
    "best_scorer[\"TTS Squad and Country\"] = best_scorer[[\"Top Team Scorer\", \"Squad\", \"Country\"]].agg(\" - \".join, axis=1)\n",
    "best_scorer = best_scorer[:15]"
   ]
  },
  {
   "cell_type": "code",
   "execution_count": 21,
   "id": "bc394f96",
   "metadata": {},
   "outputs": [
    {
     "data": {
      "application/vnd.plotly.v1+json": {
       "config": {
        "plotlyServerURL": "https://plot.ly"
       },
       "data": [
        {
         "alignmentgroup": "True",
         "hovertemplate": "TTS Squad and Country=%{y}<br>TTS Goals=%{x}<extra></extra>",
         "legendgroup": "Robert Lewandowski - Bayern Munich - GER",
         "marker": {
          "color": "#0e0e13",
          "pattern": {
           "shape": ""
          }
         },
         "name": "Robert Lewandowski - Bayern Munich - GER",
         "offsetgroup": "Robert Lewandowski - Bayern Munich - GER",
         "orientation": "h",
         "showlegend": true,
         "textposition": "outside",
         "texttemplate": "%{x}",
         "type": "bar",
         "x": [
          35
         ],
         "xaxis": "x",
         "y": [
          "Robert Lewandowski - Bayern Munich - GER"
         ],
         "yaxis": "y"
        },
        {
         "alignmentgroup": "True",
         "hovertemplate": "TTS Squad and Country=%{y}<br>TTS Goals=%{x}<extra></extra>",
         "legendgroup": "Kylian Mbappé - Paris S-G - FRA",
         "marker": {
          "color": "#1c1c27",
          "pattern": {
           "shape": ""
          }
         },
         "name": "Kylian Mbappé - Paris S-G - FRA",
         "offsetgroup": "Kylian Mbappé - Paris S-G - FRA",
         "orientation": "h",
         "showlegend": true,
         "textposition": "outside",
         "texttemplate": "%{x}",
         "type": "bar",
         "x": [
          28
         ],
         "xaxis": "x",
         "y": [
          "Kylian Mbappé - Paris S-G - FRA"
         ],
         "yaxis": "y"
        },
        {
         "alignmentgroup": "True",
         "hovertemplate": "TTS Squad and Country=%{y}<br>TTS Goals=%{x}<extra></extra>",
         "legendgroup": "Ciro Immobile - Lazio - ITA",
         "marker": {
          "color": "#2a2a3a",
          "pattern": {
           "shape": ""
          }
         },
         "name": "Ciro Immobile - Lazio - ITA",
         "offsetgroup": "Ciro Immobile - Lazio - ITA",
         "orientation": "h",
         "showlegend": true,
         "textposition": "outside",
         "texttemplate": "%{x}",
         "type": "bar",
         "x": [
          27
         ],
         "xaxis": "x",
         "y": [
          "Ciro Immobile - Lazio - ITA"
         ],
         "yaxis": "y"
        },
        {
         "alignmentgroup": "True",
         "hovertemplate": "TTS Squad and Country=%{y}<br>TTS Goals=%{x}<extra></extra>",
         "legendgroup": "Karim Benzema - Real Madrid - ESP",
         "marker": {
          "color": "#38384e",
          "pattern": {
           "shape": ""
          }
         },
         "name": "Karim Benzema - Real Madrid - ESP",
         "offsetgroup": "Karim Benzema - Real Madrid - ESP",
         "orientation": "h",
         "showlegend": true,
         "textposition": "outside",
         "texttemplate": "%{x}",
         "type": "bar",
         "x": [
          27
         ],
         "xaxis": "x",
         "y": [
          "Karim Benzema - Real Madrid - ESP"
         ],
         "yaxis": "y"
        },
        {
         "alignmentgroup": "True",
         "hovertemplate": "TTS Squad and Country=%{y}<br>TTS Goals=%{x}<extra></extra>",
         "legendgroup": "Wissam Ben Yedder - Monaco - FRA",
         "marker": {
          "color": "#464661",
          "pattern": {
           "shape": ""
          }
         },
         "name": "Wissam Ben Yedder - Monaco - FRA",
         "offsetgroup": "Wissam Ben Yedder - Monaco - FRA",
         "orientation": "h",
         "showlegend": true,
         "textposition": "outside",
         "texttemplate": "%{x}",
         "type": "bar",
         "x": [
          25
         ],
         "xaxis": "x",
         "y": [
          "Wissam Ben Yedder - Monaco - FRA"
         ],
         "yaxis": "y"
        },
        {
         "alignmentgroup": "True",
         "hovertemplate": "TTS Squad and Country=%{y}<br>TTS Goals=%{x}<extra></extra>",
         "legendgroup": "Patrik Schick - Leverkusen - GER",
         "marker": {
          "color": "#545574",
          "pattern": {
           "shape": ""
          }
         },
         "name": "Patrik Schick - Leverkusen - GER",
         "offsetgroup": "Patrik Schick - Leverkusen - GER",
         "orientation": "h",
         "showlegend": true,
         "textposition": "outside",
         "texttemplate": "%{x}",
         "type": "bar",
         "x": [
          24
         ],
         "xaxis": "x",
         "y": [
          "Patrik Schick - Leverkusen - GER"
         ],
         "yaxis": "y"
        },
        {
         "alignmentgroup": "True",
         "hovertemplate": "TTS Squad and Country=%{y}<br>TTS Goals=%{x}<extra></extra>",
         "legendgroup": "Mohamed Salah - Liverpool - ENG",
         "marker": {
          "color": "#626882",
          "pattern": {
           "shape": ""
          }
         },
         "name": "Mohamed Salah - Liverpool - ENG",
         "offsetgroup": "Mohamed Salah - Liverpool - ENG",
         "orientation": "h",
         "showlegend": true,
         "textposition": "outside",
         "texttemplate": "%{x}",
         "type": "bar",
         "x": [
          23
         ],
         "xaxis": "x",
         "y": [
          "Mohamed Salah - Liverpool - ENG"
         ],
         "yaxis": "y"
        },
        {
         "alignmentgroup": "True",
         "hovertemplate": "TTS Squad and Country=%{y}<br>TTS Goals=%{x}<extra></extra>",
         "legendgroup": "Son Heung min - Tottenham - ENG",
         "marker": {
          "color": "#707b90",
          "pattern": {
           "shape": ""
          }
         },
         "name": "Son Heung min - Tottenham - ENG",
         "offsetgroup": "Son Heung min - Tottenham - ENG",
         "orientation": "h",
         "showlegend": true,
         "textposition": "outside",
         "texttemplate": "%{x}",
         "type": "bar",
         "x": [
          23
         ],
         "xaxis": "x",
         "y": [
          "Son Heung min - Tottenham - ENG"
         ],
         "yaxis": "y"
        },
        {
         "alignmentgroup": "True",
         "hovertemplate": "TTS Squad and Country=%{y}<br>TTS Goals=%{x}<extra></extra>",
         "legendgroup": "Erling Haaland - Dortmund - GER",
         "marker": {
          "color": "#7e8f9e",
          "pattern": {
           "shape": ""
          }
         },
         "name": "Erling Haaland - Dortmund - GER",
         "offsetgroup": "Erling Haaland - Dortmund - GER",
         "orientation": "h",
         "showlegend": true,
         "textposition": "outside",
         "texttemplate": "%{x}",
         "type": "bar",
         "x": [
          22
         ],
         "xaxis": "x",
         "y": [
          "Erling Haaland - Dortmund - GER"
         ],
         "yaxis": "y"
        },
        {
         "alignmentgroup": "True",
         "hovertemplate": "TTS Squad and Country=%{y}<br>TTS Goals=%{x}<extra></extra>",
         "legendgroup": "Moussa Dembélé - Lyon - FRA",
         "marker": {
          "color": "#8ca2ac",
          "pattern": {
           "shape": ""
          }
         },
         "name": "Moussa Dembélé - Lyon - FRA",
         "offsetgroup": "Moussa Dembélé - Lyon - FRA",
         "orientation": "h",
         "showlegend": true,
         "textposition": "outside",
         "texttemplate": "%{x}",
         "type": "bar",
         "x": [
          21
         ],
         "xaxis": "x",
         "y": [
          "Moussa Dembélé - Lyon - FRA"
         ],
         "yaxis": "y"
        },
        {
         "alignmentgroup": "True",
         "hovertemplate": "TTS Squad and Country=%{y}<br>TTS Goals=%{x}<extra></extra>",
         "legendgroup": "Lautaro Martínez - Inter - ITA",
         "marker": {
          "color": "#9ab5ba",
          "pattern": {
           "shape": ""
          }
         },
         "name": "Lautaro Martínez - Inter - ITA",
         "offsetgroup": "Lautaro Martínez - Inter - ITA",
         "orientation": "h",
         "showlegend": true,
         "textposition": "outside",
         "texttemplate": "%{x}",
         "type": "bar",
         "x": [
          21
         ],
         "xaxis": "x",
         "y": [
          "Lautaro Martínez - Inter - ITA"
         ],
         "yaxis": "y"
        },
        {
         "alignmentgroup": "True",
         "hovertemplate": "TTS Squad and Country=%{y}<br>TTS Goals=%{x}<extra></extra>",
         "legendgroup": "Martin Terrier - Rennes - FRA",
         "marker": {
          "color": "#a9c8c8",
          "pattern": {
           "shape": ""
          }
         },
         "name": "Martin Terrier - Rennes - FRA",
         "offsetgroup": "Martin Terrier - Rennes - FRA",
         "orientation": "h",
         "showlegend": true,
         "textposition": "outside",
         "texttemplate": "%{x}",
         "type": "bar",
         "x": [
          21
         ],
         "xaxis": "x",
         "y": [
          "Martin Terrier - Rennes - FRA"
         ],
         "yaxis": "y"
        },
        {
         "alignmentgroup": "True",
         "hovertemplate": "TTS Squad and Country=%{y}<br>TTS Goals=%{x}<extra></extra>",
         "legendgroup": "Christopher Nkunku - RB Leipzig - GER",
         "marker": {
          "color": "#bfd6d6",
          "pattern": {
           "shape": ""
          }
         },
         "name": "Christopher Nkunku - RB Leipzig - GER",
         "offsetgroup": "Christopher Nkunku - RB Leipzig - GER",
         "orientation": "h",
         "showlegend": true,
         "textposition": "outside",
         "texttemplate": "%{x}",
         "type": "bar",
         "x": [
          20
         ],
         "xaxis": "x",
         "y": [
          "Christopher Nkunku - RB Leipzig - GER"
         ],
         "yaxis": "y"
        },
        {
         "alignmentgroup": "True",
         "hovertemplate": "TTS Squad and Country=%{y}<br>TTS Goals=%{x}<extra></extra>",
         "legendgroup": "Anthony Modeste - Köln - GER",
         "marker": {
          "color": "#d5e4e4",
          "pattern": {
           "shape": ""
          }
         },
         "name": "Anthony Modeste - Köln - GER",
         "offsetgroup": "Anthony Modeste - Köln - GER",
         "orientation": "h",
         "showlegend": true,
         "textposition": "outside",
         "texttemplate": "%{x}",
         "type": "bar",
         "x": [
          20
         ],
         "xaxis": "x",
         "y": [
          "Anthony Modeste - Köln - GER"
         ],
         "yaxis": "y"
        },
        {
         "alignmentgroup": "True",
         "hovertemplate": "TTS Squad and Country=%{y}<br>TTS Goals=%{x}<extra></extra>",
         "legendgroup": "Cristiano Ronaldo - Manchester Utd - ENG",
         "marker": {
          "color": "#eaf2f2",
          "pattern": {
           "shape": ""
          }
         },
         "name": "Cristiano Ronaldo - Manchester Utd - ENG",
         "offsetgroup": "Cristiano Ronaldo - Manchester Utd - ENG",
         "orientation": "h",
         "showlegend": true,
         "textposition": "outside",
         "texttemplate": "%{x}",
         "type": "bar",
         "x": [
          18
         ],
         "xaxis": "x",
         "y": [
          "Cristiano Ronaldo - Manchester Utd - ENG"
         ],
         "yaxis": "y"
        }
       ],
       "layout": {
        "barmode": "relative",
        "height": 400,
        "legend": {
         "title": {
          "text": "TTS Squad and Country"
         },
         "tracegroupgap": 0
        },
        "showlegend": false,
        "template": {
         "data": {
          "bar": [
           {
            "error_x": {
             "color": "rgb(36,36,36)"
            },
            "error_y": {
             "color": "rgb(36,36,36)"
            },
            "marker": {
             "line": {
              "color": "white",
              "width": 0.5
             },
             "pattern": {
              "fillmode": "overlay",
              "size": 10,
              "solidity": 0.2
             }
            },
            "type": "bar"
           }
          ],
          "barpolar": [
           {
            "marker": {
             "line": {
              "color": "white",
              "width": 0.5
             },
             "pattern": {
              "fillmode": "overlay",
              "size": 10,
              "solidity": 0.2
             }
            },
            "type": "barpolar"
           }
          ],
          "carpet": [
           {
            "aaxis": {
             "endlinecolor": "rgb(36,36,36)",
             "gridcolor": "white",
             "linecolor": "white",
             "minorgridcolor": "white",
             "startlinecolor": "rgb(36,36,36)"
            },
            "baxis": {
             "endlinecolor": "rgb(36,36,36)",
             "gridcolor": "white",
             "linecolor": "white",
             "minorgridcolor": "white",
             "startlinecolor": "rgb(36,36,36)"
            },
            "type": "carpet"
           }
          ],
          "choropleth": [
           {
            "colorbar": {
             "outlinewidth": 1,
             "tickcolor": "rgb(36,36,36)",
             "ticks": "outside"
            },
            "type": "choropleth"
           }
          ],
          "contour": [
           {
            "colorbar": {
             "outlinewidth": 1,
             "tickcolor": "rgb(36,36,36)",
             "ticks": "outside"
            },
            "colorscale": [
             [
              0,
              "#440154"
             ],
             [
              0.1111111111111111,
              "#482878"
             ],
             [
              0.2222222222222222,
              "#3e4989"
             ],
             [
              0.3333333333333333,
              "#31688e"
             ],
             [
              0.4444444444444444,
              "#26828e"
             ],
             [
              0.5555555555555556,
              "#1f9e89"
             ],
             [
              0.6666666666666666,
              "#35b779"
             ],
             [
              0.7777777777777778,
              "#6ece58"
             ],
             [
              0.8888888888888888,
              "#b5de2b"
             ],
             [
              1,
              "#fde725"
             ]
            ],
            "type": "contour"
           }
          ],
          "contourcarpet": [
           {
            "colorbar": {
             "outlinewidth": 1,
             "tickcolor": "rgb(36,36,36)",
             "ticks": "outside"
            },
            "type": "contourcarpet"
           }
          ],
          "heatmap": [
           {
            "colorbar": {
             "outlinewidth": 1,
             "tickcolor": "rgb(36,36,36)",
             "ticks": "outside"
            },
            "colorscale": [
             [
              0,
              "#440154"
             ],
             [
              0.1111111111111111,
              "#482878"
             ],
             [
              0.2222222222222222,
              "#3e4989"
             ],
             [
              0.3333333333333333,
              "#31688e"
             ],
             [
              0.4444444444444444,
              "#26828e"
             ],
             [
              0.5555555555555556,
              "#1f9e89"
             ],
             [
              0.6666666666666666,
              "#35b779"
             ],
             [
              0.7777777777777778,
              "#6ece58"
             ],
             [
              0.8888888888888888,
              "#b5de2b"
             ],
             [
              1,
              "#fde725"
             ]
            ],
            "type": "heatmap"
           }
          ],
          "heatmapgl": [
           {
            "colorbar": {
             "outlinewidth": 1,
             "tickcolor": "rgb(36,36,36)",
             "ticks": "outside"
            },
            "colorscale": [
             [
              0,
              "#440154"
             ],
             [
              0.1111111111111111,
              "#482878"
             ],
             [
              0.2222222222222222,
              "#3e4989"
             ],
             [
              0.3333333333333333,
              "#31688e"
             ],
             [
              0.4444444444444444,
              "#26828e"
             ],
             [
              0.5555555555555556,
              "#1f9e89"
             ],
             [
              0.6666666666666666,
              "#35b779"
             ],
             [
              0.7777777777777778,
              "#6ece58"
             ],
             [
              0.8888888888888888,
              "#b5de2b"
             ],
             [
              1,
              "#fde725"
             ]
            ],
            "type": "heatmapgl"
           }
          ],
          "histogram": [
           {
            "marker": {
             "line": {
              "color": "white",
              "width": 0.6
             }
            },
            "type": "histogram"
           }
          ],
          "histogram2d": [
           {
            "colorbar": {
             "outlinewidth": 1,
             "tickcolor": "rgb(36,36,36)",
             "ticks": "outside"
            },
            "colorscale": [
             [
              0,
              "#440154"
             ],
             [
              0.1111111111111111,
              "#482878"
             ],
             [
              0.2222222222222222,
              "#3e4989"
             ],
             [
              0.3333333333333333,
              "#31688e"
             ],
             [
              0.4444444444444444,
              "#26828e"
             ],
             [
              0.5555555555555556,
              "#1f9e89"
             ],
             [
              0.6666666666666666,
              "#35b779"
             ],
             [
              0.7777777777777778,
              "#6ece58"
             ],
             [
              0.8888888888888888,
              "#b5de2b"
             ],
             [
              1,
              "#fde725"
             ]
            ],
            "type": "histogram2d"
           }
          ],
          "histogram2dcontour": [
           {
            "colorbar": {
             "outlinewidth": 1,
             "tickcolor": "rgb(36,36,36)",
             "ticks": "outside"
            },
            "colorscale": [
             [
              0,
              "#440154"
             ],
             [
              0.1111111111111111,
              "#482878"
             ],
             [
              0.2222222222222222,
              "#3e4989"
             ],
             [
              0.3333333333333333,
              "#31688e"
             ],
             [
              0.4444444444444444,
              "#26828e"
             ],
             [
              0.5555555555555556,
              "#1f9e89"
             ],
             [
              0.6666666666666666,
              "#35b779"
             ],
             [
              0.7777777777777778,
              "#6ece58"
             ],
             [
              0.8888888888888888,
              "#b5de2b"
             ],
             [
              1,
              "#fde725"
             ]
            ],
            "type": "histogram2dcontour"
           }
          ],
          "mesh3d": [
           {
            "colorbar": {
             "outlinewidth": 1,
             "tickcolor": "rgb(36,36,36)",
             "ticks": "outside"
            },
            "type": "mesh3d"
           }
          ],
          "parcoords": [
           {
            "line": {
             "colorbar": {
              "outlinewidth": 1,
              "tickcolor": "rgb(36,36,36)",
              "ticks": "outside"
             }
            },
            "type": "parcoords"
           }
          ],
          "pie": [
           {
            "automargin": true,
            "type": "pie"
           }
          ],
          "scatter": [
           {
            "fillpattern": {
             "fillmode": "overlay",
             "size": 10,
             "solidity": 0.2
            },
            "type": "scatter"
           }
          ],
          "scatter3d": [
           {
            "line": {
             "colorbar": {
              "outlinewidth": 1,
              "tickcolor": "rgb(36,36,36)",
              "ticks": "outside"
             }
            },
            "marker": {
             "colorbar": {
              "outlinewidth": 1,
              "tickcolor": "rgb(36,36,36)",
              "ticks": "outside"
             }
            },
            "type": "scatter3d"
           }
          ],
          "scattercarpet": [
           {
            "marker": {
             "colorbar": {
              "outlinewidth": 1,
              "tickcolor": "rgb(36,36,36)",
              "ticks": "outside"
             }
            },
            "type": "scattercarpet"
           }
          ],
          "scattergeo": [
           {
            "marker": {
             "colorbar": {
              "outlinewidth": 1,
              "tickcolor": "rgb(36,36,36)",
              "ticks": "outside"
             }
            },
            "type": "scattergeo"
           }
          ],
          "scattergl": [
           {
            "marker": {
             "colorbar": {
              "outlinewidth": 1,
              "tickcolor": "rgb(36,36,36)",
              "ticks": "outside"
             }
            },
            "type": "scattergl"
           }
          ],
          "scattermapbox": [
           {
            "marker": {
             "colorbar": {
              "outlinewidth": 1,
              "tickcolor": "rgb(36,36,36)",
              "ticks": "outside"
             }
            },
            "type": "scattermapbox"
           }
          ],
          "scatterpolar": [
           {
            "marker": {
             "colorbar": {
              "outlinewidth": 1,
              "tickcolor": "rgb(36,36,36)",
              "ticks": "outside"
             }
            },
            "type": "scatterpolar"
           }
          ],
          "scatterpolargl": [
           {
            "marker": {
             "colorbar": {
              "outlinewidth": 1,
              "tickcolor": "rgb(36,36,36)",
              "ticks": "outside"
             }
            },
            "type": "scatterpolargl"
           }
          ],
          "scatterternary": [
           {
            "marker": {
             "colorbar": {
              "outlinewidth": 1,
              "tickcolor": "rgb(36,36,36)",
              "ticks": "outside"
             }
            },
            "type": "scatterternary"
           }
          ],
          "surface": [
           {
            "colorbar": {
             "outlinewidth": 1,
             "tickcolor": "rgb(36,36,36)",
             "ticks": "outside"
            },
            "colorscale": [
             [
              0,
              "#440154"
             ],
             [
              0.1111111111111111,
              "#482878"
             ],
             [
              0.2222222222222222,
              "#3e4989"
             ],
             [
              0.3333333333333333,
              "#31688e"
             ],
             [
              0.4444444444444444,
              "#26828e"
             ],
             [
              0.5555555555555556,
              "#1f9e89"
             ],
             [
              0.6666666666666666,
              "#35b779"
             ],
             [
              0.7777777777777778,
              "#6ece58"
             ],
             [
              0.8888888888888888,
              "#b5de2b"
             ],
             [
              1,
              "#fde725"
             ]
            ],
            "type": "surface"
           }
          ],
          "table": [
           {
            "cells": {
             "fill": {
              "color": "rgb(237,237,237)"
             },
             "line": {
              "color": "white"
             }
            },
            "header": {
             "fill": {
              "color": "rgb(217,217,217)"
             },
             "line": {
              "color": "white"
             }
            },
            "type": "table"
           }
          ]
         },
         "layout": {
          "annotationdefaults": {
           "arrowhead": 0,
           "arrowwidth": 1
          },
          "autotypenumbers": "strict",
          "coloraxis": {
           "colorbar": {
            "outlinewidth": 1,
            "tickcolor": "rgb(36,36,36)",
            "ticks": "outside"
           }
          },
          "colorscale": {
           "diverging": [
            [
             0,
             "rgb(103,0,31)"
            ],
            [
             0.1,
             "rgb(178,24,43)"
            ],
            [
             0.2,
             "rgb(214,96,77)"
            ],
            [
             0.3,
             "rgb(244,165,130)"
            ],
            [
             0.4,
             "rgb(253,219,199)"
            ],
            [
             0.5,
             "rgb(247,247,247)"
            ],
            [
             0.6,
             "rgb(209,229,240)"
            ],
            [
             0.7,
             "rgb(146,197,222)"
            ],
            [
             0.8,
             "rgb(67,147,195)"
            ],
            [
             0.9,
             "rgb(33,102,172)"
            ],
            [
             1,
             "rgb(5,48,97)"
            ]
           ],
           "sequential": [
            [
             0,
             "#440154"
            ],
            [
             0.1111111111111111,
             "#482878"
            ],
            [
             0.2222222222222222,
             "#3e4989"
            ],
            [
             0.3333333333333333,
             "#31688e"
            ],
            [
             0.4444444444444444,
             "#26828e"
            ],
            [
             0.5555555555555556,
             "#1f9e89"
            ],
            [
             0.6666666666666666,
             "#35b779"
            ],
            [
             0.7777777777777778,
             "#6ece58"
            ],
            [
             0.8888888888888888,
             "#b5de2b"
            ],
            [
             1,
             "#fde725"
            ]
           ],
           "sequentialminus": [
            [
             0,
             "#440154"
            ],
            [
             0.1111111111111111,
             "#482878"
            ],
            [
             0.2222222222222222,
             "#3e4989"
            ],
            [
             0.3333333333333333,
             "#31688e"
            ],
            [
             0.4444444444444444,
             "#26828e"
            ],
            [
             0.5555555555555556,
             "#1f9e89"
            ],
            [
             0.6666666666666666,
             "#35b779"
            ],
            [
             0.7777777777777778,
             "#6ece58"
            ],
            [
             0.8888888888888888,
             "#b5de2b"
            ],
            [
             1,
             "#fde725"
            ]
           ]
          },
          "colorway": [
           "#1F77B4",
           "#FF7F0E",
           "#2CA02C",
           "#D62728",
           "#9467BD",
           "#8C564B",
           "#E377C2",
           "#7F7F7F",
           "#BCBD22",
           "#17BECF"
          ],
          "font": {
           "color": "rgb(36,36,36)"
          },
          "geo": {
           "bgcolor": "white",
           "lakecolor": "white",
           "landcolor": "white",
           "showlakes": true,
           "showland": true,
           "subunitcolor": "white"
          },
          "hoverlabel": {
           "align": "left"
          },
          "hovermode": "closest",
          "mapbox": {
           "style": "light"
          },
          "paper_bgcolor": "white",
          "plot_bgcolor": "white",
          "polar": {
           "angularaxis": {
            "gridcolor": "rgb(232,232,232)",
            "linecolor": "rgb(36,36,36)",
            "showgrid": false,
            "showline": true,
            "ticks": "outside"
           },
           "bgcolor": "white",
           "radialaxis": {
            "gridcolor": "rgb(232,232,232)",
            "linecolor": "rgb(36,36,36)",
            "showgrid": false,
            "showline": true,
            "ticks": "outside"
           }
          },
          "scene": {
           "xaxis": {
            "backgroundcolor": "white",
            "gridcolor": "rgb(232,232,232)",
            "gridwidth": 2,
            "linecolor": "rgb(36,36,36)",
            "showbackground": true,
            "showgrid": false,
            "showline": true,
            "ticks": "outside",
            "zeroline": false,
            "zerolinecolor": "rgb(36,36,36)"
           },
           "yaxis": {
            "backgroundcolor": "white",
            "gridcolor": "rgb(232,232,232)",
            "gridwidth": 2,
            "linecolor": "rgb(36,36,36)",
            "showbackground": true,
            "showgrid": false,
            "showline": true,
            "ticks": "outside",
            "zeroline": false,
            "zerolinecolor": "rgb(36,36,36)"
           },
           "zaxis": {
            "backgroundcolor": "white",
            "gridcolor": "rgb(232,232,232)",
            "gridwidth": 2,
            "linecolor": "rgb(36,36,36)",
            "showbackground": true,
            "showgrid": false,
            "showline": true,
            "ticks": "outside",
            "zeroline": false,
            "zerolinecolor": "rgb(36,36,36)"
           }
          },
          "shapedefaults": {
           "fillcolor": "black",
           "line": {
            "width": 0
           },
           "opacity": 0.3
          },
          "ternary": {
           "aaxis": {
            "gridcolor": "rgb(232,232,232)",
            "linecolor": "rgb(36,36,36)",
            "showgrid": false,
            "showline": true,
            "ticks": "outside"
           },
           "baxis": {
            "gridcolor": "rgb(232,232,232)",
            "linecolor": "rgb(36,36,36)",
            "showgrid": false,
            "showline": true,
            "ticks": "outside"
           },
           "bgcolor": "white",
           "caxis": {
            "gridcolor": "rgb(232,232,232)",
            "linecolor": "rgb(36,36,36)",
            "showgrid": false,
            "showline": true,
            "ticks": "outside"
           }
          },
          "title": {
           "x": 0.05
          },
          "xaxis": {
           "automargin": true,
           "gridcolor": "rgb(232,232,232)",
           "linecolor": "rgb(36,36,36)",
           "showgrid": false,
           "showline": true,
           "ticks": "outside",
           "title": {
            "standoff": 15
           },
           "zeroline": false,
           "zerolinecolor": "rgb(36,36,36)"
          },
          "yaxis": {
           "automargin": true,
           "gridcolor": "rgb(232,232,232)",
           "linecolor": "rgb(36,36,36)",
           "showgrid": false,
           "showline": true,
           "ticks": "outside",
           "title": {
            "standoff": 15
           },
           "zeroline": false,
           "zerolinecolor": "rgb(36,36,36)"
          }
         }
        },
        "title": {
         "font": {
          "color": "black",
          "family": "Impact",
          "size": 30
         },
         "text": "Top Team Scorer",
         "y": 0.9
        },
        "xaxis": {
         "anchor": "y",
         "domain": [
          0,
          1
         ],
         "tickfont": {
          "family": "Microsoft Tai Le"
         },
         "title": {
          "font": {
           "family": "Microsoft Tai Le"
          },
          "text": "Number of goals"
         }
        },
        "yaxis": {
         "anchor": "x",
         "categoryarray": [
          "Cristiano Ronaldo - Manchester Utd - ENG",
          "Anthony Modeste - Köln - GER",
          "Christopher Nkunku - RB Leipzig - GER",
          "Martin Terrier - Rennes - FRA",
          "Lautaro Martínez - Inter - ITA",
          "Moussa Dembélé - Lyon - FRA",
          "Erling Haaland - Dortmund - GER",
          "Son Heung min - Tottenham - ENG",
          "Mohamed Salah - Liverpool - ENG",
          "Patrik Schick - Leverkusen - GER",
          "Wissam Ben Yedder - Monaco - FRA",
          "Karim Benzema - Real Madrid - ESP",
          "Ciro Immobile - Lazio - ITA",
          "Kylian Mbappé - Paris S-G - FRA",
          "Robert Lewandowski - Bayern Munich - GER"
         ],
         "categoryorder": "array",
         "domain": [
          0,
          1
         ],
         "tickfont": {
          "family": "Microsoft Tai Le",
          "size": 12
         },
         "title": {
          "text": ""
         }
        }
       }
      },
      "text/html": [
       "<div>                            <div id=\"df44b064-1ef3-4deb-88c3-4eeb1ed351b6\" class=\"plotly-graph-div\" style=\"height:400px; width:100%;\"></div>            <script type=\"text/javascript\">                require([\"plotly\"], function(Plotly) {                    window.PLOTLYENV=window.PLOTLYENV || {};                                    if (document.getElementById(\"df44b064-1ef3-4deb-88c3-4eeb1ed351b6\")) {                    Plotly.newPlot(                        \"df44b064-1ef3-4deb-88c3-4eeb1ed351b6\",                        [{\"alignmentgroup\":\"True\",\"hovertemplate\":\"TTS Squad and Country=%{y}<br>TTS Goals=%{x}<extra></extra>\",\"legendgroup\":\"Robert Lewandowski - Bayern Munich - GER\",\"marker\":{\"color\":\"#0e0e13\",\"pattern\":{\"shape\":\"\"}},\"name\":\"Robert Lewandowski - Bayern Munich - GER\",\"offsetgroup\":\"Robert Lewandowski - Bayern Munich - GER\",\"orientation\":\"h\",\"showlegend\":true,\"textposition\":\"outside\",\"texttemplate\":\"%{x}\",\"x\":[35],\"xaxis\":\"x\",\"y\":[\"Robert Lewandowski - Bayern Munich - GER\"],\"yaxis\":\"y\",\"type\":\"bar\"},{\"alignmentgroup\":\"True\",\"hovertemplate\":\"TTS Squad and Country=%{y}<br>TTS Goals=%{x}<extra></extra>\",\"legendgroup\":\"Kylian Mbapp\\u00e9 - Paris S-G - FRA\",\"marker\":{\"color\":\"#1c1c27\",\"pattern\":{\"shape\":\"\"}},\"name\":\"Kylian Mbapp\\u00e9 - Paris S-G - FRA\",\"offsetgroup\":\"Kylian Mbapp\\u00e9 - Paris S-G - FRA\",\"orientation\":\"h\",\"showlegend\":true,\"textposition\":\"outside\",\"texttemplate\":\"%{x}\",\"x\":[28],\"xaxis\":\"x\",\"y\":[\"Kylian Mbapp\\u00e9 - Paris S-G - FRA\"],\"yaxis\":\"y\",\"type\":\"bar\"},{\"alignmentgroup\":\"True\",\"hovertemplate\":\"TTS Squad and Country=%{y}<br>TTS Goals=%{x}<extra></extra>\",\"legendgroup\":\"Ciro Immobile - Lazio - ITA\",\"marker\":{\"color\":\"#2a2a3a\",\"pattern\":{\"shape\":\"\"}},\"name\":\"Ciro Immobile - Lazio - ITA\",\"offsetgroup\":\"Ciro Immobile - Lazio - ITA\",\"orientation\":\"h\",\"showlegend\":true,\"textposition\":\"outside\",\"texttemplate\":\"%{x}\",\"x\":[27],\"xaxis\":\"x\",\"y\":[\"Ciro Immobile - Lazio - ITA\"],\"yaxis\":\"y\",\"type\":\"bar\"},{\"alignmentgroup\":\"True\",\"hovertemplate\":\"TTS Squad and Country=%{y}<br>TTS Goals=%{x}<extra></extra>\",\"legendgroup\":\"Karim Benzema - Real Madrid - ESP\",\"marker\":{\"color\":\"#38384e\",\"pattern\":{\"shape\":\"\"}},\"name\":\"Karim Benzema - Real Madrid - ESP\",\"offsetgroup\":\"Karim Benzema - Real Madrid - ESP\",\"orientation\":\"h\",\"showlegend\":true,\"textposition\":\"outside\",\"texttemplate\":\"%{x}\",\"x\":[27],\"xaxis\":\"x\",\"y\":[\"Karim Benzema - Real Madrid - ESP\"],\"yaxis\":\"y\",\"type\":\"bar\"},{\"alignmentgroup\":\"True\",\"hovertemplate\":\"TTS Squad and Country=%{y}<br>TTS Goals=%{x}<extra></extra>\",\"legendgroup\":\"Wissam Ben Yedder - Monaco - FRA\",\"marker\":{\"color\":\"#464661\",\"pattern\":{\"shape\":\"\"}},\"name\":\"Wissam Ben Yedder - Monaco - FRA\",\"offsetgroup\":\"Wissam Ben Yedder - Monaco - FRA\",\"orientation\":\"h\",\"showlegend\":true,\"textposition\":\"outside\",\"texttemplate\":\"%{x}\",\"x\":[25],\"xaxis\":\"x\",\"y\":[\"Wissam Ben Yedder - Monaco - FRA\"],\"yaxis\":\"y\",\"type\":\"bar\"},{\"alignmentgroup\":\"True\",\"hovertemplate\":\"TTS Squad and Country=%{y}<br>TTS Goals=%{x}<extra></extra>\",\"legendgroup\":\"Patrik Schick - Leverkusen - GER\",\"marker\":{\"color\":\"#545574\",\"pattern\":{\"shape\":\"\"}},\"name\":\"Patrik Schick - Leverkusen - GER\",\"offsetgroup\":\"Patrik Schick - Leverkusen - GER\",\"orientation\":\"h\",\"showlegend\":true,\"textposition\":\"outside\",\"texttemplate\":\"%{x}\",\"x\":[24],\"xaxis\":\"x\",\"y\":[\"Patrik Schick - Leverkusen - GER\"],\"yaxis\":\"y\",\"type\":\"bar\"},{\"alignmentgroup\":\"True\",\"hovertemplate\":\"TTS Squad and Country=%{y}<br>TTS Goals=%{x}<extra></extra>\",\"legendgroup\":\"Mohamed Salah - Liverpool - ENG\",\"marker\":{\"color\":\"#626882\",\"pattern\":{\"shape\":\"\"}},\"name\":\"Mohamed Salah - Liverpool - ENG\",\"offsetgroup\":\"Mohamed Salah - Liverpool - ENG\",\"orientation\":\"h\",\"showlegend\":true,\"textposition\":\"outside\",\"texttemplate\":\"%{x}\",\"x\":[23],\"xaxis\":\"x\",\"y\":[\"Mohamed Salah - Liverpool - ENG\"],\"yaxis\":\"y\",\"type\":\"bar\"},{\"alignmentgroup\":\"True\",\"hovertemplate\":\"TTS Squad and Country=%{y}<br>TTS Goals=%{x}<extra></extra>\",\"legendgroup\":\"Son Heung min - Tottenham - ENG\",\"marker\":{\"color\":\"#707b90\",\"pattern\":{\"shape\":\"\"}},\"name\":\"Son Heung min - Tottenham - ENG\",\"offsetgroup\":\"Son Heung min - Tottenham - ENG\",\"orientation\":\"h\",\"showlegend\":true,\"textposition\":\"outside\",\"texttemplate\":\"%{x}\",\"x\":[23],\"xaxis\":\"x\",\"y\":[\"Son Heung min - Tottenham - ENG\"],\"yaxis\":\"y\",\"type\":\"bar\"},{\"alignmentgroup\":\"True\",\"hovertemplate\":\"TTS Squad and Country=%{y}<br>TTS Goals=%{x}<extra></extra>\",\"legendgroup\":\"Erling Haaland - Dortmund - GER\",\"marker\":{\"color\":\"#7e8f9e\",\"pattern\":{\"shape\":\"\"}},\"name\":\"Erling Haaland - Dortmund - GER\",\"offsetgroup\":\"Erling Haaland - Dortmund - GER\",\"orientation\":\"h\",\"showlegend\":true,\"textposition\":\"outside\",\"texttemplate\":\"%{x}\",\"x\":[22],\"xaxis\":\"x\",\"y\":[\"Erling Haaland - Dortmund - GER\"],\"yaxis\":\"y\",\"type\":\"bar\"},{\"alignmentgroup\":\"True\",\"hovertemplate\":\"TTS Squad and Country=%{y}<br>TTS Goals=%{x}<extra></extra>\",\"legendgroup\":\"Moussa Demb\\u00e9l\\u00e9 - Lyon - FRA\",\"marker\":{\"color\":\"#8ca2ac\",\"pattern\":{\"shape\":\"\"}},\"name\":\"Moussa Demb\\u00e9l\\u00e9 - Lyon - FRA\",\"offsetgroup\":\"Moussa Demb\\u00e9l\\u00e9 - Lyon - FRA\",\"orientation\":\"h\",\"showlegend\":true,\"textposition\":\"outside\",\"texttemplate\":\"%{x}\",\"x\":[21],\"xaxis\":\"x\",\"y\":[\"Moussa Demb\\u00e9l\\u00e9 - Lyon - FRA\"],\"yaxis\":\"y\",\"type\":\"bar\"},{\"alignmentgroup\":\"True\",\"hovertemplate\":\"TTS Squad and Country=%{y}<br>TTS Goals=%{x}<extra></extra>\",\"legendgroup\":\"Lautaro Mart\\u00ednez - Inter - ITA\",\"marker\":{\"color\":\"#9ab5ba\",\"pattern\":{\"shape\":\"\"}},\"name\":\"Lautaro Mart\\u00ednez - Inter - ITA\",\"offsetgroup\":\"Lautaro Mart\\u00ednez - Inter - ITA\",\"orientation\":\"h\",\"showlegend\":true,\"textposition\":\"outside\",\"texttemplate\":\"%{x}\",\"x\":[21],\"xaxis\":\"x\",\"y\":[\"Lautaro Mart\\u00ednez - Inter - ITA\"],\"yaxis\":\"y\",\"type\":\"bar\"},{\"alignmentgroup\":\"True\",\"hovertemplate\":\"TTS Squad and Country=%{y}<br>TTS Goals=%{x}<extra></extra>\",\"legendgroup\":\"Martin Terrier - Rennes - FRA\",\"marker\":{\"color\":\"#a9c8c8\",\"pattern\":{\"shape\":\"\"}},\"name\":\"Martin Terrier - Rennes - FRA\",\"offsetgroup\":\"Martin Terrier - Rennes - FRA\",\"orientation\":\"h\",\"showlegend\":true,\"textposition\":\"outside\",\"texttemplate\":\"%{x}\",\"x\":[21],\"xaxis\":\"x\",\"y\":[\"Martin Terrier - Rennes - FRA\"],\"yaxis\":\"y\",\"type\":\"bar\"},{\"alignmentgroup\":\"True\",\"hovertemplate\":\"TTS Squad and Country=%{y}<br>TTS Goals=%{x}<extra></extra>\",\"legendgroup\":\"Christopher Nkunku - RB Leipzig - GER\",\"marker\":{\"color\":\"#bfd6d6\",\"pattern\":{\"shape\":\"\"}},\"name\":\"Christopher Nkunku - RB Leipzig - GER\",\"offsetgroup\":\"Christopher Nkunku - RB Leipzig - GER\",\"orientation\":\"h\",\"showlegend\":true,\"textposition\":\"outside\",\"texttemplate\":\"%{x}\",\"x\":[20],\"xaxis\":\"x\",\"y\":[\"Christopher Nkunku - RB Leipzig - GER\"],\"yaxis\":\"y\",\"type\":\"bar\"},{\"alignmentgroup\":\"True\",\"hovertemplate\":\"TTS Squad and Country=%{y}<br>TTS Goals=%{x}<extra></extra>\",\"legendgroup\":\"Anthony Modeste - K\\u00f6ln - GER\",\"marker\":{\"color\":\"#d5e4e4\",\"pattern\":{\"shape\":\"\"}},\"name\":\"Anthony Modeste - K\\u00f6ln - GER\",\"offsetgroup\":\"Anthony Modeste - K\\u00f6ln - GER\",\"orientation\":\"h\",\"showlegend\":true,\"textposition\":\"outside\",\"texttemplate\":\"%{x}\",\"x\":[20],\"xaxis\":\"x\",\"y\":[\"Anthony Modeste - K\\u00f6ln - GER\"],\"yaxis\":\"y\",\"type\":\"bar\"},{\"alignmentgroup\":\"True\",\"hovertemplate\":\"TTS Squad and Country=%{y}<br>TTS Goals=%{x}<extra></extra>\",\"legendgroup\":\"Cristiano Ronaldo - Manchester Utd - ENG\",\"marker\":{\"color\":\"#eaf2f2\",\"pattern\":{\"shape\":\"\"}},\"name\":\"Cristiano Ronaldo - Manchester Utd - ENG\",\"offsetgroup\":\"Cristiano Ronaldo - Manchester Utd - ENG\",\"orientation\":\"h\",\"showlegend\":true,\"textposition\":\"outside\",\"texttemplate\":\"%{x}\",\"x\":[18],\"xaxis\":\"x\",\"y\":[\"Cristiano Ronaldo - Manchester Utd - ENG\"],\"yaxis\":\"y\",\"type\":\"bar\"}],                        {\"template\":{\"data\":{\"barpolar\":[{\"marker\":{\"line\":{\"color\":\"white\",\"width\":0.5},\"pattern\":{\"fillmode\":\"overlay\",\"size\":10,\"solidity\":0.2}},\"type\":\"barpolar\"}],\"bar\":[{\"error_x\":{\"color\":\"rgb(36,36,36)\"},\"error_y\":{\"color\":\"rgb(36,36,36)\"},\"marker\":{\"line\":{\"color\":\"white\",\"width\":0.5},\"pattern\":{\"fillmode\":\"overlay\",\"size\":10,\"solidity\":0.2}},\"type\":\"bar\"}],\"carpet\":[{\"aaxis\":{\"endlinecolor\":\"rgb(36,36,36)\",\"gridcolor\":\"white\",\"linecolor\":\"white\",\"minorgridcolor\":\"white\",\"startlinecolor\":\"rgb(36,36,36)\"},\"baxis\":{\"endlinecolor\":\"rgb(36,36,36)\",\"gridcolor\":\"white\",\"linecolor\":\"white\",\"minorgridcolor\":\"white\",\"startlinecolor\":\"rgb(36,36,36)\"},\"type\":\"carpet\"}],\"choropleth\":[{\"colorbar\":{\"outlinewidth\":1,\"tickcolor\":\"rgb(36,36,36)\",\"ticks\":\"outside\"},\"type\":\"choropleth\"}],\"contourcarpet\":[{\"colorbar\":{\"outlinewidth\":1,\"tickcolor\":\"rgb(36,36,36)\",\"ticks\":\"outside\"},\"type\":\"contourcarpet\"}],\"contour\":[{\"colorbar\":{\"outlinewidth\":1,\"tickcolor\":\"rgb(36,36,36)\",\"ticks\":\"outside\"},\"colorscale\":[[0.0,\"#440154\"],[0.1111111111111111,\"#482878\"],[0.2222222222222222,\"#3e4989\"],[0.3333333333333333,\"#31688e\"],[0.4444444444444444,\"#26828e\"],[0.5555555555555556,\"#1f9e89\"],[0.6666666666666666,\"#35b779\"],[0.7777777777777778,\"#6ece58\"],[0.8888888888888888,\"#b5de2b\"],[1.0,\"#fde725\"]],\"type\":\"contour\"}],\"heatmapgl\":[{\"colorbar\":{\"outlinewidth\":1,\"tickcolor\":\"rgb(36,36,36)\",\"ticks\":\"outside\"},\"colorscale\":[[0.0,\"#440154\"],[0.1111111111111111,\"#482878\"],[0.2222222222222222,\"#3e4989\"],[0.3333333333333333,\"#31688e\"],[0.4444444444444444,\"#26828e\"],[0.5555555555555556,\"#1f9e89\"],[0.6666666666666666,\"#35b779\"],[0.7777777777777778,\"#6ece58\"],[0.8888888888888888,\"#b5de2b\"],[1.0,\"#fde725\"]],\"type\":\"heatmapgl\"}],\"heatmap\":[{\"colorbar\":{\"outlinewidth\":1,\"tickcolor\":\"rgb(36,36,36)\",\"ticks\":\"outside\"},\"colorscale\":[[0.0,\"#440154\"],[0.1111111111111111,\"#482878\"],[0.2222222222222222,\"#3e4989\"],[0.3333333333333333,\"#31688e\"],[0.4444444444444444,\"#26828e\"],[0.5555555555555556,\"#1f9e89\"],[0.6666666666666666,\"#35b779\"],[0.7777777777777778,\"#6ece58\"],[0.8888888888888888,\"#b5de2b\"],[1.0,\"#fde725\"]],\"type\":\"heatmap\"}],\"histogram2dcontour\":[{\"colorbar\":{\"outlinewidth\":1,\"tickcolor\":\"rgb(36,36,36)\",\"ticks\":\"outside\"},\"colorscale\":[[0.0,\"#440154\"],[0.1111111111111111,\"#482878\"],[0.2222222222222222,\"#3e4989\"],[0.3333333333333333,\"#31688e\"],[0.4444444444444444,\"#26828e\"],[0.5555555555555556,\"#1f9e89\"],[0.6666666666666666,\"#35b779\"],[0.7777777777777778,\"#6ece58\"],[0.8888888888888888,\"#b5de2b\"],[1.0,\"#fde725\"]],\"type\":\"histogram2dcontour\"}],\"histogram2d\":[{\"colorbar\":{\"outlinewidth\":1,\"tickcolor\":\"rgb(36,36,36)\",\"ticks\":\"outside\"},\"colorscale\":[[0.0,\"#440154\"],[0.1111111111111111,\"#482878\"],[0.2222222222222222,\"#3e4989\"],[0.3333333333333333,\"#31688e\"],[0.4444444444444444,\"#26828e\"],[0.5555555555555556,\"#1f9e89\"],[0.6666666666666666,\"#35b779\"],[0.7777777777777778,\"#6ece58\"],[0.8888888888888888,\"#b5de2b\"],[1.0,\"#fde725\"]],\"type\":\"histogram2d\"}],\"histogram\":[{\"marker\":{\"line\":{\"color\":\"white\",\"width\":0.6}},\"type\":\"histogram\"}],\"mesh3d\":[{\"colorbar\":{\"outlinewidth\":1,\"tickcolor\":\"rgb(36,36,36)\",\"ticks\":\"outside\"},\"type\":\"mesh3d\"}],\"parcoords\":[{\"line\":{\"colorbar\":{\"outlinewidth\":1,\"tickcolor\":\"rgb(36,36,36)\",\"ticks\":\"outside\"}},\"type\":\"parcoords\"}],\"pie\":[{\"automargin\":true,\"type\":\"pie\"}],\"scatter3d\":[{\"line\":{\"colorbar\":{\"outlinewidth\":1,\"tickcolor\":\"rgb(36,36,36)\",\"ticks\":\"outside\"}},\"marker\":{\"colorbar\":{\"outlinewidth\":1,\"tickcolor\":\"rgb(36,36,36)\",\"ticks\":\"outside\"}},\"type\":\"scatter3d\"}],\"scattercarpet\":[{\"marker\":{\"colorbar\":{\"outlinewidth\":1,\"tickcolor\":\"rgb(36,36,36)\",\"ticks\":\"outside\"}},\"type\":\"scattercarpet\"}],\"scattergeo\":[{\"marker\":{\"colorbar\":{\"outlinewidth\":1,\"tickcolor\":\"rgb(36,36,36)\",\"ticks\":\"outside\"}},\"type\":\"scattergeo\"}],\"scattergl\":[{\"marker\":{\"colorbar\":{\"outlinewidth\":1,\"tickcolor\":\"rgb(36,36,36)\",\"ticks\":\"outside\"}},\"type\":\"scattergl\"}],\"scattermapbox\":[{\"marker\":{\"colorbar\":{\"outlinewidth\":1,\"tickcolor\":\"rgb(36,36,36)\",\"ticks\":\"outside\"}},\"type\":\"scattermapbox\"}],\"scatterpolargl\":[{\"marker\":{\"colorbar\":{\"outlinewidth\":1,\"tickcolor\":\"rgb(36,36,36)\",\"ticks\":\"outside\"}},\"type\":\"scatterpolargl\"}],\"scatterpolar\":[{\"marker\":{\"colorbar\":{\"outlinewidth\":1,\"tickcolor\":\"rgb(36,36,36)\",\"ticks\":\"outside\"}},\"type\":\"scatterpolar\"}],\"scatter\":[{\"fillpattern\":{\"fillmode\":\"overlay\",\"size\":10,\"solidity\":0.2},\"type\":\"scatter\"}],\"scatterternary\":[{\"marker\":{\"colorbar\":{\"outlinewidth\":1,\"tickcolor\":\"rgb(36,36,36)\",\"ticks\":\"outside\"}},\"type\":\"scatterternary\"}],\"surface\":[{\"colorbar\":{\"outlinewidth\":1,\"tickcolor\":\"rgb(36,36,36)\",\"ticks\":\"outside\"},\"colorscale\":[[0.0,\"#440154\"],[0.1111111111111111,\"#482878\"],[0.2222222222222222,\"#3e4989\"],[0.3333333333333333,\"#31688e\"],[0.4444444444444444,\"#26828e\"],[0.5555555555555556,\"#1f9e89\"],[0.6666666666666666,\"#35b779\"],[0.7777777777777778,\"#6ece58\"],[0.8888888888888888,\"#b5de2b\"],[1.0,\"#fde725\"]],\"type\":\"surface\"}],\"table\":[{\"cells\":{\"fill\":{\"color\":\"rgb(237,237,237)\"},\"line\":{\"color\":\"white\"}},\"header\":{\"fill\":{\"color\":\"rgb(217,217,217)\"},\"line\":{\"color\":\"white\"}},\"type\":\"table\"}]},\"layout\":{\"annotationdefaults\":{\"arrowhead\":0,\"arrowwidth\":1},\"autotypenumbers\":\"strict\",\"coloraxis\":{\"colorbar\":{\"outlinewidth\":1,\"tickcolor\":\"rgb(36,36,36)\",\"ticks\":\"outside\"}},\"colorscale\":{\"diverging\":[[0.0,\"rgb(103,0,31)\"],[0.1,\"rgb(178,24,43)\"],[0.2,\"rgb(214,96,77)\"],[0.3,\"rgb(244,165,130)\"],[0.4,\"rgb(253,219,199)\"],[0.5,\"rgb(247,247,247)\"],[0.6,\"rgb(209,229,240)\"],[0.7,\"rgb(146,197,222)\"],[0.8,\"rgb(67,147,195)\"],[0.9,\"rgb(33,102,172)\"],[1.0,\"rgb(5,48,97)\"]],\"sequential\":[[0.0,\"#440154\"],[0.1111111111111111,\"#482878\"],[0.2222222222222222,\"#3e4989\"],[0.3333333333333333,\"#31688e\"],[0.4444444444444444,\"#26828e\"],[0.5555555555555556,\"#1f9e89\"],[0.6666666666666666,\"#35b779\"],[0.7777777777777778,\"#6ece58\"],[0.8888888888888888,\"#b5de2b\"],[1.0,\"#fde725\"]],\"sequentialminus\":[[0.0,\"#440154\"],[0.1111111111111111,\"#482878\"],[0.2222222222222222,\"#3e4989\"],[0.3333333333333333,\"#31688e\"],[0.4444444444444444,\"#26828e\"],[0.5555555555555556,\"#1f9e89\"],[0.6666666666666666,\"#35b779\"],[0.7777777777777778,\"#6ece58\"],[0.8888888888888888,\"#b5de2b\"],[1.0,\"#fde725\"]]},\"colorway\":[\"#1F77B4\",\"#FF7F0E\",\"#2CA02C\",\"#D62728\",\"#9467BD\",\"#8C564B\",\"#E377C2\",\"#7F7F7F\",\"#BCBD22\",\"#17BECF\"],\"font\":{\"color\":\"rgb(36,36,36)\"},\"geo\":{\"bgcolor\":\"white\",\"lakecolor\":\"white\",\"landcolor\":\"white\",\"showlakes\":true,\"showland\":true,\"subunitcolor\":\"white\"},\"hoverlabel\":{\"align\":\"left\"},\"hovermode\":\"closest\",\"mapbox\":{\"style\":\"light\"},\"paper_bgcolor\":\"white\",\"plot_bgcolor\":\"white\",\"polar\":{\"angularaxis\":{\"gridcolor\":\"rgb(232,232,232)\",\"linecolor\":\"rgb(36,36,36)\",\"showgrid\":false,\"showline\":true,\"ticks\":\"outside\"},\"bgcolor\":\"white\",\"radialaxis\":{\"gridcolor\":\"rgb(232,232,232)\",\"linecolor\":\"rgb(36,36,36)\",\"showgrid\":false,\"showline\":true,\"ticks\":\"outside\"}},\"scene\":{\"xaxis\":{\"backgroundcolor\":\"white\",\"gridcolor\":\"rgb(232,232,232)\",\"gridwidth\":2,\"linecolor\":\"rgb(36,36,36)\",\"showbackground\":true,\"showgrid\":false,\"showline\":true,\"ticks\":\"outside\",\"zeroline\":false,\"zerolinecolor\":\"rgb(36,36,36)\"},\"yaxis\":{\"backgroundcolor\":\"white\",\"gridcolor\":\"rgb(232,232,232)\",\"gridwidth\":2,\"linecolor\":\"rgb(36,36,36)\",\"showbackground\":true,\"showgrid\":false,\"showline\":true,\"ticks\":\"outside\",\"zeroline\":false,\"zerolinecolor\":\"rgb(36,36,36)\"},\"zaxis\":{\"backgroundcolor\":\"white\",\"gridcolor\":\"rgb(232,232,232)\",\"gridwidth\":2,\"linecolor\":\"rgb(36,36,36)\",\"showbackground\":true,\"showgrid\":false,\"showline\":true,\"ticks\":\"outside\",\"zeroline\":false,\"zerolinecolor\":\"rgb(36,36,36)\"}},\"shapedefaults\":{\"fillcolor\":\"black\",\"line\":{\"width\":0},\"opacity\":0.3},\"ternary\":{\"aaxis\":{\"gridcolor\":\"rgb(232,232,232)\",\"linecolor\":\"rgb(36,36,36)\",\"showgrid\":false,\"showline\":true,\"ticks\":\"outside\"},\"baxis\":{\"gridcolor\":\"rgb(232,232,232)\",\"linecolor\":\"rgb(36,36,36)\",\"showgrid\":false,\"showline\":true,\"ticks\":\"outside\"},\"bgcolor\":\"white\",\"caxis\":{\"gridcolor\":\"rgb(232,232,232)\",\"linecolor\":\"rgb(36,36,36)\",\"showgrid\":false,\"showline\":true,\"ticks\":\"outside\"}},\"title\":{\"x\":0.05},\"xaxis\":{\"automargin\":true,\"gridcolor\":\"rgb(232,232,232)\",\"linecolor\":\"rgb(36,36,36)\",\"showgrid\":false,\"showline\":true,\"ticks\":\"outside\",\"title\":{\"standoff\":15},\"zeroline\":false,\"zerolinecolor\":\"rgb(36,36,36)\"},\"yaxis\":{\"automargin\":true,\"gridcolor\":\"rgb(232,232,232)\",\"linecolor\":\"rgb(36,36,36)\",\"showgrid\":false,\"showline\":true,\"ticks\":\"outside\",\"title\":{\"standoff\":15},\"zeroline\":false,\"zerolinecolor\":\"rgb(36,36,36)\"}}},\"xaxis\":{\"anchor\":\"y\",\"domain\":[0.0,1.0],\"title\":{\"text\":\"Number of goals\",\"font\":{\"family\":\"Microsoft Tai Le\"}},\"tickfont\":{\"family\":\"Microsoft Tai Le\"}},\"yaxis\":{\"anchor\":\"x\",\"domain\":[0.0,1.0],\"title\":{\"text\":\"\"},\"categoryorder\":\"array\",\"categoryarray\":[\"Cristiano Ronaldo - Manchester Utd - ENG\",\"Anthony Modeste - K\\u00f6ln - GER\",\"Christopher Nkunku - RB Leipzig - GER\",\"Martin Terrier - Rennes - FRA\",\"Lautaro Mart\\u00ednez - Inter - ITA\",\"Moussa Demb\\u00e9l\\u00e9 - Lyon - FRA\",\"Erling Haaland - Dortmund - GER\",\"Son Heung min - Tottenham - ENG\",\"Mohamed Salah - Liverpool - ENG\",\"Patrik Schick - Leverkusen - GER\",\"Wissam Ben Yedder - Monaco - FRA\",\"Karim Benzema - Real Madrid - ESP\",\"Ciro Immobile - Lazio - ITA\",\"Kylian Mbapp\\u00e9 - Paris S-G - FRA\",\"Robert Lewandowski - Bayern Munich - GER\"],\"tickfont\":{\"family\":\"Microsoft Tai Le\",\"size\":12}},\"legend\":{\"title\":{\"text\":\"TTS Squad and Country\"},\"tracegroupgap\":0},\"title\":{\"text\":\"Top Team Scorer\",\"font\":{\"size\":30,\"family\":\"Impact\",\"color\":\"black\"},\"y\":0.9},\"barmode\":\"relative\",\"showlegend\":false,\"height\":400},                        {\"responsive\": true}                    ).then(function(){\n",
       "                            \n",
       "var gd = document.getElementById('df44b064-1ef3-4deb-88c3-4eeb1ed351b6');\n",
       "var x = new MutationObserver(function (mutations, observer) {{\n",
       "        var display = window.getComputedStyle(gd).display;\n",
       "        if (!display || display === 'none') {{\n",
       "            console.log([gd, 'removed!']);\n",
       "            Plotly.purge(gd);\n",
       "            observer.disconnect();\n",
       "        }}\n",
       "}});\n",
       "\n",
       "// Listen for the removal of the full notebook cells\n",
       "var notebookContainer = gd.closest('#notebook-container');\n",
       "if (notebookContainer) {{\n",
       "    x.observe(notebookContainer, {childList: true});\n",
       "}}\n",
       "\n",
       "// Listen for the clearing of the current output cell\n",
       "var outputEl = gd.closest('.output');\n",
       "if (outputEl) {{\n",
       "    x.observe(outputEl, {childList: true});\n",
       "}}\n",
       "\n",
       "                        })                };                });            </script>        </div>"
      ]
     },
     "metadata": {},
     "output_type": "display_data"
    }
   ],
   "source": [
    "#Ploteamos el grafico\n",
    "\n",
    "fig = px.bar(best_scorer.sort_values(by=\"TTS Goals\", ascending=False), x=\"TTS Goals\", y=\"TTS Squad and Country\", \n",
    "            color=\"TTS Squad and Country\", \n",
    "            orientation='h',\n",
    "            title=\"Top Team Scorer\", \n",
    "            color_discrete_sequence=get_color(\"bone\", len(best_scorer)),\n",
    "            template='simple_white',\n",
    "             text_auto=True\n",
    "            )\n",
    "fig.update_layout(title={'y': 0.9},\n",
    "                title_font_size=30,\n",
    "                title_font_family='Impact',\n",
    "                title_font_color='black',\n",
    "                showlegend=False,\n",
    "                 height=400)\n",
    "fig.update_xaxes(title=\"Number of goals\",\n",
    "                tickfont_family=\"Microsoft Tai Le\",\n",
    "                titlefont_family=\"Microsoft Tai Le\",)\n",
    "fig.update_yaxes(title=\"\",\n",
    "                tickfont_family='Microsoft Tai Le',\n",
    "                tickfont_size=12)\n",
    "fig.update_traces(textposition='outside')\n"
   ]
  },
  {
   "cell_type": "markdown",
   "id": "d77dadd7",
   "metadata": {},
   "source": [
    "Mejores porteros"
   ]
  },
  {
   "cell_type": "code",
   "execution_count": 23,
   "id": "7f0e857d",
   "metadata": {},
   "outputs": [
    {
     "data": {
      "text/html": [
       "<div>\n",
       "<style scoped>\n",
       "    .dataframe tbody tr th:only-of-type {\n",
       "        vertical-align: middle;\n",
       "    }\n",
       "\n",
       "    .dataframe tbody tr th {\n",
       "        vertical-align: top;\n",
       "    }\n",
       "\n",
       "    .dataframe thead th {\n",
       "        text-align: right;\n",
       "    }\n",
       "</style>\n",
       "<table border=\"1\" class=\"dataframe\">\n",
       "  <thead>\n",
       "    <tr style=\"text-align: right;\">\n",
       "      <th></th>\n",
       "      <th>Goalkeeper</th>\n",
       "      <th>Squad</th>\n",
       "      <th>Country</th>\n",
       "      <th>GA</th>\n",
       "      <th>size_points</th>\n",
       "      <th>Goalkeeper sq country</th>\n",
       "    </tr>\n",
       "  </thead>\n",
       "  <tbody>\n",
       "    <tr>\n",
       "      <th>9</th>\n",
       "      <td>Alisson</td>\n",
       "      <td>Liverpool</td>\n",
       "      <td>ENG</td>\n",
       "      <td>26</td>\n",
       "      <td>26.000000</td>\n",
       "      <td>Alisson - Liverpool - ENG</td>\n",
       "    </tr>\n",
       "    <tr>\n",
       "      <th>22</th>\n",
       "      <td>Ederson</td>\n",
       "      <td>Manchester City</td>\n",
       "      <td>ENG</td>\n",
       "      <td>26</td>\n",
       "      <td>31.473684</td>\n",
       "      <td>Ederson - Manchester City - ENG</td>\n",
       "    </tr>\n",
       "    <tr>\n",
       "      <th>95</th>\n",
       "      <td>Yassine Bounou</td>\n",
       "      <td>Sevilla</td>\n",
       "      <td>ESP</td>\n",
       "      <td>30</td>\n",
       "      <td>42.631579</td>\n",
       "      <td>Yassine Bounou - Sevilla - ESP</td>\n",
       "    </tr>\n",
       "    <tr>\n",
       "      <th>85</th>\n",
       "      <td>Thibaut Courtois</td>\n",
       "      <td>Real Madrid</td>\n",
       "      <td>ESP</td>\n",
       "      <td>31</td>\n",
       "      <td>50.578947</td>\n",
       "      <td>Thibaut Courtois - Real Madrid - ESP</td>\n",
       "    </tr>\n",
       "    <tr>\n",
       "      <th>63</th>\n",
       "      <td>Mike Maignan</td>\n",
       "      <td>Milan</td>\n",
       "      <td>ITA</td>\n",
       "      <td>31</td>\n",
       "      <td>57.105263</td>\n",
       "      <td>Mike Maignan - Milan - ITA</td>\n",
       "    </tr>\n",
       "  </tbody>\n",
       "</table>\n",
       "</div>"
      ],
      "text/plain": [
       "          Goalkeeper            Squad Country  GA  size_points  \\\n",
       "9            Alisson        Liverpool     ENG  26    26.000000   \n",
       "22           Ederson  Manchester City     ENG  26    31.473684   \n",
       "95    Yassine Bounou          Sevilla     ESP  30    42.631579   \n",
       "85  Thibaut Courtois      Real Madrid     ESP  31    50.578947   \n",
       "63      Mike Maignan            Milan     ITA  31    57.105263   \n",
       "\n",
       "                   Goalkeeper sq country  \n",
       "9              Alisson - Liverpool - ENG  \n",
       "22       Ederson - Manchester City - ENG  \n",
       "95        Yassine Bounou - Sevilla - ESP  \n",
       "85  Thibaut Courtois - Real Madrid - ESP  \n",
       "63            Mike Maignan - Milan - ITA  "
      ]
     },
     "execution_count": 23,
     "metadata": {},
     "output_type": "execute_result"
    }
   ],
   "source": [
    "#Dataframe de porteros \n",
    "\n",
    "goal_keeper = data[[\"Goalkeeper\", \"Squad\", \"Country\", \"GA\"]].\\\n",
    "        groupby([\"Goalkeeper\", \"Squad\", \"Country\"])\\\n",
    "        .agg(lambda x: x).reset_index().sort_values(\"GA\", ascending=True)[:20]\n",
    " \n",
    "\n",
    "goal_keeper[\"size_points\"] = [list(goal_keeper[\"GA\"])[i]*j for i, j in zip(range(len(goal_keeper)), np.linspace(1, 5, 20))]\n",
    "\n",
    "#Crear etiqueta para el nombre del portero, equipo y pais\n",
    "\n",
    "goal_keeper[\"Goalkeeper sq country\"] = goal_keeper[[\"Goalkeeper\", \"Squad\", \"Country\"]].agg(' - '.join, axis=1)\n",
    "goal_keeper.head()"
   ]
  },
  {
   "cell_type": "code",
   "execution_count": 24,
   "id": "2f1604ad",
   "metadata": {},
   "outputs": [],
   "source": [
    "goal_keeper['label'] = ['<b>'+i+'<br>Goals Aainst: '+format(j, ',') for i, j in zip(goal_keeper[\"Goalkeeper sq country\"], goal_keeper[\"GA\"])]"
   ]
  },
  {
   "cell_type": "code",
   "execution_count": 25,
   "id": "6d57a08b",
   "metadata": {},
   "outputs": [
    {
     "data": {
      "text/html": [
       "<div>\n",
       "<style scoped>\n",
       "    .dataframe tbody tr th:only-of-type {\n",
       "        vertical-align: middle;\n",
       "    }\n",
       "\n",
       "    .dataframe tbody tr th {\n",
       "        vertical-align: top;\n",
       "    }\n",
       "\n",
       "    .dataframe thead th {\n",
       "        text-align: right;\n",
       "    }\n",
       "</style>\n",
       "<table border=\"1\" class=\"dataframe\">\n",
       "  <thead>\n",
       "    <tr style=\"text-align: right;\">\n",
       "      <th></th>\n",
       "      <th>Goalkeeper</th>\n",
       "      <th>Squad</th>\n",
       "      <th>Country</th>\n",
       "      <th>GA</th>\n",
       "      <th>size_points</th>\n",
       "      <th>Goalkeeper sq country</th>\n",
       "      <th>label</th>\n",
       "      <th>X</th>\n",
       "      <th>Y</th>\n",
       "    </tr>\n",
       "  </thead>\n",
       "  <tbody>\n",
       "    <tr>\n",
       "      <th>9</th>\n",
       "      <td>Alisson</td>\n",
       "      <td>Liverpool</td>\n",
       "      <td>ENG</td>\n",
       "      <td>26</td>\n",
       "      <td>26.000000</td>\n",
       "      <td>Alisson - Liverpool - ENG</td>\n",
       "      <td>&lt;b&gt;Alisson - Liverpool - ENG&lt;br&gt;Goals Aainst: 26</td>\n",
       "      <td>0</td>\n",
       "      <td>19</td>\n",
       "    </tr>\n",
       "    <tr>\n",
       "      <th>22</th>\n",
       "      <td>Ederson</td>\n",
       "      <td>Manchester City</td>\n",
       "      <td>ENG</td>\n",
       "      <td>26</td>\n",
       "      <td>31.473684</td>\n",
       "      <td>Ederson - Manchester City - ENG</td>\n",
       "      <td>&lt;b&gt;Ederson - Manchester City - ENG&lt;br&gt;Goals Aa...</td>\n",
       "      <td>0</td>\n",
       "      <td>18</td>\n",
       "    </tr>\n",
       "    <tr>\n",
       "      <th>95</th>\n",
       "      <td>Yassine Bounou</td>\n",
       "      <td>Sevilla</td>\n",
       "      <td>ESP</td>\n",
       "      <td>30</td>\n",
       "      <td>42.631579</td>\n",
       "      <td>Yassine Bounou - Sevilla - ESP</td>\n",
       "      <td>&lt;b&gt;Yassine Bounou - Sevilla - ESP&lt;br&gt;Goals Aai...</td>\n",
       "      <td>0</td>\n",
       "      <td>17</td>\n",
       "    </tr>\n",
       "    <tr>\n",
       "      <th>85</th>\n",
       "      <td>Thibaut Courtois</td>\n",
       "      <td>Real Madrid</td>\n",
       "      <td>ESP</td>\n",
       "      <td>31</td>\n",
       "      <td>50.578947</td>\n",
       "      <td>Thibaut Courtois - Real Madrid - ESP</td>\n",
       "      <td>&lt;b&gt;Thibaut Courtois - Real Madrid - ESP&lt;br&gt;Goa...</td>\n",
       "      <td>0</td>\n",
       "      <td>16</td>\n",
       "    </tr>\n",
       "    <tr>\n",
       "      <th>63</th>\n",
       "      <td>Mike Maignan</td>\n",
       "      <td>Milan</td>\n",
       "      <td>ITA</td>\n",
       "      <td>31</td>\n",
       "      <td>57.105263</td>\n",
       "      <td>Mike Maignan - Milan - ITA</td>\n",
       "      <td>&lt;b&gt;Mike Maignan - Milan - ITA&lt;br&gt;Goals Aainst: 31</td>\n",
       "      <td>0</td>\n",
       "      <td>15</td>\n",
       "    </tr>\n",
       "  </tbody>\n",
       "</table>\n",
       "</div>"
      ],
      "text/plain": [
       "          Goalkeeper            Squad Country  GA  size_points  \\\n",
       "9            Alisson        Liverpool     ENG  26    26.000000   \n",
       "22           Ederson  Manchester City     ENG  26    31.473684   \n",
       "95    Yassine Bounou          Sevilla     ESP  30    42.631579   \n",
       "85  Thibaut Courtois      Real Madrid     ESP  31    50.578947   \n",
       "63      Mike Maignan            Milan     ITA  31    57.105263   \n",
       "\n",
       "                   Goalkeeper sq country  \\\n",
       "9              Alisson - Liverpool - ENG   \n",
       "22       Ederson - Manchester City - ENG   \n",
       "95        Yassine Bounou - Sevilla - ESP   \n",
       "85  Thibaut Courtois - Real Madrid - ESP   \n",
       "63            Mike Maignan - Milan - ITA   \n",
       "\n",
       "                                                label  X   Y  \n",
       "9    <b>Alisson - Liverpool - ENG<br>Goals Aainst: 26  0  19  \n",
       "22  <b>Ederson - Manchester City - ENG<br>Goals Aa...  0  18  \n",
       "95  <b>Yassine Bounou - Sevilla - ESP<br>Goals Aai...  0  17  \n",
       "85  <b>Thibaut Courtois - Real Madrid - ESP<br>Goa...  0  16  \n",
       "63  <b>Mike Maignan - Milan - ITA<br>Goals Aainst: 31  0  15  "
      ]
     },
     "execution_count": 25,
     "metadata": {},
     "output_type": "execute_result"
    }
   ],
   "source": [
    "#crear coordenadas x e y para los puntos de dispersión \n",
    "\n",
    "goal_keeper[\"X\"] = [0]*len(goal_keeper)\n",
    "list_y = [i*1 for i in range(0, len(goal_keeper))] \n",
    "list_y.reverse()\n",
    "goal_keeper[\"Y\"] = list_y\n",
    "goal_keeper.head()"
   ]
  },
  {
   "cell_type": "code",
   "execution_count": 27,
   "id": "79d318d0",
   "metadata": {},
   "outputs": [
    {
     "data": {
      "application/vnd.plotly.v1+json": {
       "config": {
        "plotlyServerURL": "https://plot.ly"
       },
       "data": [
        {
         "hovertemplate": "Goalkeeper=Alisson<br>X=%{x}<br>Y=%{y}<br>size_points=%{marker.size}<br>label=%{text}<extra></extra>",
         "legendgroup": "Alisson",
         "marker": {
          "color": "#dfe318",
          "size": [
           26
          ],
          "sizemode": "area",
          "sizeref": 0.2222222222222222,
          "symbol": "circle"
         },
         "mode": "markers+text",
         "name": "Alisson",
         "orientation": "v",
         "showlegend": true,
         "text": [
          "<b>Alisson - Liverpool - ENG<br>Goals Aainst: 26"
         ],
         "textfont": {
          "family": "Ink Free",
          "size": 15
         },
         "textposition": "middle right",
         "type": "scatter",
         "x": [
          0
         ],
         "xaxis": "x",
         "y": [
          19
         ],
         "yaxis": "y"
        },
        {
         "hovertemplate": "Goalkeeper=Ederson<br>X=%{x}<br>Y=%{y}<br>size_points=%{marker.size}<br>label=%{text}<extra></extra>",
         "legendgroup": "Ederson",
         "marker": {
          "color": "#c0df25",
          "size": [
           31.473684210526315
          ],
          "sizemode": "area",
          "sizeref": 0.2222222222222222,
          "symbol": "circle"
         },
         "mode": "markers+text",
         "name": "Ederson",
         "orientation": "v",
         "showlegend": true,
         "text": [
          "<b>Ederson - Manchester City - ENG<br>Goals Aainst: 26"
         ],
         "textfont": {
          "family": "Ink Free",
          "size": 15
         },
         "textposition": "middle right",
         "type": "scatter",
         "x": [
          0
         ],
         "xaxis": "x",
         "y": [
          18
         ],
         "yaxis": "y"
        },
        {
         "hovertemplate": "Goalkeeper=Yassine Bounou<br>X=%{x}<br>Y=%{y}<br>size_points=%{marker.size}<br>label=%{text}<extra></extra>",
         "legendgroup": "Yassine Bounou",
         "marker": {
          "color": "#a0da39",
          "size": [
           42.63157894736842
          ],
          "sizemode": "area",
          "sizeref": 0.2222222222222222,
          "symbol": "circle"
         },
         "mode": "markers+text",
         "name": "Yassine Bounou",
         "orientation": "v",
         "showlegend": true,
         "text": [
          "<b>Yassine Bounou - Sevilla - ESP<br>Goals Aainst: 30"
         ],
         "textfont": {
          "family": "Ink Free",
          "size": 15
         },
         "textposition": "middle right",
         "type": "scatter",
         "x": [
          0
         ],
         "xaxis": "x",
         "y": [
          17
         ],
         "yaxis": "y"
        },
        {
         "hovertemplate": "Goalkeeper=Thibaut Courtois<br>X=%{x}<br>Y=%{y}<br>size_points=%{marker.size}<br>label=%{text}<extra></extra>",
         "legendgroup": "Thibaut Courtois",
         "marker": {
          "color": "#81d34d",
          "size": [
           50.578947368421055
          ],
          "sizemode": "area",
          "sizeref": 0.2222222222222222,
          "symbol": "circle"
         },
         "mode": "markers+text",
         "name": "Thibaut Courtois",
         "orientation": "v",
         "showlegend": true,
         "text": [
          "<b>Thibaut Courtois - Real Madrid - ESP<br>Goals Aainst: 31"
         ],
         "textfont": {
          "family": "Ink Free",
          "size": 15
         },
         "textposition": "middle right",
         "type": "scatter",
         "x": [
          0
         ],
         "xaxis": "x",
         "y": [
          16
         ],
         "yaxis": "y"
        },
        {
         "hovertemplate": "Goalkeeper=Mike Maignan<br>X=%{x}<br>Y=%{y}<br>size_points=%{marker.size}<br>label=%{text}<extra></extra>",
         "legendgroup": "Mike Maignan",
         "marker": {
          "color": "#65cb5e",
          "size": [
           57.10526315789473
          ],
          "sizemode": "area",
          "sizeref": 0.2222222222222222,
          "symbol": "circle"
         },
         "mode": "markers+text",
         "name": "Mike Maignan",
         "orientation": "v",
         "showlegend": true,
         "text": [
          "<b>Mike Maignan - Milan - ITA<br>Goals Aainst: 31"
         ],
         "textfont": {
          "family": "Ink Free",
          "size": 15
         },
         "textposition": "middle right",
         "type": "scatter",
         "x": [
          0
         ],
         "xaxis": "x",
         "y": [
          15
         ],
         "yaxis": "y"
        },
        {
         "hovertemplate": "Goalkeeper=David Ospina<br>X=%{x}<br>Y=%{y}<br>size_points=%{marker.size}<br>label=%{text}<extra></extra>",
         "legendgroup": "David Ospina",
         "marker": {
          "color": "#4ac16d",
          "size": [
           63.63157894736841
          ],
          "sizemode": "area",
          "sizeref": 0.2222222222222222,
          "symbol": "circle"
         },
         "mode": "markers+text",
         "name": "David Ospina",
         "orientation": "v",
         "showlegend": true,
         "text": [
          "<b>David Ospina - Napoli - ITA<br>Goals Aainst: 31"
         ],
         "textfont": {
          "family": "Ink Free",
          "size": 15
         },
         "textposition": "middle right",
         "type": "scatter",
         "x": [
          0
         ],
         "xaxis": "x",
         "y": [
          14
         ],
         "yaxis": "y"
        },
        {
         "hovertemplate": "Goalkeeper=Samir Handanovi?<br>X=%{x}<br>Y=%{y}<br>size_points=%{marker.size}<br>label=%{text}<extra></extra>",
         "legendgroup": "Samir Handanovi?",
         "marker": {
          "color": "#35b779",
          "size": [
           72.42105263157895
          ],
          "sizemode": "area",
          "sizeref": 0.2222222222222222,
          "symbol": "circle"
         },
         "mode": "markers+text",
         "name": "Samir Handanovi?",
         "orientation": "v",
         "showlegend": true,
         "text": [
          "<b>Samir Handanovi? - Inter - ITA<br>Goals Aainst: 32"
         ],
         "textfont": {
          "family": "Ink Free",
          "size": 15
         },
         "textposition": "middle right",
         "type": "scatter",
         "x": [
          0
         ],
         "xaxis": "x",
         "y": [
          13
         ],
         "yaxis": "y"
        },
        {
         "hovertemplate": "Goalkeeper=Edouard Mendy<br>X=%{x}<br>Y=%{y}<br>size_points=%{marker.size}<br>label=%{text}<extra></extra>",
         "legendgroup": "Edouard Mendy",
         "marker": {
          "color": "#26ad81",
          "size": [
           81.63157894736842
          ],
          "sizemode": "area",
          "sizeref": 0.2222222222222222,
          "symbol": "circle"
         },
         "mode": "markers+text",
         "name": "Edouard Mendy",
         "orientation": "v",
         "showlegend": true,
         "text": [
          "<b>Edouard Mendy - Chelsea - ENG<br>Goals Aainst: 33"
         ],
         "textfont": {
          "family": "Ink Free",
          "size": 15
         },
         "textposition": "middle right",
         "type": "scatter",
         "x": [
          0
         ],
         "xaxis": "x",
         "y": [
          12
         ],
         "yaxis": "y"
        },
        {
         "hovertemplate": "Goalkeeper=Walter Benítez<br>X=%{x}<br>Y=%{y}<br>size_points=%{marker.size}<br>label=%{text}<extra></extra>",
         "legendgroup": "Walter Benítez",
         "marker": {
          "color": "#1fa187",
          "size": [
           96.63157894736841
          ],
          "sizemode": "area",
          "sizeref": 0.2222222222222222,
          "symbol": "circle"
         },
         "mode": "markers+text",
         "name": "Walter Benítez",
         "orientation": "v",
         "showlegend": true,
         "text": [
          "<b>Walter Benítez - Nice - FRA<br>Goals Aainst: 36"
         ],
         "textfont": {
          "family": "Ink Free",
          "size": 15
         },
         "textposition": "middle right",
         "type": "scatter",
         "x": [
          0
         ],
         "xaxis": "x",
         "y": [
          11
         ],
         "yaxis": "y"
        },
        {
         "hovertemplate": "Goalkeeper=Unai Simón<br>X=%{x}<br>Y=%{y}<br>size_points=%{marker.size}<br>label=%{text}<extra></extra>",
         "legendgroup": "Unai Simón",
         "marker": {
          "color": "#1f968b",
          "size": [
           104.21052631578947
          ],
          "sizemode": "area",
          "sizeref": 0.2222222222222222,
          "symbol": "circle"
         },
         "mode": "markers+text",
         "name": "Unai Simón",
         "orientation": "v",
         "showlegend": true,
         "text": [
          "<b>Unai Simón - Athletic Club - ESP<br>Goals Aainst: 36"
         ],
         "textfont": {
          "family": "Ink Free",
          "size": 15
         },
         "textposition": "middle right",
         "type": "scatter",
         "x": [
          0
         ],
         "xaxis": "x",
         "y": [
          10
         ],
         "yaxis": "y"
        },
        {
         "hovertemplate": "Goalkeeper=Keylor Navas<br>X=%{x}<br>Y=%{y}<br>size_points=%{marker.size}<br>label=%{text}<extra></extra>",
         "legendgroup": "Keylor Navas",
         "marker": {
          "color": "#238a8d",
          "size": [
           111.78947368421052
          ],
          "sizemode": "area",
          "sizeref": 0.2222222222222222,
          "symbol": "circle"
         },
         "mode": "markers+text",
         "name": "Keylor Navas",
         "orientation": "v",
         "showlegend": true,
         "text": [
          "<b>Keylor Navas - Paris S-G - FRA<br>Goals Aainst: 36"
         ],
         "textfont": {
          "family": "Ink Free",
          "size": 15
         },
         "textposition": "middle right",
         "type": "scatter",
         "x": [
          0
         ],
         "xaxis": "x",
         "y": [
          9
         ],
         "yaxis": "y"
        },
        {
         "hovertemplate": "Goalkeeper=Gerónimo Rulli<br>X=%{x}<br>Y=%{y}<br>size_points=%{marker.size}<br>label=%{text}<extra></extra>",
         "legendgroup": "Gerónimo Rulli",
         "marker": {
          "color": "#277f8e",
          "size": [
           122.6842105263158
          ],
          "sizemode": "area",
          "sizeref": 0.2222222222222222,
          "symbol": "circle"
         },
         "mode": "markers+text",
         "name": "Gerónimo Rulli",
         "orientation": "v",
         "showlegend": true,
         "text": [
          "<b>Gerónimo Rulli - Villarreal - ESP<br>Goals Aainst: 37"
         ],
         "textfont": {
          "family": "Ink Free",
          "size": 15
         },
         "textposition": "middle right",
         "type": "scatter",
         "x": [
          0
         ],
         "xaxis": "x",
         "y": [
          8
         ],
         "yaxis": "y"
        },
        {
         "hovertemplate": "Goalkeeper=Péter Gulácsi<br>X=%{x}<br>Y=%{y}<br>size_points=%{marker.size}<br>label=%{text}<extra></extra>",
         "legendgroup": "Péter Gulácsi",
         "marker": {
          "color": "#2c738e",
          "size": [
           130.4736842105263
          ],
          "sizemode": "area",
          "sizeref": 0.2222222222222222,
          "symbol": "circle"
         },
         "mode": "markers+text",
         "name": "Péter Gulácsi",
         "orientation": "v",
         "showlegend": true,
         "text": [
          "<b>Péter Gulácsi - RB Leipzig - GER<br>Goals Aainst: 37"
         ],
         "textfont": {
          "family": "Ink Free",
          "size": 15
         },
         "textposition": "middle right",
         "type": "scatter",
         "x": [
          0
         ],
         "xaxis": "x",
         "y": [
          7
         ],
         "yaxis": "y"
        },
        {
         "hovertemplate": "Goalkeeper=Álex Remiro<br>X=%{x}<br>Y=%{y}<br>size_points=%{marker.size}<br>label=%{text}<extra></extra>",
         "legendgroup": "Álex Remiro",
         "marker": {
          "color": "#31688e",
          "size": [
           138.26315789473682
          ],
          "sizemode": "area",
          "sizeref": 0.2222222222222222,
          "symbol": "circle"
         },
         "mode": "markers+text",
         "name": "Álex Remiro",
         "orientation": "v",
         "showlegend": true,
         "text": [
          "<b>Álex Remiro - Real Sociedad - ESP<br>Goals Aainst: 37"
         ],
         "textfont": {
          "family": "Ink Free",
          "size": 15
         },
         "textposition": "middle right",
         "type": "scatter",
         "x": [
          0
         ],
         "xaxis": "x",
         "y": [
          6
         ],
         "yaxis": "y"
        },
        {
         "hovertemplate": "Goalkeeper=Manuel Neuer<br>X=%{x}<br>Y=%{y}<br>size_points=%{marker.size}<br>label=%{text}<extra></extra>",
         "legendgroup": "Manuel Neuer",
         "marker": {
          "color": "#365c8d",
          "size": [
           146.05263157894737
          ],
          "sizemode": "area",
          "sizeref": 0.2222222222222222,
          "symbol": "circle"
         },
         "mode": "markers+text",
         "name": "Manuel Neuer",
         "orientation": "v",
         "showlegend": true,
         "text": [
          "<b>Manuel Neuer - Bayern Munich - GER<br>Goals Aainst: 37"
         ],
         "textfont": {
          "family": "Ink Free",
          "size": 15
         },
         "textposition": "middle right",
         "type": "scatter",
         "x": [
          0
         ],
         "xaxis": "x",
         "y": [
          5
         ],
         "yaxis": "y"
        },
        {
         "hovertemplate": "Goalkeeper=Wojciech Szcz?sny<br>X=%{x}<br>Y=%{y}<br>size_points=%{marker.size}<br>label=%{text}<extra></extra>",
         "legendgroup": "Wojciech Szcz?sny",
         "marker": {
          "color": "#3d4e8a",
          "size": [
           153.8421052631579
          ],
          "sizemode": "area",
          "sizeref": 0.2222222222222222,
          "symbol": "circle"
         },
         "mode": "markers+text",
         "name": "Wojciech Szcz?sny",
         "orientation": "v",
         "showlegend": true,
         "text": [
          "<b>Wojciech Szcz?sny - Juventus - ITA<br>Goals Aainst: 37"
         ],
         "textfont": {
          "family": "Ink Free",
          "size": 15
         },
         "textposition": "middle right",
         "type": "scatter",
         "x": [
          0
         ],
         "xaxis": "x",
         "y": [
          4
         ],
         "yaxis": "y"
        },
        {
         "hovertemplate": "Goalkeeper=Pau López<br>X=%{x}<br>Y=%{y}<br>size_points=%{marker.size}<br>label=%{text}<extra></extra>",
         "legendgroup": "Pau López",
         "marker": {
          "color": "#424086",
          "size": [
           166
          ],
          "sizemode": "area",
          "sizeref": 0.2222222222222222,
          "symbol": "circle"
         },
         "mode": "markers+text",
         "name": "Pau López",
         "orientation": "v",
         "showlegend": true,
         "text": [
          "<b>Pau López - Marseille - FRA<br>Goals Aainst: 38"
         ],
         "textfont": {
          "family": "Ink Free",
          "size": 15
         },
         "textposition": "middle right",
         "type": "scatter",
         "x": [
          0
         ],
         "xaxis": "x",
         "y": [
          3
         ],
         "yaxis": "y"
        },
        {
         "hovertemplate": "Goalkeeper=Marc-André ter Stegen<br>X=%{x}<br>Y=%{y}<br>size_points=%{marker.size}<br>label=%{text}<extra></extra>",
         "legendgroup": "Marc-André ter Stegen",
         "marker": {
          "color": "#46327e",
          "size": [
           173.99999999999997
          ],
          "sizemode": "area",
          "sizeref": 0.2222222222222222,
          "symbol": "circle"
         },
         "mode": "markers+text",
         "name": "Marc-André ter Stegen",
         "orientation": "v",
         "showlegend": true,
         "text": [
          "<b>Marc-André ter Stegen - Barcelona - ESP<br>Goals Aainst: 38"
         ],
         "textfont": {
          "family": "Ink Free",
          "size": 15
         },
         "textposition": "middle right",
         "type": "scatter",
         "x": [
          0
         ],
         "xaxis": "x",
         "y": [
          2
         ],
         "yaxis": "y"
        },
        {
         "hovertemplate": "Goalkeeper=Rui Silva<br>X=%{x}<br>Y=%{y}<br>size_points=%{marker.size}<br>label=%{text}<extra></extra>",
         "legendgroup": "Rui Silva",
         "marker": {
          "color": "#482374",
          "size": [
           191.57894736842104
          ],
          "sizemode": "area",
          "sizeref": 0.2222222222222222,
          "symbol": "circle"
         },
         "mode": "markers+text",
         "name": "Rui Silva",
         "orientation": "v",
         "showlegend": true,
         "text": [
          "<b>Rui Silva - Betis - ESP<br>Goals Aainst: 40"
         ],
         "textfont": {
          "family": "Ink Free",
          "size": 15
         },
         "textposition": "middle right",
         "type": "scatter",
         "x": [
          0
         ],
         "xaxis": "x",
         "y": [
          1
         ],
         "yaxis": "y"
        },
        {
         "hovertemplate": "Goalkeeper=Hugo Lloris<br>X=%{x}<br>Y=%{y}<br>size_points=%{marker.size}<br>label=%{text}<extra></extra>",
         "legendgroup": "Hugo Lloris",
         "marker": {
          "color": "#471365",
          "size": [
           200
          ],
          "sizemode": "area",
          "sizeref": 0.2222222222222222,
          "symbol": "circle"
         },
         "mode": "markers+text",
         "name": "Hugo Lloris",
         "orientation": "v",
         "showlegend": true,
         "text": [
          "<b>Hugo Lloris - Tottenham - ENG<br>Goals Aainst: 40"
         ],
         "textfont": {
          "family": "Ink Free",
          "size": 15
         },
         "textposition": "middle right",
         "type": "scatter",
         "x": [
          0
         ],
         "xaxis": "x",
         "y": [
          0
         ],
         "yaxis": "y"
        }
       ],
       "layout": {
        "height": 1100,
        "legend": {
         "itemsizing": "constant",
         "title": {
          "text": "Goalkeeper"
         },
         "tracegroupgap": 0
        },
        "margin": {
         "b": 0,
         "l": 0,
         "r": 0,
         "t": 0
        },
        "showlegend": false,
        "template": {
         "data": {
          "bar": [
           {
            "error_x": {
             "color": "rgb(36,36,36)"
            },
            "error_y": {
             "color": "rgb(36,36,36)"
            },
            "marker": {
             "line": {
              "color": "white",
              "width": 0.5
             },
             "pattern": {
              "fillmode": "overlay",
              "size": 10,
              "solidity": 0.2
             }
            },
            "type": "bar"
           }
          ],
          "barpolar": [
           {
            "marker": {
             "line": {
              "color": "white",
              "width": 0.5
             },
             "pattern": {
              "fillmode": "overlay",
              "size": 10,
              "solidity": 0.2
             }
            },
            "type": "barpolar"
           }
          ],
          "carpet": [
           {
            "aaxis": {
             "endlinecolor": "rgb(36,36,36)",
             "gridcolor": "white",
             "linecolor": "white",
             "minorgridcolor": "white",
             "startlinecolor": "rgb(36,36,36)"
            },
            "baxis": {
             "endlinecolor": "rgb(36,36,36)",
             "gridcolor": "white",
             "linecolor": "white",
             "minorgridcolor": "white",
             "startlinecolor": "rgb(36,36,36)"
            },
            "type": "carpet"
           }
          ],
          "choropleth": [
           {
            "colorbar": {
             "outlinewidth": 1,
             "tickcolor": "rgb(36,36,36)",
             "ticks": "outside"
            },
            "type": "choropleth"
           }
          ],
          "contour": [
           {
            "colorbar": {
             "outlinewidth": 1,
             "tickcolor": "rgb(36,36,36)",
             "ticks": "outside"
            },
            "colorscale": [
             [
              0,
              "#440154"
             ],
             [
              0.1111111111111111,
              "#482878"
             ],
             [
              0.2222222222222222,
              "#3e4989"
             ],
             [
              0.3333333333333333,
              "#31688e"
             ],
             [
              0.4444444444444444,
              "#26828e"
             ],
             [
              0.5555555555555556,
              "#1f9e89"
             ],
             [
              0.6666666666666666,
              "#35b779"
             ],
             [
              0.7777777777777778,
              "#6ece58"
             ],
             [
              0.8888888888888888,
              "#b5de2b"
             ],
             [
              1,
              "#fde725"
             ]
            ],
            "type": "contour"
           }
          ],
          "contourcarpet": [
           {
            "colorbar": {
             "outlinewidth": 1,
             "tickcolor": "rgb(36,36,36)",
             "ticks": "outside"
            },
            "type": "contourcarpet"
           }
          ],
          "heatmap": [
           {
            "colorbar": {
             "outlinewidth": 1,
             "tickcolor": "rgb(36,36,36)",
             "ticks": "outside"
            },
            "colorscale": [
             [
              0,
              "#440154"
             ],
             [
              0.1111111111111111,
              "#482878"
             ],
             [
              0.2222222222222222,
              "#3e4989"
             ],
             [
              0.3333333333333333,
              "#31688e"
             ],
             [
              0.4444444444444444,
              "#26828e"
             ],
             [
              0.5555555555555556,
              "#1f9e89"
             ],
             [
              0.6666666666666666,
              "#35b779"
             ],
             [
              0.7777777777777778,
              "#6ece58"
             ],
             [
              0.8888888888888888,
              "#b5de2b"
             ],
             [
              1,
              "#fde725"
             ]
            ],
            "type": "heatmap"
           }
          ],
          "heatmapgl": [
           {
            "colorbar": {
             "outlinewidth": 1,
             "tickcolor": "rgb(36,36,36)",
             "ticks": "outside"
            },
            "colorscale": [
             [
              0,
              "#440154"
             ],
             [
              0.1111111111111111,
              "#482878"
             ],
             [
              0.2222222222222222,
              "#3e4989"
             ],
             [
              0.3333333333333333,
              "#31688e"
             ],
             [
              0.4444444444444444,
              "#26828e"
             ],
             [
              0.5555555555555556,
              "#1f9e89"
             ],
             [
              0.6666666666666666,
              "#35b779"
             ],
             [
              0.7777777777777778,
              "#6ece58"
             ],
             [
              0.8888888888888888,
              "#b5de2b"
             ],
             [
              1,
              "#fde725"
             ]
            ],
            "type": "heatmapgl"
           }
          ],
          "histogram": [
           {
            "marker": {
             "line": {
              "color": "white",
              "width": 0.6
             }
            },
            "type": "histogram"
           }
          ],
          "histogram2d": [
           {
            "colorbar": {
             "outlinewidth": 1,
             "tickcolor": "rgb(36,36,36)",
             "ticks": "outside"
            },
            "colorscale": [
             [
              0,
              "#440154"
             ],
             [
              0.1111111111111111,
              "#482878"
             ],
             [
              0.2222222222222222,
              "#3e4989"
             ],
             [
              0.3333333333333333,
              "#31688e"
             ],
             [
              0.4444444444444444,
              "#26828e"
             ],
             [
              0.5555555555555556,
              "#1f9e89"
             ],
             [
              0.6666666666666666,
              "#35b779"
             ],
             [
              0.7777777777777778,
              "#6ece58"
             ],
             [
              0.8888888888888888,
              "#b5de2b"
             ],
             [
              1,
              "#fde725"
             ]
            ],
            "type": "histogram2d"
           }
          ],
          "histogram2dcontour": [
           {
            "colorbar": {
             "outlinewidth": 1,
             "tickcolor": "rgb(36,36,36)",
             "ticks": "outside"
            },
            "colorscale": [
             [
              0,
              "#440154"
             ],
             [
              0.1111111111111111,
              "#482878"
             ],
             [
              0.2222222222222222,
              "#3e4989"
             ],
             [
              0.3333333333333333,
              "#31688e"
             ],
             [
              0.4444444444444444,
              "#26828e"
             ],
             [
              0.5555555555555556,
              "#1f9e89"
             ],
             [
              0.6666666666666666,
              "#35b779"
             ],
             [
              0.7777777777777778,
              "#6ece58"
             ],
             [
              0.8888888888888888,
              "#b5de2b"
             ],
             [
              1,
              "#fde725"
             ]
            ],
            "type": "histogram2dcontour"
           }
          ],
          "mesh3d": [
           {
            "colorbar": {
             "outlinewidth": 1,
             "tickcolor": "rgb(36,36,36)",
             "ticks": "outside"
            },
            "type": "mesh3d"
           }
          ],
          "parcoords": [
           {
            "line": {
             "colorbar": {
              "outlinewidth": 1,
              "tickcolor": "rgb(36,36,36)",
              "ticks": "outside"
             }
            },
            "type": "parcoords"
           }
          ],
          "pie": [
           {
            "automargin": true,
            "type": "pie"
           }
          ],
          "scatter": [
           {
            "fillpattern": {
             "fillmode": "overlay",
             "size": 10,
             "solidity": 0.2
            },
            "type": "scatter"
           }
          ],
          "scatter3d": [
           {
            "line": {
             "colorbar": {
              "outlinewidth": 1,
              "tickcolor": "rgb(36,36,36)",
              "ticks": "outside"
             }
            },
            "marker": {
             "colorbar": {
              "outlinewidth": 1,
              "tickcolor": "rgb(36,36,36)",
              "ticks": "outside"
             }
            },
            "type": "scatter3d"
           }
          ],
          "scattercarpet": [
           {
            "marker": {
             "colorbar": {
              "outlinewidth": 1,
              "tickcolor": "rgb(36,36,36)",
              "ticks": "outside"
             }
            },
            "type": "scattercarpet"
           }
          ],
          "scattergeo": [
           {
            "marker": {
             "colorbar": {
              "outlinewidth": 1,
              "tickcolor": "rgb(36,36,36)",
              "ticks": "outside"
             }
            },
            "type": "scattergeo"
           }
          ],
          "scattergl": [
           {
            "marker": {
             "colorbar": {
              "outlinewidth": 1,
              "tickcolor": "rgb(36,36,36)",
              "ticks": "outside"
             }
            },
            "type": "scattergl"
           }
          ],
          "scattermapbox": [
           {
            "marker": {
             "colorbar": {
              "outlinewidth": 1,
              "tickcolor": "rgb(36,36,36)",
              "ticks": "outside"
             }
            },
            "type": "scattermapbox"
           }
          ],
          "scatterpolar": [
           {
            "marker": {
             "colorbar": {
              "outlinewidth": 1,
              "tickcolor": "rgb(36,36,36)",
              "ticks": "outside"
             }
            },
            "type": "scatterpolar"
           }
          ],
          "scatterpolargl": [
           {
            "marker": {
             "colorbar": {
              "outlinewidth": 1,
              "tickcolor": "rgb(36,36,36)",
              "ticks": "outside"
             }
            },
            "type": "scatterpolargl"
           }
          ],
          "scatterternary": [
           {
            "marker": {
             "colorbar": {
              "outlinewidth": 1,
              "tickcolor": "rgb(36,36,36)",
              "ticks": "outside"
             }
            },
            "type": "scatterternary"
           }
          ],
          "surface": [
           {
            "colorbar": {
             "outlinewidth": 1,
             "tickcolor": "rgb(36,36,36)",
             "ticks": "outside"
            },
            "colorscale": [
             [
              0,
              "#440154"
             ],
             [
              0.1111111111111111,
              "#482878"
             ],
             [
              0.2222222222222222,
              "#3e4989"
             ],
             [
              0.3333333333333333,
              "#31688e"
             ],
             [
              0.4444444444444444,
              "#26828e"
             ],
             [
              0.5555555555555556,
              "#1f9e89"
             ],
             [
              0.6666666666666666,
              "#35b779"
             ],
             [
              0.7777777777777778,
              "#6ece58"
             ],
             [
              0.8888888888888888,
              "#b5de2b"
             ],
             [
              1,
              "#fde725"
             ]
            ],
            "type": "surface"
           }
          ],
          "table": [
           {
            "cells": {
             "fill": {
              "color": "rgb(237,237,237)"
             },
             "line": {
              "color": "white"
             }
            },
            "header": {
             "fill": {
              "color": "rgb(217,217,217)"
             },
             "line": {
              "color": "white"
             }
            },
            "type": "table"
           }
          ]
         },
         "layout": {
          "annotationdefaults": {
           "arrowhead": 0,
           "arrowwidth": 1
          },
          "autotypenumbers": "strict",
          "coloraxis": {
           "colorbar": {
            "outlinewidth": 1,
            "tickcolor": "rgb(36,36,36)",
            "ticks": "outside"
           }
          },
          "colorscale": {
           "diverging": [
            [
             0,
             "rgb(103,0,31)"
            ],
            [
             0.1,
             "rgb(178,24,43)"
            ],
            [
             0.2,
             "rgb(214,96,77)"
            ],
            [
             0.3,
             "rgb(244,165,130)"
            ],
            [
             0.4,
             "rgb(253,219,199)"
            ],
            [
             0.5,
             "rgb(247,247,247)"
            ],
            [
             0.6,
             "rgb(209,229,240)"
            ],
            [
             0.7,
             "rgb(146,197,222)"
            ],
            [
             0.8,
             "rgb(67,147,195)"
            ],
            [
             0.9,
             "rgb(33,102,172)"
            ],
            [
             1,
             "rgb(5,48,97)"
            ]
           ],
           "sequential": [
            [
             0,
             "#440154"
            ],
            [
             0.1111111111111111,
             "#482878"
            ],
            [
             0.2222222222222222,
             "#3e4989"
            ],
            [
             0.3333333333333333,
             "#31688e"
            ],
            [
             0.4444444444444444,
             "#26828e"
            ],
            [
             0.5555555555555556,
             "#1f9e89"
            ],
            [
             0.6666666666666666,
             "#35b779"
            ],
            [
             0.7777777777777778,
             "#6ece58"
            ],
            [
             0.8888888888888888,
             "#b5de2b"
            ],
            [
             1,
             "#fde725"
            ]
           ],
           "sequentialminus": [
            [
             0,
             "#440154"
            ],
            [
             0.1111111111111111,
             "#482878"
            ],
            [
             0.2222222222222222,
             "#3e4989"
            ],
            [
             0.3333333333333333,
             "#31688e"
            ],
            [
             0.4444444444444444,
             "#26828e"
            ],
            [
             0.5555555555555556,
             "#1f9e89"
            ],
            [
             0.6666666666666666,
             "#35b779"
            ],
            [
             0.7777777777777778,
             "#6ece58"
            ],
            [
             0.8888888888888888,
             "#b5de2b"
            ],
            [
             1,
             "#fde725"
            ]
           ]
          },
          "colorway": [
           "#1F77B4",
           "#FF7F0E",
           "#2CA02C",
           "#D62728",
           "#9467BD",
           "#8C564B",
           "#E377C2",
           "#7F7F7F",
           "#BCBD22",
           "#17BECF"
          ],
          "font": {
           "color": "rgb(36,36,36)"
          },
          "geo": {
           "bgcolor": "white",
           "lakecolor": "white",
           "landcolor": "white",
           "showlakes": true,
           "showland": true,
           "subunitcolor": "white"
          },
          "hoverlabel": {
           "align": "left"
          },
          "hovermode": "closest",
          "mapbox": {
           "style": "light"
          },
          "paper_bgcolor": "white",
          "plot_bgcolor": "white",
          "polar": {
           "angularaxis": {
            "gridcolor": "rgb(232,232,232)",
            "linecolor": "rgb(36,36,36)",
            "showgrid": false,
            "showline": true,
            "ticks": "outside"
           },
           "bgcolor": "white",
           "radialaxis": {
            "gridcolor": "rgb(232,232,232)",
            "linecolor": "rgb(36,36,36)",
            "showgrid": false,
            "showline": true,
            "ticks": "outside"
           }
          },
          "scene": {
           "xaxis": {
            "backgroundcolor": "white",
            "gridcolor": "rgb(232,232,232)",
            "gridwidth": 2,
            "linecolor": "rgb(36,36,36)",
            "showbackground": true,
            "showgrid": false,
            "showline": true,
            "ticks": "outside",
            "zeroline": false,
            "zerolinecolor": "rgb(36,36,36)"
           },
           "yaxis": {
            "backgroundcolor": "white",
            "gridcolor": "rgb(232,232,232)",
            "gridwidth": 2,
            "linecolor": "rgb(36,36,36)",
            "showbackground": true,
            "showgrid": false,
            "showline": true,
            "ticks": "outside",
            "zeroline": false,
            "zerolinecolor": "rgb(36,36,36)"
           },
           "zaxis": {
            "backgroundcolor": "white",
            "gridcolor": "rgb(232,232,232)",
            "gridwidth": 2,
            "linecolor": "rgb(36,36,36)",
            "showbackground": true,
            "showgrid": false,
            "showline": true,
            "ticks": "outside",
            "zeroline": false,
            "zerolinecolor": "rgb(36,36,36)"
           }
          },
          "shapedefaults": {
           "fillcolor": "black",
           "line": {
            "width": 0
           },
           "opacity": 0.3
          },
          "ternary": {
           "aaxis": {
            "gridcolor": "rgb(232,232,232)",
            "linecolor": "rgb(36,36,36)",
            "showgrid": false,
            "showline": true,
            "ticks": "outside"
           },
           "baxis": {
            "gridcolor": "rgb(232,232,232)",
            "linecolor": "rgb(36,36,36)",
            "showgrid": false,
            "showline": true,
            "ticks": "outside"
           },
           "bgcolor": "white",
           "caxis": {
            "gridcolor": "rgb(232,232,232)",
            "linecolor": "rgb(36,36,36)",
            "showgrid": false,
            "showline": true,
            "ticks": "outside"
           }
          },
          "title": {
           "x": 0.05
          },
          "xaxis": {
           "automargin": true,
           "gridcolor": "rgb(232,232,232)",
           "linecolor": "rgb(36,36,36)",
           "showgrid": false,
           "showline": true,
           "ticks": "outside",
           "title": {
            "standoff": 15
           },
           "zeroline": false,
           "zerolinecolor": "rgb(36,36,36)"
          },
          "yaxis": {
           "automargin": true,
           "gridcolor": "rgb(232,232,232)",
           "linecolor": "rgb(36,36,36)",
           "showgrid": false,
           "showline": true,
           "ticks": "outside",
           "title": {
            "standoff": 15
           },
           "zeroline": false,
           "zerolinecolor": "rgb(36,36,36)"
          }
         }
        },
        "title": {
         "font": {
          "color": "black",
          "family": "Impact",
          "size": 28
         },
         "text": "Best Goalkeeper",
         "x": 0.78,
         "y": 0.99
        },
        "width": 620,
        "xaxis": {
         "anchor": "y",
         "domain": [
          0,
          1
         ],
         "showgrid": false,
         "title": {
          "text": "X"
         },
         "visible": false,
         "zeroline": false
        },
        "yaxis": {
         "anchor": "x",
         "domain": [
          0,
          1
         ],
         "showgrid": false,
         "title": {
          "text": "Y"
         },
         "visible": false,
         "zeroline": false
        }
       }
      },
      "text/html": [
       "<div>                            <div id=\"0b79593b-c46e-4aff-855c-554a023931e9\" class=\"plotly-graph-div\" style=\"height:1100px; width:620px;\"></div>            <script type=\"text/javascript\">                require([\"plotly\"], function(Plotly) {                    window.PLOTLYENV=window.PLOTLYENV || {};                                    if (document.getElementById(\"0b79593b-c46e-4aff-855c-554a023931e9\")) {                    Plotly.newPlot(                        \"0b79593b-c46e-4aff-855c-554a023931e9\",                        [{\"hovertemplate\":\"Goalkeeper=Alisson<br>X=%{x}<br>Y=%{y}<br>size_points=%{marker.size}<br>label=%{text}<extra></extra>\",\"legendgroup\":\"Alisson\",\"marker\":{\"color\":\"#dfe318\",\"size\":[26.0],\"sizemode\":\"area\",\"sizeref\":0.2222222222222222,\"symbol\":\"circle\"},\"mode\":\"markers+text\",\"name\":\"Alisson\",\"orientation\":\"v\",\"showlegend\":true,\"text\":[\"<b>Alisson - Liverpool - ENG<br>Goals Aainst: 26\"],\"x\":[0],\"xaxis\":\"x\",\"y\":[19],\"yaxis\":\"y\",\"type\":\"scatter\",\"textfont\":{\"family\":\"Ink Free\",\"size\":15},\"textposition\":\"middle right\"},{\"hovertemplate\":\"Goalkeeper=Ederson<br>X=%{x}<br>Y=%{y}<br>size_points=%{marker.size}<br>label=%{text}<extra></extra>\",\"legendgroup\":\"Ederson\",\"marker\":{\"color\":\"#c0df25\",\"size\":[31.473684210526315],\"sizemode\":\"area\",\"sizeref\":0.2222222222222222,\"symbol\":\"circle\"},\"mode\":\"markers+text\",\"name\":\"Ederson\",\"orientation\":\"v\",\"showlegend\":true,\"text\":[\"<b>Ederson - Manchester City - ENG<br>Goals Aainst: 26\"],\"x\":[0],\"xaxis\":\"x\",\"y\":[18],\"yaxis\":\"y\",\"type\":\"scatter\",\"textfont\":{\"family\":\"Ink Free\",\"size\":15},\"textposition\":\"middle right\"},{\"hovertemplate\":\"Goalkeeper=Yassine Bounou<br>X=%{x}<br>Y=%{y}<br>size_points=%{marker.size}<br>label=%{text}<extra></extra>\",\"legendgroup\":\"Yassine Bounou\",\"marker\":{\"color\":\"#a0da39\",\"size\":[42.63157894736842],\"sizemode\":\"area\",\"sizeref\":0.2222222222222222,\"symbol\":\"circle\"},\"mode\":\"markers+text\",\"name\":\"Yassine Bounou\",\"orientation\":\"v\",\"showlegend\":true,\"text\":[\"<b>Yassine Bounou - Sevilla - ESP<br>Goals Aainst: 30\"],\"x\":[0],\"xaxis\":\"x\",\"y\":[17],\"yaxis\":\"y\",\"type\":\"scatter\",\"textfont\":{\"family\":\"Ink Free\",\"size\":15},\"textposition\":\"middle right\"},{\"hovertemplate\":\"Goalkeeper=Thibaut Courtois<br>X=%{x}<br>Y=%{y}<br>size_points=%{marker.size}<br>label=%{text}<extra></extra>\",\"legendgroup\":\"Thibaut Courtois\",\"marker\":{\"color\":\"#81d34d\",\"size\":[50.578947368421055],\"sizemode\":\"area\",\"sizeref\":0.2222222222222222,\"symbol\":\"circle\"},\"mode\":\"markers+text\",\"name\":\"Thibaut Courtois\",\"orientation\":\"v\",\"showlegend\":true,\"text\":[\"<b>Thibaut Courtois - Real Madrid - ESP<br>Goals Aainst: 31\"],\"x\":[0],\"xaxis\":\"x\",\"y\":[16],\"yaxis\":\"y\",\"type\":\"scatter\",\"textfont\":{\"family\":\"Ink Free\",\"size\":15},\"textposition\":\"middle right\"},{\"hovertemplate\":\"Goalkeeper=Mike Maignan<br>X=%{x}<br>Y=%{y}<br>size_points=%{marker.size}<br>label=%{text}<extra></extra>\",\"legendgroup\":\"Mike Maignan\",\"marker\":{\"color\":\"#65cb5e\",\"size\":[57.10526315789473],\"sizemode\":\"area\",\"sizeref\":0.2222222222222222,\"symbol\":\"circle\"},\"mode\":\"markers+text\",\"name\":\"Mike Maignan\",\"orientation\":\"v\",\"showlegend\":true,\"text\":[\"<b>Mike Maignan - Milan - ITA<br>Goals Aainst: 31\"],\"x\":[0],\"xaxis\":\"x\",\"y\":[15],\"yaxis\":\"y\",\"type\":\"scatter\",\"textfont\":{\"family\":\"Ink Free\",\"size\":15},\"textposition\":\"middle right\"},{\"hovertemplate\":\"Goalkeeper=David Ospina<br>X=%{x}<br>Y=%{y}<br>size_points=%{marker.size}<br>label=%{text}<extra></extra>\",\"legendgroup\":\"David Ospina\",\"marker\":{\"color\":\"#4ac16d\",\"size\":[63.63157894736841],\"sizemode\":\"area\",\"sizeref\":0.2222222222222222,\"symbol\":\"circle\"},\"mode\":\"markers+text\",\"name\":\"David Ospina\",\"orientation\":\"v\",\"showlegend\":true,\"text\":[\"<b>David Ospina - Napoli - ITA<br>Goals Aainst: 31\"],\"x\":[0],\"xaxis\":\"x\",\"y\":[14],\"yaxis\":\"y\",\"type\":\"scatter\",\"textfont\":{\"family\":\"Ink Free\",\"size\":15},\"textposition\":\"middle right\"},{\"hovertemplate\":\"Goalkeeper=Samir Handanovi?<br>X=%{x}<br>Y=%{y}<br>size_points=%{marker.size}<br>label=%{text}<extra></extra>\",\"legendgroup\":\"Samir Handanovi?\",\"marker\":{\"color\":\"#35b779\",\"size\":[72.42105263157895],\"sizemode\":\"area\",\"sizeref\":0.2222222222222222,\"symbol\":\"circle\"},\"mode\":\"markers+text\",\"name\":\"Samir Handanovi?\",\"orientation\":\"v\",\"showlegend\":true,\"text\":[\"<b>Samir Handanovi? - Inter - ITA<br>Goals Aainst: 32\"],\"x\":[0],\"xaxis\":\"x\",\"y\":[13],\"yaxis\":\"y\",\"type\":\"scatter\",\"textfont\":{\"family\":\"Ink Free\",\"size\":15},\"textposition\":\"middle right\"},{\"hovertemplate\":\"Goalkeeper=Edouard Mendy<br>X=%{x}<br>Y=%{y}<br>size_points=%{marker.size}<br>label=%{text}<extra></extra>\",\"legendgroup\":\"Edouard Mendy\",\"marker\":{\"color\":\"#26ad81\",\"size\":[81.63157894736842],\"sizemode\":\"area\",\"sizeref\":0.2222222222222222,\"symbol\":\"circle\"},\"mode\":\"markers+text\",\"name\":\"Edouard Mendy\",\"orientation\":\"v\",\"showlegend\":true,\"text\":[\"<b>Edouard Mendy - Chelsea - ENG<br>Goals Aainst: 33\"],\"x\":[0],\"xaxis\":\"x\",\"y\":[12],\"yaxis\":\"y\",\"type\":\"scatter\",\"textfont\":{\"family\":\"Ink Free\",\"size\":15},\"textposition\":\"middle right\"},{\"hovertemplate\":\"Goalkeeper=Walter Ben\\u00edtez<br>X=%{x}<br>Y=%{y}<br>size_points=%{marker.size}<br>label=%{text}<extra></extra>\",\"legendgroup\":\"Walter Ben\\u00edtez\",\"marker\":{\"color\":\"#1fa187\",\"size\":[96.63157894736841],\"sizemode\":\"area\",\"sizeref\":0.2222222222222222,\"symbol\":\"circle\"},\"mode\":\"markers+text\",\"name\":\"Walter Ben\\u00edtez\",\"orientation\":\"v\",\"showlegend\":true,\"text\":[\"<b>Walter Ben\\u00edtez - Nice - FRA<br>Goals Aainst: 36\"],\"x\":[0],\"xaxis\":\"x\",\"y\":[11],\"yaxis\":\"y\",\"type\":\"scatter\",\"textfont\":{\"family\":\"Ink Free\",\"size\":15},\"textposition\":\"middle right\"},{\"hovertemplate\":\"Goalkeeper=Unai Sim\\u00f3n<br>X=%{x}<br>Y=%{y}<br>size_points=%{marker.size}<br>label=%{text}<extra></extra>\",\"legendgroup\":\"Unai Sim\\u00f3n\",\"marker\":{\"color\":\"#1f968b\",\"size\":[104.21052631578947],\"sizemode\":\"area\",\"sizeref\":0.2222222222222222,\"symbol\":\"circle\"},\"mode\":\"markers+text\",\"name\":\"Unai Sim\\u00f3n\",\"orientation\":\"v\",\"showlegend\":true,\"text\":[\"<b>Unai Sim\\u00f3n - Athletic Club - ESP<br>Goals Aainst: 36\"],\"x\":[0],\"xaxis\":\"x\",\"y\":[10],\"yaxis\":\"y\",\"type\":\"scatter\",\"textfont\":{\"family\":\"Ink Free\",\"size\":15},\"textposition\":\"middle right\"},{\"hovertemplate\":\"Goalkeeper=Keylor Navas<br>X=%{x}<br>Y=%{y}<br>size_points=%{marker.size}<br>label=%{text}<extra></extra>\",\"legendgroup\":\"Keylor Navas\",\"marker\":{\"color\":\"#238a8d\",\"size\":[111.78947368421052],\"sizemode\":\"area\",\"sizeref\":0.2222222222222222,\"symbol\":\"circle\"},\"mode\":\"markers+text\",\"name\":\"Keylor Navas\",\"orientation\":\"v\",\"showlegend\":true,\"text\":[\"<b>Keylor Navas - Paris S-G - FRA<br>Goals Aainst: 36\"],\"x\":[0],\"xaxis\":\"x\",\"y\":[9],\"yaxis\":\"y\",\"type\":\"scatter\",\"textfont\":{\"family\":\"Ink Free\",\"size\":15},\"textposition\":\"middle right\"},{\"hovertemplate\":\"Goalkeeper=Ger\\u00f3nimo Rulli<br>X=%{x}<br>Y=%{y}<br>size_points=%{marker.size}<br>label=%{text}<extra></extra>\",\"legendgroup\":\"Ger\\u00f3nimo Rulli\",\"marker\":{\"color\":\"#277f8e\",\"size\":[122.6842105263158],\"sizemode\":\"area\",\"sizeref\":0.2222222222222222,\"symbol\":\"circle\"},\"mode\":\"markers+text\",\"name\":\"Ger\\u00f3nimo Rulli\",\"orientation\":\"v\",\"showlegend\":true,\"text\":[\"<b>Ger\\u00f3nimo Rulli - Villarreal - ESP<br>Goals Aainst: 37\"],\"x\":[0],\"xaxis\":\"x\",\"y\":[8],\"yaxis\":\"y\",\"type\":\"scatter\",\"textfont\":{\"family\":\"Ink Free\",\"size\":15},\"textposition\":\"middle right\"},{\"hovertemplate\":\"Goalkeeper=P\\u00e9ter Gul\\u00e1csi<br>X=%{x}<br>Y=%{y}<br>size_points=%{marker.size}<br>label=%{text}<extra></extra>\",\"legendgroup\":\"P\\u00e9ter Gul\\u00e1csi\",\"marker\":{\"color\":\"#2c738e\",\"size\":[130.4736842105263],\"sizemode\":\"area\",\"sizeref\":0.2222222222222222,\"symbol\":\"circle\"},\"mode\":\"markers+text\",\"name\":\"P\\u00e9ter Gul\\u00e1csi\",\"orientation\":\"v\",\"showlegend\":true,\"text\":[\"<b>P\\u00e9ter Gul\\u00e1csi - RB Leipzig - GER<br>Goals Aainst: 37\"],\"x\":[0],\"xaxis\":\"x\",\"y\":[7],\"yaxis\":\"y\",\"type\":\"scatter\",\"textfont\":{\"family\":\"Ink Free\",\"size\":15},\"textposition\":\"middle right\"},{\"hovertemplate\":\"Goalkeeper=\\u00c1lex Remiro<br>X=%{x}<br>Y=%{y}<br>size_points=%{marker.size}<br>label=%{text}<extra></extra>\",\"legendgroup\":\"\\u00c1lex Remiro\",\"marker\":{\"color\":\"#31688e\",\"size\":[138.26315789473682],\"sizemode\":\"area\",\"sizeref\":0.2222222222222222,\"symbol\":\"circle\"},\"mode\":\"markers+text\",\"name\":\"\\u00c1lex Remiro\",\"orientation\":\"v\",\"showlegend\":true,\"text\":[\"<b>\\u00c1lex Remiro - Real Sociedad - ESP<br>Goals Aainst: 37\"],\"x\":[0],\"xaxis\":\"x\",\"y\":[6],\"yaxis\":\"y\",\"type\":\"scatter\",\"textfont\":{\"family\":\"Ink Free\",\"size\":15},\"textposition\":\"middle right\"},{\"hovertemplate\":\"Goalkeeper=Manuel Neuer<br>X=%{x}<br>Y=%{y}<br>size_points=%{marker.size}<br>label=%{text}<extra></extra>\",\"legendgroup\":\"Manuel Neuer\",\"marker\":{\"color\":\"#365c8d\",\"size\":[146.05263157894737],\"sizemode\":\"area\",\"sizeref\":0.2222222222222222,\"symbol\":\"circle\"},\"mode\":\"markers+text\",\"name\":\"Manuel Neuer\",\"orientation\":\"v\",\"showlegend\":true,\"text\":[\"<b>Manuel Neuer - Bayern Munich - GER<br>Goals Aainst: 37\"],\"x\":[0],\"xaxis\":\"x\",\"y\":[5],\"yaxis\":\"y\",\"type\":\"scatter\",\"textfont\":{\"family\":\"Ink Free\",\"size\":15},\"textposition\":\"middle right\"},{\"hovertemplate\":\"Goalkeeper=Wojciech Szcz?sny<br>X=%{x}<br>Y=%{y}<br>size_points=%{marker.size}<br>label=%{text}<extra></extra>\",\"legendgroup\":\"Wojciech Szcz?sny\",\"marker\":{\"color\":\"#3d4e8a\",\"size\":[153.8421052631579],\"sizemode\":\"area\",\"sizeref\":0.2222222222222222,\"symbol\":\"circle\"},\"mode\":\"markers+text\",\"name\":\"Wojciech Szcz?sny\",\"orientation\":\"v\",\"showlegend\":true,\"text\":[\"<b>Wojciech Szcz?sny - Juventus - ITA<br>Goals Aainst: 37\"],\"x\":[0],\"xaxis\":\"x\",\"y\":[4],\"yaxis\":\"y\",\"type\":\"scatter\",\"textfont\":{\"family\":\"Ink Free\",\"size\":15},\"textposition\":\"middle right\"},{\"hovertemplate\":\"Goalkeeper=Pau L\\u00f3pez<br>X=%{x}<br>Y=%{y}<br>size_points=%{marker.size}<br>label=%{text}<extra></extra>\",\"legendgroup\":\"Pau L\\u00f3pez\",\"marker\":{\"color\":\"#424086\",\"size\":[166.0],\"sizemode\":\"area\",\"sizeref\":0.2222222222222222,\"symbol\":\"circle\"},\"mode\":\"markers+text\",\"name\":\"Pau L\\u00f3pez\",\"orientation\":\"v\",\"showlegend\":true,\"text\":[\"<b>Pau L\\u00f3pez - Marseille - FRA<br>Goals Aainst: 38\"],\"x\":[0],\"xaxis\":\"x\",\"y\":[3],\"yaxis\":\"y\",\"type\":\"scatter\",\"textfont\":{\"family\":\"Ink Free\",\"size\":15},\"textposition\":\"middle right\"},{\"hovertemplate\":\"Goalkeeper=Marc-Andr\\u00e9 ter Stegen<br>X=%{x}<br>Y=%{y}<br>size_points=%{marker.size}<br>label=%{text}<extra></extra>\",\"legendgroup\":\"Marc-Andr\\u00e9 ter Stegen\",\"marker\":{\"color\":\"#46327e\",\"size\":[173.99999999999997],\"sizemode\":\"area\",\"sizeref\":0.2222222222222222,\"symbol\":\"circle\"},\"mode\":\"markers+text\",\"name\":\"Marc-Andr\\u00e9 ter Stegen\",\"orientation\":\"v\",\"showlegend\":true,\"text\":[\"<b>Marc-Andr\\u00e9 ter Stegen - Barcelona - ESP<br>Goals Aainst: 38\"],\"x\":[0],\"xaxis\":\"x\",\"y\":[2],\"yaxis\":\"y\",\"type\":\"scatter\",\"textfont\":{\"family\":\"Ink Free\",\"size\":15},\"textposition\":\"middle right\"},{\"hovertemplate\":\"Goalkeeper=Rui Silva<br>X=%{x}<br>Y=%{y}<br>size_points=%{marker.size}<br>label=%{text}<extra></extra>\",\"legendgroup\":\"Rui Silva\",\"marker\":{\"color\":\"#482374\",\"size\":[191.57894736842104],\"sizemode\":\"area\",\"sizeref\":0.2222222222222222,\"symbol\":\"circle\"},\"mode\":\"markers+text\",\"name\":\"Rui Silva\",\"orientation\":\"v\",\"showlegend\":true,\"text\":[\"<b>Rui Silva - Betis - ESP<br>Goals Aainst: 40\"],\"x\":[0],\"xaxis\":\"x\",\"y\":[1],\"yaxis\":\"y\",\"type\":\"scatter\",\"textfont\":{\"family\":\"Ink Free\",\"size\":15},\"textposition\":\"middle right\"},{\"hovertemplate\":\"Goalkeeper=Hugo Lloris<br>X=%{x}<br>Y=%{y}<br>size_points=%{marker.size}<br>label=%{text}<extra></extra>\",\"legendgroup\":\"Hugo Lloris\",\"marker\":{\"color\":\"#471365\",\"size\":[200.0],\"sizemode\":\"area\",\"sizeref\":0.2222222222222222,\"symbol\":\"circle\"},\"mode\":\"markers+text\",\"name\":\"Hugo Lloris\",\"orientation\":\"v\",\"showlegend\":true,\"text\":[\"<b>Hugo Lloris - Tottenham - ENG<br>Goals Aainst: 40\"],\"x\":[0],\"xaxis\":\"x\",\"y\":[0],\"yaxis\":\"y\",\"type\":\"scatter\",\"textfont\":{\"family\":\"Ink Free\",\"size\":15},\"textposition\":\"middle right\"}],                        {\"template\":{\"data\":{\"barpolar\":[{\"marker\":{\"line\":{\"color\":\"white\",\"width\":0.5},\"pattern\":{\"fillmode\":\"overlay\",\"size\":10,\"solidity\":0.2}},\"type\":\"barpolar\"}],\"bar\":[{\"error_x\":{\"color\":\"rgb(36,36,36)\"},\"error_y\":{\"color\":\"rgb(36,36,36)\"},\"marker\":{\"line\":{\"color\":\"white\",\"width\":0.5},\"pattern\":{\"fillmode\":\"overlay\",\"size\":10,\"solidity\":0.2}},\"type\":\"bar\"}],\"carpet\":[{\"aaxis\":{\"endlinecolor\":\"rgb(36,36,36)\",\"gridcolor\":\"white\",\"linecolor\":\"white\",\"minorgridcolor\":\"white\",\"startlinecolor\":\"rgb(36,36,36)\"},\"baxis\":{\"endlinecolor\":\"rgb(36,36,36)\",\"gridcolor\":\"white\",\"linecolor\":\"white\",\"minorgridcolor\":\"white\",\"startlinecolor\":\"rgb(36,36,36)\"},\"type\":\"carpet\"}],\"choropleth\":[{\"colorbar\":{\"outlinewidth\":1,\"tickcolor\":\"rgb(36,36,36)\",\"ticks\":\"outside\"},\"type\":\"choropleth\"}],\"contourcarpet\":[{\"colorbar\":{\"outlinewidth\":1,\"tickcolor\":\"rgb(36,36,36)\",\"ticks\":\"outside\"},\"type\":\"contourcarpet\"}],\"contour\":[{\"colorbar\":{\"outlinewidth\":1,\"tickcolor\":\"rgb(36,36,36)\",\"ticks\":\"outside\"},\"colorscale\":[[0.0,\"#440154\"],[0.1111111111111111,\"#482878\"],[0.2222222222222222,\"#3e4989\"],[0.3333333333333333,\"#31688e\"],[0.4444444444444444,\"#26828e\"],[0.5555555555555556,\"#1f9e89\"],[0.6666666666666666,\"#35b779\"],[0.7777777777777778,\"#6ece58\"],[0.8888888888888888,\"#b5de2b\"],[1.0,\"#fde725\"]],\"type\":\"contour\"}],\"heatmapgl\":[{\"colorbar\":{\"outlinewidth\":1,\"tickcolor\":\"rgb(36,36,36)\",\"ticks\":\"outside\"},\"colorscale\":[[0.0,\"#440154\"],[0.1111111111111111,\"#482878\"],[0.2222222222222222,\"#3e4989\"],[0.3333333333333333,\"#31688e\"],[0.4444444444444444,\"#26828e\"],[0.5555555555555556,\"#1f9e89\"],[0.6666666666666666,\"#35b779\"],[0.7777777777777778,\"#6ece58\"],[0.8888888888888888,\"#b5de2b\"],[1.0,\"#fde725\"]],\"type\":\"heatmapgl\"}],\"heatmap\":[{\"colorbar\":{\"outlinewidth\":1,\"tickcolor\":\"rgb(36,36,36)\",\"ticks\":\"outside\"},\"colorscale\":[[0.0,\"#440154\"],[0.1111111111111111,\"#482878\"],[0.2222222222222222,\"#3e4989\"],[0.3333333333333333,\"#31688e\"],[0.4444444444444444,\"#26828e\"],[0.5555555555555556,\"#1f9e89\"],[0.6666666666666666,\"#35b779\"],[0.7777777777777778,\"#6ece58\"],[0.8888888888888888,\"#b5de2b\"],[1.0,\"#fde725\"]],\"type\":\"heatmap\"}],\"histogram2dcontour\":[{\"colorbar\":{\"outlinewidth\":1,\"tickcolor\":\"rgb(36,36,36)\",\"ticks\":\"outside\"},\"colorscale\":[[0.0,\"#440154\"],[0.1111111111111111,\"#482878\"],[0.2222222222222222,\"#3e4989\"],[0.3333333333333333,\"#31688e\"],[0.4444444444444444,\"#26828e\"],[0.5555555555555556,\"#1f9e89\"],[0.6666666666666666,\"#35b779\"],[0.7777777777777778,\"#6ece58\"],[0.8888888888888888,\"#b5de2b\"],[1.0,\"#fde725\"]],\"type\":\"histogram2dcontour\"}],\"histogram2d\":[{\"colorbar\":{\"outlinewidth\":1,\"tickcolor\":\"rgb(36,36,36)\",\"ticks\":\"outside\"},\"colorscale\":[[0.0,\"#440154\"],[0.1111111111111111,\"#482878\"],[0.2222222222222222,\"#3e4989\"],[0.3333333333333333,\"#31688e\"],[0.4444444444444444,\"#26828e\"],[0.5555555555555556,\"#1f9e89\"],[0.6666666666666666,\"#35b779\"],[0.7777777777777778,\"#6ece58\"],[0.8888888888888888,\"#b5de2b\"],[1.0,\"#fde725\"]],\"type\":\"histogram2d\"}],\"histogram\":[{\"marker\":{\"line\":{\"color\":\"white\",\"width\":0.6}},\"type\":\"histogram\"}],\"mesh3d\":[{\"colorbar\":{\"outlinewidth\":1,\"tickcolor\":\"rgb(36,36,36)\",\"ticks\":\"outside\"},\"type\":\"mesh3d\"}],\"parcoords\":[{\"line\":{\"colorbar\":{\"outlinewidth\":1,\"tickcolor\":\"rgb(36,36,36)\",\"ticks\":\"outside\"}},\"type\":\"parcoords\"}],\"pie\":[{\"automargin\":true,\"type\":\"pie\"}],\"scatter3d\":[{\"line\":{\"colorbar\":{\"outlinewidth\":1,\"tickcolor\":\"rgb(36,36,36)\",\"ticks\":\"outside\"}},\"marker\":{\"colorbar\":{\"outlinewidth\":1,\"tickcolor\":\"rgb(36,36,36)\",\"ticks\":\"outside\"}},\"type\":\"scatter3d\"}],\"scattercarpet\":[{\"marker\":{\"colorbar\":{\"outlinewidth\":1,\"tickcolor\":\"rgb(36,36,36)\",\"ticks\":\"outside\"}},\"type\":\"scattercarpet\"}],\"scattergeo\":[{\"marker\":{\"colorbar\":{\"outlinewidth\":1,\"tickcolor\":\"rgb(36,36,36)\",\"ticks\":\"outside\"}},\"type\":\"scattergeo\"}],\"scattergl\":[{\"marker\":{\"colorbar\":{\"outlinewidth\":1,\"tickcolor\":\"rgb(36,36,36)\",\"ticks\":\"outside\"}},\"type\":\"scattergl\"}],\"scattermapbox\":[{\"marker\":{\"colorbar\":{\"outlinewidth\":1,\"tickcolor\":\"rgb(36,36,36)\",\"ticks\":\"outside\"}},\"type\":\"scattermapbox\"}],\"scatterpolargl\":[{\"marker\":{\"colorbar\":{\"outlinewidth\":1,\"tickcolor\":\"rgb(36,36,36)\",\"ticks\":\"outside\"}},\"type\":\"scatterpolargl\"}],\"scatterpolar\":[{\"marker\":{\"colorbar\":{\"outlinewidth\":1,\"tickcolor\":\"rgb(36,36,36)\",\"ticks\":\"outside\"}},\"type\":\"scatterpolar\"}],\"scatter\":[{\"fillpattern\":{\"fillmode\":\"overlay\",\"size\":10,\"solidity\":0.2},\"type\":\"scatter\"}],\"scatterternary\":[{\"marker\":{\"colorbar\":{\"outlinewidth\":1,\"tickcolor\":\"rgb(36,36,36)\",\"ticks\":\"outside\"}},\"type\":\"scatterternary\"}],\"surface\":[{\"colorbar\":{\"outlinewidth\":1,\"tickcolor\":\"rgb(36,36,36)\",\"ticks\":\"outside\"},\"colorscale\":[[0.0,\"#440154\"],[0.1111111111111111,\"#482878\"],[0.2222222222222222,\"#3e4989\"],[0.3333333333333333,\"#31688e\"],[0.4444444444444444,\"#26828e\"],[0.5555555555555556,\"#1f9e89\"],[0.6666666666666666,\"#35b779\"],[0.7777777777777778,\"#6ece58\"],[0.8888888888888888,\"#b5de2b\"],[1.0,\"#fde725\"]],\"type\":\"surface\"}],\"table\":[{\"cells\":{\"fill\":{\"color\":\"rgb(237,237,237)\"},\"line\":{\"color\":\"white\"}},\"header\":{\"fill\":{\"color\":\"rgb(217,217,217)\"},\"line\":{\"color\":\"white\"}},\"type\":\"table\"}]},\"layout\":{\"annotationdefaults\":{\"arrowhead\":0,\"arrowwidth\":1},\"autotypenumbers\":\"strict\",\"coloraxis\":{\"colorbar\":{\"outlinewidth\":1,\"tickcolor\":\"rgb(36,36,36)\",\"ticks\":\"outside\"}},\"colorscale\":{\"diverging\":[[0.0,\"rgb(103,0,31)\"],[0.1,\"rgb(178,24,43)\"],[0.2,\"rgb(214,96,77)\"],[0.3,\"rgb(244,165,130)\"],[0.4,\"rgb(253,219,199)\"],[0.5,\"rgb(247,247,247)\"],[0.6,\"rgb(209,229,240)\"],[0.7,\"rgb(146,197,222)\"],[0.8,\"rgb(67,147,195)\"],[0.9,\"rgb(33,102,172)\"],[1.0,\"rgb(5,48,97)\"]],\"sequential\":[[0.0,\"#440154\"],[0.1111111111111111,\"#482878\"],[0.2222222222222222,\"#3e4989\"],[0.3333333333333333,\"#31688e\"],[0.4444444444444444,\"#26828e\"],[0.5555555555555556,\"#1f9e89\"],[0.6666666666666666,\"#35b779\"],[0.7777777777777778,\"#6ece58\"],[0.8888888888888888,\"#b5de2b\"],[1.0,\"#fde725\"]],\"sequentialminus\":[[0.0,\"#440154\"],[0.1111111111111111,\"#482878\"],[0.2222222222222222,\"#3e4989\"],[0.3333333333333333,\"#31688e\"],[0.4444444444444444,\"#26828e\"],[0.5555555555555556,\"#1f9e89\"],[0.6666666666666666,\"#35b779\"],[0.7777777777777778,\"#6ece58\"],[0.8888888888888888,\"#b5de2b\"],[1.0,\"#fde725\"]]},\"colorway\":[\"#1F77B4\",\"#FF7F0E\",\"#2CA02C\",\"#D62728\",\"#9467BD\",\"#8C564B\",\"#E377C2\",\"#7F7F7F\",\"#BCBD22\",\"#17BECF\"],\"font\":{\"color\":\"rgb(36,36,36)\"},\"geo\":{\"bgcolor\":\"white\",\"lakecolor\":\"white\",\"landcolor\":\"white\",\"showlakes\":true,\"showland\":true,\"subunitcolor\":\"white\"},\"hoverlabel\":{\"align\":\"left\"},\"hovermode\":\"closest\",\"mapbox\":{\"style\":\"light\"},\"paper_bgcolor\":\"white\",\"plot_bgcolor\":\"white\",\"polar\":{\"angularaxis\":{\"gridcolor\":\"rgb(232,232,232)\",\"linecolor\":\"rgb(36,36,36)\",\"showgrid\":false,\"showline\":true,\"ticks\":\"outside\"},\"bgcolor\":\"white\",\"radialaxis\":{\"gridcolor\":\"rgb(232,232,232)\",\"linecolor\":\"rgb(36,36,36)\",\"showgrid\":false,\"showline\":true,\"ticks\":\"outside\"}},\"scene\":{\"xaxis\":{\"backgroundcolor\":\"white\",\"gridcolor\":\"rgb(232,232,232)\",\"gridwidth\":2,\"linecolor\":\"rgb(36,36,36)\",\"showbackground\":true,\"showgrid\":false,\"showline\":true,\"ticks\":\"outside\",\"zeroline\":false,\"zerolinecolor\":\"rgb(36,36,36)\"},\"yaxis\":{\"backgroundcolor\":\"white\",\"gridcolor\":\"rgb(232,232,232)\",\"gridwidth\":2,\"linecolor\":\"rgb(36,36,36)\",\"showbackground\":true,\"showgrid\":false,\"showline\":true,\"ticks\":\"outside\",\"zeroline\":false,\"zerolinecolor\":\"rgb(36,36,36)\"},\"zaxis\":{\"backgroundcolor\":\"white\",\"gridcolor\":\"rgb(232,232,232)\",\"gridwidth\":2,\"linecolor\":\"rgb(36,36,36)\",\"showbackground\":true,\"showgrid\":false,\"showline\":true,\"ticks\":\"outside\",\"zeroline\":false,\"zerolinecolor\":\"rgb(36,36,36)\"}},\"shapedefaults\":{\"fillcolor\":\"black\",\"line\":{\"width\":0},\"opacity\":0.3},\"ternary\":{\"aaxis\":{\"gridcolor\":\"rgb(232,232,232)\",\"linecolor\":\"rgb(36,36,36)\",\"showgrid\":false,\"showline\":true,\"ticks\":\"outside\"},\"baxis\":{\"gridcolor\":\"rgb(232,232,232)\",\"linecolor\":\"rgb(36,36,36)\",\"showgrid\":false,\"showline\":true,\"ticks\":\"outside\"},\"bgcolor\":\"white\",\"caxis\":{\"gridcolor\":\"rgb(232,232,232)\",\"linecolor\":\"rgb(36,36,36)\",\"showgrid\":false,\"showline\":true,\"ticks\":\"outside\"}},\"title\":{\"x\":0.05},\"xaxis\":{\"automargin\":true,\"gridcolor\":\"rgb(232,232,232)\",\"linecolor\":\"rgb(36,36,36)\",\"showgrid\":false,\"showline\":true,\"ticks\":\"outside\",\"title\":{\"standoff\":15},\"zeroline\":false,\"zerolinecolor\":\"rgb(36,36,36)\"},\"yaxis\":{\"automargin\":true,\"gridcolor\":\"rgb(232,232,232)\",\"linecolor\":\"rgb(36,36,36)\",\"showgrid\":false,\"showline\":true,\"ticks\":\"outside\",\"title\":{\"standoff\":15},\"zeroline\":false,\"zerolinecolor\":\"rgb(36,36,36)\"}}},\"xaxis\":{\"anchor\":\"y\",\"domain\":[0.0,1.0],\"title\":{\"text\":\"X\"},\"showgrid\":false,\"visible\":false,\"zeroline\":false},\"yaxis\":{\"anchor\":\"x\",\"domain\":[0.0,1.0],\"title\":{\"text\":\"Y\"},\"showgrid\":false,\"visible\":false,\"zeroline\":false},\"legend\":{\"title\":{\"text\":\"Goalkeeper\"},\"tracegroupgap\":0,\"itemsizing\":\"constant\"},\"title\":{\"text\":\"Best Goalkeeper\",\"font\":{\"size\":28,\"family\":\"Impact\",\"color\":\"black\"},\"x\":0.78,\"y\":0.99},\"margin\":{\"t\":0,\"l\":0,\"r\":0,\"b\":0},\"width\":620,\"height\":1100,\"showlegend\":false},                        {\"responsive\": true}                    ).then(function(){\n",
       "                            \n",
       "var gd = document.getElementById('0b79593b-c46e-4aff-855c-554a023931e9');\n",
       "var x = new MutationObserver(function (mutations, observer) {{\n",
       "        var display = window.getComputedStyle(gd).display;\n",
       "        if (!display || display === 'none') {{\n",
       "            console.log([gd, 'removed!']);\n",
       "            Plotly.purge(gd);\n",
       "            observer.disconnect();\n",
       "        }}\n",
       "}});\n",
       "\n",
       "// Listen for the removal of the full notebook cells\n",
       "var notebookContainer = gd.closest('#notebook-container');\n",
       "if (notebookContainer) {{\n",
       "    x.observe(notebookContainer, {childList: true});\n",
       "}}\n",
       "\n",
       "// Listen for the clearing of the current output cell\n",
       "var outputEl = gd.closest('.output');\n",
       "if (outputEl) {{\n",
       "    x.observe(outputEl, {childList: true});\n",
       "}}\n",
       "\n",
       "                        })                };                });            </script>        </div>"
      ]
     },
     "metadata": {},
     "output_type": "display_data"
    }
   ],
   "source": [
    "#Ploteamos\n",
    "\n",
    "fig = px.scatter(goal_keeper, x='X', y='Y', size=\"size_points\", \n",
    "                color=\"Goalkeeper\", \n",
    "                text=\"label\", \n",
    "                color_discrete_sequence=get_color('viridis_r', len(goal_keeper)),\n",
    "                 title = \"Best Goalkeeper\",\n",
    "                size_max=30,\n",
    "                template='simple_white')\n",
    "fig.update_traces(textposition='middle right',\n",
    "                 textfont_size=15, \n",
    "                 textfont_family='Ink Free')\n",
    "fig.update_xaxes(showgrid=False, visible=False, zeroline=False)\n",
    "fig.update_yaxes(showgrid=False, visible=False, zeroline=False)\n",
    "fig.update_layout(title={'x': 0.78, 'y': 0.99},\n",
    "                 title_font_size=28,\n",
    "                 title_font_family='Impact',\n",
    "                 title_font_color='black',\n",
    "                 width=620, \n",
    "                 height=1100, \n",
    "                 margin=dict(t=0, l=0, r=0, b=0),\n",
    "                 showlegend=False)\n"
   ]
  },
  {
   "cell_type": "markdown",
   "id": "a5afb62b",
   "metadata": {},
   "source": [
    "Mejor asistencia al estadio en europa "
   ]
  },
  {
   "cell_type": "code",
   "execution_count": 28,
   "id": "c4f88f76",
   "metadata": {},
   "outputs": [
    {
     "name": "stderr",
     "output_type": "stream",
     "text": [
      "C:\\Users\\angel\\AppData\\Local\\Temp\\ipykernel_3020\\3577675530.py:2: SettingWithCopyWarning:\n",
      "\n",
      "\n",
      "A value is trying to be set on a copy of a slice from a DataFrame.\n",
      "Try using .loc[row_indexer,col_indexer] = value instead\n",
      "\n",
      "See the caveats in the documentation: https://pandas.pydata.org/pandas-docs/stable/user_guide/indexing.html#returning-a-view-versus-a-copy\n",
      "\n",
      "C:\\Users\\angel\\AppData\\Local\\Temp\\ipykernel_3020\\3577675530.py:3: SettingWithCopyWarning:\n",
      "\n",
      "\n",
      "A value is trying to be set on a copy of a slice from a DataFrame.\n",
      "Try using .loc[row_indexer,col_indexer] = value instead\n",
      "\n",
      "See the caveats in the documentation: https://pandas.pydata.org/pandas-docs/stable/user_guide/indexing.html#returning-a-view-versus-a-copy\n",
      "\n"
     ]
    }
   ],
   "source": [
    "Attendance = data[[\"Squad\", \"Country\", \"Attendance\"]] #Attendance dataframe\n",
    "Attendance[\"squad/country\"] = Attendance[[\"Squad\", \"Country\"]].agg(\" - \".join, axis=1)\n",
    "Attendance[\"label\"] = [i+'\\n'+format(j, '') for i, j in zip(Attendance[\"squad/country\"], Attendance[\"Attendance\"])]\n",
    "Attendance = Attendance[:25].sort_values(by=\"Attendance\", ascending=False)"
   ]
  },
  {
   "cell_type": "code",
   "execution_count": 29,
   "id": "63335928",
   "metadata": {},
   "outputs": [
    {
     "data": {
      "image/png": "[encoded data removed]",
      "text/plain": [
       "<Figure size 1400x1400 with 1 Axes>"
      ]
     },
     "metadata": {},
     "output_type": "display_data"
    }
   ],
   "source": [
    "#Ploteamos grafico circular\n",
    "\n",
    "plt.figure(figsize=(14, 14))\n",
    "sns.set_style('whitegrid')\n",
    "ax = plt.subplot(111, polar=True)\n",
    "ax.grid(False)\n",
    "plt.axis(\"off\")\n",
    "fontlabels = {\n",
    "    'family': 'Microsoft Tai Le',\n",
    "    'color': 'black',\n",
    "    'size': '10',\n",
    "}\n",
    "\n",
    "lowerlimit=0\n",
    "heights=list(Attendance[\"Attendance\"])\n",
    "width=2*np.pi/len(Attendance)\n",
    "indexes = [i for i in range(1, len(Attendance)+1)]\n",
    "angles = [element*width for element in range(len(Attendance))]\n",
    "bars = ax.bar(x=angles, height=heights, width=width, bottom=lowerlimit,\n",
    "             linewidth=1, edgecolor='white', color=get_color('vlag_r', len(Attendance)))\n",
    "\n",
    "labelpadding = 15\n",
    "\n",
    "for bar, angle, height, label in zip(bars, angles, heights, Attendance[\"label\"]):\n",
    "    rotation = np.rad2deg(angle)\n",
    "    alignement=\"\"\n",
    "    if (angle > np.pi/2) & (angle < 3*np.pi/2): \n",
    "        alignement=\"right\"\n",
    "        rotation = rotation + 180\n",
    "    else : \n",
    "        alignement =\"left\"\n",
    "    ax.text(x=angle, y=lowerlimit+bar.get_height()+labelpadding,\n",
    "           s=label, ha=alignement, va='center', rotation=rotation,\n",
    "           rotation_mode='anchor',\n",
    "           multialignment='center',\n",
    "           fontdict=fontlabels)\n",
    "    ax.set_thetagrids([], labels=[])\n",
    "    ax.set_rlabel_position(-14)\n",
    "    ax.set_title(\"Attendance per Squand and Country\", fontdict={'fontsize': 26, 'fontfamily': 'Impact'}, loc='center',y=0.13)\n",
    "plt.show()"
   ]
  },
  {
   "cell_type": "markdown",
   "id": "d42a0e73",
   "metadata": {},
   "source": [
    "Ahora se visualizaran los partidos ganados, perdidos y empatados, de los cinco mejores equipos de cada liga"
   ]
  },
  {
   "cell_type": "code",
   "execution_count": 31,
   "id": "6d03267c",
   "metadata": {},
   "outputs": [
    {
     "name": "stderr",
     "output_type": "stream",
     "text": [
      "C:\\Users\\angel\\AppData\\Local\\Temp\\ipykernel_3020\\4057550250.py:11: FutureWarning:\n",
      "\n",
      "The frame.append method is deprecated and will be removed from pandas in a future version. Use pandas.concat instead.\n",
      "\n",
      "C:\\Users\\angel\\AppData\\Local\\Temp\\ipykernel_3020\\4057550250.py:11: FutureWarning:\n",
      "\n",
      "The frame.append method is deprecated and will be removed from pandas in a future version. Use pandas.concat instead.\n",
      "\n",
      "C:\\Users\\angel\\AppData\\Local\\Temp\\ipykernel_3020\\4057550250.py:11: FutureWarning:\n",
      "\n",
      "The frame.append method is deprecated and will be removed from pandas in a future version. Use pandas.concat instead.\n",
      "\n",
      "C:\\Users\\angel\\AppData\\Local\\Temp\\ipykernel_3020\\4057550250.py:11: FutureWarning:\n",
      "\n",
      "The frame.append method is deprecated and will be removed from pandas in a future version. Use pandas.concat instead.\n",
      "\n",
      "C:\\Users\\angel\\AppData\\Local\\Temp\\ipykernel_3020\\4057550250.py:11: FutureWarning:\n",
      "\n",
      "The frame.append method is deprecated and will be removed from pandas in a future version. Use pandas.concat instead.\n",
      "\n"
     ]
    },
    {
     "data": {
      "text/html": [
       "<div>\n",
       "<style scoped>\n",
       "    .dataframe tbody tr th:only-of-type {\n",
       "        vertical-align: middle;\n",
       "    }\n",
       "\n",
       "    .dataframe tbody tr th {\n",
       "        vertical-align: top;\n",
       "    }\n",
       "\n",
       "    .dataframe thead th {\n",
       "        text-align: right;\n",
       "    }\n",
       "</style>\n",
       "<table border=\"1\" class=\"dataframe\">\n",
       "  <thead>\n",
       "    <tr style=\"text-align: right;\">\n",
       "      <th></th>\n",
       "      <th>Country</th>\n",
       "      <th>Squad</th>\n",
       "      <th>W</th>\n",
       "      <th>L</th>\n",
       "      <th>D</th>\n",
       "      <th>label</th>\n",
       "    </tr>\n",
       "  </thead>\n",
       "  <tbody>\n",
       "    <tr>\n",
       "      <th>11</th>\n",
       "      <td>ENG</td>\n",
       "      <td>Manchester City</td>\n",
       "      <td>29</td>\n",
       "      <td>3</td>\n",
       "      <td>6</td>\n",
       "      <td>Manchester City - ENG</td>\n",
       "    </tr>\n",
       "    <tr>\n",
       "      <th>10</th>\n",
       "      <td>ENG</td>\n",
       "      <td>Liverpool</td>\n",
       "      <td>28</td>\n",
       "      <td>2</td>\n",
       "      <td>8</td>\n",
       "      <td>Liverpool - ENG</td>\n",
       "    </tr>\n",
       "    <tr>\n",
       "      <th>54</th>\n",
       "      <td>FRA</td>\n",
       "      <td>Paris S-G</td>\n",
       "      <td>26</td>\n",
       "      <td>4</td>\n",
       "      <td>8</td>\n",
       "      <td>Paris S-G - FRA</td>\n",
       "    </tr>\n",
       "    <tr>\n",
       "      <th>88</th>\n",
       "      <td>ITA</td>\n",
       "      <td>Milan</td>\n",
       "      <td>26</td>\n",
       "      <td>4</td>\n",
       "      <td>8</td>\n",
       "      <td>Milan - ITA</td>\n",
       "    </tr>\n",
       "    <tr>\n",
       "      <th>35</th>\n",
       "      <td>ESP</td>\n",
       "      <td>Real Madrid</td>\n",
       "      <td>26</td>\n",
       "      <td>4</td>\n",
       "      <td>8</td>\n",
       "      <td>Real Madrid - ESP</td>\n",
       "    </tr>\n",
       "  </tbody>\n",
       "</table>\n",
       "</div>"
      ],
      "text/plain": [
       "   Country            Squad   W  L  D                  label\n",
       "11     ENG  Manchester City  29  3  6  Manchester City - ENG\n",
       "10     ENG        Liverpool  28  2  8        Liverpool - ENG\n",
       "54     FRA        Paris S-G  26  4  8        Paris S-G - FRA\n",
       "88     ITA            Milan  26  4  8            Milan - ITA\n",
       "35     ESP      Real Madrid  26  4  8      Real Madrid - ESP"
      ]
     },
     "execution_count": 31,
     "metadata": {},
     "output_type": "execute_result"
    }
   ],
   "source": [
    "#Dataframe de partidos \n",
    "\n",
    "matches = data[[\"Squad\", \"Country\", \"W\", \"L\", \"D\"]]\\\n",
    ".groupby([\"Country\", \"Squad\"]).agg(lambda x: x).reset_index()\n",
    "\n",
    "#Nuevo dataframe con solo los 5 mejores equipos de cada liga \n",
    "\n",
    "match = pd.DataFrame()\n",
    "countries = list(data[\"Country\"].value_counts().index)\n",
    "for i in countries: \n",
    "    match = match.append(matches[matches[\"Country\"]==i].sort_values(\"W\", ascending=False)[:5])\n",
    "\n",
    "match = match.sort_values(by=\"W\", ascending=False) #descending sort dataframe by W matches\n",
    "match[\"label\"] = match[[\"Squad\", \"Country\"]].agg(' - '.join, axis=1) #create label\n",
    "match.head()"
   ]
  },
  {
   "cell_type": "code",
   "execution_count": 32,
   "id": "3b99d312",
   "metadata": {},
   "outputs": [
    {
     "data": {
      "application/vnd.plotly.v1+json": {
       "config": {
        "plotlyServerURL": "https://plot.ly"
       },
       "data": [
        {
         "alignmentgroup": "True",
         "hovertemplate": "variable=W<br>value=%{x}<br>label=%{y}<extra></extra>",
         "legendgroup": "W",
         "marker": {
          "color": "#46986a",
          "pattern": {
           "shape": ""
          }
         },
         "name": "W",
         "offsetgroup": "W",
         "orientation": "h",
         "showlegend": true,
         "textposition": "auto",
         "type": "bar",
         "x": [
          16,
          17,
          18,
          19,
          19,
          19,
          20,
          20,
          20,
          20,
          21,
          21,
          21,
          21,
          22,
          22,
          22,
          24,
          24,
          25,
          26,
          26,
          26,
          28,
          29
         ],
         "xaxis": "x",
         "y": [
          "Union Berlin - GER",
          "RB Leipzig - GER",
          "Sevilla - ESP",
          "Leverkusen - GER",
          "Fiorentina - ITA",
          "Betis - ESP",
          "Juventus - ITA",
          "Monaco - FRA",
          "Nice - FRA",
          "Rennes - FRA",
          "Chelsea - ENG",
          "Marseille - FRA",
          "Atlético Madrid - ESP",
          "Barcelona - ESP",
          "Dortmund - GER",
          "Arsenal - ENG",
          "Tottenham - ENG",
          "Napoli - ITA",
          "Bayern Munich - GER",
          "Inter - ITA",
          "Real Madrid - ESP",
          "Milan - ITA",
          "Paris S-G - FRA",
          "Liverpool - ENG",
          "Manchester City - ENG"
         ],
         "yaxis": "y"
        },
        {
         "alignmentgroup": "True",
         "hovertemplate": "variable=L<br>value=%{x}<br>label=%{y}<extra></extra>",
         "legendgroup": "L",
         "marker": {
          "color": "#ff5252",
          "pattern": {
           "shape": ""
          }
         },
         "name": "L",
         "offsetgroup": "L",
         "orientation": "h",
         "showlegend": true,
         "textposition": "auto",
         "type": "bar",
         "x": [
          9,
          10,
          4,
          8,
          14,
          11,
          8,
          9,
          11,
          12,
          6,
          9,
          9,
          7,
          9,
          13,
          11,
          7,
          5,
          4,
          4,
          4,
          4,
          2,
          3
         ],
         "xaxis": "x",
         "y": [
          "Union Berlin - GER",
          "RB Leipzig - GER",
          "Sevilla - ESP",
          "Leverkusen - GER",
          "Fiorentina - ITA",
          "Betis - ESP",
          "Juventus - ITA",
          "Monaco - FRA",
          "Nice - FRA",
          "Rennes - FRA",
          "Chelsea - ENG",
          "Marseille - FRA",
          "Atlético Madrid - ESP",
          "Barcelona - ESP",
          "Dortmund - GER",
          "Arsenal - ENG",
          "Tottenham - ENG",
          "Napoli - ITA",
          "Bayern Munich - GER",
          "Inter - ITA",
          "Real Madrid - ESP",
          "Milan - ITA",
          "Paris S-G - FRA",
          "Liverpool - ENG",
          "Manchester City - ENG"
         ],
         "yaxis": "y"
        },
        {
         "alignmentgroup": "True",
         "hovertemplate": "variable=D<br>value=%{x}<br>label=%{y}<extra></extra>",
         "legendgroup": "D",
         "marker": {
          "color": "#ffff66",
          "pattern": {
           "shape": ""
          }
         },
         "name": "D",
         "offsetgroup": "D",
         "orientation": "h",
         "showlegend": true,
         "textposition": "auto",
         "type": "bar",
         "x": [
          9,
          7,
          16,
          7,
          5,
          8,
          10,
          9,
          7,
          6,
          11,
          8,
          8,
          10,
          3,
          3,
          5,
          7,
          5,
          9,
          8,
          8,
          8,
          8,
          6
         ],
         "xaxis": "x",
         "y": [
          "Union Berlin - GER",
          "RB Leipzig - GER",
          "Sevilla - ESP",
          "Leverkusen - GER",
          "Fiorentina - ITA",
          "Betis - ESP",
          "Juventus - ITA",
          "Monaco - FRA",
          "Nice - FRA",
          "Rennes - FRA",
          "Chelsea - ENG",
          "Marseille - FRA",
          "Atlético Madrid - ESP",
          "Barcelona - ESP",
          "Dortmund - GER",
          "Arsenal - ENG",
          "Tottenham - ENG",
          "Napoli - ITA",
          "Bayern Munich - GER",
          "Inter - ITA",
          "Real Madrid - ESP",
          "Milan - ITA",
          "Paris S-G - FRA",
          "Liverpool - ENG",
          "Manchester City - ENG"
         ],
         "yaxis": "y"
        }
       ],
       "layout": {
        "barmode": "relative",
        "height": 500,
        "legend": {
         "font": {
          "color": "Black",
          "family": "Microsoft Tai Le",
          "size": 14
         },
         "orientation": "h",
         "title": {
          "text": ""
         },
         "tracegroupgap": 0,
         "x": 0.8,
         "xanchor": "center",
         "y": 1.1,
         "yanchor": "top"
        },
        "paper_bgcolor": "aliceblue",
        "plot_bgcolor": "aliceblue",
        "template": {
         "data": {
          "bar": [
           {
            "error_x": {
             "color": "rgb(36,36,36)"
            },
            "error_y": {
             "color": "rgb(36,36,36)"
            },
            "marker": {
             "line": {
              "color": "white",
              "width": 0.5
             },
             "pattern": {
              "fillmode": "overlay",
              "size": 10,
              "solidity": 0.2
             }
            },
            "type": "bar"
           }
          ],
          "barpolar": [
           {
            "marker": {
             "line": {
              "color": "white",
              "width": 0.5
             },
             "pattern": {
              "fillmode": "overlay",
              "size": 10,
              "solidity": 0.2
             }
            },
            "type": "barpolar"
           }
          ],
          "carpet": [
           {
            "aaxis": {
             "endlinecolor": "rgb(36,36,36)",
             "gridcolor": "white",
             "linecolor": "white",
             "minorgridcolor": "white",
             "startlinecolor": "rgb(36,36,36)"
            },
            "baxis": {
             "endlinecolor": "rgb(36,36,36)",
             "gridcolor": "white",
             "linecolor": "white",
             "minorgridcolor": "white",
             "startlinecolor": "rgb(36,36,36)"
            },
            "type": "carpet"
           }
          ],
          "choropleth": [
           {
            "colorbar": {
             "outlinewidth": 1,
             "tickcolor": "rgb(36,36,36)",
             "ticks": "outside"
            },
            "type": "choropleth"
           }
          ],
          "contour": [
           {
            "colorbar": {
             "outlinewidth": 1,
             "tickcolor": "rgb(36,36,36)",
             "ticks": "outside"
            },
            "colorscale": [
             [
              0,
              "#440154"
             ],
             [
              0.1111111111111111,
              "#482878"
             ],
             [
              0.2222222222222222,
              "#3e4989"
             ],
             [
              0.3333333333333333,
              "#31688e"
             ],
             [
              0.4444444444444444,
              "#26828e"
             ],
             [
              0.5555555555555556,
              "#1f9e89"
             ],
             [
              0.6666666666666666,
              "#35b779"
             ],
             [
              0.7777777777777778,
              "#6ece58"
             ],
             [
              0.8888888888888888,
              "#b5de2b"
             ],
             [
              1,
              "#fde725"
             ]
            ],
            "type": "contour"
           }
          ],
          "contourcarpet": [
           {
            "colorbar": {
             "outlinewidth": 1,
             "tickcolor": "rgb(36,36,36)",
             "ticks": "outside"
            },
            "type": "contourcarpet"
           }
          ],
          "heatmap": [
           {
            "colorbar": {
             "outlinewidth": 1,
             "tickcolor": "rgb(36,36,36)",
             "ticks": "outside"
            },
            "colorscale": [
             [
              0,
              "#440154"
             ],
             [
              0.1111111111111111,
              "#482878"
             ],
             [
              0.2222222222222222,
              "#3e4989"
             ],
             [
              0.3333333333333333,
              "#31688e"
             ],
             [
              0.4444444444444444,
              "#26828e"
             ],
             [
              0.5555555555555556,
              "#1f9e89"
             ],
             [
              0.6666666666666666,
              "#35b779"
             ],
             [
              0.7777777777777778,
              "#6ece58"
             ],
             [
              0.8888888888888888,
              "#b5de2b"
             ],
             [
              1,
              "#fde725"
             ]
            ],
            "type": "heatmap"
           }
          ],
          "heatmapgl": [
           {
            "colorbar": {
             "outlinewidth": 1,
             "tickcolor": "rgb(36,36,36)",
             "ticks": "outside"
            },
            "colorscale": [
             [
              0,
              "#440154"
             ],
             [
              0.1111111111111111,
              "#482878"
             ],
             [
              0.2222222222222222,
              "#3e4989"
             ],
             [
              0.3333333333333333,
              "#31688e"
             ],
             [
              0.4444444444444444,
              "#26828e"
             ],
             [
              0.5555555555555556,
              "#1f9e89"
             ],
             [
              0.6666666666666666,
              "#35b779"
             ],
             [
              0.7777777777777778,
              "#6ece58"
             ],
             [
              0.8888888888888888,
              "#b5de2b"
             ],
             [
              1,
              "#fde725"
             ]
            ],
            "type": "heatmapgl"
           }
          ],
          "histogram": [
           {
            "marker": {
             "line": {
              "color": "white",
              "width": 0.6
             }
            },
            "type": "histogram"
           }
          ],
          "histogram2d": [
           {
            "colorbar": {
             "outlinewidth": 1,
             "tickcolor": "rgb(36,36,36)",
             "ticks": "outside"
            },
            "colorscale": [
             [
              0,
              "#440154"
             ],
             [
              0.1111111111111111,
              "#482878"
             ],
             [
              0.2222222222222222,
              "#3e4989"
             ],
             [
              0.3333333333333333,
              "#31688e"
             ],
             [
              0.4444444444444444,
              "#26828e"
             ],
             [
              0.5555555555555556,
              "#1f9e89"
             ],
             [
              0.6666666666666666,
              "#35b779"
             ],
             [
              0.7777777777777778,
              "#6ece58"
             ],
             [
              0.8888888888888888,
              "#b5de2b"
             ],
             [
              1,
              "#fde725"
             ]
            ],
            "type": "histogram2d"
           }
          ],
          "histogram2dcontour": [
           {
            "colorbar": {
             "outlinewidth": 1,
             "tickcolor": "rgb(36,36,36)",
             "ticks": "outside"
            },
            "colorscale": [
             [
              0,
              "#440154"
             ],
             [
              0.1111111111111111,
              "#482878"
             ],
             [
              0.2222222222222222,
              "#3e4989"
             ],
             [
              0.3333333333333333,
              "#31688e"
             ],
             [
              0.4444444444444444,
              "#26828e"
             ],
             [
              0.5555555555555556,
              "#1f9e89"
             ],
             [
              0.6666666666666666,
              "#35b779"
             ],
             [
              0.7777777777777778,
              "#6ece58"
             ],
             [
              0.8888888888888888,
              "#b5de2b"
             ],
             [
              1,
              "#fde725"
             ]
            ],
            "type": "histogram2dcontour"
           }
          ],
          "mesh3d": [
           {
            "colorbar": {
             "outlinewidth": 1,
             "tickcolor": "rgb(36,36,36)",
             "ticks": "outside"
            },
            "type": "mesh3d"
           }
          ],
          "parcoords": [
           {
            "line": {
             "colorbar": {
              "outlinewidth": 1,
              "tickcolor": "rgb(36,36,36)",
              "ticks": "outside"
             }
            },
            "type": "parcoords"
           }
          ],
          "pie": [
           {
            "automargin": true,
            "type": "pie"
           }
          ],
          "scatter": [
           {
            "fillpattern": {
             "fillmode": "overlay",
             "size": 10,
             "solidity": 0.2
            },
            "type": "scatter"
           }
          ],
          "scatter3d": [
           {
            "line": {
             "colorbar": {
              "outlinewidth": 1,
              "tickcolor": "rgb(36,36,36)",
              "ticks": "outside"
             }
            },
            "marker": {
             "colorbar": {
              "outlinewidth": 1,
              "tickcolor": "rgb(36,36,36)",
              "ticks": "outside"
             }
            },
            "type": "scatter3d"
           }
          ],
          "scattercarpet": [
           {
            "marker": {
             "colorbar": {
              "outlinewidth": 1,
              "tickcolor": "rgb(36,36,36)",
              "ticks": "outside"
             }
            },
            "type": "scattercarpet"
           }
          ],
          "scattergeo": [
           {
            "marker": {
             "colorbar": {
              "outlinewidth": 1,
              "tickcolor": "rgb(36,36,36)",
              "ticks": "outside"
             }
            },
            "type": "scattergeo"
           }
          ],
          "scattergl": [
           {
            "marker": {
             "colorbar": {
              "outlinewidth": 1,
              "tickcolor": "rgb(36,36,36)",
              "ticks": "outside"
             }
            },
            "type": "scattergl"
           }
          ],
          "scattermapbox": [
           {
            "marker": {
             "colorbar": {
              "outlinewidth": 1,
              "tickcolor": "rgb(36,36,36)",
              "ticks": "outside"
             }
            },
            "type": "scattermapbox"
           }
          ],
          "scatterpolar": [
           {
            "marker": {
             "colorbar": {
              "outlinewidth": 1,
              "tickcolor": "rgb(36,36,36)",
              "ticks": "outside"
             }
            },
            "type": "scatterpolar"
           }
          ],
          "scatterpolargl": [
           {
            "marker": {
             "colorbar": {
              "outlinewidth": 1,
              "tickcolor": "rgb(36,36,36)",
              "ticks": "outside"
             }
            },
            "type": "scatterpolargl"
           }
          ],
          "scatterternary": [
           {
            "marker": {
             "colorbar": {
              "outlinewidth": 1,
              "tickcolor": "rgb(36,36,36)",
              "ticks": "outside"
             }
            },
            "type": "scatterternary"
           }
          ],
          "surface": [
           {
            "colorbar": {
             "outlinewidth": 1,
             "tickcolor": "rgb(36,36,36)",
             "ticks": "outside"
            },
            "colorscale": [
             [
              0,
              "#440154"
             ],
             [
              0.1111111111111111,
              "#482878"
             ],
             [
              0.2222222222222222,
              "#3e4989"
             ],
             [
              0.3333333333333333,
              "#31688e"
             ],
             [
              0.4444444444444444,
              "#26828e"
             ],
             [
              0.5555555555555556,
              "#1f9e89"
             ],
             [
              0.6666666666666666,
              "#35b779"
             ],
             [
              0.7777777777777778,
              "#6ece58"
             ],
             [
              0.8888888888888888,
              "#b5de2b"
             ],
             [
              1,
              "#fde725"
             ]
            ],
            "type": "surface"
           }
          ],
          "table": [
           {
            "cells": {
             "fill": {
              "color": "rgb(237,237,237)"
             },
             "line": {
              "color": "white"
             }
            },
            "header": {
             "fill": {
              "color": "rgb(217,217,217)"
             },
             "line": {
              "color": "white"
             }
            },
            "type": "table"
           }
          ]
         },
         "layout": {
          "annotationdefaults": {
           "arrowhead": 0,
           "arrowwidth": 1
          },
          "autotypenumbers": "strict",
          "coloraxis": {
           "colorbar": {
            "outlinewidth": 1,
            "tickcolor": "rgb(36,36,36)",
            "ticks": "outside"
           }
          },
          "colorscale": {
           "diverging": [
            [
             0,
             "rgb(103,0,31)"
            ],
            [
             0.1,
             "rgb(178,24,43)"
            ],
            [
             0.2,
             "rgb(214,96,77)"
            ],
            [
             0.3,
             "rgb(244,165,130)"
            ],
            [
             0.4,
             "rgb(253,219,199)"
            ],
            [
             0.5,
             "rgb(247,247,247)"
            ],
            [
             0.6,
             "rgb(209,229,240)"
            ],
            [
             0.7,
             "rgb(146,197,222)"
            ],
            [
             0.8,
             "rgb(67,147,195)"
            ],
            [
             0.9,
             "rgb(33,102,172)"
            ],
            [
             1,
             "rgb(5,48,97)"
            ]
           ],
           "sequential": [
            [
             0,
             "#440154"
            ],
            [
             0.1111111111111111,
             "#482878"
            ],
            [
             0.2222222222222222,
             "#3e4989"
            ],
            [
             0.3333333333333333,
             "#31688e"
            ],
            [
             0.4444444444444444,
             "#26828e"
            ],
            [
             0.5555555555555556,
             "#1f9e89"
            ],
            [
             0.6666666666666666,
             "#35b779"
            ],
            [
             0.7777777777777778,
             "#6ece58"
            ],
            [
             0.8888888888888888,
             "#b5de2b"
            ],
            [
             1,
             "#fde725"
            ]
           ],
           "sequentialminus": [
            [
             0,
             "#440154"
            ],
            [
             0.1111111111111111,
             "#482878"
            ],
            [
             0.2222222222222222,
             "#3e4989"
            ],
            [
             0.3333333333333333,
             "#31688e"
            ],
            [
             0.4444444444444444,
             "#26828e"
            ],
            [
             0.5555555555555556,
             "#1f9e89"
            ],
            [
             0.6666666666666666,
             "#35b779"
            ],
            [
             0.7777777777777778,
             "#6ece58"
            ],
            [
             0.8888888888888888,
             "#b5de2b"
            ],
            [
             1,
             "#fde725"
            ]
           ]
          },
          "colorway": [
           "#1F77B4",
           "#FF7F0E",
           "#2CA02C",
           "#D62728",
           "#9467BD",
           "#8C564B",
           "#E377C2",
           "#7F7F7F",
           "#BCBD22",
           "#17BECF"
          ],
          "font": {
           "color": "rgb(36,36,36)"
          },
          "geo": {
           "bgcolor": "white",
           "lakecolor": "white",
           "landcolor": "white",
           "showlakes": true,
           "showland": true,
           "subunitcolor": "white"
          },
          "hoverlabel": {
           "align": "left"
          },
          "hovermode": "closest",
          "mapbox": {
           "style": "light"
          },
          "paper_bgcolor": "white",
          "plot_bgcolor": "white",
          "polar": {
           "angularaxis": {
            "gridcolor": "rgb(232,232,232)",
            "linecolor": "rgb(36,36,36)",
            "showgrid": false,
            "showline": true,
            "ticks": "outside"
           },
           "bgcolor": "white",
           "radialaxis": {
            "gridcolor": "rgb(232,232,232)",
            "linecolor": "rgb(36,36,36)",
            "showgrid": false,
            "showline": true,
            "ticks": "outside"
           }
          },
          "scene": {
           "xaxis": {
            "backgroundcolor": "white",
            "gridcolor": "rgb(232,232,232)",
            "gridwidth": 2,
            "linecolor": "rgb(36,36,36)",
            "showbackground": true,
            "showgrid": false,
            "showline": true,
            "ticks": "outside",
            "zeroline": false,
            "zerolinecolor": "rgb(36,36,36)"
           },
           "yaxis": {
            "backgroundcolor": "white",
            "gridcolor": "rgb(232,232,232)",
            "gridwidth": 2,
            "linecolor": "rgb(36,36,36)",
            "showbackground": true,
            "showgrid": false,
            "showline": true,
            "ticks": "outside",
            "zeroline": false,
            "zerolinecolor": "rgb(36,36,36)"
           },
           "zaxis": {
            "backgroundcolor": "white",
            "gridcolor": "rgb(232,232,232)",
            "gridwidth": 2,
            "linecolor": "rgb(36,36,36)",
            "showbackground": true,
            "showgrid": false,
            "showline": true,
            "ticks": "outside",
            "zeroline": false,
            "zerolinecolor": "rgb(36,36,36)"
           }
          },
          "shapedefaults": {
           "fillcolor": "black",
           "line": {
            "width": 0
           },
           "opacity": 0.3
          },
          "ternary": {
           "aaxis": {
            "gridcolor": "rgb(232,232,232)",
            "linecolor": "rgb(36,36,36)",
            "showgrid": false,
            "showline": true,
            "ticks": "outside"
           },
           "baxis": {
            "gridcolor": "rgb(232,232,232)",
            "linecolor": "rgb(36,36,36)",
            "showgrid": false,
            "showline": true,
            "ticks": "outside"
           },
           "bgcolor": "white",
           "caxis": {
            "gridcolor": "rgb(232,232,232)",
            "linecolor": "rgb(36,36,36)",
            "showgrid": false,
            "showline": true,
            "ticks": "outside"
           }
          },
          "title": {
           "x": 0.05
          },
          "xaxis": {
           "automargin": true,
           "gridcolor": "rgb(232,232,232)",
           "linecolor": "rgb(36,36,36)",
           "showgrid": false,
           "showline": true,
           "ticks": "outside",
           "title": {
            "standoff": 15
           },
           "zeroline": false,
           "zerolinecolor": "rgb(36,36,36)"
          },
          "yaxis": {
           "automargin": true,
           "gridcolor": "rgb(232,232,232)",
           "linecolor": "rgb(36,36,36)",
           "showgrid": false,
           "showline": true,
           "ticks": "outside",
           "title": {
            "standoff": 15
           },
           "zeroline": false,
           "zerolinecolor": "rgb(36,36,36)"
          }
         }
        },
        "title": {
         "font": {
          "color": "black",
          "family": "Impact",
          "size": 30
         },
         "text": "Win, Loss and Draw matches",
         "y": 0.9
        },
        "xaxis": {
         "anchor": "y",
         "domain": [
          0,
          1
         ],
         "tickfont": {
          "family": "Microsoft Tai Le",
          "size": 12
         },
         "title": {
          "font": {
           "family": "Microsoft Tai Le",
           "size": 16
          },
          "text": "Number of matches"
         }
        },
        "yaxis": {
         "anchor": "x",
         "domain": [
          0,
          1
         ],
         "tickfont": {
          "family": "Microsoft Tai Le",
          "size": 10
         },
         "title": {
          "font": {
           "family": "Microsoft Tai Le",
           "size": 14
          },
          "text": ""
         }
        }
       }
      },
      "text/html": [
       "<div>                            <div id=\"f96c5275-485d-4ad2-8b7c-201f5a229ad5\" class=\"plotly-graph-div\" style=\"height:500px; width:100%;\"></div>            <script type=\"text/javascript\">                require([\"plotly\"], function(Plotly) {                    window.PLOTLYENV=window.PLOTLYENV || {};                                    if (document.getElementById(\"f96c5275-485d-4ad2-8b7c-201f5a229ad5\")) {                    Plotly.newPlot(                        \"f96c5275-485d-4ad2-8b7c-201f5a229ad5\",                        [{\"alignmentgroup\":\"True\",\"hovertemplate\":\"variable=W<br>value=%{x}<br>label=%{y}<extra></extra>\",\"legendgroup\":\"W\",\"marker\":{\"color\":\"#46986a\",\"pattern\":{\"shape\":\"\"}},\"name\":\"W\",\"offsetgroup\":\"W\",\"orientation\":\"h\",\"showlegend\":true,\"textposition\":\"auto\",\"x\":[16,17,18,19,19,19,20,20,20,20,21,21,21,21,22,22,22,24,24,25,26,26,26,28,29],\"xaxis\":\"x\",\"y\":[\"Union Berlin - GER\",\"RB Leipzig - GER\",\"Sevilla - ESP\",\"Leverkusen - GER\",\"Fiorentina - ITA\",\"Betis - ESP\",\"Juventus - ITA\",\"Monaco - FRA\",\"Nice - FRA\",\"Rennes - FRA\",\"Chelsea - ENG\",\"Marseille - FRA\",\"Atl\\u00e9tico Madrid - ESP\",\"Barcelona - ESP\",\"Dortmund - GER\",\"Arsenal - ENG\",\"Tottenham - ENG\",\"Napoli - ITA\",\"Bayern Munich - GER\",\"Inter - ITA\",\"Real Madrid - ESP\",\"Milan - ITA\",\"Paris S-G - FRA\",\"Liverpool - ENG\",\"Manchester City - ENG\"],\"yaxis\":\"y\",\"type\":\"bar\"},{\"alignmentgroup\":\"True\",\"hovertemplate\":\"variable=L<br>value=%{x}<br>label=%{y}<extra></extra>\",\"legendgroup\":\"L\",\"marker\":{\"color\":\"#ff5252\",\"pattern\":{\"shape\":\"\"}},\"name\":\"L\",\"offsetgroup\":\"L\",\"orientation\":\"h\",\"showlegend\":true,\"textposition\":\"auto\",\"x\":[9,10,4,8,14,11,8,9,11,12,6,9,9,7,9,13,11,7,5,4,4,4,4,2,3],\"xaxis\":\"x\",\"y\":[\"Union Berlin - GER\",\"RB Leipzig - GER\",\"Sevilla - ESP\",\"Leverkusen - GER\",\"Fiorentina - ITA\",\"Betis - ESP\",\"Juventus - ITA\",\"Monaco - FRA\",\"Nice - FRA\",\"Rennes - FRA\",\"Chelsea - ENG\",\"Marseille - FRA\",\"Atl\\u00e9tico Madrid - ESP\",\"Barcelona - ESP\",\"Dortmund - GER\",\"Arsenal - ENG\",\"Tottenham - ENG\",\"Napoli - ITA\",\"Bayern Munich - GER\",\"Inter - ITA\",\"Real Madrid - ESP\",\"Milan - ITA\",\"Paris S-G - FRA\",\"Liverpool - ENG\",\"Manchester City - ENG\"],\"yaxis\":\"y\",\"type\":\"bar\"},{\"alignmentgroup\":\"True\",\"hovertemplate\":\"variable=D<br>value=%{x}<br>label=%{y}<extra></extra>\",\"legendgroup\":\"D\",\"marker\":{\"color\":\"#ffff66\",\"pattern\":{\"shape\":\"\"}},\"name\":\"D\",\"offsetgroup\":\"D\",\"orientation\":\"h\",\"showlegend\":true,\"textposition\":\"auto\",\"x\":[9,7,16,7,5,8,10,9,7,6,11,8,8,10,3,3,5,7,5,9,8,8,8,8,6],\"xaxis\":\"x\",\"y\":[\"Union Berlin - GER\",\"RB Leipzig - GER\",\"Sevilla - ESP\",\"Leverkusen - GER\",\"Fiorentina - ITA\",\"Betis - ESP\",\"Juventus - ITA\",\"Monaco - FRA\",\"Nice - FRA\",\"Rennes - FRA\",\"Chelsea - ENG\",\"Marseille - FRA\",\"Atl\\u00e9tico Madrid - ESP\",\"Barcelona - ESP\",\"Dortmund - GER\",\"Arsenal - ENG\",\"Tottenham - ENG\",\"Napoli - ITA\",\"Bayern Munich - GER\",\"Inter - ITA\",\"Real Madrid - ESP\",\"Milan - ITA\",\"Paris S-G - FRA\",\"Liverpool - ENG\",\"Manchester City - ENG\"],\"yaxis\":\"y\",\"type\":\"bar\"}],                        {\"template\":{\"data\":{\"barpolar\":[{\"marker\":{\"line\":{\"color\":\"white\",\"width\":0.5},\"pattern\":{\"fillmode\":\"overlay\",\"size\":10,\"solidity\":0.2}},\"type\":\"barpolar\"}],\"bar\":[{\"error_x\":{\"color\":\"rgb(36,36,36)\"},\"error_y\":{\"color\":\"rgb(36,36,36)\"},\"marker\":{\"line\":{\"color\":\"white\",\"width\":0.5},\"pattern\":{\"fillmode\":\"overlay\",\"size\":10,\"solidity\":0.2}},\"type\":\"bar\"}],\"carpet\":[{\"aaxis\":{\"endlinecolor\":\"rgb(36,36,36)\",\"gridcolor\":\"white\",\"linecolor\":\"white\",\"minorgridcolor\":\"white\",\"startlinecolor\":\"rgb(36,36,36)\"},\"baxis\":{\"endlinecolor\":\"rgb(36,36,36)\",\"gridcolor\":\"white\",\"linecolor\":\"white\",\"minorgridcolor\":\"white\",\"startlinecolor\":\"rgb(36,36,36)\"},\"type\":\"carpet\"}],\"choropleth\":[{\"colorbar\":{\"outlinewidth\":1,\"tickcolor\":\"rgb(36,36,36)\",\"ticks\":\"outside\"},\"type\":\"choropleth\"}],\"contourcarpet\":[{\"colorbar\":{\"outlinewidth\":1,\"tickcolor\":\"rgb(36,36,36)\",\"ticks\":\"outside\"},\"type\":\"contourcarpet\"}],\"contour\":[{\"colorbar\":{\"outlinewidth\":1,\"tickcolor\":\"rgb(36,36,36)\",\"ticks\":\"outside\"},\"colorscale\":[[0.0,\"#440154\"],[0.1111111111111111,\"#482878\"],[0.2222222222222222,\"#3e4989\"],[0.3333333333333333,\"#31688e\"],[0.4444444444444444,\"#26828e\"],[0.5555555555555556,\"#1f9e89\"],[0.6666666666666666,\"#35b779\"],[0.7777777777777778,\"#6ece58\"],[0.8888888888888888,\"#b5de2b\"],[1.0,\"#fde725\"]],\"type\":\"contour\"}],\"heatmapgl\":[{\"colorbar\":{\"outlinewidth\":1,\"tickcolor\":\"rgb(36,36,36)\",\"ticks\":\"outside\"},\"colorscale\":[[0.0,\"#440154\"],[0.1111111111111111,\"#482878\"],[0.2222222222222222,\"#3e4989\"],[0.3333333333333333,\"#31688e\"],[0.4444444444444444,\"#26828e\"],[0.5555555555555556,\"#1f9e89\"],[0.6666666666666666,\"#35b779\"],[0.7777777777777778,\"#6ece58\"],[0.8888888888888888,\"#b5de2b\"],[1.0,\"#fde725\"]],\"type\":\"heatmapgl\"}],\"heatmap\":[{\"colorbar\":{\"outlinewidth\":1,\"tickcolor\":\"rgb(36,36,36)\",\"ticks\":\"outside\"},\"colorscale\":[[0.0,\"#440154\"],[0.1111111111111111,\"#482878\"],[0.2222222222222222,\"#3e4989\"],[0.3333333333333333,\"#31688e\"],[0.4444444444444444,\"#26828e\"],[0.5555555555555556,\"#1f9e89\"],[0.6666666666666666,\"#35b779\"],[0.7777777777777778,\"#6ece58\"],[0.8888888888888888,\"#b5de2b\"],[1.0,\"#fde725\"]],\"type\":\"heatmap\"}],\"histogram2dcontour\":[{\"colorbar\":{\"outlinewidth\":1,\"tickcolor\":\"rgb(36,36,36)\",\"ticks\":\"outside\"},\"colorscale\":[[0.0,\"#440154\"],[0.1111111111111111,\"#482878\"],[0.2222222222222222,\"#3e4989\"],[0.3333333333333333,\"#31688e\"],[0.4444444444444444,\"#26828e\"],[0.5555555555555556,\"#1f9e89\"],[0.6666666666666666,\"#35b779\"],[0.7777777777777778,\"#6ece58\"],[0.8888888888888888,\"#b5de2b\"],[1.0,\"#fde725\"]],\"type\":\"histogram2dcontour\"}],\"histogram2d\":[{\"colorbar\":{\"outlinewidth\":1,\"tickcolor\":\"rgb(36,36,36)\",\"ticks\":\"outside\"},\"colorscale\":[[0.0,\"#440154\"],[0.1111111111111111,\"#482878\"],[0.2222222222222222,\"#3e4989\"],[0.3333333333333333,\"#31688e\"],[0.4444444444444444,\"#26828e\"],[0.5555555555555556,\"#1f9e89\"],[0.6666666666666666,\"#35b779\"],[0.7777777777777778,\"#6ece58\"],[0.8888888888888888,\"#b5de2b\"],[1.0,\"#fde725\"]],\"type\":\"histogram2d\"}],\"histogram\":[{\"marker\":{\"line\":{\"color\":\"white\",\"width\":0.6}},\"type\":\"histogram\"}],\"mesh3d\":[{\"colorbar\":{\"outlinewidth\":1,\"tickcolor\":\"rgb(36,36,36)\",\"ticks\":\"outside\"},\"type\":\"mesh3d\"}],\"parcoords\":[{\"line\":{\"colorbar\":{\"outlinewidth\":1,\"tickcolor\":\"rgb(36,36,36)\",\"ticks\":\"outside\"}},\"type\":\"parcoords\"}],\"pie\":[{\"automargin\":true,\"type\":\"pie\"}],\"scatter3d\":[{\"line\":{\"colorbar\":{\"outlinewidth\":1,\"tickcolor\":\"rgb(36,36,36)\",\"ticks\":\"outside\"}},\"marker\":{\"colorbar\":{\"outlinewidth\":1,\"tickcolor\":\"rgb(36,36,36)\",\"ticks\":\"outside\"}},\"type\":\"scatter3d\"}],\"scattercarpet\":[{\"marker\":{\"colorbar\":{\"outlinewidth\":1,\"tickcolor\":\"rgb(36,36,36)\",\"ticks\":\"outside\"}},\"type\":\"scattercarpet\"}],\"scattergeo\":[{\"marker\":{\"colorbar\":{\"outlinewidth\":1,\"tickcolor\":\"rgb(36,36,36)\",\"ticks\":\"outside\"}},\"type\":\"scattergeo\"}],\"scattergl\":[{\"marker\":{\"colorbar\":{\"outlinewidth\":1,\"tickcolor\":\"rgb(36,36,36)\",\"ticks\":\"outside\"}},\"type\":\"scattergl\"}],\"scattermapbox\":[{\"marker\":{\"colorbar\":{\"outlinewidth\":1,\"tickcolor\":\"rgb(36,36,36)\",\"ticks\":\"outside\"}},\"type\":\"scattermapbox\"}],\"scatterpolargl\":[{\"marker\":{\"colorbar\":{\"outlinewidth\":1,\"tickcolor\":\"rgb(36,36,36)\",\"ticks\":\"outside\"}},\"type\":\"scatterpolargl\"}],\"scatterpolar\":[{\"marker\":{\"colorbar\":{\"outlinewidth\":1,\"tickcolor\":\"rgb(36,36,36)\",\"ticks\":\"outside\"}},\"type\":\"scatterpolar\"}],\"scatter\":[{\"fillpattern\":{\"fillmode\":\"overlay\",\"size\":10,\"solidity\":0.2},\"type\":\"scatter\"}],\"scatterternary\":[{\"marker\":{\"colorbar\":{\"outlinewidth\":1,\"tickcolor\":\"rgb(36,36,36)\",\"ticks\":\"outside\"}},\"type\":\"scatterternary\"}],\"surface\":[{\"colorbar\":{\"outlinewidth\":1,\"tickcolor\":\"rgb(36,36,36)\",\"ticks\":\"outside\"},\"colorscale\":[[0.0,\"#440154\"],[0.1111111111111111,\"#482878\"],[0.2222222222222222,\"#3e4989\"],[0.3333333333333333,\"#31688e\"],[0.4444444444444444,\"#26828e\"],[0.5555555555555556,\"#1f9e89\"],[0.6666666666666666,\"#35b779\"],[0.7777777777777778,\"#6ece58\"],[0.8888888888888888,\"#b5de2b\"],[1.0,\"#fde725\"]],\"type\":\"surface\"}],\"table\":[{\"cells\":{\"fill\":{\"color\":\"rgb(237,237,237)\"},\"line\":{\"color\":\"white\"}},\"header\":{\"fill\":{\"color\":\"rgb(217,217,217)\"},\"line\":{\"color\":\"white\"}},\"type\":\"table\"}]},\"layout\":{\"annotationdefaults\":{\"arrowhead\":0,\"arrowwidth\":1},\"autotypenumbers\":\"strict\",\"coloraxis\":{\"colorbar\":{\"outlinewidth\":1,\"tickcolor\":\"rgb(36,36,36)\",\"ticks\":\"outside\"}},\"colorscale\":{\"diverging\":[[0.0,\"rgb(103,0,31)\"],[0.1,\"rgb(178,24,43)\"],[0.2,\"rgb(214,96,77)\"],[0.3,\"rgb(244,165,130)\"],[0.4,\"rgb(253,219,199)\"],[0.5,\"rgb(247,247,247)\"],[0.6,\"rgb(209,229,240)\"],[0.7,\"rgb(146,197,222)\"],[0.8,\"rgb(67,147,195)\"],[0.9,\"rgb(33,102,172)\"],[1.0,\"rgb(5,48,97)\"]],\"sequential\":[[0.0,\"#440154\"],[0.1111111111111111,\"#482878\"],[0.2222222222222222,\"#3e4989\"],[0.3333333333333333,\"#31688e\"],[0.4444444444444444,\"#26828e\"],[0.5555555555555556,\"#1f9e89\"],[0.6666666666666666,\"#35b779\"],[0.7777777777777778,\"#6ece58\"],[0.8888888888888888,\"#b5de2b\"],[1.0,\"#fde725\"]],\"sequentialminus\":[[0.0,\"#440154\"],[0.1111111111111111,\"#482878\"],[0.2222222222222222,\"#3e4989\"],[0.3333333333333333,\"#31688e\"],[0.4444444444444444,\"#26828e\"],[0.5555555555555556,\"#1f9e89\"],[0.6666666666666666,\"#35b779\"],[0.7777777777777778,\"#6ece58\"],[0.8888888888888888,\"#b5de2b\"],[1.0,\"#fde725\"]]},\"colorway\":[\"#1F77B4\",\"#FF7F0E\",\"#2CA02C\",\"#D62728\",\"#9467BD\",\"#8C564B\",\"#E377C2\",\"#7F7F7F\",\"#BCBD22\",\"#17BECF\"],\"font\":{\"color\":\"rgb(36,36,36)\"},\"geo\":{\"bgcolor\":\"white\",\"lakecolor\":\"white\",\"landcolor\":\"white\",\"showlakes\":true,\"showland\":true,\"subunitcolor\":\"white\"},\"hoverlabel\":{\"align\":\"left\"},\"hovermode\":\"closest\",\"mapbox\":{\"style\":\"light\"},\"paper_bgcolor\":\"white\",\"plot_bgcolor\":\"white\",\"polar\":{\"angularaxis\":{\"gridcolor\":\"rgb(232,232,232)\",\"linecolor\":\"rgb(36,36,36)\",\"showgrid\":false,\"showline\":true,\"ticks\":\"outside\"},\"bgcolor\":\"white\",\"radialaxis\":{\"gridcolor\":\"rgb(232,232,232)\",\"linecolor\":\"rgb(36,36,36)\",\"showgrid\":false,\"showline\":true,\"ticks\":\"outside\"}},\"scene\":{\"xaxis\":{\"backgroundcolor\":\"white\",\"gridcolor\":\"rgb(232,232,232)\",\"gridwidth\":2,\"linecolor\":\"rgb(36,36,36)\",\"showbackground\":true,\"showgrid\":false,\"showline\":true,\"ticks\":\"outside\",\"zeroline\":false,\"zerolinecolor\":\"rgb(36,36,36)\"},\"yaxis\":{\"backgroundcolor\":\"white\",\"gridcolor\":\"rgb(232,232,232)\",\"gridwidth\":2,\"linecolor\":\"rgb(36,36,36)\",\"showbackground\":true,\"showgrid\":false,\"showline\":true,\"ticks\":\"outside\",\"zeroline\":false,\"zerolinecolor\":\"rgb(36,36,36)\"},\"zaxis\":{\"backgroundcolor\":\"white\",\"gridcolor\":\"rgb(232,232,232)\",\"gridwidth\":2,\"linecolor\":\"rgb(36,36,36)\",\"showbackground\":true,\"showgrid\":false,\"showline\":true,\"ticks\":\"outside\",\"zeroline\":false,\"zerolinecolor\":\"rgb(36,36,36)\"}},\"shapedefaults\":{\"fillcolor\":\"black\",\"line\":{\"width\":0},\"opacity\":0.3},\"ternary\":{\"aaxis\":{\"gridcolor\":\"rgb(232,232,232)\",\"linecolor\":\"rgb(36,36,36)\",\"showgrid\":false,\"showline\":true,\"ticks\":\"outside\"},\"baxis\":{\"gridcolor\":\"rgb(232,232,232)\",\"linecolor\":\"rgb(36,36,36)\",\"showgrid\":false,\"showline\":true,\"ticks\":\"outside\"},\"bgcolor\":\"white\",\"caxis\":{\"gridcolor\":\"rgb(232,232,232)\",\"linecolor\":\"rgb(36,36,36)\",\"showgrid\":false,\"showline\":true,\"ticks\":\"outside\"}},\"title\":{\"x\":0.05},\"xaxis\":{\"automargin\":true,\"gridcolor\":\"rgb(232,232,232)\",\"linecolor\":\"rgb(36,36,36)\",\"showgrid\":false,\"showline\":true,\"ticks\":\"outside\",\"title\":{\"standoff\":15},\"zeroline\":false,\"zerolinecolor\":\"rgb(36,36,36)\"},\"yaxis\":{\"automargin\":true,\"gridcolor\":\"rgb(232,232,232)\",\"linecolor\":\"rgb(36,36,36)\",\"showgrid\":false,\"showline\":true,\"ticks\":\"outside\",\"title\":{\"standoff\":15},\"zeroline\":false,\"zerolinecolor\":\"rgb(36,36,36)\"}}},\"xaxis\":{\"anchor\":\"y\",\"domain\":[0.0,1.0],\"title\":{\"text\":\"Number of matches\",\"font\":{\"family\":\"Microsoft Tai Le\",\"size\":16}},\"tickfont\":{\"family\":\"Microsoft Tai Le\",\"size\":12}},\"yaxis\":{\"anchor\":\"x\",\"domain\":[0.0,1.0],\"title\":{\"text\":\"\",\"font\":{\"family\":\"Microsoft Tai Le\",\"size\":14}},\"tickfont\":{\"family\":\"Microsoft Tai Le\",\"size\":10}},\"legend\":{\"title\":{\"text\":\"\"},\"tracegroupgap\":0,\"font\":{\"family\":\"Microsoft Tai Le\",\"size\":14,\"color\":\"Black\"},\"yanchor\":\"top\",\"y\":1.1,\"xanchor\":\"center\",\"x\":0.8,\"orientation\":\"h\"},\"title\":{\"text\":\"Win, Loss and Draw matches\",\"font\":{\"size\":30,\"family\":\"Impact\",\"color\":\"black\"},\"y\":0.9},\"barmode\":\"relative\",\"height\":500,\"plot_bgcolor\":\"aliceblue\",\"paper_bgcolor\":\"aliceblue\"},                        {\"responsive\": true}                    ).then(function(){\n",
       "                            \n",
       "var gd = document.getElementById('f96c5275-485d-4ad2-8b7c-201f5a229ad5');\n",
       "var x = new MutationObserver(function (mutations, observer) {{\n",
       "        var display = window.getComputedStyle(gd).display;\n",
       "        if (!display || display === 'none') {{\n",
       "            console.log([gd, 'removed!']);\n",
       "            Plotly.purge(gd);\n",
       "            observer.disconnect();\n",
       "        }}\n",
       "}});\n",
       "\n",
       "// Listen for the removal of the full notebook cells\n",
       "var notebookContainer = gd.closest('#notebook-container');\n",
       "if (notebookContainer) {{\n",
       "    x.observe(notebookContainer, {childList: true});\n",
       "}}\n",
       "\n",
       "// Listen for the clearing of the current output cell\n",
       "var outputEl = gd.closest('.output');\n",
       "if (outputEl) {{\n",
       "    x.observe(outputEl, {childList: true});\n",
       "}}\n",
       "\n",
       "                        })                };                });            </script>        </div>"
      ]
     },
     "metadata": {},
     "output_type": "display_data"
    }
   ],
   "source": [
    "#Ploteamos el grafico\n",
    "\n",
    "widths = np.array([0.2]*25)\n",
    "fig = px.bar(match.sort_values(by=\"W\", ascending=True), \n",
    "            x=[\"W\", \"L\", \"D\"],\n",
    "            y=\"label\", \n",
    "            title=\"Win, Loss and Draw matches\",\n",
    "            orientation='h',\n",
    "            template = \"simple_white\",\n",
    "             color_discrete_sequence=['#46986a', '#ff5252', '#ffff66'])\n",
    "\n",
    "fig.update_layout(title={'y': 0.9},\n",
    "                  title_font_size=30, \n",
    "                  title_font_family=\"Impact\", \n",
    "                  title_font_color=\"black\",\n",
    "                  height=500,\n",
    "                  legend=dict(\n",
    "                    title='',\n",
    "                    yanchor='top', \n",
    "                    y=1.1,\n",
    "                    xanchor='center', \n",
    "                    x=0.8, \n",
    "                    orientation='h',\n",
    "                    font=dict(family='Microsoft Tai Le',\n",
    "                              size=14,\n",
    "                              color='Black')),\n",
    "                  plot_bgcolor='aliceblue', \n",
    "                  paper_bgcolor='aliceblue')\n",
    "\n",
    "fig.update_xaxes(title='Number of matches',\n",
    "                 titlefont_family='Microsoft Tai Le',\n",
    "                 titlefont_size=16,\n",
    "                 tickfont_family='Microsoft Tai Le',\n",
    "                 tickfont_size=12)\n",
    "                \n",
    "fig.update_yaxes(title=\"\",\n",
    "                tickfont_family='Microsoft Tai Le',\n",
    "                 tickfont_size=10,\n",
    "                titlefont_family='Microsoft Tai Le',\n",
    "                 titlefont_size=14)\n"
   ]
  },
  {
   "cell_type": "markdown",
   "id": "d7c10bd2",
   "metadata": {},
   "source": [
    "Visualizacion de los goles"
   ]
  },
  {
   "cell_type": "code",
   "execution_count": 33,
   "id": "4697b7f9",
   "metadata": {},
   "outputs": [
    {
     "name": "stderr",
     "output_type": "stream",
     "text": [
      "C:\\Users\\angel\\AppData\\Local\\Temp\\ipykernel_3020\\930141313.py:7: FutureWarning:\n",
      "\n",
      "The frame.append method is deprecated and will be removed from pandas in a future version. Use pandas.concat instead.\n",
      "\n",
      "C:\\Users\\angel\\AppData\\Local\\Temp\\ipykernel_3020\\930141313.py:7: FutureWarning:\n",
      "\n",
      "The frame.append method is deprecated and will be removed from pandas in a future version. Use pandas.concat instead.\n",
      "\n",
      "C:\\Users\\angel\\AppData\\Local\\Temp\\ipykernel_3020\\930141313.py:7: FutureWarning:\n",
      "\n",
      "The frame.append method is deprecated and will be removed from pandas in a future version. Use pandas.concat instead.\n",
      "\n",
      "C:\\Users\\angel\\AppData\\Local\\Temp\\ipykernel_3020\\930141313.py:7: FutureWarning:\n",
      "\n",
      "The frame.append method is deprecated and will be removed from pandas in a future version. Use pandas.concat instead.\n",
      "\n",
      "C:\\Users\\angel\\AppData\\Local\\Temp\\ipykernel_3020\\930141313.py:7: FutureWarning:\n",
      "\n",
      "The frame.append method is deprecated and will be removed from pandas in a future version. Use pandas.concat instead.\n",
      "\n"
     ]
    }
   ],
   "source": [
    "#Dataframe de goles\n",
    "\n",
    "goals_df = data[[\"Squad\", \"Country\", \"GF\", \"GA\", \"GD\"]].groupby([\"Country\", \"Squad\"]).agg(lambda x:x).reset_index()\n",
    "goals = pd.DataFrame()\n",
    "\n",
    "for i in countries: \n",
    "    goals = goals.append(goals_df[goals_df[\"Country\"]==i].sort_values(by='GF', ascending=False)[:5])\n",
    "    \n",
    "goals[\"label\"] = goals[[\"Squad\", \"Country\"]].agg(' - '.join, axis=1) "
   ]
  },
  {
   "cell_type": "code",
   "execution_count": 34,
   "id": "cf8fc1a7",
   "metadata": {},
   "outputs": [
    {
     "data": {
      "application/vnd.plotly.v1+json": {
       "config": {
        "plotlyServerURL": "https://plot.ly"
       },
       "data": [
        {
         "marker": {
          "color": [
           "#ebf3ed",
           "#e4eee7",
           "#dbeae1",
           "#d3e6da",
           "#cce2d4",
           "#c4ddce",
           "#bcd9c8",
           "#b4d5c2",
           "#acd0bb",
           "#a4ccb5",
           "#9cc8af",
           "#94c3a8",
           "#8cbfa2",
           "#85bb9c",
           "#7db695",
           "#74b28f",
           "#6dae89",
           "#65a983",
           "#5da57c",
           "#55a176",
           "#4d9c70",
           "#459869",
           "#3e9463",
           "#358f5d",
           "#2e8b57"
          ],
          "line": {
           "color": "black",
           "width": 0.15
          }
         },
         "name": "GF",
         "orientation": "h",
         "text": [
          "58",
          "62",
          "62",
          "63",
          "63",
          "65",
          "65",
          "65",
          "66",
          "68",
          "69",
          "69",
          "72",
          "74",
          "76",
          "77",
          "80",
          "80",
          "82",
          "84",
          "85",
          "90",
          "94",
          "97",
          "99"
         ],
         "textposition": "outside",
         "type": "bar",
         "x": [
          58,
          62,
          62,
          63,
          63,
          65,
          65,
          65,
          66,
          68,
          69,
          69,
          72,
          74,
          76,
          77,
          80,
          80,
          82,
          84,
          85,
          90,
          94,
          97,
          99
         ],
         "xaxis": "x",
         "y": [
          "Hoffenheim - GER",
          "Betis - ESP",
          "Leicester City - ENG",
          "Villarreal - ESP",
          "Marseille - FRA",
          "Hellas Verona - ITA",
          "Monaco - FRA",
          "Atlético Madrid - ESP",
          "Lyon - FRA",
          "Barcelona - ESP",
          "Tottenham - ENG",
          "Milan - ITA",
          "RB Leipzig - GER",
          "Napoli - ITA",
          "Chelsea - ENG",
          "Lazio - ITA",
          "Leverkusen - GER",
          "Real Madrid - ESP",
          "Rennes - FRA",
          "Inter - ITA",
          "Dortmund - GER",
          "Paris S-G - FRA",
          "Liverpool - ENG",
          "Bayern Munich - GER",
          "Manchester City - ENG"
         ],
         "yaxis": "y"
        },
        {
         "marker": {
          "color": [
           "#f3f0f0",
           "#f3e7e7",
           "#f4dcdc",
           "#f4d2d2",
           "#f5c8c8",
           "#f5bebe",
           "#f6b4b4",
           "#f6aaaa",
           "#f7a0a0",
           "#f79696",
           "#f88c8c",
           "#f88282",
           "#f97878",
           "#f96e6e",
           "#fa6464",
           "#fa5959",
           "#fb5050",
           "#fb4646",
           "#fc3b3b",
           "#fc3232",
           "#fd2828",
           "#fe1d1d",
           "#fe1414",
           "#ff0909",
           "#ff0000"
          ],
          "line": {
           "color": "black",
           "width": 0.15
          }
         },
         "name": "GA",
         "orientation": "h",
         "text": [
          "60",
          "40",
          "59",
          "37",
          "38",
          "59",
          "40",
          "43",
          "51",
          "38",
          "40",
          "31",
          "37",
          "31",
          "33",
          "58",
          "47",
          "31",
          "40",
          "32",
          "52",
          "36",
          "26",
          "37",
          "26"
         ],
         "textposition": "outside",
         "type": "bar",
         "x": [
          60,
          40,
          59,
          37,
          38,
          59,
          40,
          43,
          51,
          38,
          40,
          31,
          37,
          31,
          33,
          58,
          47,
          31,
          40,
          32,
          52,
          36,
          26,
          37,
          26
         ],
         "xaxis": "x2",
         "y": [
          "Hoffenheim - GER",
          "Betis - ESP",
          "Leicester City - ENG",
          "Villarreal - ESP",
          "Marseille - FRA",
          "Hellas Verona - ITA",
          "Monaco - FRA",
          "Atlético Madrid - ESP",
          "Lyon - FRA",
          "Barcelona - ESP",
          "Tottenham - ENG",
          "Milan - ITA",
          "RB Leipzig - GER",
          "Napoli - ITA",
          "Chelsea - ENG",
          "Lazio - ITA",
          "Leverkusen - GER",
          "Real Madrid - ESP",
          "Rennes - FRA",
          "Inter - ITA",
          "Dortmund - GER",
          "Paris S-G - FRA",
          "Liverpool - ENG",
          "Bayern Munich - GER",
          "Manchester City - ENG"
         ],
         "yaxis": "y2"
        },
        {
         "marker": {
          "color": [
           "#f2f2dd",
           "#f0f0d5",
           "#eeeecb",
           "#ececc1",
           "#eaeab9",
           "#e7e7af",
           "#e5e5a6",
           "#e3e39d",
           "#e1e194",
           "#dfdf8a",
           "#dddd81",
           "#dbdb78",
           "#d9d96e",
           "#d7d766",
           "#d4d45c",
           "#d2d252",
           "#d0d04a",
           "#cece40",
           "#cccc37",
           "#caca2e",
           "#c8c824",
           "#c5c51b",
           "#c3c312",
           "#c1c109",
           "#bfbf00"
          ],
          "line": {
           "color": "black",
           "width": 0.15
          }
         },
         "name": "GD",
         "orientation": "h",
         "text": [
          "-2",
          "22",
          "3",
          "26",
          "25",
          "6",
          "25",
          "22",
          "15",
          "30",
          "29",
          "38",
          "35",
          "43",
          "43",
          "19",
          "33",
          "49",
          "42",
          "52",
          "33",
          "54",
          "68",
          "60",
          "73"
         ],
         "textposition": "outside",
         "type": "bar",
         "x": [
          -2,
          22,
          3,
          26,
          25,
          6,
          25,
          22,
          15,
          30,
          29,
          38,
          35,
          43,
          43,
          19,
          33,
          49,
          42,
          52,
          33,
          54,
          68,
          60,
          73
         ],
         "xaxis": "x3",
         "y": [
          "Hoffenheim - GER",
          "Betis - ESP",
          "Leicester City - ENG",
          "Villarreal - ESP",
          "Marseille - FRA",
          "Hellas Verona - ITA",
          "Monaco - FRA",
          "Atlético Madrid - ESP",
          "Lyon - FRA",
          "Barcelona - ESP",
          "Tottenham - ENG",
          "Milan - ITA",
          "RB Leipzig - GER",
          "Napoli - ITA",
          "Chelsea - ENG",
          "Lazio - ITA",
          "Leverkusen - GER",
          "Real Madrid - ESP",
          "Rennes - FRA",
          "Inter - ITA",
          "Dortmund - GER",
          "Paris S-G - FRA",
          "Liverpool - ENG",
          "Bayern Munich - GER",
          "Manchester City - ENG"
         ],
         "yaxis": "y3"
        }
       ],
       "layout": {
        "height": 600,
        "showlegend": false,
        "template": {
         "data": {
          "bar": [
           {
            "error_x": {
             "color": "rgb(36,36,36)"
            },
            "error_y": {
             "color": "rgb(36,36,36)"
            },
            "marker": {
             "line": {
              "color": "white",
              "width": 0.5
             },
             "pattern": {
              "fillmode": "overlay",
              "size": 10,
              "solidity": 0.2
             }
            },
            "type": "bar"
           }
          ],
          "barpolar": [
           {
            "marker": {
             "line": {
              "color": "white",
              "width": 0.5
             },
             "pattern": {
              "fillmode": "overlay",
              "size": 10,
              "solidity": 0.2
             }
            },
            "type": "barpolar"
           }
          ],
          "carpet": [
           {
            "aaxis": {
             "endlinecolor": "rgb(36,36,36)",
             "gridcolor": "white",
             "linecolor": "white",
             "minorgridcolor": "white",
             "startlinecolor": "rgb(36,36,36)"
            },
            "baxis": {
             "endlinecolor": "rgb(36,36,36)",
             "gridcolor": "white",
             "linecolor": "white",
             "minorgridcolor": "white",
             "startlinecolor": "rgb(36,36,36)"
            },
            "type": "carpet"
           }
          ],
          "choropleth": [
           {
            "colorbar": {
             "outlinewidth": 1,
             "tickcolor": "rgb(36,36,36)",
             "ticks": "outside"
            },
            "type": "choropleth"
           }
          ],
          "contour": [
           {
            "colorbar": {
             "outlinewidth": 1,
             "tickcolor": "rgb(36,36,36)",
             "ticks": "outside"
            },
            "colorscale": [
             [
              0,
              "#440154"
             ],
             [
              0.1111111111111111,
              "#482878"
             ],
             [
              0.2222222222222222,
              "#3e4989"
             ],
             [
              0.3333333333333333,
              "#31688e"
             ],
             [
              0.4444444444444444,
              "#26828e"
             ],
             [
              0.5555555555555556,
              "#1f9e89"
             ],
             [
              0.6666666666666666,
              "#35b779"
             ],
             [
              0.7777777777777778,
              "#6ece58"
             ],
             [
              0.8888888888888888,
              "#b5de2b"
             ],
             [
              1,
              "#fde725"
             ]
            ],
            "type": "contour"
           }
          ],
          "contourcarpet": [
           {
            "colorbar": {
             "outlinewidth": 1,
             "tickcolor": "rgb(36,36,36)",
             "ticks": "outside"
            },
            "type": "contourcarpet"
           }
          ],
          "heatmap": [
           {
            "colorbar": {
             "outlinewidth": 1,
             "tickcolor": "rgb(36,36,36)",
             "ticks": "outside"
            },
            "colorscale": [
             [
              0,
              "#440154"
             ],
             [
              0.1111111111111111,
              "#482878"
             ],
             [
              0.2222222222222222,
              "#3e4989"
             ],
             [
              0.3333333333333333,
              "#31688e"
             ],
             [
              0.4444444444444444,
              "#26828e"
             ],
             [
              0.5555555555555556,
              "#1f9e89"
             ],
             [
              0.6666666666666666,
              "#35b779"
             ],
             [
              0.7777777777777778,
              "#6ece58"
             ],
             [
              0.8888888888888888,
              "#b5de2b"
             ],
             [
              1,
              "#fde725"
             ]
            ],
            "type": "heatmap"
           }
          ],
          "heatmapgl": [
           {
            "colorbar": {
             "outlinewidth": 1,
             "tickcolor": "rgb(36,36,36)",
             "ticks": "outside"
            },
            "colorscale": [
             [
              0,
              "#440154"
             ],
             [
              0.1111111111111111,
              "#482878"
             ],
             [
              0.2222222222222222,
              "#3e4989"
             ],
             [
              0.3333333333333333,
              "#31688e"
             ],
             [
              0.4444444444444444,
              "#26828e"
             ],
             [
              0.5555555555555556,
              "#1f9e89"
             ],
             [
              0.6666666666666666,
              "#35b779"
             ],
             [
              0.7777777777777778,
              "#6ece58"
             ],
             [
              0.8888888888888888,
              "#b5de2b"
             ],
             [
              1,
              "#fde725"
             ]
            ],
            "type": "heatmapgl"
           }
          ],
          "histogram": [
           {
            "marker": {
             "line": {
              "color": "white",
              "width": 0.6
             }
            },
            "type": "histogram"
           }
          ],
          "histogram2d": [
           {
            "colorbar": {
             "outlinewidth": 1,
             "tickcolor": "rgb(36,36,36)",
             "ticks": "outside"
            },
            "colorscale": [
             [
              0,
              "#440154"
             ],
             [
              0.1111111111111111,
              "#482878"
             ],
             [
              0.2222222222222222,
              "#3e4989"
             ],
             [
              0.3333333333333333,
              "#31688e"
             ],
             [
              0.4444444444444444,
              "#26828e"
             ],
             [
              0.5555555555555556,
              "#1f9e89"
             ],
             [
              0.6666666666666666,
              "#35b779"
             ],
             [
              0.7777777777777778,
              "#6ece58"
             ],
             [
              0.8888888888888888,
              "#b5de2b"
             ],
             [
              1,
              "#fde725"
             ]
            ],
            "type": "histogram2d"
           }
          ],
          "histogram2dcontour": [
           {
            "colorbar": {
             "outlinewidth": 1,
             "tickcolor": "rgb(36,36,36)",
             "ticks": "outside"
            },
            "colorscale": [
             [
              0,
              "#440154"
             ],
             [
              0.1111111111111111,
              "#482878"
             ],
             [
              0.2222222222222222,
              "#3e4989"
             ],
             [
              0.3333333333333333,
              "#31688e"
             ],
             [
              0.4444444444444444,
              "#26828e"
             ],
             [
              0.5555555555555556,
              "#1f9e89"
             ],
             [
              0.6666666666666666,
              "#35b779"
             ],
             [
              0.7777777777777778,
              "#6ece58"
             ],
             [
              0.8888888888888888,
              "#b5de2b"
             ],
             [
              1,
              "#fde725"
             ]
            ],
            "type": "histogram2dcontour"
           }
          ],
          "mesh3d": [
           {
            "colorbar": {
             "outlinewidth": 1,
             "tickcolor": "rgb(36,36,36)",
             "ticks": "outside"
            },
            "type": "mesh3d"
           }
          ],
          "parcoords": [
           {
            "line": {
             "colorbar": {
              "outlinewidth": 1,
              "tickcolor": "rgb(36,36,36)",
              "ticks": "outside"
             }
            },
            "type": "parcoords"
           }
          ],
          "pie": [
           {
            "automargin": true,
            "type": "pie"
           }
          ],
          "scatter": [
           {
            "fillpattern": {
             "fillmode": "overlay",
             "size": 10,
             "solidity": 0.2
            },
            "type": "scatter"
           }
          ],
          "scatter3d": [
           {
            "line": {
             "colorbar": {
              "outlinewidth": 1,
              "tickcolor": "rgb(36,36,36)",
              "ticks": "outside"
             }
            },
            "marker": {
             "colorbar": {
              "outlinewidth": 1,
              "tickcolor": "rgb(36,36,36)",
              "ticks": "outside"
             }
            },
            "type": "scatter3d"
           }
          ],
          "scattercarpet": [
           {
            "marker": {
             "colorbar": {
              "outlinewidth": 1,
              "tickcolor": "rgb(36,36,36)",
              "ticks": "outside"
             }
            },
            "type": "scattercarpet"
           }
          ],
          "scattergeo": [
           {
            "marker": {
             "colorbar": {
              "outlinewidth": 1,
              "tickcolor": "rgb(36,36,36)",
              "ticks": "outside"
             }
            },
            "type": "scattergeo"
           }
          ],
          "scattergl": [
           {
            "marker": {
             "colorbar": {
              "outlinewidth": 1,
              "tickcolor": "rgb(36,36,36)",
              "ticks": "outside"
             }
            },
            "type": "scattergl"
           }
          ],
          "scattermapbox": [
           {
            "marker": {
             "colorbar": {
              "outlinewidth": 1,
              "tickcolor": "rgb(36,36,36)",
              "ticks": "outside"
             }
            },
            "type": "scattermapbox"
           }
          ],
          "scatterpolar": [
           {
            "marker": {
             "colorbar": {
              "outlinewidth": 1,
              "tickcolor": "rgb(36,36,36)",
              "ticks": "outside"
             }
            },
            "type": "scatterpolar"
           }
          ],
          "scatterpolargl": [
           {
            "marker": {
             "colorbar": {
              "outlinewidth": 1,
              "tickcolor": "rgb(36,36,36)",
              "ticks": "outside"
             }
            },
            "type": "scatterpolargl"
           }
          ],
          "scatterternary": [
           {
            "marker": {
             "colorbar": {
              "outlinewidth": 1,
              "tickcolor": "rgb(36,36,36)",
              "ticks": "outside"
             }
            },
            "type": "scatterternary"
           }
          ],
          "surface": [
           {
            "colorbar": {
             "outlinewidth": 1,
             "tickcolor": "rgb(36,36,36)",
             "ticks": "outside"
            },
            "colorscale": [
             [
              0,
              "#440154"
             ],
             [
              0.1111111111111111,
              "#482878"
             ],
             [
              0.2222222222222222,
              "#3e4989"
             ],
             [
              0.3333333333333333,
              "#31688e"
             ],
             [
              0.4444444444444444,
              "#26828e"
             ],
             [
              0.5555555555555556,
              "#1f9e89"
             ],
             [
              0.6666666666666666,
              "#35b779"
             ],
             [
              0.7777777777777778,
              "#6ece58"
             ],
             [
              0.8888888888888888,
              "#b5de2b"
             ],
             [
              1,
              "#fde725"
             ]
            ],
            "type": "surface"
           }
          ],
          "table": [
           {
            "cells": {
             "fill": {
              "color": "rgb(237,237,237)"
             },
             "line": {
              "color": "white"
             }
            },
            "header": {
             "fill": {
              "color": "rgb(217,217,217)"
             },
             "line": {
              "color": "white"
             }
            },
            "type": "table"
           }
          ]
         },
         "layout": {
          "annotationdefaults": {
           "arrowhead": 0,
           "arrowwidth": 1
          },
          "autotypenumbers": "strict",
          "coloraxis": {
           "colorbar": {
            "outlinewidth": 1,
            "tickcolor": "rgb(36,36,36)",
            "ticks": "outside"
           }
          },
          "colorscale": {
           "diverging": [
            [
             0,
             "rgb(103,0,31)"
            ],
            [
             0.1,
             "rgb(178,24,43)"
            ],
            [
             0.2,
             "rgb(214,96,77)"
            ],
            [
             0.3,
             "rgb(244,165,130)"
            ],
            [
             0.4,
             "rgb(253,219,199)"
            ],
            [
             0.5,
             "rgb(247,247,247)"
            ],
            [
             0.6,
             "rgb(209,229,240)"
            ],
            [
             0.7,
             "rgb(146,197,222)"
            ],
            [
             0.8,
             "rgb(67,147,195)"
            ],
            [
             0.9,
             "rgb(33,102,172)"
            ],
            [
             1,
             "rgb(5,48,97)"
            ]
           ],
           "sequential": [
            [
             0,
             "#440154"
            ],
            [
             0.1111111111111111,
             "#482878"
            ],
            [
             0.2222222222222222,
             "#3e4989"
            ],
            [
             0.3333333333333333,
             "#31688e"
            ],
            [
             0.4444444444444444,
             "#26828e"
            ],
            [
             0.5555555555555556,
             "#1f9e89"
            ],
            [
             0.6666666666666666,
             "#35b779"
            ],
            [
             0.7777777777777778,
             "#6ece58"
            ],
            [
             0.8888888888888888,
             "#b5de2b"
            ],
            [
             1,
             "#fde725"
            ]
           ],
           "sequentialminus": [
            [
             0,
             "#440154"
            ],
            [
             0.1111111111111111,
             "#482878"
            ],
            [
             0.2222222222222222,
             "#3e4989"
            ],
            [
             0.3333333333333333,
             "#31688e"
            ],
            [
             0.4444444444444444,
             "#26828e"
            ],
            [
             0.5555555555555556,
             "#1f9e89"
            ],
            [
             0.6666666666666666,
             "#35b779"
            ],
            [
             0.7777777777777778,
             "#6ece58"
            ],
            [
             0.8888888888888888,
             "#b5de2b"
            ],
            [
             1,
             "#fde725"
            ]
           ]
          },
          "colorway": [
           "#1F77B4",
           "#FF7F0E",
           "#2CA02C",
           "#D62728",
           "#9467BD",
           "#8C564B",
           "#E377C2",
           "#7F7F7F",
           "#BCBD22",
           "#17BECF"
          ],
          "font": {
           "color": "rgb(36,36,36)"
          },
          "geo": {
           "bgcolor": "white",
           "lakecolor": "white",
           "landcolor": "white",
           "showlakes": true,
           "showland": true,
           "subunitcolor": "white"
          },
          "hoverlabel": {
           "align": "left"
          },
          "hovermode": "closest",
          "mapbox": {
           "style": "light"
          },
          "paper_bgcolor": "white",
          "plot_bgcolor": "white",
          "polar": {
           "angularaxis": {
            "gridcolor": "rgb(232,232,232)",
            "linecolor": "rgb(36,36,36)",
            "showgrid": false,
            "showline": true,
            "ticks": "outside"
           },
           "bgcolor": "white",
           "radialaxis": {
            "gridcolor": "rgb(232,232,232)",
            "linecolor": "rgb(36,36,36)",
            "showgrid": false,
            "showline": true,
            "ticks": "outside"
           }
          },
          "scene": {
           "xaxis": {
            "backgroundcolor": "white",
            "gridcolor": "rgb(232,232,232)",
            "gridwidth": 2,
            "linecolor": "rgb(36,36,36)",
            "showbackground": true,
            "showgrid": false,
            "showline": true,
            "ticks": "outside",
            "zeroline": false,
            "zerolinecolor": "rgb(36,36,36)"
           },
           "yaxis": {
            "backgroundcolor": "white",
            "gridcolor": "rgb(232,232,232)",
            "gridwidth": 2,
            "linecolor": "rgb(36,36,36)",
            "showbackground": true,
            "showgrid": false,
            "showline": true,
            "ticks": "outside",
            "zeroline": false,
            "zerolinecolor": "rgb(36,36,36)"
           },
           "zaxis": {
            "backgroundcolor": "white",
            "gridcolor": "rgb(232,232,232)",
            "gridwidth": 2,
            "linecolor": "rgb(36,36,36)",
            "showbackground": true,
            "showgrid": false,
            "showline": true,
            "ticks": "outside",
            "zeroline": false,
            "zerolinecolor": "rgb(36,36,36)"
           }
          },
          "shapedefaults": {
           "fillcolor": "black",
           "line": {
            "width": 0
           },
           "opacity": 0.3
          },
          "ternary": {
           "aaxis": {
            "gridcolor": "rgb(232,232,232)",
            "linecolor": "rgb(36,36,36)",
            "showgrid": false,
            "showline": true,
            "ticks": "outside"
           },
           "baxis": {
            "gridcolor": "rgb(232,232,232)",
            "linecolor": "rgb(36,36,36)",
            "showgrid": false,
            "showline": true,
            "ticks": "outside"
           },
           "bgcolor": "white",
           "caxis": {
            "gridcolor": "rgb(232,232,232)",
            "linecolor": "rgb(36,36,36)",
            "showgrid": false,
            "showline": true,
            "ticks": "outside"
           }
          },
          "title": {
           "x": 0.05
          },
          "xaxis": {
           "automargin": true,
           "gridcolor": "rgb(232,232,232)",
           "linecolor": "rgb(36,36,36)",
           "showgrid": false,
           "showline": true,
           "ticks": "outside",
           "title": {
            "standoff": 15
           },
           "zeroline": false,
           "zerolinecolor": "rgb(36,36,36)"
          },
          "yaxis": {
           "automargin": true,
           "gridcolor": "rgb(232,232,232)",
           "linecolor": "rgb(36,36,36)",
           "showgrid": false,
           "showline": true,
           "ticks": "outside",
           "title": {
            "standoff": 15
           },
           "zeroline": false,
           "zerolinecolor": "rgb(36,36,36)"
          }
         }
        },
        "title": {
         "font": {
          "color": "black",
          "family": "Impact",
          "size": 30
         },
         "text": "Number of GF, GA and GD",
         "x": 0.1,
         "y": 0.92
        },
        "xaxis": {
         "anchor": "y",
         "domain": [
          0,
          0.2888888888888889
         ],
         "title": {
          "font": {
           "family": "Microsoft Tai Le",
           "size": 16
          },
          "text": "Number of GF"
         }
        },
        "xaxis2": {
         "anchor": "y2",
         "domain": [
          0.35555555555555557,
          0.6444444444444445
         ],
         "title": {
          "font": {
           "family": "Microsoft Tai Le",
           "size": 16
          },
          "text": "Number of GA"
         }
        },
        "xaxis3": {
         "anchor": "y3",
         "domain": [
          0.7111111111111111,
          1
         ],
         "title": {
          "font": {
           "family": "Microsoft Tai Le",
           "size": 16
          },
          "text": "Number of GD"
         }
        },
        "yaxis": {
         "anchor": "x",
         "domain": [
          0,
          1
         ]
        },
        "yaxis2": {
         "anchor": "x2",
         "domain": [
          0,
          1
         ],
         "matches": "y",
         "showticklabels": false
        },
        "yaxis3": {
         "anchor": "x3",
         "domain": [
          0,
          1
         ],
         "matches": "y",
         "showticklabels": false
        }
       }
      },
      "text/html": [
       "<div>                            <div id=\"7621b212-28ac-4ff3-a284-afcc0a094e86\" class=\"plotly-graph-div\" style=\"height:600px; width:100%;\"></div>            <script type=\"text/javascript\">                require([\"plotly\"], function(Plotly) {                    window.PLOTLYENV=window.PLOTLYENV || {};                                    if (document.getElementById(\"7621b212-28ac-4ff3-a284-afcc0a094e86\")) {                    Plotly.newPlot(                        \"7621b212-28ac-4ff3-a284-afcc0a094e86\",                        [{\"marker\":{\"color\":[\"#ebf3ed\",\"#e4eee7\",\"#dbeae1\",\"#d3e6da\",\"#cce2d4\",\"#c4ddce\",\"#bcd9c8\",\"#b4d5c2\",\"#acd0bb\",\"#a4ccb5\",\"#9cc8af\",\"#94c3a8\",\"#8cbfa2\",\"#85bb9c\",\"#7db695\",\"#74b28f\",\"#6dae89\",\"#65a983\",\"#5da57c\",\"#55a176\",\"#4d9c70\",\"#459869\",\"#3e9463\",\"#358f5d\",\"#2e8b57\"],\"line\":{\"color\":\"black\",\"width\":0.15}},\"name\":\"GF\",\"orientation\":\"h\",\"text\":[\"58\",\"62\",\"62\",\"63\",\"63\",\"65\",\"65\",\"65\",\"66\",\"68\",\"69\",\"69\",\"72\",\"74\",\"76\",\"77\",\"80\",\"80\",\"82\",\"84\",\"85\",\"90\",\"94\",\"97\",\"99\"],\"textposition\":\"outside\",\"x\":[58,62,62,63,63,65,65,65,66,68,69,69,72,74,76,77,80,80,82,84,85,90,94,97,99],\"y\":[\"Hoffenheim - GER\",\"Betis - ESP\",\"Leicester City - ENG\",\"Villarreal - ESP\",\"Marseille - FRA\",\"Hellas Verona - ITA\",\"Monaco - FRA\",\"Atl\\u00e9tico Madrid - ESP\",\"Lyon - FRA\",\"Barcelona - ESP\",\"Tottenham - ENG\",\"Milan - ITA\",\"RB Leipzig - GER\",\"Napoli - ITA\",\"Chelsea - ENG\",\"Lazio - ITA\",\"Leverkusen - GER\",\"Real Madrid - ESP\",\"Rennes - FRA\",\"Inter - ITA\",\"Dortmund - GER\",\"Paris S-G - FRA\",\"Liverpool - ENG\",\"Bayern Munich - GER\",\"Manchester City - ENG\"],\"type\":\"bar\",\"xaxis\":\"x\",\"yaxis\":\"y\"},{\"marker\":{\"color\":[\"#f3f0f0\",\"#f3e7e7\",\"#f4dcdc\",\"#f4d2d2\",\"#f5c8c8\",\"#f5bebe\",\"#f6b4b4\",\"#f6aaaa\",\"#f7a0a0\",\"#f79696\",\"#f88c8c\",\"#f88282\",\"#f97878\",\"#f96e6e\",\"#fa6464\",\"#fa5959\",\"#fb5050\",\"#fb4646\",\"#fc3b3b\",\"#fc3232\",\"#fd2828\",\"#fe1d1d\",\"#fe1414\",\"#ff0909\",\"#ff0000\"],\"line\":{\"color\":\"black\",\"width\":0.15}},\"name\":\"GA\",\"orientation\":\"h\",\"text\":[\"60\",\"40\",\"59\",\"37\",\"38\",\"59\",\"40\",\"43\",\"51\",\"38\",\"40\",\"31\",\"37\",\"31\",\"33\",\"58\",\"47\",\"31\",\"40\",\"32\",\"52\",\"36\",\"26\",\"37\",\"26\"],\"textposition\":\"outside\",\"x\":[60,40,59,37,38,59,40,43,51,38,40,31,37,31,33,58,47,31,40,32,52,36,26,37,26],\"y\":[\"Hoffenheim - GER\",\"Betis - ESP\",\"Leicester City - ENG\",\"Villarreal - ESP\",\"Marseille - FRA\",\"Hellas Verona - ITA\",\"Monaco - FRA\",\"Atl\\u00e9tico Madrid - ESP\",\"Lyon - FRA\",\"Barcelona - ESP\",\"Tottenham - ENG\",\"Milan - ITA\",\"RB Leipzig - GER\",\"Napoli - ITA\",\"Chelsea - ENG\",\"Lazio - ITA\",\"Leverkusen - GER\",\"Real Madrid - ESP\",\"Rennes - FRA\",\"Inter - ITA\",\"Dortmund - GER\",\"Paris S-G - FRA\",\"Liverpool - ENG\",\"Bayern Munich - GER\",\"Manchester City - ENG\"],\"type\":\"bar\",\"xaxis\":\"x2\",\"yaxis\":\"y2\"},{\"marker\":{\"color\":[\"#f2f2dd\",\"#f0f0d5\",\"#eeeecb\",\"#ececc1\",\"#eaeab9\",\"#e7e7af\",\"#e5e5a6\",\"#e3e39d\",\"#e1e194\",\"#dfdf8a\",\"#dddd81\",\"#dbdb78\",\"#d9d96e\",\"#d7d766\",\"#d4d45c\",\"#d2d252\",\"#d0d04a\",\"#cece40\",\"#cccc37\",\"#caca2e\",\"#c8c824\",\"#c5c51b\",\"#c3c312\",\"#c1c109\",\"#bfbf00\"],\"line\":{\"color\":\"black\",\"width\":0.15}},\"name\":\"GD\",\"orientation\":\"h\",\"text\":[\"-2\",\"22\",\"3\",\"26\",\"25\",\"6\",\"25\",\"22\",\"15\",\"30\",\"29\",\"38\",\"35\",\"43\",\"43\",\"19\",\"33\",\"49\",\"42\",\"52\",\"33\",\"54\",\"68\",\"60\",\"73\"],\"textposition\":\"outside\",\"x\":[-2,22,3,26,25,6,25,22,15,30,29,38,35,43,43,19,33,49,42,52,33,54,68,60,73],\"y\":[\"Hoffenheim - GER\",\"Betis - ESP\",\"Leicester City - ENG\",\"Villarreal - ESP\",\"Marseille - FRA\",\"Hellas Verona - ITA\",\"Monaco - FRA\",\"Atl\\u00e9tico Madrid - ESP\",\"Lyon - FRA\",\"Barcelona - ESP\",\"Tottenham - ENG\",\"Milan - ITA\",\"RB Leipzig - GER\",\"Napoli - ITA\",\"Chelsea - ENG\",\"Lazio - ITA\",\"Leverkusen - GER\",\"Real Madrid - ESP\",\"Rennes - FRA\",\"Inter - ITA\",\"Dortmund - GER\",\"Paris S-G - FRA\",\"Liverpool - ENG\",\"Bayern Munich - GER\",\"Manchester City - ENG\"],\"type\":\"bar\",\"xaxis\":\"x3\",\"yaxis\":\"y3\"}],                        {\"template\":{\"data\":{\"barpolar\":[{\"marker\":{\"line\":{\"color\":\"white\",\"width\":0.5},\"pattern\":{\"fillmode\":\"overlay\",\"size\":10,\"solidity\":0.2}},\"type\":\"barpolar\"}],\"bar\":[{\"error_x\":{\"color\":\"rgb(36,36,36)\"},\"error_y\":{\"color\":\"rgb(36,36,36)\"},\"marker\":{\"line\":{\"color\":\"white\",\"width\":0.5},\"pattern\":{\"fillmode\":\"overlay\",\"size\":10,\"solidity\":0.2}},\"type\":\"bar\"}],\"carpet\":[{\"aaxis\":{\"endlinecolor\":\"rgb(36,36,36)\",\"gridcolor\":\"white\",\"linecolor\":\"white\",\"minorgridcolor\":\"white\",\"startlinecolor\":\"rgb(36,36,36)\"},\"baxis\":{\"endlinecolor\":\"rgb(36,36,36)\",\"gridcolor\":\"white\",\"linecolor\":\"white\",\"minorgridcolor\":\"white\",\"startlinecolor\":\"rgb(36,36,36)\"},\"type\":\"carpet\"}],\"choropleth\":[{\"colorbar\":{\"outlinewidth\":1,\"tickcolor\":\"rgb(36,36,36)\",\"ticks\":\"outside\"},\"type\":\"choropleth\"}],\"contourcarpet\":[{\"colorbar\":{\"outlinewidth\":1,\"tickcolor\":\"rgb(36,36,36)\",\"ticks\":\"outside\"},\"type\":\"contourcarpet\"}],\"contour\":[{\"colorbar\":{\"outlinewidth\":1,\"tickcolor\":\"rgb(36,36,36)\",\"ticks\":\"outside\"},\"colorscale\":[[0.0,\"#440154\"],[0.1111111111111111,\"#482878\"],[0.2222222222222222,\"#3e4989\"],[0.3333333333333333,\"#31688e\"],[0.4444444444444444,\"#26828e\"],[0.5555555555555556,\"#1f9e89\"],[0.6666666666666666,\"#35b779\"],[0.7777777777777778,\"#6ece58\"],[0.8888888888888888,\"#b5de2b\"],[1.0,\"#fde725\"]],\"type\":\"contour\"}],\"heatmapgl\":[{\"colorbar\":{\"outlinewidth\":1,\"tickcolor\":\"rgb(36,36,36)\",\"ticks\":\"outside\"},\"colorscale\":[[0.0,\"#440154\"],[0.1111111111111111,\"#482878\"],[0.2222222222222222,\"#3e4989\"],[0.3333333333333333,\"#31688e\"],[0.4444444444444444,\"#26828e\"],[0.5555555555555556,\"#1f9e89\"],[0.6666666666666666,\"#35b779\"],[0.7777777777777778,\"#6ece58\"],[0.8888888888888888,\"#b5de2b\"],[1.0,\"#fde725\"]],\"type\":\"heatmapgl\"}],\"heatmap\":[{\"colorbar\":{\"outlinewidth\":1,\"tickcolor\":\"rgb(36,36,36)\",\"ticks\":\"outside\"},\"colorscale\":[[0.0,\"#440154\"],[0.1111111111111111,\"#482878\"],[0.2222222222222222,\"#3e4989\"],[0.3333333333333333,\"#31688e\"],[0.4444444444444444,\"#26828e\"],[0.5555555555555556,\"#1f9e89\"],[0.6666666666666666,\"#35b779\"],[0.7777777777777778,\"#6ece58\"],[0.8888888888888888,\"#b5de2b\"],[1.0,\"#fde725\"]],\"type\":\"heatmap\"}],\"histogram2dcontour\":[{\"colorbar\":{\"outlinewidth\":1,\"tickcolor\":\"rgb(36,36,36)\",\"ticks\":\"outside\"},\"colorscale\":[[0.0,\"#440154\"],[0.1111111111111111,\"#482878\"],[0.2222222222222222,\"#3e4989\"],[0.3333333333333333,\"#31688e\"],[0.4444444444444444,\"#26828e\"],[0.5555555555555556,\"#1f9e89\"],[0.6666666666666666,\"#35b779\"],[0.7777777777777778,\"#6ece58\"],[0.8888888888888888,\"#b5de2b\"],[1.0,\"#fde725\"]],\"type\":\"histogram2dcontour\"}],\"histogram2d\":[{\"colorbar\":{\"outlinewidth\":1,\"tickcolor\":\"rgb(36,36,36)\",\"ticks\":\"outside\"},\"colorscale\":[[0.0,\"#440154\"],[0.1111111111111111,\"#482878\"],[0.2222222222222222,\"#3e4989\"],[0.3333333333333333,\"#31688e\"],[0.4444444444444444,\"#26828e\"],[0.5555555555555556,\"#1f9e89\"],[0.6666666666666666,\"#35b779\"],[0.7777777777777778,\"#6ece58\"],[0.8888888888888888,\"#b5de2b\"],[1.0,\"#fde725\"]],\"type\":\"histogram2d\"}],\"histogram\":[{\"marker\":{\"line\":{\"color\":\"white\",\"width\":0.6}},\"type\":\"histogram\"}],\"mesh3d\":[{\"colorbar\":{\"outlinewidth\":1,\"tickcolor\":\"rgb(36,36,36)\",\"ticks\":\"outside\"},\"type\":\"mesh3d\"}],\"parcoords\":[{\"line\":{\"colorbar\":{\"outlinewidth\":1,\"tickcolor\":\"rgb(36,36,36)\",\"ticks\":\"outside\"}},\"type\":\"parcoords\"}],\"pie\":[{\"automargin\":true,\"type\":\"pie\"}],\"scatter3d\":[{\"line\":{\"colorbar\":{\"outlinewidth\":1,\"tickcolor\":\"rgb(36,36,36)\",\"ticks\":\"outside\"}},\"marker\":{\"colorbar\":{\"outlinewidth\":1,\"tickcolor\":\"rgb(36,36,36)\",\"ticks\":\"outside\"}},\"type\":\"scatter3d\"}],\"scattercarpet\":[{\"marker\":{\"colorbar\":{\"outlinewidth\":1,\"tickcolor\":\"rgb(36,36,36)\",\"ticks\":\"outside\"}},\"type\":\"scattercarpet\"}],\"scattergeo\":[{\"marker\":{\"colorbar\":{\"outlinewidth\":1,\"tickcolor\":\"rgb(36,36,36)\",\"ticks\":\"outside\"}},\"type\":\"scattergeo\"}],\"scattergl\":[{\"marker\":{\"colorbar\":{\"outlinewidth\":1,\"tickcolor\":\"rgb(36,36,36)\",\"ticks\":\"outside\"}},\"type\":\"scattergl\"}],\"scattermapbox\":[{\"marker\":{\"colorbar\":{\"outlinewidth\":1,\"tickcolor\":\"rgb(36,36,36)\",\"ticks\":\"outside\"}},\"type\":\"scattermapbox\"}],\"scatterpolargl\":[{\"marker\":{\"colorbar\":{\"outlinewidth\":1,\"tickcolor\":\"rgb(36,36,36)\",\"ticks\":\"outside\"}},\"type\":\"scatterpolargl\"}],\"scatterpolar\":[{\"marker\":{\"colorbar\":{\"outlinewidth\":1,\"tickcolor\":\"rgb(36,36,36)\",\"ticks\":\"outside\"}},\"type\":\"scatterpolar\"}],\"scatter\":[{\"fillpattern\":{\"fillmode\":\"overlay\",\"size\":10,\"solidity\":0.2},\"type\":\"scatter\"}],\"scatterternary\":[{\"marker\":{\"colorbar\":{\"outlinewidth\":1,\"tickcolor\":\"rgb(36,36,36)\",\"ticks\":\"outside\"}},\"type\":\"scatterternary\"}],\"surface\":[{\"colorbar\":{\"outlinewidth\":1,\"tickcolor\":\"rgb(36,36,36)\",\"ticks\":\"outside\"},\"colorscale\":[[0.0,\"#440154\"],[0.1111111111111111,\"#482878\"],[0.2222222222222222,\"#3e4989\"],[0.3333333333333333,\"#31688e\"],[0.4444444444444444,\"#26828e\"],[0.5555555555555556,\"#1f9e89\"],[0.6666666666666666,\"#35b779\"],[0.7777777777777778,\"#6ece58\"],[0.8888888888888888,\"#b5de2b\"],[1.0,\"#fde725\"]],\"type\":\"surface\"}],\"table\":[{\"cells\":{\"fill\":{\"color\":\"rgb(237,237,237)\"},\"line\":{\"color\":\"white\"}},\"header\":{\"fill\":{\"color\":\"rgb(217,217,217)\"},\"line\":{\"color\":\"white\"}},\"type\":\"table\"}]},\"layout\":{\"annotationdefaults\":{\"arrowhead\":0,\"arrowwidth\":1},\"autotypenumbers\":\"strict\",\"coloraxis\":{\"colorbar\":{\"outlinewidth\":1,\"tickcolor\":\"rgb(36,36,36)\",\"ticks\":\"outside\"}},\"colorscale\":{\"diverging\":[[0.0,\"rgb(103,0,31)\"],[0.1,\"rgb(178,24,43)\"],[0.2,\"rgb(214,96,77)\"],[0.3,\"rgb(244,165,130)\"],[0.4,\"rgb(253,219,199)\"],[0.5,\"rgb(247,247,247)\"],[0.6,\"rgb(209,229,240)\"],[0.7,\"rgb(146,197,222)\"],[0.8,\"rgb(67,147,195)\"],[0.9,\"rgb(33,102,172)\"],[1.0,\"rgb(5,48,97)\"]],\"sequential\":[[0.0,\"#440154\"],[0.1111111111111111,\"#482878\"],[0.2222222222222222,\"#3e4989\"],[0.3333333333333333,\"#31688e\"],[0.4444444444444444,\"#26828e\"],[0.5555555555555556,\"#1f9e89\"],[0.6666666666666666,\"#35b779\"],[0.7777777777777778,\"#6ece58\"],[0.8888888888888888,\"#b5de2b\"],[1.0,\"#fde725\"]],\"sequentialminus\":[[0.0,\"#440154\"],[0.1111111111111111,\"#482878\"],[0.2222222222222222,\"#3e4989\"],[0.3333333333333333,\"#31688e\"],[0.4444444444444444,\"#26828e\"],[0.5555555555555556,\"#1f9e89\"],[0.6666666666666666,\"#35b779\"],[0.7777777777777778,\"#6ece58\"],[0.8888888888888888,\"#b5de2b\"],[1.0,\"#fde725\"]]},\"colorway\":[\"#1F77B4\",\"#FF7F0E\",\"#2CA02C\",\"#D62728\",\"#9467BD\",\"#8C564B\",\"#E377C2\",\"#7F7F7F\",\"#BCBD22\",\"#17BECF\"],\"font\":{\"color\":\"rgb(36,36,36)\"},\"geo\":{\"bgcolor\":\"white\",\"lakecolor\":\"white\",\"landcolor\":\"white\",\"showlakes\":true,\"showland\":true,\"subunitcolor\":\"white\"},\"hoverlabel\":{\"align\":\"left\"},\"hovermode\":\"closest\",\"mapbox\":{\"style\":\"light\"},\"paper_bgcolor\":\"white\",\"plot_bgcolor\":\"white\",\"polar\":{\"angularaxis\":{\"gridcolor\":\"rgb(232,232,232)\",\"linecolor\":\"rgb(36,36,36)\",\"showgrid\":false,\"showline\":true,\"ticks\":\"outside\"},\"bgcolor\":\"white\",\"radialaxis\":{\"gridcolor\":\"rgb(232,232,232)\",\"linecolor\":\"rgb(36,36,36)\",\"showgrid\":false,\"showline\":true,\"ticks\":\"outside\"}},\"scene\":{\"xaxis\":{\"backgroundcolor\":\"white\",\"gridcolor\":\"rgb(232,232,232)\",\"gridwidth\":2,\"linecolor\":\"rgb(36,36,36)\",\"showbackground\":true,\"showgrid\":false,\"showline\":true,\"ticks\":\"outside\",\"zeroline\":false,\"zerolinecolor\":\"rgb(36,36,36)\"},\"yaxis\":{\"backgroundcolor\":\"white\",\"gridcolor\":\"rgb(232,232,232)\",\"gridwidth\":2,\"linecolor\":\"rgb(36,36,36)\",\"showbackground\":true,\"showgrid\":false,\"showline\":true,\"ticks\":\"outside\",\"zeroline\":false,\"zerolinecolor\":\"rgb(36,36,36)\"},\"zaxis\":{\"backgroundcolor\":\"white\",\"gridcolor\":\"rgb(232,232,232)\",\"gridwidth\":2,\"linecolor\":\"rgb(36,36,36)\",\"showbackground\":true,\"showgrid\":false,\"showline\":true,\"ticks\":\"outside\",\"zeroline\":false,\"zerolinecolor\":\"rgb(36,36,36)\"}},\"shapedefaults\":{\"fillcolor\":\"black\",\"line\":{\"width\":0},\"opacity\":0.3},\"ternary\":{\"aaxis\":{\"gridcolor\":\"rgb(232,232,232)\",\"linecolor\":\"rgb(36,36,36)\",\"showgrid\":false,\"showline\":true,\"ticks\":\"outside\"},\"baxis\":{\"gridcolor\":\"rgb(232,232,232)\",\"linecolor\":\"rgb(36,36,36)\",\"showgrid\":false,\"showline\":true,\"ticks\":\"outside\"},\"bgcolor\":\"white\",\"caxis\":{\"gridcolor\":\"rgb(232,232,232)\",\"linecolor\":\"rgb(36,36,36)\",\"showgrid\":false,\"showline\":true,\"ticks\":\"outside\"}},\"title\":{\"x\":0.05},\"xaxis\":{\"automargin\":true,\"gridcolor\":\"rgb(232,232,232)\",\"linecolor\":\"rgb(36,36,36)\",\"showgrid\":false,\"showline\":true,\"ticks\":\"outside\",\"title\":{\"standoff\":15},\"zeroline\":false,\"zerolinecolor\":\"rgb(36,36,36)\"},\"yaxis\":{\"automargin\":true,\"gridcolor\":\"rgb(232,232,232)\",\"linecolor\":\"rgb(36,36,36)\",\"showgrid\":false,\"showline\":true,\"ticks\":\"outside\",\"title\":{\"standoff\":15},\"zeroline\":false,\"zerolinecolor\":\"rgb(36,36,36)\"}}},\"xaxis\":{\"anchor\":\"y\",\"domain\":[0.0,0.2888888888888889],\"title\":{\"text\":\"Number of GF\",\"font\":{\"size\":16,\"family\":\"Microsoft Tai Le\"}}},\"yaxis\":{\"anchor\":\"x\",\"domain\":[0.0,1.0]},\"xaxis2\":{\"anchor\":\"y2\",\"domain\":[0.35555555555555557,0.6444444444444445],\"title\":{\"text\":\"Number of GA\",\"font\":{\"size\":16,\"family\":\"Microsoft Tai Le\"}}},\"yaxis2\":{\"anchor\":\"x2\",\"domain\":[0.0,1.0],\"matches\":\"y\",\"showticklabels\":false},\"xaxis3\":{\"anchor\":\"y3\",\"domain\":[0.7111111111111111,1.0],\"title\":{\"text\":\"Number of GD\",\"font\":{\"size\":16,\"family\":\"Microsoft Tai Le\"}}},\"yaxis3\":{\"anchor\":\"x3\",\"domain\":[0.0,1.0],\"matches\":\"y\",\"showticklabels\":false},\"title\":{\"font\":{\"size\":30,\"family\":\"Impact\",\"color\":\"black\"},\"text\":\"Number of GF, GA and GD\",\"x\":0.1,\"y\":0.92},\"height\":600,\"showlegend\":false},                        {\"responsive\": true}                    ).then(function(){\n",
       "                            \n",
       "var gd = document.getElementById('7621b212-28ac-4ff3-a284-afcc0a094e86');\n",
       "var x = new MutationObserver(function (mutations, observer) {{\n",
       "        var display = window.getComputedStyle(gd).display;\n",
       "        if (!display || display === 'none') {{\n",
       "            console.log([gd, 'removed!']);\n",
       "            Plotly.purge(gd);\n",
       "            observer.disconnect();\n",
       "        }}\n",
       "}});\n",
       "\n",
       "// Listen for the removal of the full notebook cells\n",
       "var notebookContainer = gd.closest('#notebook-container');\n",
       "if (notebookContainer) {{\n",
       "    x.observe(notebookContainer, {childList: true});\n",
       "}}\n",
       "\n",
       "// Listen for the clearing of the current output cell\n",
       "var outputEl = gd.closest('.output');\n",
       "if (outputEl) {{\n",
       "    x.observe(outputEl, {childList: true});\n",
       "}}\n",
       "\n",
       "                        })                };                });            </script>        </div>"
      ]
     },
     "metadata": {},
     "output_type": "display_data"
    }
   ],
   "source": [
    "#Ploteamos \n",
    "\n",
    "goals = goals.sort_values(by=\"GF\", ascending=True)\n",
    "fig = make_subplots(rows=1, cols=3, shared_yaxes=True)\n",
    "fig.append_trace(go.Bar(x=goals[\"GF\"], y=goals[\"label\"], orientation='h', \n",
    "                        marker_color=get_color(\"light:seagreen\", len(goals)),\n",
    "                       marker_line_color='black',\n",
    "                       marker_line_width=0.15, name=\"GF\", text=[str(i) for i in list(goals[\"GF\"])], \n",
    "                       textposition='outside'), row=1,col=1)\n",
    "\n",
    "fig.append_trace(go.Bar(x=goals[\"GA\"], y=goals[\"label\"], orientation='h',\n",
    "                       marker_color=get_color(\"light:r\", len(goals)), \n",
    "                       marker_line_color='black', \n",
    "                       marker_line_width=0.15, name=\"GA\", text=[str(i) for i in list(goals[\"GA\"])],\n",
    "                       textposition='outside'), row=1, col=2)\n",
    "\n",
    "fig.append_trace(go.Bar(x=goals[\"GD\"], y=goals[\"label\"], orientation='h',\n",
    "                       marker_color=get_color(\"light:y\", len(goals)),\n",
    "                       marker_line_color='black',\n",
    "                       marker_line_width=0.15, name=\"GD\", text=[str(i) for i in list(goals[\"GD\"])],\n",
    "                       textposition='outside'), row=1, col=3)\n",
    "\n",
    "fig.update_layout(title={'text': 'Number of GF, GA and GD','x':0.1, 'y':0.92},\n",
    "                titlefont_size=30,\n",
    "                titlefont_family='Impact',\n",
    "                titlefont_color='black',\n",
    "                height=600,\n",
    "                template='simple_white',\n",
    "                 xaxis1=dict(title=\"Number of GF\", titlefont_size=16, titlefont_family='Microsoft Tai Le'),\n",
    "                 xaxis2=dict(title=\"Number of GA\", titlefont_size=16, titlefont_family='Microsoft Tai Le'),\n",
    "                 xaxis3=dict(title=\"Number of GD\", titlefont_size=16, titlefont_family='Microsoft Tai Le'),\n",
    "                  showlegend=False)"
   ]
  },
  {
   "cell_type": "markdown",
   "id": "a51e190b",
   "metadata": {},
   "source": [
    "Número de puntos por partido jugado"
   ]
  },
  {
   "cell_type": "code",
   "execution_count": 35,
   "id": "c759f85a",
   "metadata": {},
   "outputs": [
    {
     "data": {
      "text/html": [
       "<div>\n",
       "<style scoped>\n",
       "    .dataframe tbody tr th:only-of-type {\n",
       "        vertical-align: middle;\n",
       "    }\n",
       "\n",
       "    .dataframe tbody tr th {\n",
       "        vertical-align: top;\n",
       "    }\n",
       "\n",
       "    .dataframe thead th {\n",
       "        text-align: right;\n",
       "    }\n",
       "</style>\n",
       "<table border=\"1\" class=\"dataframe\">\n",
       "  <thead>\n",
       "    <tr style=\"text-align: right;\">\n",
       "      <th></th>\n",
       "      <th>Squad</th>\n",
       "      <th>Country</th>\n",
       "      <th>Pts/G</th>\n",
       "      <th>label</th>\n",
       "    </tr>\n",
       "  </thead>\n",
       "  <tbody>\n",
       "    <tr>\n",
       "      <th>0</th>\n",
       "      <td>Manchester City</td>\n",
       "      <td>ENG</td>\n",
       "      <td>2.45</td>\n",
       "      <td>Manchester City - ENG</td>\n",
       "    </tr>\n",
       "    <tr>\n",
       "      <th>1</th>\n",
       "      <td>Liverpool</td>\n",
       "      <td>ENG</td>\n",
       "      <td>2.42</td>\n",
       "      <td>Liverpool - ENG</td>\n",
       "    </tr>\n",
       "    <tr>\n",
       "      <th>2</th>\n",
       "      <td>Bayern Munich</td>\n",
       "      <td>GER</td>\n",
       "      <td>2.26</td>\n",
       "      <td>Bayern Munich - GER</td>\n",
       "    </tr>\n",
       "    <tr>\n",
       "      <th>3</th>\n",
       "      <td>Paris S-G</td>\n",
       "      <td>FRA</td>\n",
       "      <td>2.26</td>\n",
       "      <td>Paris S-G - FRA</td>\n",
       "    </tr>\n",
       "    <tr>\n",
       "      <th>4</th>\n",
       "      <td>Real Madrid</td>\n",
       "      <td>ESP</td>\n",
       "      <td>2.26</td>\n",
       "      <td>Real Madrid - ESP</td>\n",
       "    </tr>\n",
       "  </tbody>\n",
       "</table>\n",
       "</div>"
      ],
      "text/plain": [
       "             Squad Country  Pts/G                  label\n",
       "0  Manchester City     ENG   2.45  Manchester City - ENG\n",
       "1        Liverpool     ENG   2.42        Liverpool - ENG\n",
       "2    Bayern Munich     GER   2.26    Bayern Munich - GER\n",
       "3        Paris S-G     FRA   2.26        Paris S-G - FRA\n",
       "4      Real Madrid     ESP   2.26      Real Madrid - ESP"
      ]
     },
     "execution_count": 35,
     "metadata": {},
     "output_type": "execute_result"
    }
   ],
   "source": [
    "pts_g = data[[\"Squad\", \"Country\", \"Pts/G\"]][:20] #Pts/G dataframe\n",
    "pts_g[\"label\"] = pts_g[[\"Squad\", \"Country\"]].agg(' - '.join, axis=1)\n",
    "pts_g.head()"
   ]
  },
  {
   "cell_type": "code",
   "execution_count": 36,
   "id": "6b747b2b",
   "metadata": {},
   "outputs": [
    {
     "data": {
      "application/vnd.plotly.v1+json": {
       "config": {
        "plotlyServerURL": "https://plot.ly"
       },
       "data": [
        {
         "customdata": [
          [
           "Manchester City - ENG"
          ],
          [
           "Liverpool - ENG"
          ],
          [
           "Bayern Munich - GER"
          ],
          [
           "Paris S-G - FRA"
          ],
          [
           "Real Madrid - ESP"
          ],
          [
           "Milan - ITA"
          ],
          [
           "Inter - ITA"
          ],
          [
           "Napoli - ITA"
          ],
          [
           "Dortmund - GER"
          ],
          [
           "Chelsea - ENG"
          ],
          [
           "Barcelona - ESP"
          ],
          [
           "Leverkusen - GER"
          ],
          [
           "Tottenham - ENG"
          ],
          [
           "Marseille - FRA"
          ],
          [
           "Atlético Madrid - ESP"
          ],
          [
           "Sevilla - ESP"
          ],
          [
           "Juventus - ITA"
          ],
          [
           "Monaco - FRA"
          ],
          [
           "Arsenal - ENG"
          ],
          [
           "Rennes - FRA"
          ]
         ],
         "domain": {
          "x": [
           0,
           1
          ],
          "y": [
           0,
           1
          ]
         },
         "hovertemplate": "label=%{customdata[0]}<br>Pts/G=%{value}<extra></extra>",
         "labels": [
          "Manchester City - ENG",
          "Liverpool - ENG",
          "Bayern Munich - GER",
          "Paris S-G - FRA",
          "Real Madrid - ESP",
          "Milan - ITA",
          "Inter - ITA",
          "Napoli - ITA",
          "Dortmund - GER",
          "Chelsea - ENG",
          "Barcelona - ESP",
          "Leverkusen - GER",
          "Tottenham - ENG",
          "Marseille - FRA",
          "Atlético Madrid - ESP",
          "Sevilla - ESP",
          "Juventus - ITA",
          "Monaco - FRA",
          "Arsenal - ENG",
          "Rennes - FRA"
         ],
         "legendgroup": "",
         "marker": {
          "colors": [
           "#06051a",
           "#130d34",
           "#221150",
           "#36106b",
           "#4a1079",
           "#5f187f",
           "#721f81",
           "#842681",
           "#982d80",
           "#ab337c",
           "#c03a76",
           "#d3436e",
           "#e44f64",
           "#f1605d",
           "#f8765c",
           "#fc8e64",
           "#fea571",
           "#febb81",
           "#fed194",
           "#fde7a9"
          ]
         },
         "name": "",
         "showlegend": true,
         "textinfo": "label+text+value",
         "textposition": "inside",
         "type": "pie",
         "values": [
          2.45,
          2.42,
          2.26,
          2.26,
          2.26,
          2.26,
          2.21,
          2.08,
          2.03,
          1.95,
          1.92,
          1.88,
          1.87,
          1.87,
          1.87,
          1.84,
          1.84,
          1.82,
          1.82,
          1.74
         ]
        }
       ],
       "layout": {
        "height": 500,
        "legend": {
         "tracegroupgap": 0
        },
        "margin": {
         "b": 5,
         "l": 5,
         "r": 5,
         "t": 60
        },
        "piecolorway": [
         "#06051a",
         "#130d34",
         "#221150",
         "#36106b",
         "#4a1079",
         "#5f187f",
         "#721f81",
         "#842681",
         "#982d80",
         "#ab337c",
         "#c03a76",
         "#d3436e",
         "#e44f64",
         "#f1605d",
         "#f8765c",
         "#fc8e64",
         "#fea571",
         "#febb81",
         "#fed194",
         "#fde7a9"
        ],
        "showlegend": false,
        "template": {
         "data": {
          "bar": [
           {
            "error_x": {
             "color": "#2a3f5f"
            },
            "error_y": {
             "color": "#2a3f5f"
            },
            "marker": {
             "line": {
              "color": "#E5ECF6",
              "width": 0.5
             },
             "pattern": {
              "fillmode": "overlay",
              "size": 10,
              "solidity": 0.2
             }
            },
            "type": "bar"
           }
          ],
          "barpolar": [
           {
            "marker": {
             "line": {
              "color": "#E5ECF6",
              "width": 0.5
             },
             "pattern": {
              "fillmode": "overlay",
              "size": 10,
              "solidity": 0.2
             }
            },
            "type": "barpolar"
           }
          ],
          "carpet": [
           {
            "aaxis": {
             "endlinecolor": "#2a3f5f",
             "gridcolor": "white",
             "linecolor": "white",
             "minorgridcolor": "white",
             "startlinecolor": "#2a3f5f"
            },
            "baxis": {
             "endlinecolor": "#2a3f5f",
             "gridcolor": "white",
             "linecolor": "white",
             "minorgridcolor": "white",
             "startlinecolor": "#2a3f5f"
            },
            "type": "carpet"
           }
          ],
          "choropleth": [
           {
            "colorbar": {
             "outlinewidth": 0,
             "ticks": ""
            },
            "type": "choropleth"
           }
          ],
          "contour": [
           {
            "colorbar": {
             "outlinewidth": 0,
             "ticks": ""
            },
            "colorscale": [
             [
              0,
              "#0d0887"
             ],
             [
              0.1111111111111111,
              "#46039f"
             ],
             [
              0.2222222222222222,
              "#7201a8"
             ],
             [
              0.3333333333333333,
              "#9c179e"
             ],
             [
              0.4444444444444444,
              "#bd3786"
             ],
             [
              0.5555555555555556,
              "#d8576b"
             ],
             [
              0.6666666666666666,
              "#ed7953"
             ],
             [
              0.7777777777777778,
              "#fb9f3a"
             ],
             [
              0.8888888888888888,
              "#fdca26"
             ],
             [
              1,
              "#f0f921"
             ]
            ],
            "type": "contour"
           }
          ],
          "contourcarpet": [
           {
            "colorbar": {
             "outlinewidth": 0,
             "ticks": ""
            },
            "type": "contourcarpet"
           }
          ],
          "heatmap": [
           {
            "colorbar": {
             "outlinewidth": 0,
             "ticks": ""
            },
            "colorscale": [
             [
              0,
              "#0d0887"
             ],
             [
              0.1111111111111111,
              "#46039f"
             ],
             [
              0.2222222222222222,
              "#7201a8"
             ],
             [
              0.3333333333333333,
              "#9c179e"
             ],
             [
              0.4444444444444444,
              "#bd3786"
             ],
             [
              0.5555555555555556,
              "#d8576b"
             ],
             [
              0.6666666666666666,
              "#ed7953"
             ],
             [
              0.7777777777777778,
              "#fb9f3a"
             ],
             [
              0.8888888888888888,
              "#fdca26"
             ],
             [
              1,
              "#f0f921"
             ]
            ],
            "type": "heatmap"
           }
          ],
          "heatmapgl": [
           {
            "colorbar": {
             "outlinewidth": 0,
             "ticks": ""
            },
            "colorscale": [
             [
              0,
              "#0d0887"
             ],
             [
              0.1111111111111111,
              "#46039f"
             ],
             [
              0.2222222222222222,
              "#7201a8"
             ],
             [
              0.3333333333333333,
              "#9c179e"
             ],
             [
              0.4444444444444444,
              "#bd3786"
             ],
             [
              0.5555555555555556,
              "#d8576b"
             ],
             [
              0.6666666666666666,
              "#ed7953"
             ],
             [
              0.7777777777777778,
              "#fb9f3a"
             ],
             [
              0.8888888888888888,
              "#fdca26"
             ],
             [
              1,
              "#f0f921"
             ]
            ],
            "type": "heatmapgl"
           }
          ],
          "histogram": [
           {
            "marker": {
             "pattern": {
              "fillmode": "overlay",
              "size": 10,
              "solidity": 0.2
             }
            },
            "type": "histogram"
           }
          ],
          "histogram2d": [
           {
            "colorbar": {
             "outlinewidth": 0,
             "ticks": ""
            },
            "colorscale": [
             [
              0,
              "#0d0887"
             ],
             [
              0.1111111111111111,
              "#46039f"
             ],
             [
              0.2222222222222222,
              "#7201a8"
             ],
             [
              0.3333333333333333,
              "#9c179e"
             ],
             [
              0.4444444444444444,
              "#bd3786"
             ],
             [
              0.5555555555555556,
              "#d8576b"
             ],
             [
              0.6666666666666666,
              "#ed7953"
             ],
             [
              0.7777777777777778,
              "#fb9f3a"
             ],
             [
              0.8888888888888888,
              "#fdca26"
             ],
             [
              1,
              "#f0f921"
             ]
            ],
            "type": "histogram2d"
           }
          ],
          "histogram2dcontour": [
           {
            "colorbar": {
             "outlinewidth": 0,
             "ticks": ""
            },
            "colorscale": [
             [
              0,
              "#0d0887"
             ],
             [
              0.1111111111111111,
              "#46039f"
             ],
             [
              0.2222222222222222,
              "#7201a8"
             ],
             [
              0.3333333333333333,
              "#9c179e"
             ],
             [
              0.4444444444444444,
              "#bd3786"
             ],
             [
              0.5555555555555556,
              "#d8576b"
             ],
             [
              0.6666666666666666,
              "#ed7953"
             ],
             [
              0.7777777777777778,
              "#fb9f3a"
             ],
             [
              0.8888888888888888,
              "#fdca26"
             ],
             [
              1,
              "#f0f921"
             ]
            ],
            "type": "histogram2dcontour"
           }
          ],
          "mesh3d": [
           {
            "colorbar": {
             "outlinewidth": 0,
             "ticks": ""
            },
            "type": "mesh3d"
           }
          ],
          "parcoords": [
           {
            "line": {
             "colorbar": {
              "outlinewidth": 0,
              "ticks": ""
             }
            },
            "type": "parcoords"
           }
          ],
          "pie": [
           {
            "automargin": true,
            "type": "pie"
           }
          ],
          "scatter": [
           {
            "fillpattern": {
             "fillmode": "overlay",
             "size": 10,
             "solidity": 0.2
            },
            "type": "scatter"
           }
          ],
          "scatter3d": [
           {
            "line": {
             "colorbar": {
              "outlinewidth": 0,
              "ticks": ""
             }
            },
            "marker": {
             "colorbar": {
              "outlinewidth": 0,
              "ticks": ""
             }
            },
            "type": "scatter3d"
           }
          ],
          "scattercarpet": [
           {
            "marker": {
             "colorbar": {
              "outlinewidth": 0,
              "ticks": ""
             }
            },
            "type": "scattercarpet"
           }
          ],
          "scattergeo": [
           {
            "marker": {
             "colorbar": {
              "outlinewidth": 0,
              "ticks": ""
             }
            },
            "type": "scattergeo"
           }
          ],
          "scattergl": [
           {
            "marker": {
             "colorbar": {
              "outlinewidth": 0,
              "ticks": ""
             }
            },
            "type": "scattergl"
           }
          ],
          "scattermapbox": [
           {
            "marker": {
             "colorbar": {
              "outlinewidth": 0,
              "ticks": ""
             }
            },
            "type": "scattermapbox"
           }
          ],
          "scatterpolar": [
           {
            "marker": {
             "colorbar": {
              "outlinewidth": 0,
              "ticks": ""
             }
            },
            "type": "scatterpolar"
           }
          ],
          "scatterpolargl": [
           {
            "marker": {
             "colorbar": {
              "outlinewidth": 0,
              "ticks": ""
             }
            },
            "type": "scatterpolargl"
           }
          ],
          "scatterternary": [
           {
            "marker": {
             "colorbar": {
              "outlinewidth": 0,
              "ticks": ""
             }
            },
            "type": "scatterternary"
           }
          ],
          "surface": [
           {
            "colorbar": {
             "outlinewidth": 0,
             "ticks": ""
            },
            "colorscale": [
             [
              0,
              "#0d0887"
             ],
             [
              0.1111111111111111,
              "#46039f"
             ],
             [
              0.2222222222222222,
              "#7201a8"
             ],
             [
              0.3333333333333333,
              "#9c179e"
             ],
             [
              0.4444444444444444,
              "#bd3786"
             ],
             [
              0.5555555555555556,
              "#d8576b"
             ],
             [
              0.6666666666666666,
              "#ed7953"
             ],
             [
              0.7777777777777778,
              "#fb9f3a"
             ],
             [
              0.8888888888888888,
              "#fdca26"
             ],
             [
              1,
              "#f0f921"
             ]
            ],
            "type": "surface"
           }
          ],
          "table": [
           {
            "cells": {
             "fill": {
              "color": "#EBF0F8"
             },
             "line": {
              "color": "white"
             }
            },
            "header": {
             "fill": {
              "color": "#C8D4E3"
             },
             "line": {
              "color": "white"
             }
            },
            "type": "table"
           }
          ]
         },
         "layout": {
          "annotationdefaults": {
           "arrowcolor": "#2a3f5f",
           "arrowhead": 0,
           "arrowwidth": 1
          },
          "autotypenumbers": "strict",
          "coloraxis": {
           "colorbar": {
            "outlinewidth": 0,
            "ticks": ""
           }
          },
          "colorscale": {
           "diverging": [
            [
             0,
             "#8e0152"
            ],
            [
             0.1,
             "#c51b7d"
            ],
            [
             0.2,
             "#de77ae"
            ],
            [
             0.3,
             "#f1b6da"
            ],
            [
             0.4,
             "#fde0ef"
            ],
            [
             0.5,
             "#f7f7f7"
            ],
            [
             0.6,
             "#e6f5d0"
            ],
            [
             0.7,
             "#b8e186"
            ],
            [
             0.8,
             "#7fbc41"
            ],
            [
             0.9,
             "#4d9221"
            ],
            [
             1,
             "#276419"
            ]
           ],
           "sequential": [
            [
             0,
             "#0d0887"
            ],
            [
             0.1111111111111111,
             "#46039f"
            ],
            [
             0.2222222222222222,
             "#7201a8"
            ],
            [
             0.3333333333333333,
             "#9c179e"
            ],
            [
             0.4444444444444444,
             "#bd3786"
            ],
            [
             0.5555555555555556,
             "#d8576b"
            ],
            [
             0.6666666666666666,
             "#ed7953"
            ],
            [
             0.7777777777777778,
             "#fb9f3a"
            ],
            [
             0.8888888888888888,
             "#fdca26"
            ],
            [
             1,
             "#f0f921"
            ]
           ],
           "sequentialminus": [
            [
             0,
             "#0d0887"
            ],
            [
             0.1111111111111111,
             "#46039f"
            ],
            [
             0.2222222222222222,
             "#7201a8"
            ],
            [
             0.3333333333333333,
             "#9c179e"
            ],
            [
             0.4444444444444444,
             "#bd3786"
            ],
            [
             0.5555555555555556,
             "#d8576b"
            ],
            [
             0.6666666666666666,
             "#ed7953"
            ],
            [
             0.7777777777777778,
             "#fb9f3a"
            ],
            [
             0.8888888888888888,
             "#fdca26"
            ],
            [
             1,
             "#f0f921"
            ]
           ]
          },
          "colorway": [
           "#636efa",
           "#EF553B",
           "#00cc96",
           "#ab63fa",
           "#FFA15A",
           "#19d3f3",
           "#FF6692",
           "#B6E880",
           "#FF97FF",
           "#FECB52"
          ],
          "font": {
           "color": "#2a3f5f"
          },
          "geo": {
           "bgcolor": "white",
           "lakecolor": "white",
           "landcolor": "#E5ECF6",
           "showlakes": true,
           "showland": true,
           "subunitcolor": "white"
          },
          "hoverlabel": {
           "align": "left"
          },
          "hovermode": "closest",
          "mapbox": {
           "style": "light"
          },
          "paper_bgcolor": "white",
          "plot_bgcolor": "#E5ECF6",
          "polar": {
           "angularaxis": {
            "gridcolor": "white",
            "linecolor": "white",
            "ticks": ""
           },
           "bgcolor": "#E5ECF6",
           "radialaxis": {
            "gridcolor": "white",
            "linecolor": "white",
            "ticks": ""
           }
          },
          "scene": {
           "xaxis": {
            "backgroundcolor": "#E5ECF6",
            "gridcolor": "white",
            "gridwidth": 2,
            "linecolor": "white",
            "showbackground": true,
            "ticks": "",
            "zerolinecolor": "white"
           },
           "yaxis": {
            "backgroundcolor": "#E5ECF6",
            "gridcolor": "white",
            "gridwidth": 2,
            "linecolor": "white",
            "showbackground": true,
            "ticks": "",
            "zerolinecolor": "white"
           },
           "zaxis": {
            "backgroundcolor": "#E5ECF6",
            "gridcolor": "white",
            "gridwidth": 2,
            "linecolor": "white",
            "showbackground": true,
            "ticks": "",
            "zerolinecolor": "white"
           }
          },
          "shapedefaults": {
           "line": {
            "color": "#2a3f5f"
           }
          },
          "ternary": {
           "aaxis": {
            "gridcolor": "white",
            "linecolor": "white",
            "ticks": ""
           },
           "baxis": {
            "gridcolor": "white",
            "linecolor": "white",
            "ticks": ""
           },
           "bgcolor": "#E5ECF6",
           "caxis": {
            "gridcolor": "white",
            "linecolor": "white",
            "ticks": ""
           }
          },
          "title": {
           "x": 0.05
          },
          "xaxis": {
           "automargin": true,
           "gridcolor": "white",
           "linecolor": "white",
           "ticks": "",
           "title": {
            "standoff": 15
           },
           "zerolinecolor": "white",
           "zerolinewidth": 2
          },
          "yaxis": {
           "automargin": true,
           "gridcolor": "white",
           "linecolor": "white",
           "ticks": "",
           "title": {
            "standoff": 15
           },
           "zerolinecolor": "white",
           "zerolinewidth": 2
          }
         }
        },
        "title": {
         "font": {
          "family": "Impact",
          "size": 30
         },
         "text": "Points per match played",
         "x": 0.5,
         "y": 0.95
        },
        "width": 500
       }
      },
      "text/html": [
       "<div>                            <div id=\"f891ce8d-f0d5-4963-bba7-f3c107644773\" class=\"plotly-graph-div\" style=\"height:500px; width:500px;\"></div>            <script type=\"text/javascript\">                require([\"plotly\"], function(Plotly) {                    window.PLOTLYENV=window.PLOTLYENV || {};                                    if (document.getElementById(\"f891ce8d-f0d5-4963-bba7-f3c107644773\")) {                    Plotly.newPlot(                        \"f891ce8d-f0d5-4963-bba7-f3c107644773\",                        [{\"customdata\":[[\"Manchester City - ENG\"],[\"Liverpool - ENG\"],[\"Bayern Munich - GER\"],[\"Paris S-G - FRA\"],[\"Real Madrid - ESP\"],[\"Milan - ITA\"],[\"Inter - ITA\"],[\"Napoli - ITA\"],[\"Dortmund - GER\"],[\"Chelsea - ENG\"],[\"Barcelona - ESP\"],[\"Leverkusen - GER\"],[\"Tottenham - ENG\"],[\"Marseille - FRA\"],[\"Atl\\u00e9tico Madrid - ESP\"],[\"Sevilla - ESP\"],[\"Juventus - ITA\"],[\"Monaco - FRA\"],[\"Arsenal - ENG\"],[\"Rennes - FRA\"]],\"domain\":{\"x\":[0.0,1.0],\"y\":[0.0,1.0]},\"hovertemplate\":\"label=%{customdata[0]}<br>Pts/G=%{value}<extra></extra>\",\"labels\":[\"Manchester City - ENG\",\"Liverpool - ENG\",\"Bayern Munich - GER\",\"Paris S-G - FRA\",\"Real Madrid - ESP\",\"Milan - ITA\",\"Inter - ITA\",\"Napoli - ITA\",\"Dortmund - GER\",\"Chelsea - ENG\",\"Barcelona - ESP\",\"Leverkusen - GER\",\"Tottenham - ENG\",\"Marseille - FRA\",\"Atl\\u00e9tico Madrid - ESP\",\"Sevilla - ESP\",\"Juventus - ITA\",\"Monaco - FRA\",\"Arsenal - ENG\",\"Rennes - FRA\"],\"legendgroup\":\"\",\"marker\":{\"colors\":[\"#06051a\",\"#130d34\",\"#221150\",\"#36106b\",\"#4a1079\",\"#5f187f\",\"#721f81\",\"#842681\",\"#982d80\",\"#ab337c\",\"#c03a76\",\"#d3436e\",\"#e44f64\",\"#f1605d\",\"#f8765c\",\"#fc8e64\",\"#fea571\",\"#febb81\",\"#fed194\",\"#fde7a9\"]},\"name\":\"\",\"showlegend\":true,\"values\":[2.45,2.42,2.26,2.26,2.26,2.26,2.21,2.08,2.03,1.95,1.92,1.88,1.87,1.87,1.87,1.84,1.84,1.82,1.82,1.74],\"type\":\"pie\",\"textinfo\":\"label+text+value\",\"textposition\":\"inside\"}],                        {\"template\":{\"data\":{\"histogram2dcontour\":[{\"type\":\"histogram2dcontour\",\"colorbar\":{\"outlinewidth\":0,\"ticks\":\"\"},\"colorscale\":[[0.0,\"#0d0887\"],[0.1111111111111111,\"#46039f\"],[0.2222222222222222,\"#7201a8\"],[0.3333333333333333,\"#9c179e\"],[0.4444444444444444,\"#bd3786\"],[0.5555555555555556,\"#d8576b\"],[0.6666666666666666,\"#ed7953\"],[0.7777777777777778,\"#fb9f3a\"],[0.8888888888888888,\"#fdca26\"],[1.0,\"#f0f921\"]]}],\"choropleth\":[{\"type\":\"choropleth\",\"colorbar\":{\"outlinewidth\":0,\"ticks\":\"\"}}],\"histogram2d\":[{\"type\":\"histogram2d\",\"colorbar\":{\"outlinewidth\":0,\"ticks\":\"\"},\"colorscale\":[[0.0,\"#0d0887\"],[0.1111111111111111,\"#46039f\"],[0.2222222222222222,\"#7201a8\"],[0.3333333333333333,\"#9c179e\"],[0.4444444444444444,\"#bd3786\"],[0.5555555555555556,\"#d8576b\"],[0.6666666666666666,\"#ed7953\"],[0.7777777777777778,\"#fb9f3a\"],[0.8888888888888888,\"#fdca26\"],[1.0,\"#f0f921\"]]}],\"heatmap\":[{\"type\":\"heatmap\",\"colorbar\":{\"outlinewidth\":0,\"ticks\":\"\"},\"colorscale\":[[0.0,\"#0d0887\"],[0.1111111111111111,\"#46039f\"],[0.2222222222222222,\"#7201a8\"],[0.3333333333333333,\"#9c179e\"],[0.4444444444444444,\"#bd3786\"],[0.5555555555555556,\"#d8576b\"],[0.6666666666666666,\"#ed7953\"],[0.7777777777777778,\"#fb9f3a\"],[0.8888888888888888,\"#fdca26\"],[1.0,\"#f0f921\"]]}],\"heatmapgl\":[{\"type\":\"heatmapgl\",\"colorbar\":{\"outlinewidth\":0,\"ticks\":\"\"},\"colorscale\":[[0.0,\"#0d0887\"],[0.1111111111111111,\"#46039f\"],[0.2222222222222222,\"#7201a8\"],[0.3333333333333333,\"#9c179e\"],[0.4444444444444444,\"#bd3786\"],[0.5555555555555556,\"#d8576b\"],[0.6666666666666666,\"#ed7953\"],[0.7777777777777778,\"#fb9f3a\"],[0.8888888888888888,\"#fdca26\"],[1.0,\"#f0f921\"]]}],\"contourcarpet\":[{\"type\":\"contourcarpet\",\"colorbar\":{\"outlinewidth\":0,\"ticks\":\"\"}}],\"contour\":[{\"type\":\"contour\",\"colorbar\":{\"outlinewidth\":0,\"ticks\":\"\"},\"colorscale\":[[0.0,\"#0d0887\"],[0.1111111111111111,\"#46039f\"],[0.2222222222222222,\"#7201a8\"],[0.3333333333333333,\"#9c179e\"],[0.4444444444444444,\"#bd3786\"],[0.5555555555555556,\"#d8576b\"],[0.6666666666666666,\"#ed7953\"],[0.7777777777777778,\"#fb9f3a\"],[0.8888888888888888,\"#fdca26\"],[1.0,\"#f0f921\"]]}],\"surface\":[{\"type\":\"surface\",\"colorbar\":{\"outlinewidth\":0,\"ticks\":\"\"},\"colorscale\":[[0.0,\"#0d0887\"],[0.1111111111111111,\"#46039f\"],[0.2222222222222222,\"#7201a8\"],[0.3333333333333333,\"#9c179e\"],[0.4444444444444444,\"#bd3786\"],[0.5555555555555556,\"#d8576b\"],[0.6666666666666666,\"#ed7953\"],[0.7777777777777778,\"#fb9f3a\"],[0.8888888888888888,\"#fdca26\"],[1.0,\"#f0f921\"]]}],\"mesh3d\":[{\"type\":\"mesh3d\",\"colorbar\":{\"outlinewidth\":0,\"ticks\":\"\"}}],\"scatter\":[{\"fillpattern\":{\"fillmode\":\"overlay\",\"size\":10,\"solidity\":0.2},\"type\":\"scatter\"}],\"parcoords\":[{\"type\":\"parcoords\",\"line\":{\"colorbar\":{\"outlinewidth\":0,\"ticks\":\"\"}}}],\"scatterpolargl\":[{\"type\":\"scatterpolargl\",\"marker\":{\"colorbar\":{\"outlinewidth\":0,\"ticks\":\"\"}}}],\"bar\":[{\"error_x\":{\"color\":\"#2a3f5f\"},\"error_y\":{\"color\":\"#2a3f5f\"},\"marker\":{\"line\":{\"color\":\"#E5ECF6\",\"width\":0.5},\"pattern\":{\"fillmode\":\"overlay\",\"size\":10,\"solidity\":0.2}},\"type\":\"bar\"}],\"scattergeo\":[{\"type\":\"scattergeo\",\"marker\":{\"colorbar\":{\"outlinewidth\":0,\"ticks\":\"\"}}}],\"scatterpolar\":[{\"type\":\"scatterpolar\",\"marker\":{\"colorbar\":{\"outlinewidth\":0,\"ticks\":\"\"}}}],\"histogram\":[{\"marker\":{\"pattern\":{\"fillmode\":\"overlay\",\"size\":10,\"solidity\":0.2}},\"type\":\"histogram\"}],\"scattergl\":[{\"type\":\"scattergl\",\"marker\":{\"colorbar\":{\"outlinewidth\":0,\"ticks\":\"\"}}}],\"scatter3d\":[{\"type\":\"scatter3d\",\"line\":{\"colorbar\":{\"outlinewidth\":0,\"ticks\":\"\"}},\"marker\":{\"colorbar\":{\"outlinewidth\":0,\"ticks\":\"\"}}}],\"scattermapbox\":[{\"type\":\"scattermapbox\",\"marker\":{\"colorbar\":{\"outlinewidth\":0,\"ticks\":\"\"}}}],\"scatterternary\":[{\"type\":\"scatterternary\",\"marker\":{\"colorbar\":{\"outlinewidth\":0,\"ticks\":\"\"}}}],\"scattercarpet\":[{\"type\":\"scattercarpet\",\"marker\":{\"colorbar\":{\"outlinewidth\":0,\"ticks\":\"\"}}}],\"carpet\":[{\"aaxis\":{\"endlinecolor\":\"#2a3f5f\",\"gridcolor\":\"white\",\"linecolor\":\"white\",\"minorgridcolor\":\"white\",\"startlinecolor\":\"#2a3f5f\"},\"baxis\":{\"endlinecolor\":\"#2a3f5f\",\"gridcolor\":\"white\",\"linecolor\":\"white\",\"minorgridcolor\":\"white\",\"startlinecolor\":\"#2a3f5f\"},\"type\":\"carpet\"}],\"table\":[{\"cells\":{\"fill\":{\"color\":\"#EBF0F8\"},\"line\":{\"color\":\"white\"}},\"header\":{\"fill\":{\"color\":\"#C8D4E3\"},\"line\":{\"color\":\"white\"}},\"type\":\"table\"}],\"barpolar\":[{\"marker\":{\"line\":{\"color\":\"#E5ECF6\",\"width\":0.5},\"pattern\":{\"fillmode\":\"overlay\",\"size\":10,\"solidity\":0.2}},\"type\":\"barpolar\"}],\"pie\":[{\"automargin\":true,\"type\":\"pie\"}]},\"layout\":{\"autotypenumbers\":\"strict\",\"colorway\":[\"#636efa\",\"#EF553B\",\"#00cc96\",\"#ab63fa\",\"#FFA15A\",\"#19d3f3\",\"#FF6692\",\"#B6E880\",\"#FF97FF\",\"#FECB52\"],\"font\":{\"color\":\"#2a3f5f\"},\"hovermode\":\"closest\",\"hoverlabel\":{\"align\":\"left\"},\"paper_bgcolor\":\"white\",\"plot_bgcolor\":\"#E5ECF6\",\"polar\":{\"bgcolor\":\"#E5ECF6\",\"angularaxis\":{\"gridcolor\":\"white\",\"linecolor\":\"white\",\"ticks\":\"\"},\"radialaxis\":{\"gridcolor\":\"white\",\"linecolor\":\"white\",\"ticks\":\"\"}},\"ternary\":{\"bgcolor\":\"#E5ECF6\",\"aaxis\":{\"gridcolor\":\"white\",\"linecolor\":\"white\",\"ticks\":\"\"},\"baxis\":{\"gridcolor\":\"white\",\"linecolor\":\"white\",\"ticks\":\"\"},\"caxis\":{\"gridcolor\":\"white\",\"linecolor\":\"white\",\"ticks\":\"\"}},\"coloraxis\":{\"colorbar\":{\"outlinewidth\":0,\"ticks\":\"\"}},\"colorscale\":{\"sequential\":[[0.0,\"#0d0887\"],[0.1111111111111111,\"#46039f\"],[0.2222222222222222,\"#7201a8\"],[0.3333333333333333,\"#9c179e\"],[0.4444444444444444,\"#bd3786\"],[0.5555555555555556,\"#d8576b\"],[0.6666666666666666,\"#ed7953\"],[0.7777777777777778,\"#fb9f3a\"],[0.8888888888888888,\"#fdca26\"],[1.0,\"#f0f921\"]],\"sequentialminus\":[[0.0,\"#0d0887\"],[0.1111111111111111,\"#46039f\"],[0.2222222222222222,\"#7201a8\"],[0.3333333333333333,\"#9c179e\"],[0.4444444444444444,\"#bd3786\"],[0.5555555555555556,\"#d8576b\"],[0.6666666666666666,\"#ed7953\"],[0.7777777777777778,\"#fb9f3a\"],[0.8888888888888888,\"#fdca26\"],[1.0,\"#f0f921\"]],\"diverging\":[[0,\"#8e0152\"],[0.1,\"#c51b7d\"],[0.2,\"#de77ae\"],[0.3,\"#f1b6da\"],[0.4,\"#fde0ef\"],[0.5,\"#f7f7f7\"],[0.6,\"#e6f5d0\"],[0.7,\"#b8e186\"],[0.8,\"#7fbc41\"],[0.9,\"#4d9221\"],[1,\"#276419\"]]},\"xaxis\":{\"gridcolor\":\"white\",\"linecolor\":\"white\",\"ticks\":\"\",\"title\":{\"standoff\":15},\"zerolinecolor\":\"white\",\"automargin\":true,\"zerolinewidth\":2},\"yaxis\":{\"gridcolor\":\"white\",\"linecolor\":\"white\",\"ticks\":\"\",\"title\":{\"standoff\":15},\"zerolinecolor\":\"white\",\"automargin\":true,\"zerolinewidth\":2},\"scene\":{\"xaxis\":{\"backgroundcolor\":\"#E5ECF6\",\"gridcolor\":\"white\",\"linecolor\":\"white\",\"showbackground\":true,\"ticks\":\"\",\"zerolinecolor\":\"white\",\"gridwidth\":2},\"yaxis\":{\"backgroundcolor\":\"#E5ECF6\",\"gridcolor\":\"white\",\"linecolor\":\"white\",\"showbackground\":true,\"ticks\":\"\",\"zerolinecolor\":\"white\",\"gridwidth\":2},\"zaxis\":{\"backgroundcolor\":\"#E5ECF6\",\"gridcolor\":\"white\",\"linecolor\":\"white\",\"showbackground\":true,\"ticks\":\"\",\"zerolinecolor\":\"white\",\"gridwidth\":2}},\"shapedefaults\":{\"line\":{\"color\":\"#2a3f5f\"}},\"annotationdefaults\":{\"arrowcolor\":\"#2a3f5f\",\"arrowhead\":0,\"arrowwidth\":1},\"geo\":{\"bgcolor\":\"white\",\"landcolor\":\"#E5ECF6\",\"subunitcolor\":\"white\",\"showland\":true,\"showlakes\":true,\"lakecolor\":\"white\"},\"title\":{\"x\":0.05},\"mapbox\":{\"style\":\"light\"}}},\"legend\":{\"tracegroupgap\":0},\"margin\":{\"t\":60,\"b\":5,\"l\":5,\"r\":5},\"piecolorway\":[\"#06051a\",\"#130d34\",\"#221150\",\"#36106b\",\"#4a1079\",\"#5f187f\",\"#721f81\",\"#842681\",\"#982d80\",\"#ab337c\",\"#c03a76\",\"#d3436e\",\"#e44f64\",\"#f1605d\",\"#f8765c\",\"#fc8e64\",\"#fea571\",\"#febb81\",\"#fed194\",\"#fde7a9\"],\"title\":{\"font\":{\"size\":30,\"family\":\"Impact\"},\"text\":\"Points per match played\",\"x\":0.5,\"y\":0.95},\"showlegend\":false,\"height\":500,\"width\":500},                        {\"responsive\": true}                    ).then(function(){\n",
       "                            \n",
       "var gd = document.getElementById('f891ce8d-f0d5-4963-bba7-f3c107644773');\n",
       "var x = new MutationObserver(function (mutations, observer) {{\n",
       "        var display = window.getComputedStyle(gd).display;\n",
       "        if (!display || display === 'none') {{\n",
       "            console.log([gd, 'removed!']);\n",
       "            Plotly.purge(gd);\n",
       "            observer.disconnect();\n",
       "        }}\n",
       "}});\n",
       "\n",
       "// Listen for the removal of the full notebook cells\n",
       "var notebookContainer = gd.closest('#notebook-container');\n",
       "if (notebookContainer) {{\n",
       "    x.observe(notebookContainer, {childList: true});\n",
       "}}\n",
       "\n",
       "// Listen for the clearing of the current output cell\n",
       "var outputEl = gd.closest('.output');\n",
       "if (outputEl) {{\n",
       "    x.observe(outputEl, {childList: true});\n",
       "}}\n",
       "\n",
       "                        })                };                });            </script>        </div>"
      ]
     },
     "metadata": {},
     "output_type": "display_data"
    }
   ],
   "source": [
    "#Grafico de pie\n",
    "\n",
    "fig = px.pie(pts_g, values=\"Pts/G\", color='label', color_discrete_sequence=get_color('magma', len(pts_g)), names='label', \n",
    "            hole=None)\n",
    "\n",
    "fig.update_traces(textposition='inside', \n",
    "                 textinfo='label+text+value')\n",
    "\n",
    "fig.update_layout(title={'text': 'Points per match played', 'x': 0.5, 'y':0.95},\n",
    "                  titlefont_size=30, \n",
    "                  titlefont_family='Impact',\n",
    "                 showlegend=False,\n",
    "                 height=500, \n",
    "                 width=500,\n",
    "                 margin=dict(b=5, l=5, r=5),)\n"
   ]
  },
  {
   "cell_type": "markdown",
   "id": "ff8817e2",
   "metadata": {},
   "source": [
    "Goles esperados"
   ]
  },
  {
   "cell_type": "code",
   "execution_count": 37,
   "id": "fb2b9e2a",
   "metadata": {},
   "outputs": [
    {
     "name": "stderr",
     "output_type": "stream",
     "text": [
      "C:\\Users\\angel\\AppData\\Local\\Temp\\ipykernel_3020\\2864653438.py:2: SettingWithCopyWarning:\n",
      "\n",
      "\n",
      "A value is trying to be set on a copy of a slice from a DataFrame.\n",
      "Try using .loc[row_indexer,col_indexer] = value instead\n",
      "\n",
      "See the caveats in the documentation: https://pandas.pydata.org/pandas-docs/stable/user_guide/indexing.html#returning-a-view-versus-a-copy\n",
      "\n"
     ]
    },
    {
     "data": {
      "text/html": [
       "<div>\n",
       "<style scoped>\n",
       "    .dataframe tbody tr th:only-of-type {\n",
       "        vertical-align: middle;\n",
       "    }\n",
       "\n",
       "    .dataframe tbody tr th {\n",
       "        vertical-align: top;\n",
       "    }\n",
       "\n",
       "    .dataframe thead th {\n",
       "        text-align: right;\n",
       "    }\n",
       "</style>\n",
       "<table border=\"1\" class=\"dataframe\">\n",
       "  <thead>\n",
       "    <tr style=\"text-align: right;\">\n",
       "      <th></th>\n",
       "      <th>Squad</th>\n",
       "      <th>Country</th>\n",
       "      <th>xG</th>\n",
       "      <th>xGA</th>\n",
       "      <th>xGD</th>\n",
       "      <th>label</th>\n",
       "    </tr>\n",
       "  </thead>\n",
       "  <tbody>\n",
       "    <tr>\n",
       "      <th>1</th>\n",
       "      <td>Liverpool</td>\n",
       "      <td>ENG</td>\n",
       "      <td>89.2</td>\n",
       "      <td>34.2</td>\n",
       "      <td>55.0</td>\n",
       "      <td>&lt;b&gt;Liverpool&lt;br&gt;ENG</td>\n",
       "    </tr>\n",
       "    <tr>\n",
       "      <th>0</th>\n",
       "      <td>Manchester City</td>\n",
       "      <td>ENG</td>\n",
       "      <td>89.0</td>\n",
       "      <td>27.2</td>\n",
       "      <td>61.9</td>\n",
       "      <td>&lt;b&gt;Manchester City&lt;br&gt;ENG</td>\n",
       "    </tr>\n",
       "    <tr>\n",
       "      <th>2</th>\n",
       "      <td>Bayern Munich</td>\n",
       "      <td>GER</td>\n",
       "      <td>88.1</td>\n",
       "      <td>37.1</td>\n",
       "      <td>51.0</td>\n",
       "      <td>&lt;b&gt;Bayern Munich&lt;br&gt;GER</td>\n",
       "    </tr>\n",
       "    <tr>\n",
       "      <th>6</th>\n",
       "      <td>Inter</td>\n",
       "      <td>ITA</td>\n",
       "      <td>81.4</td>\n",
       "      <td>39.2</td>\n",
       "      <td>42.2</td>\n",
       "      <td>&lt;b&gt;Inter&lt;br&gt;ITA</td>\n",
       "    </tr>\n",
       "    <tr>\n",
       "      <th>3</th>\n",
       "      <td>Paris S-G</td>\n",
       "      <td>FRA</td>\n",
       "      <td>76.5</td>\n",
       "      <td>38.6</td>\n",
       "      <td>37.9</td>\n",
       "      <td>&lt;b&gt;Paris S-G&lt;br&gt;FRA</td>\n",
       "    </tr>\n",
       "  </tbody>\n",
       "</table>\n",
       "</div>"
      ],
      "text/plain": [
       "             Squad Country    xG   xGA   xGD                      label\n",
       "1        Liverpool     ENG  89.2  34.2  55.0        <b>Liverpool<br>ENG\n",
       "0  Manchester City     ENG  89.0  27.2  61.9  <b>Manchester City<br>ENG\n",
       "2    Bayern Munich     GER  88.1  37.1  51.0    <b>Bayern Munich<br>GER\n",
       "6            Inter     ITA  81.4  39.2  42.2            <b>Inter<br>ITA\n",
       "3        Paris S-G     FRA  76.5  38.6  37.9        <b>Paris S-G<br>FRA"
      ]
     },
     "execution_count": 37,
     "metadata": {},
     "output_type": "execute_result"
    }
   ],
   "source": [
    "expected = data[[\"Squad\", \"Country\", \"xG\", \"xGA\", \"xGD\"]] #expected dataframe \n",
    "expected[\"label\"] = ['<b>'+i+'<br>'+j for i, j in zip(expected['Squad'], expected[\"Country\"])] #create a label\n",
    "expected = expected.sort_values(by='xG', ascending=False)[:25]\n",
    "expected.head()"
   ]
  },
  {
   "cell_type": "code",
   "execution_count": 38,
   "id": "81c08c1a",
   "metadata": {},
   "outputs": [
    {
     "data": {
      "application/vnd.plotly.v1+json": {
       "config": {
        "plotlyServerURL": "https://plot.ly"
       },
       "data": [
        {
         "fill": "toself",
         "line": {
          "color": "#f47f58"
         },
         "marker": {
          "symbol": "square"
         },
         "mode": "lines+markers",
         "name": "xG",
         "r": [
          89.2,
          89,
          88.1,
          81.4,
          76.5,
          74.3,
          70.4,
          67.2,
          66.2,
          65.1,
          63.7,
          63.4,
          63.3,
          63.1,
          62.8,
          62.5,
          62.3,
          62.1,
          59.9,
          59.4,
          59.3,
          59.2,
          58.8,
          58,
          57.7,
          89.2
         ],
         "theta": [
          "<b>Liverpool<br>ENG",
          "<b>Manchester City<br>ENG",
          "<b>Bayern Munich<br>GER",
          "<b>Inter<br>ITA",
          "<b>Paris S-G<br>FRA",
          "<b>Real Madrid<br>ESP",
          "<b>Lyon<br>FRA",
          "<b>Chelsea<br>ENG",
          "<b>Atalanta<br>ITA",
          "<b>Tottenham<br>ENG",
          "<b>Roma<br>ITA",
          "<b>RB Leipzig<br>GER",
          "<b>Leverkusen<br>GER",
          "<b>Milan<br>ITA",
          "<b>Dortmund<br>GER",
          "<b>Villarreal<br>ESP",
          "<b>Rennes<br>FRA",
          "<b>Barcelona<br>ESP",
          "<b>Arsenal<br>ENG",
          "<b>Napoli<br>ITA",
          "<b>Strasbourg<br>FRA",
          "<b>Marseille<br>FRA",
          "<b>Fiorentina<br>ITA",
          "<b>Monaco<br>FRA",
          "<b>M'Gladbach<br>GER",
          "<b>Liverpool<br>ENG"
         ],
         "type": "scatterpolar"
        },
        {
         "fill": "toself",
         "line": {
          "color": "#ca1a50"
         },
         "marker": {
          "symbol": "square"
         },
         "mode": "lines+markers",
         "name": "xGA",
         "r": [
          34.2,
          27.2,
          37.1,
          39.2,
          38.6,
          47,
          54.5,
          36,
          45.2,
          39.4,
          38.5,
          41.8,
          43.1,
          34.8,
          43.2,
          46.5,
          40.7,
          35.9,
          47.1,
          31.9,
          42.6,
          40,
          44.1,
          42,
          54.7,
          34.2
         ],
         "theta": [
          "<b>Liverpool<br>ENG",
          "<b>Manchester City<br>ENG",
          "<b>Bayern Munich<br>GER",
          "<b>Inter<br>ITA",
          "<b>Paris S-G<br>FRA",
          "<b>Real Madrid<br>ESP",
          "<b>Lyon<br>FRA",
          "<b>Chelsea<br>ENG",
          "<b>Atalanta<br>ITA",
          "<b>Tottenham<br>ENG",
          "<b>Roma<br>ITA",
          "<b>RB Leipzig<br>GER",
          "<b>Leverkusen<br>GER",
          "<b>Milan<br>ITA",
          "<b>Dortmund<br>GER",
          "<b>Villarreal<br>ESP",
          "<b>Rennes<br>FRA",
          "<b>Barcelona<br>ESP",
          "<b>Arsenal<br>ENG",
          "<b>Napoli<br>ITA",
          "<b>Strasbourg<br>FRA",
          "<b>Marseille<br>FRA",
          "<b>Fiorentina<br>ITA",
          "<b>Monaco<br>FRA",
          "<b>M'Gladbach<br>GER",
          "<b>Liverpool<br>ENG"
         ],
         "type": "scatterpolar"
        },
        {
         "fill": "toself",
         "line": {
          "color": "#681f55"
         },
         "marker": {
          "symbol": "square"
         },
         "mode": "lines+markers",
         "name": "xGD",
         "r": [
          55,
          61.9,
          51,
          42.2,
          37.9,
          27.3,
          15.9,
          31.3,
          20.9,
          25.8,
          25.2,
          21.6,
          20.2,
          28.3,
          19.6,
          16,
          21.6,
          26.2,
          12.8,
          27.6,
          16.8,
          19.1,
          14.7,
          16,
          3,
          55
         ],
         "theta": [
          "<b>Liverpool<br>ENG",
          "<b>Manchester City<br>ENG",
          "<b>Bayern Munich<br>GER",
          "<b>Inter<br>ITA",
          "<b>Paris S-G<br>FRA",
          "<b>Real Madrid<br>ESP",
          "<b>Lyon<br>FRA",
          "<b>Chelsea<br>ENG",
          "<b>Atalanta<br>ITA",
          "<b>Tottenham<br>ENG",
          "<b>Roma<br>ITA",
          "<b>RB Leipzig<br>GER",
          "<b>Leverkusen<br>GER",
          "<b>Milan<br>ITA",
          "<b>Dortmund<br>GER",
          "<b>Villarreal<br>ESP",
          "<b>Rennes<br>FRA",
          "<b>Barcelona<br>ESP",
          "<b>Arsenal<br>ENG",
          "<b>Napoli<br>ITA",
          "<b>Strasbourg<br>FRA",
          "<b>Marseille<br>FRA",
          "<b>Fiorentina<br>ITA",
          "<b>Monaco<br>FRA",
          "<b>M'Gladbach<br>GER",
          "<b>Liverpool<br>ENG"
         ],
         "type": "scatterpolar"
        }
       ],
       "layout": {
        "height": 700,
        "legend": {
         "font": {
          "size": 16
         },
         "orientation": "h",
         "x": 0.5,
         "xanchor": "center",
         "y": -0.19,
         "yanchor": "bottom"
        },
        "polar": {
         "radialaxis": {
          "tickfont": {
           "family": "Arial",
           "size": 14
          }
         }
        },
        "template": {},
        "title": {
         "font": {
          "family": "cambria",
          "size": 18
         },
         "text": "Expected goals xG, Expected Goals Against xGA and Expected difference xGD (xGD = xG - xGA)",
         "x": 0.05,
         "y": 0.95
        },
        "width": 800
       }
      },
      "text/html": [
       "<div>                            <div id=\"98858d0f-8fdf-4f97-a554-044aed6402df\" class=\"plotly-graph-div\" style=\"height:700px; width:800px;\"></div>            <script type=\"text/javascript\">                require([\"plotly\"], function(Plotly) {                    window.PLOTLYENV=window.PLOTLYENV || {};                                    if (document.getElementById(\"98858d0f-8fdf-4f97-a554-044aed6402df\")) {                    Plotly.newPlot(                        \"98858d0f-8fdf-4f97-a554-044aed6402df\",                        [{\"fill\":\"toself\",\"line\":{\"color\":\"#f47f58\"},\"name\":\"xG\",\"r\":[89.2,89.0,88.1,81.4,76.5,74.3,70.4,67.2,66.2,65.1,63.7,63.4,63.3,63.1,62.8,62.5,62.3,62.1,59.9,59.4,59.3,59.2,58.8,58.0,57.7,89.2],\"theta\":[\"<b>Liverpool<br>ENG\",\"<b>Manchester City<br>ENG\",\"<b>Bayern Munich<br>GER\",\"<b>Inter<br>ITA\",\"<b>Paris S-G<br>FRA\",\"<b>Real Madrid<br>ESP\",\"<b>Lyon<br>FRA\",\"<b>Chelsea<br>ENG\",\"<b>Atalanta<br>ITA\",\"<b>Tottenham<br>ENG\",\"<b>Roma<br>ITA\",\"<b>RB Leipzig<br>GER\",\"<b>Leverkusen<br>GER\",\"<b>Milan<br>ITA\",\"<b>Dortmund<br>GER\",\"<b>Villarreal<br>ESP\",\"<b>Rennes<br>FRA\",\"<b>Barcelona<br>ESP\",\"<b>Arsenal<br>ENG\",\"<b>Napoli<br>ITA\",\"<b>Strasbourg<br>FRA\",\"<b>Marseille<br>FRA\",\"<b>Fiorentina<br>ITA\",\"<b>Monaco<br>FRA\",\"<b>M'Gladbach<br>GER\",\"<b>Liverpool<br>ENG\"],\"type\":\"scatterpolar\",\"marker\":{\"symbol\":\"square\"},\"mode\":\"lines+markers\"},{\"fill\":\"toself\",\"line\":{\"color\":\"#ca1a50\"},\"name\":\"xGA\",\"r\":[34.2,27.2,37.1,39.2,38.6,47.0,54.5,36.0,45.2,39.4,38.5,41.8,43.1,34.8,43.2,46.5,40.7,35.9,47.1,31.9,42.6,40.0,44.1,42.0,54.7,34.2],\"theta\":[\"<b>Liverpool<br>ENG\",\"<b>Manchester City<br>ENG\",\"<b>Bayern Munich<br>GER\",\"<b>Inter<br>ITA\",\"<b>Paris S-G<br>FRA\",\"<b>Real Madrid<br>ESP\",\"<b>Lyon<br>FRA\",\"<b>Chelsea<br>ENG\",\"<b>Atalanta<br>ITA\",\"<b>Tottenham<br>ENG\",\"<b>Roma<br>ITA\",\"<b>RB Leipzig<br>GER\",\"<b>Leverkusen<br>GER\",\"<b>Milan<br>ITA\",\"<b>Dortmund<br>GER\",\"<b>Villarreal<br>ESP\",\"<b>Rennes<br>FRA\",\"<b>Barcelona<br>ESP\",\"<b>Arsenal<br>ENG\",\"<b>Napoli<br>ITA\",\"<b>Strasbourg<br>FRA\",\"<b>Marseille<br>FRA\",\"<b>Fiorentina<br>ITA\",\"<b>Monaco<br>FRA\",\"<b>M'Gladbach<br>GER\",\"<b>Liverpool<br>ENG\"],\"type\":\"scatterpolar\",\"marker\":{\"symbol\":\"square\"},\"mode\":\"lines+markers\"},{\"fill\":\"toself\",\"line\":{\"color\":\"#681f55\"},\"name\":\"xGD\",\"r\":[55.0,61.9,51.0,42.2,37.9,27.3,15.9,31.3,20.9,25.8,25.2,21.6,20.2,28.3,19.6,16.0,21.6,26.2,12.8,27.6,16.8,19.1,14.7,16.0,3.0,55.0],\"theta\":[\"<b>Liverpool<br>ENG\",\"<b>Manchester City<br>ENG\",\"<b>Bayern Munich<br>GER\",\"<b>Inter<br>ITA\",\"<b>Paris S-G<br>FRA\",\"<b>Real Madrid<br>ESP\",\"<b>Lyon<br>FRA\",\"<b>Chelsea<br>ENG\",\"<b>Atalanta<br>ITA\",\"<b>Tottenham<br>ENG\",\"<b>Roma<br>ITA\",\"<b>RB Leipzig<br>GER\",\"<b>Leverkusen<br>GER\",\"<b>Milan<br>ITA\",\"<b>Dortmund<br>GER\",\"<b>Villarreal<br>ESP\",\"<b>Rennes<br>FRA\",\"<b>Barcelona<br>ESP\",\"<b>Arsenal<br>ENG\",\"<b>Napoli<br>ITA\",\"<b>Strasbourg<br>FRA\",\"<b>Marseille<br>FRA\",\"<b>Fiorentina<br>ITA\",\"<b>Monaco<br>FRA\",\"<b>M'Gladbach<br>GER\",\"<b>Liverpool<br>ENG\"],\"type\":\"scatterpolar\",\"marker\":{\"symbol\":\"square\"},\"mode\":\"lines+markers\"}],                        {\"template\":{},\"title\":{\"font\":{\"family\":\"cambria\",\"size\":18},\"text\":\"Expected goals xG, Expected Goals Against xGA and Expected difference xGD (xGD = xG - xGA)\",\"x\":0.05,\"y\":0.95},\"polar\":{\"radialaxis\":{\"tickfont\":{\"size\":14,\"family\":\"Arial\"}}},\"legend\":{\"font\":{\"size\":16},\"yanchor\":\"bottom\",\"xanchor\":\"center\",\"x\":0.5,\"y\":-0.19,\"orientation\":\"h\"},\"height\":700,\"width\":800},                        {\"responsive\": true}                    ).then(function(){\n",
       "                            \n",
       "var gd = document.getElementById('98858d0f-8fdf-4f97-a554-044aed6402df');\n",
       "var x = new MutationObserver(function (mutations, observer) {{\n",
       "        var display = window.getComputedStyle(gd).display;\n",
       "        if (!display || display === 'none') {{\n",
       "            console.log([gd, 'removed!']);\n",
       "            Plotly.purge(gd);\n",
       "            observer.disconnect();\n",
       "        }}\n",
       "}});\n",
       "\n",
       "// Listen for the removal of the full notebook cells\n",
       "var notebookContainer = gd.closest('#notebook-container');\n",
       "if (notebookContainer) {{\n",
       "    x.observe(notebookContainer, {childList: true});\n",
       "}}\n",
       "\n",
       "// Listen for the clearing of the current output cell\n",
       "var outputEl = gd.closest('.output');\n",
       "if (outputEl) {{\n",
       "    x.observe(outputEl, {childList: true});\n",
       "}}\n",
       "\n",
       "                        })                };                });            </script>        </div>"
      ]
     },
     "metadata": {},
     "output_type": "display_data"
    }
   ],
   "source": [
    "#Ploteamos\n",
    "\n",
    "rxG_list = list(expected[\"xG\"])\n",
    "rxG_list.append(rxG_list[0])\n",
    "rxGA_list = list(expected[\"xGA\"])\n",
    "rxGA_list.append(rxGA_list[0])\n",
    "rxGD_list = list(expected[\"xGD\"])\n",
    "rxGD_list.append(rxGD_list[0])\n",
    "theta_list = list(expected[\"label\"])\n",
    "theta_list.append(theta_list[0])\n",
    "\n",
    "fig = go.Figure()\n",
    "\n",
    "fig.add_trace(go.Scatterpolar(r=rxG_list, theta=theta_list, fill='toself', line_color=get_color('rocket_r', len(expected))[6], \n",
    "                             name='xG'))\n",
    "\n",
    "fig.add_trace(go.Scatterpolar(r=rxGA_list, theta=theta_list, fill=\"toself\", line_color=get_color('rocket_r', len(expected))[12],\n",
    "                             name=\"xGA\"))\n",
    "\n",
    "fig.add_trace(go.Scatterpolar(r=rxGD_list, theta=theta_list, fill='toself', line_color=get_color('rocket_r', len(expected))[18],\n",
    "                             name=\"xGD\"))\n",
    "\n",
    "fig.update_traces(mode='lines+markers',marker=dict(symbol='square'))\n",
    "\n",
    "fig.update_layout(height=700, \n",
    "                 width=800,\n",
    "                  title={'text': \"Expected goals xG, Expected Goals Against xGA and Expected difference xGD (xGD = xG - xGA)\",\n",
    "                         'x':0.050,\n",
    "                        'y': 0.95},\n",
    "                  titlefont_family='cambria',\n",
    "                  titlefont_size=18,\n",
    "                  template=None,\n",
    "                  polar = dict(\n",
    "                  radialaxis_tickfont_size=14,\n",
    "                  radialaxis_tickfont_family='Arial'),\n",
    "                 legend=dict(yanchor=\"bottom\",\n",
    "                            xanchor='center',\n",
    "                            x=0.5,\n",
    "                            y=-0.19,\n",
    "                            orientation='h',\n",
    "                            font=dict(size=16)),)"
   ]
  },
  {
   "cell_type": "markdown",
   "id": "820fabbb",
   "metadata": {},
   "source": [
    "Distribucion de los partidos ganados, empatados y perdidos, en funcion de los goles marcados, de los goles en contra y de la diferencia de goles. "
   ]
  },
  {
   "cell_type": "code",
   "execution_count": 39,
   "id": "ffb6df32",
   "metadata": {},
   "outputs": [],
   "source": [
    "dist = data[[\"Country\", \"W\", \"D\", \"L\", \"GF\", \"GA\", \"GD\"]] #Dataframe\n",
    "countries = list(dist[\"Country\"].value_counts().index) #list of countriesLista de paises\n",
    "\n",
    "color = get_color(\"magma\", len(countries))\n",
    "color1 = get_color(\"bone\", len(countries))\n",
    "color2 = get_color(\"viridis\", len(countries))\n",
    "color3 = get_color('mako', len(countries))\n",
    "color4 = get_color('rocket', len(countries))\n",
    "color5 = get_color('icefire', len(countries))"
   ]
  },
  {
   "cell_type": "code",
   "execution_count": 40,
   "id": "ac7ffa43",
   "metadata": {},
   "outputs": [
    {
     "data": {
      "application/vnd.plotly.v1+json": {
       "config": {
        "plotlyServerURL": "https://plot.ly"
       },
       "data": [
        {
         "line": {
          "color": "#2c115f"
         },
         "name": "ENG",
         "orientation": "h",
         "points": false,
         "side": "positive",
         "type": "violin",
         "width": 3,
         "x": [
          29,
          28,
          21,
          22,
          22,
          16,
          16,
          14,
          12,
          15,
          13,
          11,
          13,
          13,
          9,
          11,
          9,
          7,
          6,
          5
         ],
         "xaxis": "x",
         "yaxis": "y"
        },
        {
         "line": {
          "color": "#721f81"
         },
         "name": "FRA",
         "orientation": "h",
         "points": false,
         "side": "positive",
         "type": "violin",
         "width": 3,
         "x": [
          26,
          21,
          20,
          20,
          20,
          17,
          17,
          17,
          15,
          14,
          13,
          11,
          12,
          10,
          9,
          8,
          9,
          7,
          6,
          6
         ],
         "xaxis": "x",
         "yaxis": "y"
        },
        {
         "line": {
          "color": "#b73779"
         },
         "name": "ESP",
         "orientation": "h",
         "points": false,
         "side": "positive",
         "type": "violin",
         "width": 3,
         "x": [
          26,
          21,
          21,
          18,
          19,
          17,
          16,
          14,
          11,
          12,
          12,
          11,
          11,
          10,
          8,
          8,
          10,
          8,
          8,
          8
         ],
         "xaxis": "x",
         "yaxis": "y"
        },
        {
         "line": {
          "color": "#f1605d"
         },
         "name": "ITA",
         "orientation": "h",
         "points": false,
         "side": "positive",
         "type": "violin",
         "width": 3,
         "x": [
          26,
          25,
          24,
          20,
          18,
          18,
          19,
          16,
          14,
          13,
          13,
          11,
          12,
          10,
          10,
          10,
          7,
          6,
          4,
          6
         ],
         "xaxis": "x",
         "yaxis": "y"
        },
        {
         "line": {
          "color": "#feb078"
         },
         "name": "GER",
         "orientation": "h",
         "points": false,
         "side": "positive",
         "type": "violin",
         "width": 3,
         "x": [
          24,
          22,
          19,
          17,
          16,
          15,
          14,
          13,
          13,
          12,
          10,
          12,
          12,
          10,
          7,
          9,
          5,
          3
         ],
         "xaxis": "x",
         "yaxis": "y"
        },
        {
         "line": {
          "color": "#252533"
         },
         "name": "ENG",
         "orientation": "h",
         "points": false,
         "side": "positive",
         "type": "violin",
         "width": 3,
         "x": [
          3,
          2,
          6,
          11,
          13,
          12,
          14,
          14,
          11,
          17,
          15,
          12,
          18,
          19,
          16,
          21,
          18,
          17,
          27,
          26
         ],
         "xaxis": "x2",
         "yaxis": "y2"
        },
        {
         "line": {
          "color": "#4a4a67"
         },
         "name": "FRA",
         "orientation": "h",
         "points": false,
         "side": "positive",
         "type": "violin",
         "width": 3,
         "x": [
          4,
          9,
          9,
          12,
          11,
          9,
          10,
          10,
          13,
          11,
          16,
          14,
          19,
          17,
          18,
          18,
          20,
          20,
          19,
          19
         ],
         "xaxis": "x2",
         "yaxis": "y2"
        },
        {
         "line": {
          "color": "#707b90"
         },
         "name": "ESP",
         "orientation": "h",
         "points": false,
         "side": "positive",
         "type": "violin",
         "width": 3,
         "x": [
          4,
          7,
          9,
          4,
          11,
          10,
          11,
          11,
          12,
          15,
          16,
          18,
          18,
          16,
          15,
          15,
          19,
          16,
          19,
          23
         ],
         "xaxis": "x2",
         "yaxis": "y2"
        },
        {
         "line": {
          "color": "#95aeb5"
         },
         "name": "ITA",
         "orientation": "h",
         "points": false,
         "side": "positive",
         "type": "violin",
         "width": 3,
         "x": [
          4,
          4,
          7,
          8,
          10,
          11,
          14,
          11,
          13,
          14,
          14,
          13,
          16,
          17,
          22,
          22,
          21,
          20,
          18,
          23
         ],
         "xaxis": "x2",
         "yaxis": "y2"
        },
        {
         "line": {
          "color": "#c6dada"
         },
         "name": "GER",
         "orientation": "h",
         "points": false,
         "side": "positive",
         "type": "violin",
         "width": 3,
         "x": [
          5,
          9,
          8,
          10,
          9,
          9,
          10,
          14,
          14,
          13,
          12,
          16,
          16,
          16,
          15,
          19,
          16,
          22
         ],
         "xaxis": "x2",
         "yaxis": "y2"
        },
        {
         "line": {
          "color": "#443983"
         },
         "name": "ENG",
         "orientation": "h",
         "points": false,
         "side": "positive",
         "type": "violin",
         "width": 3,
         "x": [
          6,
          8,
          11,
          5,
          3,
          10,
          8,
          10,
          15,
          6,
          10,
          15,
          7,
          6,
          13,
          6,
          11,
          14,
          5,
          7
         ],
         "xaxis": "x3",
         "yaxis": "y3"
        },
        {
         "line": {
          "color": "#31688e"
         },
         "name": "FRA",
         "orientation": "h",
         "points": false,
         "side": "positive",
         "type": "violin",
         "width": 3,
         "x": [
          8,
          8,
          9,
          6,
          7,
          12,
          11,
          11,
          10,
          13,
          9,
          13,
          7,
          11,
          11,
          12,
          9,
          11,
          13,
          13
         ],
         "xaxis": "x3",
         "yaxis": "y3"
        },
        {
         "line": {
          "color": "#21918c"
         },
         "name": "ESP",
         "orientation": "h",
         "points": false,
         "side": "positive",
         "type": "violin",
         "width": 3,
         "x": [
          8,
          10,
          8,
          16,
          8,
          11,
          11,
          13,
          15,
          11,
          10,
          9,
          9,
          12,
          15,
          15,
          9,
          14,
          11,
          7
         ],
         "xaxis": "x3",
         "yaxis": "y3"
        },
        {
         "line": {
          "color": "#35b779"
         },
         "name": "ITA",
         "orientation": "h",
         "points": false,
         "side": "positive",
         "type": "violin",
         "width": 3,
         "x": [
          8,
          9,
          7,
          10,
          10,
          9,
          5,
          11,
          11,
          11,
          11,
          14,
          10,
          11,
          6,
          6,
          10,
          12,
          16,
          9
         ],
         "xaxis": "x3",
         "yaxis": "y3"
        },
        {
         "line": {
          "color": "#90d743"
         },
         "name": "GER",
         "orientation": "h",
         "points": false,
         "side": "positive",
         "type": "violin",
         "width": 3,
         "x": [
          5,
          3,
          7,
          7,
          9,
          10,
          10,
          7,
          7,
          9,
          12,
          6,
          6,
          8,
          12,
          6,
          13,
          9
         ],
         "xaxis": "x3",
         "yaxis": "y3"
        },
        {
         "line": {
          "color": "#332345"
         },
         "name": "ENG",
         "orientation": "h",
         "points": false,
         "side": "positive",
         "type": "violin",
         "width": 3,
         "x": [
          99,
          94,
          76,
          69,
          61,
          57,
          60,
          62,
          42,
          38,
          44,
          50,
          48,
          52,
          43,
          43,
          42,
          34,
          34,
          23
         ],
         "xaxis": "x4",
         "yaxis": "y4"
        },
        {
         "line": {
          "color": "#40498e"
         },
         "name": "FRA",
         "orientation": "h",
         "points": false,
         "side": "positive",
         "type": "violin",
         "width": 3,
         "x": [
          90,
          63,
          65,
          82,
          52,
          60,
          62,
          66,
          55,
          48,
          49,
          43,
          49,
          44,
          37,
          35,
          38,
          42,
          35,
          52
         ],
         "xaxis": "x4",
         "yaxis": "y4"
        },
        {
         "line": {
          "color": "#357ba3"
         },
         "name": "ESP",
         "orientation": "h",
         "points": false,
         "side": "positive",
         "type": "violin",
         "width": 3,
         "x": [
          80,
          68,
          65,
          53,
          62,
          40,
          63,
          43,
          48,
          37,
          43,
          39,
          40,
          40,
          33,
          35,
          36,
          44,
          51,
          31
         ],
         "xaxis": "x4",
         "yaxis": "y4"
        },
        {
         "line": {
          "color": "#38aaac"
         },
         "name": "ITA",
         "orientation": "h",
         "points": false,
         "side": "positive",
         "type": "violin",
         "width": 3,
         "x": [
          69,
          84,
          74,
          57,
          77,
          59,
          59,
          65,
          65,
          46,
          64,
          61,
          44,
          50,
          46,
          41,
          33,
          34,
          27,
          34
         ],
         "xaxis": "x4",
         "yaxis": "y4"
        },
        {
         "line": {
          "color": "#79d6ae"
         },
         "name": "GER",
         "orientation": "h",
         "points": false,
         "side": "positive",
         "type": "violin",
         "width": 3,
         "x": [
          97,
          85,
          80,
          72,
          50,
          58,
          52,
          50,
          58,
          54,
          45,
          43,
          38,
          39,
          41,
          37,
          27,
          28
         ],
         "xaxis": "x4",
         "yaxis": "y4"
        },
        {
         "line": {
          "color": "#3f1b43"
         },
         "name": "ENG",
         "orientation": "h",
         "points": false,
         "side": "positive",
         "type": "violin",
         "width": 3,
         "x": [
          26,
          26,
          33,
          40,
          48,
          57,
          51,
          59,
          44,
          43,
          62,
          46,
          56,
          54,
          67,
          66,
          79,
          53,
          77,
          84
         ],
         "xaxis": "x5",
         "yaxis": "y5"
        },
        {
         "line": {
          "color": "#841e5a"
         },
         "name": "FRA",
         "orientation": "h",
         "points": false,
         "side": "positive",
         "type": "violin",
         "width": 3,
         "x": [
          36,
          38,
          40,
          40,
          36,
          43,
          48,
          51,
          48,
          48,
          57,
          44,
          61,
          55,
          53,
          63,
          69,
          77,
          69,
          91
         ],
         "xaxis": "x5",
         "yaxis": "y5"
        },
        {
         "line": {
          "color": "#cb1b4f"
         },
         "name": "ESP",
         "orientation": "h",
         "points": false,
         "side": "positive",
         "type": "violin",
         "width": 3,
         "x": [
          31,
          38,
          43,
          30,
          40,
          37,
          37,
          36,
          53,
          51,
          43,
          50,
          52,
          53,
          41,
          51,
          63,
          61,
          76,
          65
         ],
         "xaxis": "x5",
         "yaxis": "y5"
        },
        {
         "line": {
          "color": "#f06043"
         },
         "name": "ITA",
         "orientation": "h",
         "points": false,
         "side": "positive",
         "type": "violin",
         "width": 3,
         "x": [
          31,
          32,
          31,
          37,
          58,
          43,
          51,
          48,
          59,
          41,
          66,
          58,
          55,
          70,
          63,
          71,
          78,
          68,
          60,
          69
         ],
         "xaxis": "x5",
         "yaxis": "y5"
        },
        {
         "line": {
          "color": "#f6ab83"
         },
         "name": "GER",
         "orientation": "h",
         "points": false,
         "side": "positive",
         "type": "violin",
         "width": 3,
         "x": [
          37,
          52,
          47,
          37,
          44,
          46,
          49,
          45,
          60,
          61,
          49,
          54,
          52,
          56,
          59,
          71,
          53,
          82
         ],
         "xaxis": "x5",
         "yaxis": "y5"
        },
        {
         "line": {
          "color": "#4798ce"
         },
         "name": "ENG",
         "orientation": "h",
         "points": false,
         "side": "positive",
         "type": "violin",
         "width": 3,
         "x": [
          73,
          68,
          43,
          29,
          13,
          0,
          9,
          3,
          -2,
          -5,
          -18,
          4,
          -8,
          -2,
          -24,
          -23,
          -37,
          -19,
          -43,
          -61
         ],
         "xaxis": "x6",
         "yaxis": "y6"
        },
        {
         "line": {
          "color": "#444282"
         },
         "name": "FRA",
         "orientation": "h",
         "points": false,
         "side": "positive",
         "type": "violin",
         "width": 3,
         "x": [
          54,
          25,
          25,
          42,
          16,
          17,
          14,
          15,
          7,
          0,
          -8,
          -1,
          -12,
          -11,
          -16,
          -28,
          -31,
          -35,
          -34,
          -39
         ],
         "xaxis": "x6",
         "yaxis": "y6"
        },
        {
         "line": {
          "color": "#1f1e1e"
         },
         "name": "ESP",
         "orientation": "h",
         "points": false,
         "side": "positive",
         "type": "violin",
         "width": 3,
         "x": [
          49,
          30,
          22,
          23,
          22,
          3,
          26,
          7,
          -5,
          -14,
          0,
          -11,
          -12,
          -13,
          -8,
          -16,
          -27,
          -17,
          -25,
          -34
         ],
         "xaxis": "x6",
         "yaxis": "y6"
        },
        {
         "line": {
          "color": "#782c3f"
         },
         "name": "ITA",
         "orientation": "h",
         "points": false,
         "side": "positive",
         "type": "violin",
         "width": 3,
         "x": [
          38,
          52,
          43,
          20,
          19,
          16,
          8,
          17,
          6,
          5,
          -2,
          3,
          -11,
          -20,
          -17,
          -30,
          -45,
          -34,
          -33,
          -35
         ],
         "xaxis": "x6",
         "yaxis": "y6"
        },
        {
         "line": {
          "color": "#e25f33"
         },
         "name": "GER",
         "orientation": "h",
         "points": false,
         "side": "positive",
         "type": "violin",
         "width": 3,
         "x": [
          60,
          33,
          33,
          35,
          6,
          12,
          3,
          5,
          -2,
          -7,
          -4,
          -11,
          -14,
          -17,
          -18,
          -34,
          -26,
          -54
         ],
         "xaxis": "x6",
         "yaxis": "y6"
        }
       ],
       "layout": {
        "height": 600,
        "plot_bgcolor": "#f0f0f3",
        "showlegend": false,
        "template": {
         "data": {
          "bar": [
           {
            "error_x": {
             "color": "rgb(36,36,36)"
            },
            "error_y": {
             "color": "rgb(36,36,36)"
            },
            "marker": {
             "line": {
              "color": "white",
              "width": 0.5
             },
             "pattern": {
              "fillmode": "overlay",
              "size": 10,
              "solidity": 0.2
             }
            },
            "type": "bar"
           }
          ],
          "barpolar": [
           {
            "marker": {
             "line": {
              "color": "white",
              "width": 0.5
             },
             "pattern": {
              "fillmode": "overlay",
              "size": 10,
              "solidity": 0.2
             }
            },
            "type": "barpolar"
           }
          ],
          "carpet": [
           {
            "aaxis": {
             "endlinecolor": "rgb(36,36,36)",
             "gridcolor": "white",
             "linecolor": "white",
             "minorgridcolor": "white",
             "startlinecolor": "rgb(36,36,36)"
            },
            "baxis": {
             "endlinecolor": "rgb(36,36,36)",
             "gridcolor": "white",
             "linecolor": "white",
             "minorgridcolor": "white",
             "startlinecolor": "rgb(36,36,36)"
            },
            "type": "carpet"
           }
          ],
          "choropleth": [
           {
            "colorbar": {
             "outlinewidth": 1,
             "tickcolor": "rgb(36,36,36)",
             "ticks": "outside"
            },
            "type": "choropleth"
           }
          ],
          "contour": [
           {
            "colorbar": {
             "outlinewidth": 1,
             "tickcolor": "rgb(36,36,36)",
             "ticks": "outside"
            },
            "colorscale": [
             [
              0,
              "#440154"
             ],
             [
              0.1111111111111111,
              "#482878"
             ],
             [
              0.2222222222222222,
              "#3e4989"
             ],
             [
              0.3333333333333333,
              "#31688e"
             ],
             [
              0.4444444444444444,
              "#26828e"
             ],
             [
              0.5555555555555556,
              "#1f9e89"
             ],
             [
              0.6666666666666666,
              "#35b779"
             ],
             [
              0.7777777777777778,
              "#6ece58"
             ],
             [
              0.8888888888888888,
              "#b5de2b"
             ],
             [
              1,
              "#fde725"
             ]
            ],
            "type": "contour"
           }
          ],
          "contourcarpet": [
           {
            "colorbar": {
             "outlinewidth": 1,
             "tickcolor": "rgb(36,36,36)",
             "ticks": "outside"
            },
            "type": "contourcarpet"
           }
          ],
          "heatmap": [
           {
            "colorbar": {
             "outlinewidth": 1,
             "tickcolor": "rgb(36,36,36)",
             "ticks": "outside"
            },
            "colorscale": [
             [
              0,
              "#440154"
             ],
             [
              0.1111111111111111,
              "#482878"
             ],
             [
              0.2222222222222222,
              "#3e4989"
             ],
             [
              0.3333333333333333,
              "#31688e"
             ],
             [
              0.4444444444444444,
              "#26828e"
             ],
             [
              0.5555555555555556,
              "#1f9e89"
             ],
             [
              0.6666666666666666,
              "#35b779"
             ],
             [
              0.7777777777777778,
              "#6ece58"
             ],
             [
              0.8888888888888888,
              "#b5de2b"
             ],
             [
              1,
              "#fde725"
             ]
            ],
            "type": "heatmap"
           }
          ],
          "heatmapgl": [
           {
            "colorbar": {
             "outlinewidth": 1,
             "tickcolor": "rgb(36,36,36)",
             "ticks": "outside"
            },
            "colorscale": [
             [
              0,
              "#440154"
             ],
             [
              0.1111111111111111,
              "#482878"
             ],
             [
              0.2222222222222222,
              "#3e4989"
             ],
             [
              0.3333333333333333,
              "#31688e"
             ],
             [
              0.4444444444444444,
              "#26828e"
             ],
             [
              0.5555555555555556,
              "#1f9e89"
             ],
             [
              0.6666666666666666,
              "#35b779"
             ],
             [
              0.7777777777777778,
              "#6ece58"
             ],
             [
              0.8888888888888888,
              "#b5de2b"
             ],
             [
              1,
              "#fde725"
             ]
            ],
            "type": "heatmapgl"
           }
          ],
          "histogram": [
           {
            "marker": {
             "line": {
              "color": "white",
              "width": 0.6
             }
            },
            "type": "histogram"
           }
          ],
          "histogram2d": [
           {
            "colorbar": {
             "outlinewidth": 1,
             "tickcolor": "rgb(36,36,36)",
             "ticks": "outside"
            },
            "colorscale": [
             [
              0,
              "#440154"
             ],
             [
              0.1111111111111111,
              "#482878"
             ],
             [
              0.2222222222222222,
              "#3e4989"
             ],
             [
              0.3333333333333333,
              "#31688e"
             ],
             [
              0.4444444444444444,
              "#26828e"
             ],
             [
              0.5555555555555556,
              "#1f9e89"
             ],
             [
              0.6666666666666666,
              "#35b779"
             ],
             [
              0.7777777777777778,
              "#6ece58"
             ],
             [
              0.8888888888888888,
              "#b5de2b"
             ],
             [
              1,
              "#fde725"
             ]
            ],
            "type": "histogram2d"
           }
          ],
          "histogram2dcontour": [
           {
            "colorbar": {
             "outlinewidth": 1,
             "tickcolor": "rgb(36,36,36)",
             "ticks": "outside"
            },
            "colorscale": [
             [
              0,
              "#440154"
             ],
             [
              0.1111111111111111,
              "#482878"
             ],
             [
              0.2222222222222222,
              "#3e4989"
             ],
             [
              0.3333333333333333,
              "#31688e"
             ],
             [
              0.4444444444444444,
              "#26828e"
             ],
             [
              0.5555555555555556,
              "#1f9e89"
             ],
             [
              0.6666666666666666,
              "#35b779"
             ],
             [
              0.7777777777777778,
              "#6ece58"
             ],
             [
              0.8888888888888888,
              "#b5de2b"
             ],
             [
              1,
              "#fde725"
             ]
            ],
            "type": "histogram2dcontour"
           }
          ],
          "mesh3d": [
           {
            "colorbar": {
             "outlinewidth": 1,
             "tickcolor": "rgb(36,36,36)",
             "ticks": "outside"
            },
            "type": "mesh3d"
           }
          ],
          "parcoords": [
           {
            "line": {
             "colorbar": {
              "outlinewidth": 1,
              "tickcolor": "rgb(36,36,36)",
              "ticks": "outside"
             }
            },
            "type": "parcoords"
           }
          ],
          "pie": [
           {
            "automargin": true,
            "type": "pie"
           }
          ],
          "scatter": [
           {
            "fillpattern": {
             "fillmode": "overlay",
             "size": 10,
             "solidity": 0.2
            },
            "type": "scatter"
           }
          ],
          "scatter3d": [
           {
            "line": {
             "colorbar": {
              "outlinewidth": 1,
              "tickcolor": "rgb(36,36,36)",
              "ticks": "outside"
             }
            },
            "marker": {
             "colorbar": {
              "outlinewidth": 1,
              "tickcolor": "rgb(36,36,36)",
              "ticks": "outside"
             }
            },
            "type": "scatter3d"
           }
          ],
          "scattercarpet": [
           {
            "marker": {
             "colorbar": {
              "outlinewidth": 1,
              "tickcolor": "rgb(36,36,36)",
              "ticks": "outside"
             }
            },
            "type": "scattercarpet"
           }
          ],
          "scattergeo": [
           {
            "marker": {
             "colorbar": {
              "outlinewidth": 1,
              "tickcolor": "rgb(36,36,36)",
              "ticks": "outside"
             }
            },
            "type": "scattergeo"
           }
          ],
          "scattergl": [
           {
            "marker": {
             "colorbar": {
              "outlinewidth": 1,
              "tickcolor": "rgb(36,36,36)",
              "ticks": "outside"
             }
            },
            "type": "scattergl"
           }
          ],
          "scattermapbox": [
           {
            "marker": {
             "colorbar": {
              "outlinewidth": 1,
              "tickcolor": "rgb(36,36,36)",
              "ticks": "outside"
             }
            },
            "type": "scattermapbox"
           }
          ],
          "scatterpolar": [
           {
            "marker": {
             "colorbar": {
              "outlinewidth": 1,
              "tickcolor": "rgb(36,36,36)",
              "ticks": "outside"
             }
            },
            "type": "scatterpolar"
           }
          ],
          "scatterpolargl": [
           {
            "marker": {
             "colorbar": {
              "outlinewidth": 1,
              "tickcolor": "rgb(36,36,36)",
              "ticks": "outside"
             }
            },
            "type": "scatterpolargl"
           }
          ],
          "scatterternary": [
           {
            "marker": {
             "colorbar": {
              "outlinewidth": 1,
              "tickcolor": "rgb(36,36,36)",
              "ticks": "outside"
             }
            },
            "type": "scatterternary"
           }
          ],
          "surface": [
           {
            "colorbar": {
             "outlinewidth": 1,
             "tickcolor": "rgb(36,36,36)",
             "ticks": "outside"
            },
            "colorscale": [
             [
              0,
              "#440154"
             ],
             [
              0.1111111111111111,
              "#482878"
             ],
             [
              0.2222222222222222,
              "#3e4989"
             ],
             [
              0.3333333333333333,
              "#31688e"
             ],
             [
              0.4444444444444444,
              "#26828e"
             ],
             [
              0.5555555555555556,
              "#1f9e89"
             ],
             [
              0.6666666666666666,
              "#35b779"
             ],
             [
              0.7777777777777778,
              "#6ece58"
             ],
             [
              0.8888888888888888,
              "#b5de2b"
             ],
             [
              1,
              "#fde725"
             ]
            ],
            "type": "surface"
           }
          ],
          "table": [
           {
            "cells": {
             "fill": {
              "color": "rgb(237,237,237)"
             },
             "line": {
              "color": "white"
             }
            },
            "header": {
             "fill": {
              "color": "rgb(217,217,217)"
             },
             "line": {
              "color": "white"
             }
            },
            "type": "table"
           }
          ]
         },
         "layout": {
          "annotationdefaults": {
           "arrowhead": 0,
           "arrowwidth": 1
          },
          "autotypenumbers": "strict",
          "coloraxis": {
           "colorbar": {
            "outlinewidth": 1,
            "tickcolor": "rgb(36,36,36)",
            "ticks": "outside"
           }
          },
          "colorscale": {
           "diverging": [
            [
             0,
             "rgb(103,0,31)"
            ],
            [
             0.1,
             "rgb(178,24,43)"
            ],
            [
             0.2,
             "rgb(214,96,77)"
            ],
            [
             0.3,
             "rgb(244,165,130)"
            ],
            [
             0.4,
             "rgb(253,219,199)"
            ],
            [
             0.5,
             "rgb(247,247,247)"
            ],
            [
             0.6,
             "rgb(209,229,240)"
            ],
            [
             0.7,
             "rgb(146,197,222)"
            ],
            [
             0.8,
             "rgb(67,147,195)"
            ],
            [
             0.9,
             "rgb(33,102,172)"
            ],
            [
             1,
             "rgb(5,48,97)"
            ]
           ],
           "sequential": [
            [
             0,
             "#440154"
            ],
            [
             0.1111111111111111,
             "#482878"
            ],
            [
             0.2222222222222222,
             "#3e4989"
            ],
            [
             0.3333333333333333,
             "#31688e"
            ],
            [
             0.4444444444444444,
             "#26828e"
            ],
            [
             0.5555555555555556,
             "#1f9e89"
            ],
            [
             0.6666666666666666,
             "#35b779"
            ],
            [
             0.7777777777777778,
             "#6ece58"
            ],
            [
             0.8888888888888888,
             "#b5de2b"
            ],
            [
             1,
             "#fde725"
            ]
           ],
           "sequentialminus": [
            [
             0,
             "#440154"
            ],
            [
             0.1111111111111111,
             "#482878"
            ],
            [
             0.2222222222222222,
             "#3e4989"
            ],
            [
             0.3333333333333333,
             "#31688e"
            ],
            [
             0.4444444444444444,
             "#26828e"
            ],
            [
             0.5555555555555556,
             "#1f9e89"
            ],
            [
             0.6666666666666666,
             "#35b779"
            ],
            [
             0.7777777777777778,
             "#6ece58"
            ],
            [
             0.8888888888888888,
             "#b5de2b"
            ],
            [
             1,
             "#fde725"
            ]
           ]
          },
          "colorway": [
           "#1F77B4",
           "#FF7F0E",
           "#2CA02C",
           "#D62728",
           "#9467BD",
           "#8C564B",
           "#E377C2",
           "#7F7F7F",
           "#BCBD22",
           "#17BECF"
          ],
          "font": {
           "color": "rgb(36,36,36)"
          },
          "geo": {
           "bgcolor": "white",
           "lakecolor": "white",
           "landcolor": "white",
           "showlakes": true,
           "showland": true,
           "subunitcolor": "white"
          },
          "hoverlabel": {
           "align": "left"
          },
          "hovermode": "closest",
          "mapbox": {
           "style": "light"
          },
          "paper_bgcolor": "white",
          "plot_bgcolor": "white",
          "polar": {
           "angularaxis": {
            "gridcolor": "rgb(232,232,232)",
            "linecolor": "rgb(36,36,36)",
            "showgrid": false,
            "showline": true,
            "ticks": "outside"
           },
           "bgcolor": "white",
           "radialaxis": {
            "gridcolor": "rgb(232,232,232)",
            "linecolor": "rgb(36,36,36)",
            "showgrid": false,
            "showline": true,
            "ticks": "outside"
           }
          },
          "scene": {
           "xaxis": {
            "backgroundcolor": "white",
            "gridcolor": "rgb(232,232,232)",
            "gridwidth": 2,
            "linecolor": "rgb(36,36,36)",
            "showbackground": true,
            "showgrid": false,
            "showline": true,
            "ticks": "outside",
            "zeroline": false,
            "zerolinecolor": "rgb(36,36,36)"
           },
           "yaxis": {
            "backgroundcolor": "white",
            "gridcolor": "rgb(232,232,232)",
            "gridwidth": 2,
            "linecolor": "rgb(36,36,36)",
            "showbackground": true,
            "showgrid": false,
            "showline": true,
            "ticks": "outside",
            "zeroline": false,
            "zerolinecolor": "rgb(36,36,36)"
           },
           "zaxis": {
            "backgroundcolor": "white",
            "gridcolor": "rgb(232,232,232)",
            "gridwidth": 2,
            "linecolor": "rgb(36,36,36)",
            "showbackground": true,
            "showgrid": false,
            "showline": true,
            "ticks": "outside",
            "zeroline": false,
            "zerolinecolor": "rgb(36,36,36)"
           }
          },
          "shapedefaults": {
           "fillcolor": "black",
           "line": {
            "width": 0
           },
           "opacity": 0.3
          },
          "ternary": {
           "aaxis": {
            "gridcolor": "rgb(232,232,232)",
            "linecolor": "rgb(36,36,36)",
            "showgrid": false,
            "showline": true,
            "ticks": "outside"
           },
           "baxis": {
            "gridcolor": "rgb(232,232,232)",
            "linecolor": "rgb(36,36,36)",
            "showgrid": false,
            "showline": true,
            "ticks": "outside"
           },
           "bgcolor": "white",
           "caxis": {
            "gridcolor": "rgb(232,232,232)",
            "linecolor": "rgb(36,36,36)",
            "showgrid": false,
            "showline": true,
            "ticks": "outside"
           }
          },
          "title": {
           "x": 0.05
          },
          "xaxis": {
           "automargin": true,
           "gridcolor": "rgb(232,232,232)",
           "linecolor": "rgb(36,36,36)",
           "showgrid": false,
           "showline": true,
           "ticks": "outside",
           "title": {
            "standoff": 15
           },
           "zeroline": false,
           "zerolinecolor": "rgb(36,36,36)"
          },
          "yaxis": {
           "automargin": true,
           "gridcolor": "rgb(232,232,232)",
           "linecolor": "rgb(36,36,36)",
           "showgrid": false,
           "showline": true,
           "ticks": "outside",
           "title": {
            "standoff": 15
           },
           "zeroline": false,
           "zerolinecolor": "rgb(36,36,36)"
          }
         }
        },
        "title": {
         "font": {
          "family": "Impact",
          "size": 30
         },
         "text": "Distributions of Win, Loss and Draw matches"
        },
        "width": 1200,
        "xaxis": {
         "anchor": "y",
         "domain": [
          0,
          0.32
         ],
         "minor": {
          "nticks": 5,
          "showgrid": false,
          "ticklen": 4,
          "tickmode": "auto"
         },
         "title": {
          "font": {
           "family": "Arial",
           "size": 14
          },
          "text": "Win matches"
         }
        },
        "xaxis2": {
         "anchor": "y2",
         "domain": [
          0.34,
          0.66
         ],
         "minor": {
          "nticks": 5,
          "showgrid": false,
          "ticklen": 4,
          "tickmode": "auto"
         },
         "title": {
          "font": {
           "family": "Arial",
           "size": 14
          },
          "text": "Loss matches"
         }
        },
        "xaxis3": {
         "anchor": "y3",
         "domain": [
          0.68,
          1
         ],
         "minor": {
          "nticks": 5,
          "showgrid": false,
          "ticklen": 4,
          "tickmode": "auto"
         },
         "title": {
          "font": {
           "family": "Arial",
           "size": 14
          },
          "text": "Draw matches"
         }
        },
        "xaxis4": {
         "anchor": "y4",
         "domain": [
          0,
          0.32
         ],
         "minor": {
          "showgrid": false,
          "ticklen": 4
         },
         "tickvals": [
          0,
          20,
          40,
          60,
          80,
          100
         ],
         "title": {
          "font": {
           "family": "Arial",
           "size": 14
          },
          "text": "Number of goals for \"GF\""
         }
        },
        "xaxis5": {
         "anchor": "y5",
         "domain": [
          0.34,
          0.66
         ],
         "minor": {
          "nticks": 5,
          "showgrid": false,
          "ticklen": 4
         },
         "tickvals": [
          0,
          20,
          40,
          60,
          80,
          100
         ],
         "title": {
          "font": {
           "family": "Arial",
           "size": 14
          },
          "text": "Number of goals against \"GA\""
         }
        },
        "xaxis6": {
         "anchor": "y6",
         "domain": [
          0.68,
          1
         ],
         "minor": {
          "showgrid": false,
          "ticklen": 4
         },
         "tickvals": [
          -80,
          -50,
          -20,
          10,
          30,
          60,
          90
         ],
         "title": {
          "font": {
           "family": "Arial",
           "size": 14
          },
          "text": "Number of goals draw \"GD\""
         }
        },
        "yaxis": {
         "anchor": "x",
         "domain": [
          0.575,
          1
         ],
         "gridcolor": "grey",
         "gridwidth": 0.15,
         "showgrid": true
        },
        "yaxis2": {
         "anchor": "x2",
         "domain": [
          0.575,
          1
         ],
         "gridcolor": "grey",
         "gridwidth": 0.15,
         "matches": "y",
         "showgrid": true,
         "showticklabels": false
        },
        "yaxis3": {
         "anchor": "x3",
         "domain": [
          0.575,
          1
         ],
         "gridcolor": "grey",
         "gridwidth": 0.15,
         "matches": "y",
         "showgrid": true,
         "showticklabels": false
        },
        "yaxis4": {
         "anchor": "x4",
         "domain": [
          0,
          0.425
         ],
         "gridcolor": "grey",
         "gridwidth": 0.15,
         "showgrid": true
        },
        "yaxis5": {
         "anchor": "x5",
         "domain": [
          0,
          0.425
         ],
         "gridcolor": "grey",
         "gridwidth": 0.15,
         "matches": "y4",
         "showgrid": true,
         "showticklabels": false
        },
        "yaxis6": {
         "anchor": "x6",
         "domain": [
          0,
          0.425
         ],
         "gridcolor": "grey",
         "gridwidth": 0.15,
         "matches": "y4",
         "showgrid": true,
         "showticklabels": false
        }
       }
      },
      "text/html": [
       "<div>                            <div id=\"8017b34a-8019-46f6-ae13-2a71a2b6e36f\" class=\"plotly-graph-div\" style=\"height:600px; width:1200px;\"></div>            <script type=\"text/javascript\">                require([\"plotly\"], function(Plotly) {                    window.PLOTLYENV=window.PLOTLYENV || {};                                    if (document.getElementById(\"8017b34a-8019-46f6-ae13-2a71a2b6e36f\")) {                    Plotly.newPlot(                        \"8017b34a-8019-46f6-ae13-2a71a2b6e36f\",                        [{\"line\":{\"color\":\"#2c115f\"},\"name\":\"ENG\",\"x\":[29,28,21,22,22,16,16,14,12,15,13,11,13,13,9,11,9,7,6,5],\"type\":\"violin\",\"xaxis\":\"x\",\"yaxis\":\"y\",\"orientation\":\"h\",\"points\":false,\"side\":\"positive\",\"width\":3},{\"line\":{\"color\":\"#721f81\"},\"name\":\"FRA\",\"x\":[26,21,20,20,20,17,17,17,15,14,13,11,12,10,9,8,9,7,6,6],\"type\":\"violin\",\"xaxis\":\"x\",\"yaxis\":\"y\",\"orientation\":\"h\",\"points\":false,\"side\":\"positive\",\"width\":3},{\"line\":{\"color\":\"#b73779\"},\"name\":\"ESP\",\"x\":[26,21,21,18,19,17,16,14,11,12,12,11,11,10,8,8,10,8,8,8],\"type\":\"violin\",\"xaxis\":\"x\",\"yaxis\":\"y\",\"orientation\":\"h\",\"points\":false,\"side\":\"positive\",\"width\":3},{\"line\":{\"color\":\"#f1605d\"},\"name\":\"ITA\",\"x\":[26,25,24,20,18,18,19,16,14,13,13,11,12,10,10,10,7,6,4,6],\"type\":\"violin\",\"xaxis\":\"x\",\"yaxis\":\"y\",\"orientation\":\"h\",\"points\":false,\"side\":\"positive\",\"width\":3},{\"line\":{\"color\":\"#feb078\"},\"name\":\"GER\",\"x\":[24,22,19,17,16,15,14,13,13,12,10,12,12,10,7,9,5,3],\"type\":\"violin\",\"xaxis\":\"x\",\"yaxis\":\"y\",\"orientation\":\"h\",\"points\":false,\"side\":\"positive\",\"width\":3},{\"line\":{\"color\":\"#252533\"},\"name\":\"ENG\",\"x\":[3,2,6,11,13,12,14,14,11,17,15,12,18,19,16,21,18,17,27,26],\"type\":\"violin\",\"xaxis\":\"x2\",\"yaxis\":\"y2\",\"orientation\":\"h\",\"points\":false,\"side\":\"positive\",\"width\":3},{\"line\":{\"color\":\"#4a4a67\"},\"name\":\"FRA\",\"x\":[4,9,9,12,11,9,10,10,13,11,16,14,19,17,18,18,20,20,19,19],\"type\":\"violin\",\"xaxis\":\"x2\",\"yaxis\":\"y2\",\"orientation\":\"h\",\"points\":false,\"side\":\"positive\",\"width\":3},{\"line\":{\"color\":\"#707b90\"},\"name\":\"ESP\",\"x\":[4,7,9,4,11,10,11,11,12,15,16,18,18,16,15,15,19,16,19,23],\"type\":\"violin\",\"xaxis\":\"x2\",\"yaxis\":\"y2\",\"orientation\":\"h\",\"points\":false,\"side\":\"positive\",\"width\":3},{\"line\":{\"color\":\"#95aeb5\"},\"name\":\"ITA\",\"x\":[4,4,7,8,10,11,14,11,13,14,14,13,16,17,22,22,21,20,18,23],\"type\":\"violin\",\"xaxis\":\"x2\",\"yaxis\":\"y2\",\"orientation\":\"h\",\"points\":false,\"side\":\"positive\",\"width\":3},{\"line\":{\"color\":\"#c6dada\"},\"name\":\"GER\",\"x\":[5,9,8,10,9,9,10,14,14,13,12,16,16,16,15,19,16,22],\"type\":\"violin\",\"xaxis\":\"x2\",\"yaxis\":\"y2\",\"orientation\":\"h\",\"points\":false,\"side\":\"positive\",\"width\":3},{\"line\":{\"color\":\"#443983\"},\"name\":\"ENG\",\"x\":[6,8,11,5,3,10,8,10,15,6,10,15,7,6,13,6,11,14,5,7],\"type\":\"violin\",\"xaxis\":\"x3\",\"yaxis\":\"y3\",\"orientation\":\"h\",\"points\":false,\"side\":\"positive\",\"width\":3},{\"line\":{\"color\":\"#31688e\"},\"name\":\"FRA\",\"x\":[8,8,9,6,7,12,11,11,10,13,9,13,7,11,11,12,9,11,13,13],\"type\":\"violin\",\"xaxis\":\"x3\",\"yaxis\":\"y3\",\"orientation\":\"h\",\"points\":false,\"side\":\"positive\",\"width\":3},{\"line\":{\"color\":\"#21918c\"},\"name\":\"ESP\",\"x\":[8,10,8,16,8,11,11,13,15,11,10,9,9,12,15,15,9,14,11,7],\"type\":\"violin\",\"xaxis\":\"x3\",\"yaxis\":\"y3\",\"orientation\":\"h\",\"points\":false,\"side\":\"positive\",\"width\":3},{\"line\":{\"color\":\"#35b779\"},\"name\":\"ITA\",\"x\":[8,9,7,10,10,9,5,11,11,11,11,14,10,11,6,6,10,12,16,9],\"type\":\"violin\",\"xaxis\":\"x3\",\"yaxis\":\"y3\",\"orientation\":\"h\",\"points\":false,\"side\":\"positive\",\"width\":3},{\"line\":{\"color\":\"#90d743\"},\"name\":\"GER\",\"x\":[5,3,7,7,9,10,10,7,7,9,12,6,6,8,12,6,13,9],\"type\":\"violin\",\"xaxis\":\"x3\",\"yaxis\":\"y3\",\"orientation\":\"h\",\"points\":false,\"side\":\"positive\",\"width\":3},{\"line\":{\"color\":\"#332345\"},\"name\":\"ENG\",\"x\":[99,94,76,69,61,57,60,62,42,38,44,50,48,52,43,43,42,34,34,23],\"type\":\"violin\",\"xaxis\":\"x4\",\"yaxis\":\"y4\",\"orientation\":\"h\",\"points\":false,\"side\":\"positive\",\"width\":3},{\"line\":{\"color\":\"#40498e\"},\"name\":\"FRA\",\"x\":[90,63,65,82,52,60,62,66,55,48,49,43,49,44,37,35,38,42,35,52],\"type\":\"violin\",\"xaxis\":\"x4\",\"yaxis\":\"y4\",\"orientation\":\"h\",\"points\":false,\"side\":\"positive\",\"width\":3},{\"line\":{\"color\":\"#357ba3\"},\"name\":\"ESP\",\"x\":[80,68,65,53,62,40,63,43,48,37,43,39,40,40,33,35,36,44,51,31],\"type\":\"violin\",\"xaxis\":\"x4\",\"yaxis\":\"y4\",\"orientation\":\"h\",\"points\":false,\"side\":\"positive\",\"width\":3},{\"line\":{\"color\":\"#38aaac\"},\"name\":\"ITA\",\"x\":[69,84,74,57,77,59,59,65,65,46,64,61,44,50,46,41,33,34,27,34],\"type\":\"violin\",\"xaxis\":\"x4\",\"yaxis\":\"y4\",\"orientation\":\"h\",\"points\":false,\"side\":\"positive\",\"width\":3},{\"line\":{\"color\":\"#79d6ae\"},\"name\":\"GER\",\"x\":[97,85,80,72,50,58,52,50,58,54,45,43,38,39,41,37,27,28],\"type\":\"violin\",\"xaxis\":\"x4\",\"yaxis\":\"y4\",\"orientation\":\"h\",\"points\":false,\"side\":\"positive\",\"width\":3},{\"line\":{\"color\":\"#3f1b43\"},\"name\":\"ENG\",\"x\":[26,26,33,40,48,57,51,59,44,43,62,46,56,54,67,66,79,53,77,84],\"type\":\"violin\",\"xaxis\":\"x5\",\"yaxis\":\"y5\",\"orientation\":\"h\",\"points\":false,\"side\":\"positive\",\"width\":3},{\"line\":{\"color\":\"#841e5a\"},\"name\":\"FRA\",\"x\":[36,38,40,40,36,43,48,51,48,48,57,44,61,55,53,63,69,77,69,91],\"type\":\"violin\",\"xaxis\":\"x5\",\"yaxis\":\"y5\",\"orientation\":\"h\",\"points\":false,\"side\":\"positive\",\"width\":3},{\"line\":{\"color\":\"#cb1b4f\"},\"name\":\"ESP\",\"x\":[31,38,43,30,40,37,37,36,53,51,43,50,52,53,41,51,63,61,76,65],\"type\":\"violin\",\"xaxis\":\"x5\",\"yaxis\":\"y5\",\"orientation\":\"h\",\"points\":false,\"side\":\"positive\",\"width\":3},{\"line\":{\"color\":\"#f06043\"},\"name\":\"ITA\",\"x\":[31,32,31,37,58,43,51,48,59,41,66,58,55,70,63,71,78,68,60,69],\"type\":\"violin\",\"xaxis\":\"x5\",\"yaxis\":\"y5\",\"orientation\":\"h\",\"points\":false,\"side\":\"positive\",\"width\":3},{\"line\":{\"color\":\"#f6ab83\"},\"name\":\"GER\",\"x\":[37,52,47,37,44,46,49,45,60,61,49,54,52,56,59,71,53,82],\"type\":\"violin\",\"xaxis\":\"x5\",\"yaxis\":\"y5\",\"orientation\":\"h\",\"points\":false,\"side\":\"positive\",\"width\":3},{\"line\":{\"color\":\"#4798ce\"},\"name\":\"ENG\",\"x\":[73,68,43,29,13,0,9,3,-2,-5,-18,4,-8,-2,-24,-23,-37,-19,-43,-61],\"type\":\"violin\",\"xaxis\":\"x6\",\"yaxis\":\"y6\",\"orientation\":\"h\",\"points\":false,\"side\":\"positive\",\"width\":3},{\"line\":{\"color\":\"#444282\"},\"name\":\"FRA\",\"x\":[54,25,25,42,16,17,14,15,7,0,-8,-1,-12,-11,-16,-28,-31,-35,-34,-39],\"type\":\"violin\",\"xaxis\":\"x6\",\"yaxis\":\"y6\",\"orientation\":\"h\",\"points\":false,\"side\":\"positive\",\"width\":3},{\"line\":{\"color\":\"#1f1e1e\"},\"name\":\"ESP\",\"x\":[49,30,22,23,22,3,26,7,-5,-14,0,-11,-12,-13,-8,-16,-27,-17,-25,-34],\"type\":\"violin\",\"xaxis\":\"x6\",\"yaxis\":\"y6\",\"orientation\":\"h\",\"points\":false,\"side\":\"positive\",\"width\":3},{\"line\":{\"color\":\"#782c3f\"},\"name\":\"ITA\",\"x\":[38,52,43,20,19,16,8,17,6,5,-2,3,-11,-20,-17,-30,-45,-34,-33,-35],\"type\":\"violin\",\"xaxis\":\"x6\",\"yaxis\":\"y6\",\"orientation\":\"h\",\"points\":false,\"side\":\"positive\",\"width\":3},{\"line\":{\"color\":\"#e25f33\"},\"name\":\"GER\",\"x\":[60,33,33,35,6,12,3,5,-2,-7,-4,-11,-14,-17,-18,-34,-26,-54],\"type\":\"violin\",\"xaxis\":\"x6\",\"yaxis\":\"y6\",\"orientation\":\"h\",\"points\":false,\"side\":\"positive\",\"width\":3}],                        {\"template\":{\"data\":{\"barpolar\":[{\"marker\":{\"line\":{\"color\":\"white\",\"width\":0.5},\"pattern\":{\"fillmode\":\"overlay\",\"size\":10,\"solidity\":0.2}},\"type\":\"barpolar\"}],\"bar\":[{\"error_x\":{\"color\":\"rgb(36,36,36)\"},\"error_y\":{\"color\":\"rgb(36,36,36)\"},\"marker\":{\"line\":{\"color\":\"white\",\"width\":0.5},\"pattern\":{\"fillmode\":\"overlay\",\"size\":10,\"solidity\":0.2}},\"type\":\"bar\"}],\"carpet\":[{\"aaxis\":{\"endlinecolor\":\"rgb(36,36,36)\",\"gridcolor\":\"white\",\"linecolor\":\"white\",\"minorgridcolor\":\"white\",\"startlinecolor\":\"rgb(36,36,36)\"},\"baxis\":{\"endlinecolor\":\"rgb(36,36,36)\",\"gridcolor\":\"white\",\"linecolor\":\"white\",\"minorgridcolor\":\"white\",\"startlinecolor\":\"rgb(36,36,36)\"},\"type\":\"carpet\"}],\"choropleth\":[{\"colorbar\":{\"outlinewidth\":1,\"tickcolor\":\"rgb(36,36,36)\",\"ticks\":\"outside\"},\"type\":\"choropleth\"}],\"contourcarpet\":[{\"colorbar\":{\"outlinewidth\":1,\"tickcolor\":\"rgb(36,36,36)\",\"ticks\":\"outside\"},\"type\":\"contourcarpet\"}],\"contour\":[{\"colorbar\":{\"outlinewidth\":1,\"tickcolor\":\"rgb(36,36,36)\",\"ticks\":\"outside\"},\"colorscale\":[[0.0,\"#440154\"],[0.1111111111111111,\"#482878\"],[0.2222222222222222,\"#3e4989\"],[0.3333333333333333,\"#31688e\"],[0.4444444444444444,\"#26828e\"],[0.5555555555555556,\"#1f9e89\"],[0.6666666666666666,\"#35b779\"],[0.7777777777777778,\"#6ece58\"],[0.8888888888888888,\"#b5de2b\"],[1.0,\"#fde725\"]],\"type\":\"contour\"}],\"heatmapgl\":[{\"colorbar\":{\"outlinewidth\":1,\"tickcolor\":\"rgb(36,36,36)\",\"ticks\":\"outside\"},\"colorscale\":[[0.0,\"#440154\"],[0.1111111111111111,\"#482878\"],[0.2222222222222222,\"#3e4989\"],[0.3333333333333333,\"#31688e\"],[0.4444444444444444,\"#26828e\"],[0.5555555555555556,\"#1f9e89\"],[0.6666666666666666,\"#35b779\"],[0.7777777777777778,\"#6ece58\"],[0.8888888888888888,\"#b5de2b\"],[1.0,\"#fde725\"]],\"type\":\"heatmapgl\"}],\"heatmap\":[{\"colorbar\":{\"outlinewidth\":1,\"tickcolor\":\"rgb(36,36,36)\",\"ticks\":\"outside\"},\"colorscale\":[[0.0,\"#440154\"],[0.1111111111111111,\"#482878\"],[0.2222222222222222,\"#3e4989\"],[0.3333333333333333,\"#31688e\"],[0.4444444444444444,\"#26828e\"],[0.5555555555555556,\"#1f9e89\"],[0.6666666666666666,\"#35b779\"],[0.7777777777777778,\"#6ece58\"],[0.8888888888888888,\"#b5de2b\"],[1.0,\"#fde725\"]],\"type\":\"heatmap\"}],\"histogram2dcontour\":[{\"colorbar\":{\"outlinewidth\":1,\"tickcolor\":\"rgb(36,36,36)\",\"ticks\":\"outside\"},\"colorscale\":[[0.0,\"#440154\"],[0.1111111111111111,\"#482878\"],[0.2222222222222222,\"#3e4989\"],[0.3333333333333333,\"#31688e\"],[0.4444444444444444,\"#26828e\"],[0.5555555555555556,\"#1f9e89\"],[0.6666666666666666,\"#35b779\"],[0.7777777777777778,\"#6ece58\"],[0.8888888888888888,\"#b5de2b\"],[1.0,\"#fde725\"]],\"type\":\"histogram2dcontour\"}],\"histogram2d\":[{\"colorbar\":{\"outlinewidth\":1,\"tickcolor\":\"rgb(36,36,36)\",\"ticks\":\"outside\"},\"colorscale\":[[0.0,\"#440154\"],[0.1111111111111111,\"#482878\"],[0.2222222222222222,\"#3e4989\"],[0.3333333333333333,\"#31688e\"],[0.4444444444444444,\"#26828e\"],[0.5555555555555556,\"#1f9e89\"],[0.6666666666666666,\"#35b779\"],[0.7777777777777778,\"#6ece58\"],[0.8888888888888888,\"#b5de2b\"],[1.0,\"#fde725\"]],\"type\":\"histogram2d\"}],\"histogram\":[{\"marker\":{\"line\":{\"color\":\"white\",\"width\":0.6}},\"type\":\"histogram\"}],\"mesh3d\":[{\"colorbar\":{\"outlinewidth\":1,\"tickcolor\":\"rgb(36,36,36)\",\"ticks\":\"outside\"},\"type\":\"mesh3d\"}],\"parcoords\":[{\"line\":{\"colorbar\":{\"outlinewidth\":1,\"tickcolor\":\"rgb(36,36,36)\",\"ticks\":\"outside\"}},\"type\":\"parcoords\"}],\"pie\":[{\"automargin\":true,\"type\":\"pie\"}],\"scatter3d\":[{\"line\":{\"colorbar\":{\"outlinewidth\":1,\"tickcolor\":\"rgb(36,36,36)\",\"ticks\":\"outside\"}},\"marker\":{\"colorbar\":{\"outlinewidth\":1,\"tickcolor\":\"rgb(36,36,36)\",\"ticks\":\"outside\"}},\"type\":\"scatter3d\"}],\"scattercarpet\":[{\"marker\":{\"colorbar\":{\"outlinewidth\":1,\"tickcolor\":\"rgb(36,36,36)\",\"ticks\":\"outside\"}},\"type\":\"scattercarpet\"}],\"scattergeo\":[{\"marker\":{\"colorbar\":{\"outlinewidth\":1,\"tickcolor\":\"rgb(36,36,36)\",\"ticks\":\"outside\"}},\"type\":\"scattergeo\"}],\"scattergl\":[{\"marker\":{\"colorbar\":{\"outlinewidth\":1,\"tickcolor\":\"rgb(36,36,36)\",\"ticks\":\"outside\"}},\"type\":\"scattergl\"}],\"scattermapbox\":[{\"marker\":{\"colorbar\":{\"outlinewidth\":1,\"tickcolor\":\"rgb(36,36,36)\",\"ticks\":\"outside\"}},\"type\":\"scattermapbox\"}],\"scatterpolargl\":[{\"marker\":{\"colorbar\":{\"outlinewidth\":1,\"tickcolor\":\"rgb(36,36,36)\",\"ticks\":\"outside\"}},\"type\":\"scatterpolargl\"}],\"scatterpolar\":[{\"marker\":{\"colorbar\":{\"outlinewidth\":1,\"tickcolor\":\"rgb(36,36,36)\",\"ticks\":\"outside\"}},\"type\":\"scatterpolar\"}],\"scatter\":[{\"fillpattern\":{\"fillmode\":\"overlay\",\"size\":10,\"solidity\":0.2},\"type\":\"scatter\"}],\"scatterternary\":[{\"marker\":{\"colorbar\":{\"outlinewidth\":1,\"tickcolor\":\"rgb(36,36,36)\",\"ticks\":\"outside\"}},\"type\":\"scatterternary\"}],\"surface\":[{\"colorbar\":{\"outlinewidth\":1,\"tickcolor\":\"rgb(36,36,36)\",\"ticks\":\"outside\"},\"colorscale\":[[0.0,\"#440154\"],[0.1111111111111111,\"#482878\"],[0.2222222222222222,\"#3e4989\"],[0.3333333333333333,\"#31688e\"],[0.4444444444444444,\"#26828e\"],[0.5555555555555556,\"#1f9e89\"],[0.6666666666666666,\"#35b779\"],[0.7777777777777778,\"#6ece58\"],[0.8888888888888888,\"#b5de2b\"],[1.0,\"#fde725\"]],\"type\":\"surface\"}],\"table\":[{\"cells\":{\"fill\":{\"color\":\"rgb(237,237,237)\"},\"line\":{\"color\":\"white\"}},\"header\":{\"fill\":{\"color\":\"rgb(217,217,217)\"},\"line\":{\"color\":\"white\"}},\"type\":\"table\"}]},\"layout\":{\"annotationdefaults\":{\"arrowhead\":0,\"arrowwidth\":1},\"autotypenumbers\":\"strict\",\"coloraxis\":{\"colorbar\":{\"outlinewidth\":1,\"tickcolor\":\"rgb(36,36,36)\",\"ticks\":\"outside\"}},\"colorscale\":{\"diverging\":[[0.0,\"rgb(103,0,31)\"],[0.1,\"rgb(178,24,43)\"],[0.2,\"rgb(214,96,77)\"],[0.3,\"rgb(244,165,130)\"],[0.4,\"rgb(253,219,199)\"],[0.5,\"rgb(247,247,247)\"],[0.6,\"rgb(209,229,240)\"],[0.7,\"rgb(146,197,222)\"],[0.8,\"rgb(67,147,195)\"],[0.9,\"rgb(33,102,172)\"],[1.0,\"rgb(5,48,97)\"]],\"sequential\":[[0.0,\"#440154\"],[0.1111111111111111,\"#482878\"],[0.2222222222222222,\"#3e4989\"],[0.3333333333333333,\"#31688e\"],[0.4444444444444444,\"#26828e\"],[0.5555555555555556,\"#1f9e89\"],[0.6666666666666666,\"#35b779\"],[0.7777777777777778,\"#6ece58\"],[0.8888888888888888,\"#b5de2b\"],[1.0,\"#fde725\"]],\"sequentialminus\":[[0.0,\"#440154\"],[0.1111111111111111,\"#482878\"],[0.2222222222222222,\"#3e4989\"],[0.3333333333333333,\"#31688e\"],[0.4444444444444444,\"#26828e\"],[0.5555555555555556,\"#1f9e89\"],[0.6666666666666666,\"#35b779\"],[0.7777777777777778,\"#6ece58\"],[0.8888888888888888,\"#b5de2b\"],[1.0,\"#fde725\"]]},\"colorway\":[\"#1F77B4\",\"#FF7F0E\",\"#2CA02C\",\"#D62728\",\"#9467BD\",\"#8C564B\",\"#E377C2\",\"#7F7F7F\",\"#BCBD22\",\"#17BECF\"],\"font\":{\"color\":\"rgb(36,36,36)\"},\"geo\":{\"bgcolor\":\"white\",\"lakecolor\":\"white\",\"landcolor\":\"white\",\"showlakes\":true,\"showland\":true,\"subunitcolor\":\"white\"},\"hoverlabel\":{\"align\":\"left\"},\"hovermode\":\"closest\",\"mapbox\":{\"style\":\"light\"},\"paper_bgcolor\":\"white\",\"plot_bgcolor\":\"white\",\"polar\":{\"angularaxis\":{\"gridcolor\":\"rgb(232,232,232)\",\"linecolor\":\"rgb(36,36,36)\",\"showgrid\":false,\"showline\":true,\"ticks\":\"outside\"},\"bgcolor\":\"white\",\"radialaxis\":{\"gridcolor\":\"rgb(232,232,232)\",\"linecolor\":\"rgb(36,36,36)\",\"showgrid\":false,\"showline\":true,\"ticks\":\"outside\"}},\"scene\":{\"xaxis\":{\"backgroundcolor\":\"white\",\"gridcolor\":\"rgb(232,232,232)\",\"gridwidth\":2,\"linecolor\":\"rgb(36,36,36)\",\"showbackground\":true,\"showgrid\":false,\"showline\":true,\"ticks\":\"outside\",\"zeroline\":false,\"zerolinecolor\":\"rgb(36,36,36)\"},\"yaxis\":{\"backgroundcolor\":\"white\",\"gridcolor\":\"rgb(232,232,232)\",\"gridwidth\":2,\"linecolor\":\"rgb(36,36,36)\",\"showbackground\":true,\"showgrid\":false,\"showline\":true,\"ticks\":\"outside\",\"zeroline\":false,\"zerolinecolor\":\"rgb(36,36,36)\"},\"zaxis\":{\"backgroundcolor\":\"white\",\"gridcolor\":\"rgb(232,232,232)\",\"gridwidth\":2,\"linecolor\":\"rgb(36,36,36)\",\"showbackground\":true,\"showgrid\":false,\"showline\":true,\"ticks\":\"outside\",\"zeroline\":false,\"zerolinecolor\":\"rgb(36,36,36)\"}},\"shapedefaults\":{\"fillcolor\":\"black\",\"line\":{\"width\":0},\"opacity\":0.3},\"ternary\":{\"aaxis\":{\"gridcolor\":\"rgb(232,232,232)\",\"linecolor\":\"rgb(36,36,36)\",\"showgrid\":false,\"showline\":true,\"ticks\":\"outside\"},\"baxis\":{\"gridcolor\":\"rgb(232,232,232)\",\"linecolor\":\"rgb(36,36,36)\",\"showgrid\":false,\"showline\":true,\"ticks\":\"outside\"},\"bgcolor\":\"white\",\"caxis\":{\"gridcolor\":\"rgb(232,232,232)\",\"linecolor\":\"rgb(36,36,36)\",\"showgrid\":false,\"showline\":true,\"ticks\":\"outside\"}},\"title\":{\"x\":0.05},\"xaxis\":{\"automargin\":true,\"gridcolor\":\"rgb(232,232,232)\",\"linecolor\":\"rgb(36,36,36)\",\"showgrid\":false,\"showline\":true,\"ticks\":\"outside\",\"title\":{\"standoff\":15},\"zeroline\":false,\"zerolinecolor\":\"rgb(36,36,36)\"},\"yaxis\":{\"automargin\":true,\"gridcolor\":\"rgb(232,232,232)\",\"linecolor\":\"rgb(36,36,36)\",\"showgrid\":false,\"showline\":true,\"ticks\":\"outside\",\"title\":{\"standoff\":15},\"zeroline\":false,\"zerolinecolor\":\"rgb(36,36,36)\"}}},\"xaxis\":{\"anchor\":\"y\",\"domain\":[0.0,0.32],\"title\":{\"text\":\"Win matches\",\"font\":{\"size\":14,\"family\":\"Arial\"}},\"minor\":{\"nticks\":5,\"showgrid\":false,\"ticklen\":4,\"tickmode\":\"auto\"}},\"yaxis\":{\"anchor\":\"x\",\"domain\":[0.575,1.0],\"showgrid\":true,\"gridcolor\":\"grey\",\"gridwidth\":0.15},\"xaxis2\":{\"anchor\":\"y2\",\"domain\":[0.34,0.66],\"title\":{\"text\":\"Loss matches\",\"font\":{\"size\":14,\"family\":\"Arial\"}},\"minor\":{\"nticks\":5,\"showgrid\":false,\"ticklen\":4,\"tickmode\":\"auto\"}},\"yaxis2\":{\"anchor\":\"x2\",\"domain\":[0.575,1.0],\"matches\":\"y\",\"showticklabels\":false,\"showgrid\":true,\"gridcolor\":\"grey\",\"gridwidth\":0.15},\"xaxis3\":{\"anchor\":\"y3\",\"domain\":[0.68,1.0],\"title\":{\"text\":\"Draw matches\",\"font\":{\"size\":14,\"family\":\"Arial\"}},\"minor\":{\"nticks\":5,\"showgrid\":false,\"ticklen\":4,\"tickmode\":\"auto\"}},\"yaxis3\":{\"anchor\":\"x3\",\"domain\":[0.575,1.0],\"matches\":\"y\",\"showticklabels\":false,\"showgrid\":true,\"gridcolor\":\"grey\",\"gridwidth\":0.15},\"xaxis4\":{\"anchor\":\"y4\",\"domain\":[0.0,0.32],\"title\":{\"text\":\"Number of goals for \\\"GF\\\"\",\"font\":{\"size\":14,\"family\":\"Arial\"}},\"minor\":{\"showgrid\":false,\"ticklen\":4},\"tickvals\":[0,20,40,60,80,100]},\"yaxis4\":{\"anchor\":\"x4\",\"domain\":[0.0,0.425],\"showgrid\":true,\"gridcolor\":\"grey\",\"gridwidth\":0.15},\"xaxis5\":{\"anchor\":\"y5\",\"domain\":[0.34,0.66],\"title\":{\"text\":\"Number of goals against \\\"GA\\\"\",\"font\":{\"size\":14,\"family\":\"Arial\"}},\"minor\":{\"nticks\":5,\"showgrid\":false,\"ticklen\":4},\"tickvals\":[0,20,40,60,80,100]},\"yaxis5\":{\"anchor\":\"x5\",\"domain\":[0.0,0.425],\"matches\":\"y4\",\"showticklabels\":false,\"showgrid\":true,\"gridcolor\":\"grey\",\"gridwidth\":0.15},\"xaxis6\":{\"anchor\":\"y6\",\"domain\":[0.68,1.0],\"title\":{\"text\":\"Number of goals draw \\\"GD\\\"\",\"font\":{\"size\":14,\"family\":\"Arial\"}},\"minor\":{\"showgrid\":false,\"ticklen\":4},\"tickvals\":[-80,-50,-20,10,30,60,90]},\"yaxis6\":{\"anchor\":\"x6\",\"domain\":[0.0,0.425],\"matches\":\"y4\",\"showticklabels\":false,\"showgrid\":true,\"gridcolor\":\"grey\",\"gridwidth\":0.15},\"title\":{\"font\":{\"size\":30,\"family\":\"Impact\"},\"text\":\"Distributions of Win, Loss and Draw matches\"},\"height\":600,\"width\":1200,\"showlegend\":false,\"plot_bgcolor\":\"#f0f0f3\"},                        {\"responsive\": true}                    ).then(function(){\n",
       "                            \n",
       "var gd = document.getElementById('8017b34a-8019-46f6-ae13-2a71a2b6e36f');\n",
       "var x = new MutationObserver(function (mutations, observer) {{\n",
       "        var display = window.getComputedStyle(gd).display;\n",
       "        if (!display || display === 'none') {{\n",
       "            console.log([gd, 'removed!']);\n",
       "            Plotly.purge(gd);\n",
       "            observer.disconnect();\n",
       "        }}\n",
       "}});\n",
       "\n",
       "// Listen for the removal of the full notebook cells\n",
       "var notebookContainer = gd.closest('#notebook-container');\n",
       "if (notebookContainer) {{\n",
       "    x.observe(notebookContainer, {childList: true});\n",
       "}}\n",
       "\n",
       "// Listen for the clearing of the current output cell\n",
       "var outputEl = gd.closest('.output');\n",
       "if (outputEl) {{\n",
       "    x.observe(outputEl, {childList: true});\n",
       "}}\n",
       "\n",
       "                        })                };                });            </script>        </div>"
      ]
     },
     "metadata": {},
     "output_type": "display_data"
    }
   ],
   "source": [
    "#Ploteamos\n",
    "\n",
    "fig = make_subplots(rows=2, cols=3, shared_yaxes=True, horizontal_spacing=0.02)\n",
    "for c, i in zip(countries, color):\n",
    "    fig.append_trace(go.Violin(x=list(dist[dist[\"Country\"]==c][\"W\"]), \n",
    "                        line_color=i,\n",
    "                       name=c,\n",
    "                        ), row=1, col=1)\n",
    "for c, i in zip(countries, color1):\n",
    "    fig.append_trace(go.Violin(x=list(dist[dist[\"Country\"]==c][\"L\"]), \n",
    "                        line_color=i,\n",
    "                       name=c,\n",
    "                        ), row=1, col=2)\n",
    "for c, i in zip(countries, color2):\n",
    "    fig.append_trace(go.Violin(x=list(dist[dist[\"Country\"]==c][\"D\"]), \n",
    "                        line_color=i,\n",
    "                       name=c,\n",
    "                        ), row=1, col=3)\n",
    "for c, i in zip(countries, color3):\n",
    "    fig.append_trace(go.Violin(x=list(dist[dist[\"Country\"]==c][\"GF\"]),\n",
    "                              line_color=i,\n",
    "                              name=c), row=2, col=1)\n",
    "for c, i in zip(countries, color4):\n",
    "    fig.append_trace(go.Violin(x=list(dist[dist[\"Country\"]==c][\"GA\"]),\n",
    "                              line_color=i,\n",
    "                              name=c), row=2, col=2)\n",
    "for c, i in zip(countries, color5):\n",
    "    fig.append_trace(go.Violin(x=list(dist[dist[\"Country\"]==c][\"GD\"]),\n",
    "                              line_color=i,\n",
    "                              name=c), row=2, col=3)\n",
    "fig.update_traces(orientation='h', side='positive', points=False, width=3)\n",
    "\n",
    "fig.update_layout(\n",
    "    height=600,\n",
    "    width=1200,\n",
    "    template='simple_white', \n",
    "    showlegend=False,\n",
    "    xaxis1=dict(title='Win matches', titlefont_size=14, titlefont_family='Arial', \n",
    "                minor=dict(nticks=5, showgrid=False, ticklen=4, tickmode='auto')),\n",
    "    xaxis2=dict(title=\"Loss matches\", titlefont_size=14, titlefont_family='Arial',\n",
    "               minor=dict(nticks=5, showgrid=False, ticklen=4, tickmode='auto')),\n",
    "    xaxis3=dict(title='Draw matches', titlefont_size=14, titlefont_family='Arial',\n",
    "               minor=dict(nticks=5, showgrid=False, ticklen=4, tickmode='auto')),\n",
    "    xaxis4=dict(title='Number of goals for \"GF\"', titlefont_size=14, titlefont_family='Arial',\n",
    "                tickvals=[0, 20, 40, 60, 80, 100],\n",
    "                minor=dict(showgrid=False, ticklen=4)),\n",
    "    xaxis5=dict(title='Number of goals against \"GA\"', titlefont_size=14, titlefont_family='Arial', \n",
    "                tickvals=[i*20 for i in range(6)],\n",
    "               minor=dict(nticks=5, showgrid=False, ticklen=4)),\n",
    "    xaxis6=dict(title='Number of goals draw \"GD\"', titlefont_size=14, titlefont_family='Arial',\n",
    "                tickvals=[-80, -50, -20, 10, 30, 60, 90],\n",
    "               minor=dict(showgrid=False, ticklen=4)),\n",
    "    title=dict(text='Distributions of Win, Loss and Draw matches', font_size=30, font_family='Impact'),\n",
    "    yaxis=dict(showgrid=True),\n",
    "    yaxis1=dict(showgrid=True, gridcolor='grey', gridwidth=0.15),\n",
    "    yaxis2=dict(showgrid=True, gridcolor='grey', gridwidth=0.15),\n",
    "    yaxis3=dict(showgrid=True, gridcolor='grey', gridwidth=0.15),\n",
    "    yaxis4=dict(showgrid=True, gridcolor='grey', gridwidth=0.15),\n",
    "    yaxis5=dict(showgrid=True, gridcolor='grey', gridwidth=0.15),\n",
    "    yaxis6=dict(showgrid=True, gridcolor='grey', gridwidth=0.15), \n",
    "    plot_bgcolor = get_color('light:b', len(countries))[0],)"
   ]
  },
  {
   "cell_type": "code",
   "execution_count": null,
   "id": "c00406d2",
   "metadata": {},
   "outputs": [],
   "source": []
  }
 ],
 "metadata": {
  "kernelspec": {
   "display_name": "Python 3 (ipykernel)",
   "language": "python",
   "name": "python3"
  },
  "language_info": {
   "codemirror_mode": {
    "name": "ipython",
    "version": 3
   },
   "file_extension": ".py",
   "mimetype": "text/x-python",
   "name": "python",
   "nbconvert_exporter": "python",
   "pygments_lexer": "ipython3",
   "version": "3.8.10"
  }
 },
 "nbformat": 4,
 "nbformat_minor": 5
}
