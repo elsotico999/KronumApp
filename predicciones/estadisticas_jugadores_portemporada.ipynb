{
 "cells": [
  {
   "cell_type": "code",
   "execution_count": 1,
   "id": "ae62d2ee",
   "metadata": {},
   "outputs": [],
   "source": [
    "import numpy as np \n",
    "import pandas as pd"
   ]
  },
  {
   "cell_type": "code",
   "execution_count": 2,
   "id": "27a511b4",
   "metadata": {},
   "outputs": [],
   "source": [
    "partidos = pd.read_csv(\"games.csv\")\n",
    "apariciones = pd.read_csv(\"appearances.csv\")"
   ]
  },
  {
   "cell_type": "markdown",
   "id": "c22dde16",
   "metadata": {},
   "source": [
    "Estadísticas de los jugadores: Se define una función que devuelva las estadísticas clave de un jugador para una temporada determinada."
   ]
  },
  {
   "cell_type": "code",
   "execution_count": 5,
   "id": "59046239",
   "metadata": {},
   "outputs": [],
   "source": [
    "def estadisticas_jugador(player_name, season):\n",
    "    \n",
    "    df = apariciones.merge(partidos, on=['game_id'], how='left')\n",
    "    df = df[df['player_pretty_name'] == player_name]\n",
    "    df = df[df['season'] == season]\n",
    "    \n",
    "    if (df.shape[0] == 0):\n",
    "        Out = [(np.nan,player_name, season,0,0,0,0,0,0,0)]\n",
    "        out_df = pd.DataFrame(data = Out, columns = ['player_id','player_pretty_names','season','goals','games',\n",
    "                                                     'assists','minutes_played','goals_for','goals_against','clean_sheet'])\n",
    "        return out_df\n",
    "    \n",
    "    else:\n",
    "        \n",
    "        df[\"goals_for\"] = df.apply(lambda row: row['home_club_goals'] if row['home_club_id'] == row['player_club_id'] \n",
    "                      else row['away_club_goals'] if row['away_club_id'] == row['player_club_id'] \n",
    "                      else np.nan, axis=1)\n",
    "        df[\"goals_against\"] = df.apply(lambda row: row['away_club_goals'] if row['home_club_id'] == row['player_club_id'] \n",
    "                      else row['home_club_goals'] if row['away_club_id'] == row['player_club_id'] \n",
    "                      else np.nan, axis=1)\n",
    "        df['clean_sheet'] = df.apply(lambda row: 1 if row['goals_against'] == 0\n",
    "                      else 0 if row['goals_against'] > 0\n",
    "                      else np.nan, axis=1)\n",
    "        \n",
    "        df = df.groupby(['player_id',\"player_pretty_name\",\"season\"],as_index=False).agg({'goals': 'sum', 'game_id': 'nunique', \n",
    "                                                                      'assists': 'sum', 'minutes_played' : 'sum', 'goals_for' : 'sum',\n",
    "                                                                      'goals_against' : 'sum', 'clean_sheet' : 'sum'})\n",
    "        out_df = df.rename(columns={'game_id': 'games'})\n",
    "\n",
    "        return out_df"
   ]
  },
  {
   "cell_type": "code",
   "execution_count": 6,
   "id": "25230464",
   "metadata": {},
   "outputs": [
    {
     "data": {
      "text/html": [
       "<div>\n",
       "<style scoped>\n",
       "    .dataframe tbody tr th:only-of-type {\n",
       "        vertical-align: middle;\n",
       "    }\n",
       "\n",
       "    .dataframe tbody tr th {\n",
       "        vertical-align: top;\n",
       "    }\n",
       "\n",
       "    .dataframe thead th {\n",
       "        text-align: right;\n",
       "    }\n",
       "</style>\n",
       "<table border=\"1\" class=\"dataframe\">\n",
       "  <thead>\n",
       "    <tr style=\"text-align: right;\">\n",
       "      <th></th>\n",
       "      <th>player_id</th>\n",
       "      <th>player_pretty_name</th>\n",
       "      <th>season</th>\n",
       "      <th>goals</th>\n",
       "      <th>games</th>\n",
       "      <th>assists</th>\n",
       "      <th>minutes_played</th>\n",
       "      <th>goals_for</th>\n",
       "      <th>goals_against</th>\n",
       "      <th>clean_sheet</th>\n",
       "    </tr>\n",
       "  </thead>\n",
       "  <tbody>\n",
       "    <tr>\n",
       "      <th>0</th>\n",
       "      <td>8198</td>\n",
       "      <td>Cristiano Ronaldo</td>\n",
       "      <td>2019.0</td>\n",
       "      <td>35</td>\n",
       "      <td>45</td>\n",
       "      <td>7</td>\n",
       "      <td>3991</td>\n",
       "      <td>86.0</td>\n",
       "      <td>51.0</td>\n",
       "      <td>15</td>\n",
       "    </tr>\n",
       "  </tbody>\n",
       "</table>\n",
       "</div>"
      ],
      "text/plain": [
       "   player_id player_pretty_name  season  goals  games  assists  \\\n",
       "0       8198  Cristiano Ronaldo  2019.0     35     45        7   \n",
       "\n",
       "   minutes_played  goals_for  goals_against  clean_sheet  \n",
       "0            3991       86.0           51.0           15  "
      ]
     },
     "execution_count": 6,
     "metadata": {},
     "output_type": "execute_result"
    }
   ],
   "source": [
    "estadisticas_jugador('Cristiano Ronaldo', 2019)"
   ]
  },
  {
   "cell_type": "code",
   "execution_count": 7,
   "id": "3479f995",
   "metadata": {},
   "outputs": [
    {
     "data": {
      "text/html": [
       "<div>\n",
       "<style scoped>\n",
       "    .dataframe tbody tr th:only-of-type {\n",
       "        vertical-align: middle;\n",
       "    }\n",
       "\n",
       "    .dataframe tbody tr th {\n",
       "        vertical-align: top;\n",
       "    }\n",
       "\n",
       "    .dataframe thead th {\n",
       "        text-align: right;\n",
       "    }\n",
       "</style>\n",
       "<table border=\"1\" class=\"dataframe\">\n",
       "  <thead>\n",
       "    <tr style=\"text-align: right;\">\n",
       "      <th></th>\n",
       "      <th>player_id</th>\n",
       "      <th>player_pretty_name</th>\n",
       "      <th>season</th>\n",
       "      <th>goals</th>\n",
       "      <th>games</th>\n",
       "      <th>assists</th>\n",
       "      <th>minutes_played</th>\n",
       "      <th>goals_for</th>\n",
       "      <th>goals_against</th>\n",
       "      <th>clean_sheet</th>\n",
       "    </tr>\n",
       "  </thead>\n",
       "  <tbody>\n",
       "    <tr>\n",
       "      <th>0</th>\n",
       "      <td>28003</td>\n",
       "      <td>Lionel Messi</td>\n",
       "      <td>2021.0</td>\n",
       "      <td>12</td>\n",
       "      <td>34</td>\n",
       "      <td>15</td>\n",
       "      <td>2872</td>\n",
       "      <td>78.0</td>\n",
       "      <td>32.0</td>\n",
       "      <td>12</td>\n",
       "    </tr>\n",
       "  </tbody>\n",
       "</table>\n",
       "</div>"
      ],
      "text/plain": [
       "   player_id player_pretty_name  season  goals  games  assists  \\\n",
       "0      28003       Lionel Messi  2021.0     12     34       15   \n",
       "\n",
       "   minutes_played  goals_for  goals_against  clean_sheet  \n",
       "0            2872       78.0           32.0           12  "
      ]
     },
     "execution_count": 7,
     "metadata": {},
     "output_type": "execute_result"
    }
   ],
   "source": [
    "estadisticas_jugador('Lionel Messi', 2021)"
   ]
  },
  {
   "cell_type": "code",
   "execution_count": 8,
   "id": "0f93a896",
   "metadata": {},
   "outputs": [
    {
     "data": {
      "text/html": [
       "<div>\n",
       "<style scoped>\n",
       "    .dataframe tbody tr th:only-of-type {\n",
       "        vertical-align: middle;\n",
       "    }\n",
       "\n",
       "    .dataframe tbody tr th {\n",
       "        vertical-align: top;\n",
       "    }\n",
       "\n",
       "    .dataframe thead th {\n",
       "        text-align: right;\n",
       "    }\n",
       "</style>\n",
       "<table border=\"1\" class=\"dataframe\">\n",
       "  <thead>\n",
       "    <tr style=\"text-align: right;\">\n",
       "      <th></th>\n",
       "      <th>player_id</th>\n",
       "      <th>player_pretty_name</th>\n",
       "      <th>season</th>\n",
       "      <th>goals</th>\n",
       "      <th>games</th>\n",
       "      <th>assists</th>\n",
       "      <th>minutes_played</th>\n",
       "      <th>goals_for</th>\n",
       "      <th>goals_against</th>\n",
       "      <th>clean_sheet</th>\n",
       "    </tr>\n",
       "  </thead>\n",
       "  <tbody>\n",
       "    <tr>\n",
       "      <th>0</th>\n",
       "      <td>28003</td>\n",
       "      <td>Lionel Messi</td>\n",
       "      <td>2019.0</td>\n",
       "      <td>30</td>\n",
       "      <td>42</td>\n",
       "      <td>25</td>\n",
       "      <td>3631</td>\n",
       "      <td>87.0</td>\n",
       "      <td>39.0</td>\n",
       "      <td>17</td>\n",
       "    </tr>\n",
       "  </tbody>\n",
       "</table>\n",
       "</div>"
      ],
      "text/plain": [
       "   player_id player_pretty_name  season  goals  games  assists  \\\n",
       "0      28003       Lionel Messi  2019.0     30     42       25   \n",
       "\n",
       "   minutes_played  goals_for  goals_against  clean_sheet  \n",
       "0            3631       87.0           39.0           17  "
      ]
     },
     "execution_count": 8,
     "metadata": {},
     "output_type": "execute_result"
    }
   ],
   "source": [
    "estadisticas_jugador('Lionel Messi', 2019)"
   ]
  },
  {
   "cell_type": "code",
   "execution_count": 9,
   "id": "20123ce0",
   "metadata": {},
   "outputs": [
    {
     "data": {
      "text/html": [
       "<div>\n",
       "<style scoped>\n",
       "    .dataframe tbody tr th:only-of-type {\n",
       "        vertical-align: middle;\n",
       "    }\n",
       "\n",
       "    .dataframe tbody tr th {\n",
       "        vertical-align: top;\n",
       "    }\n",
       "\n",
       "    .dataframe thead th {\n",
       "        text-align: right;\n",
       "    }\n",
       "</style>\n",
       "<table border=\"1\" class=\"dataframe\">\n",
       "  <thead>\n",
       "    <tr style=\"text-align: right;\">\n",
       "      <th></th>\n",
       "      <th>player_id</th>\n",
       "      <th>player_pretty_name</th>\n",
       "      <th>season</th>\n",
       "      <th>goals</th>\n",
       "      <th>games</th>\n",
       "      <th>assists</th>\n",
       "      <th>minutes_played</th>\n",
       "      <th>goals_for</th>\n",
       "      <th>goals_against</th>\n",
       "      <th>clean_sheet</th>\n",
       "    </tr>\n",
       "  </thead>\n",
       "  <tbody>\n",
       "    <tr>\n",
       "      <th>0</th>\n",
       "      <td>28003</td>\n",
       "      <td>Lionel Messi</td>\n",
       "      <td>2022.0</td>\n",
       "      <td>11</td>\n",
       "      <td>18</td>\n",
       "      <td>14</td>\n",
       "      <td>1567</td>\n",
       "      <td>56.0</td>\n",
       "      <td>14.0</td>\n",
       "      <td>8</td>\n",
       "    </tr>\n",
       "  </tbody>\n",
       "</table>\n",
       "</div>"
      ],
      "text/plain": [
       "   player_id player_pretty_name  season  goals  games  assists  \\\n",
       "0      28003       Lionel Messi  2022.0     11     18       14   \n",
       "\n",
       "   minutes_played  goals_for  goals_against  clean_sheet  \n",
       "0            1567       56.0           14.0            8  "
      ]
     },
     "execution_count": 9,
     "metadata": {},
     "output_type": "execute_result"
    }
   ],
   "source": [
    "estadisticas_jugador('Lionel Messi', 2022)"
   ]
  },
  {
   "cell_type": "code",
   "execution_count": null,
   "id": "ee919d16",
   "metadata": {},
   "outputs": [],
   "source": []
  }
 ],
 "metadata": {
  "kernelspec": {
   "display_name": "Python 3 (ipykernel)",
   "language": "python",
   "name": "python3"
  },
  "language_info": {
   "codemirror_mode": {
    "name": "ipython",
    "version": 3
   },
   "file_extension": ".py",
   "mimetype": "text/x-python",
   "name": "python",
   "nbconvert_exporter": "python",
   "pygments_lexer": "ipython3",
   "version": "3.8.10"
  }
 },
 "nbformat": 4,
 "nbformat_minor": 5
}
